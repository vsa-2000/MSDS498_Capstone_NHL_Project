{
 "cells": [
  {
   "cell_type": "markdown",
   "id": "47088e44",
   "metadata": {},
   "source": [
    "## Star Players"
   ]
  },
  {
   "cell_type": "markdown",
   "id": "707d4cf2",
   "metadata": {},
   "source": [
    "### Insert Star Player Data"
   ]
  },
  {
   "cell_type": "code",
   "execution_count": 12,
   "id": "90f2fa32",
   "metadata": {},
   "outputs": [
    {
     "name": "stderr",
     "output_type": "stream",
     "text": [
      "  0%|                                                     | 0/6 [00:00<?, ?it/s]"
     ]
    },
    {
     "name": "stdout",
     "output_type": "stream",
     "text": [
      "Fetching data for season 2023\n"
     ]
    },
    {
     "name": "stderr",
     "output_type": "stream",
     "text": [
      " 17%|███████▌                                     | 1/6 [00:06<00:30,  6.01s/it]"
     ]
    },
    {
     "name": "stdout",
     "output_type": "stream",
     "text": [
      "Fetching data for season 2022\n"
     ]
    },
    {
     "name": "stderr",
     "output_type": "stream",
     "text": [
      " 33%|███████████████                              | 2/6 [00:12<00:24,  6.10s/it]"
     ]
    },
    {
     "name": "stdout",
     "output_type": "stream",
     "text": [
      "Fetching data for season 2021\n"
     ]
    },
    {
     "name": "stderr",
     "output_type": "stream",
     "text": [
      " 50%|██████████████████████▌                      | 3/6 [00:18<00:17,  5.99s/it]"
     ]
    },
    {
     "name": "stdout",
     "output_type": "stream",
     "text": [
      "Fetching data for season 2020\n"
     ]
    },
    {
     "name": "stderr",
     "output_type": "stream",
     "text": [
      " 67%|██████████████████████████████               | 4/6 [00:20<00:09,  4.64s/it]"
     ]
    },
    {
     "name": "stdout",
     "output_type": "stream",
     "text": [
      "Fetching data for season 2019\n"
     ]
    },
    {
     "name": "stderr",
     "output_type": "stream",
     "text": [
      " 83%|█████████████████████████████████████▌       | 5/6 [00:23<00:03,  3.93s/it]"
     ]
    },
    {
     "name": "stdout",
     "output_type": "stream",
     "text": [
      "Fetching data for season 2018\n"
     ]
    },
    {
     "name": "stderr",
     "output_type": "stream",
     "text": [
      "100%|█████████████████████████████████████████████| 6/6 [00:29<00:00,  4.86s/it]\n"
     ]
    },
    {
     "name": "stdout",
     "output_type": "stream",
     "text": [
      "Raw data saved to nhl_player_stats_last_5_seasons.csv\n",
      "Index(['Rk', 'Player', 'Age', 'Tm', 'Pos', 'GP', 'G', 'A', 'PTS', '+/-', 'PIM',\n",
      "       'PS', 'EV', 'PP', 'SH', 'GW', 'EV.1', 'PP.1', 'SH.1', 'S', 'S%', 'TOI',\n",
      "       'ATOI', 'BLK', 'HIT', 'FOW', 'FOL', 'FO%', 'Season'],\n",
      "      dtype='object')\n",
      "Top players data saved to nhl_top_players_last_5_seasons.csv\n",
      "Final dataset saved to nhl_team_star_players_last_5_seasons.csv\n"
     ]
    }
   ],
   "source": [
    "import requests\n",
    "import pandas as pd\n",
    "from bs4 import BeautifulSoup\n",
    "from tqdm import tqdm\n",
    "\n",
    "def fetch_player_stats(season):\n",
    "    url = f\"https://www.hockey-reference.com/leagues/NHL_{season}_skaters.html\"\n",
    "    response = requests.get(url)\n",
    "    soup = BeautifulSoup(response.content, 'html.parser')\n",
    "    table = soup.find('table', {'id': 'stats'})\n",
    "    \n",
    "    df = pd.read_html(str(table))[0]\n",
    "    df.columns = df.columns.droplevel(0) \n",
    "    df['Season'] = season\n",
    "    return df\n",
    "\n",
    "# List of seasons\n",
    "seasons = [2023, 2022, 2021, 2020, 2019, 2018]\n",
    "\n",
    "all_data = pd.DataFrame()\n",
    "\n",
    "for season in tqdm(seasons):\n",
    "    print(f\"Fetching data for season {season}\")\n",
    "    season_stats = fetch_player_stats(season)\n",
    "    all_data = pd.concat([all_data, season_stats], ignore_index=True)\n",
    "\n",
    "\n",
    "all_data.to_csv(\"nhl_player_stats_last_5_seasons.csv\", index=False)\n",
    "print(\"Raw data saved to nhl_player_stats_last_5_seasons.csv\")\n",
    "all_data = pd.read_csv(\"nhl_player_stats_last_5_seasons.csv\")\n",
    "print(all_data.columns)\n",
    "\n",
    "all_data = all_data.dropna(subset=['Player'])\n",
    "all_data.fillna(0, inplace=True)  \n",
    "\n",
    "required_columns = ['G', 'A', 'ATOI', '+/-']\n",
    "for col in required_columns:\n",
    "    if col not in all_data.columns:\n",
    "        all_data[col] = 0\n",
    "\n",
    "all_data['Points'] = all_data['G'] + all_data['A']\n",
    "\n",
    "numeric_columns = ['G', 'A', 'Points', 'ATOI', '+/-']\n",
    "for col in numeric_columns:\n",
    "    all_data[col] = pd.to_numeric(all_data[col], errors='coerce').fillna(0)\n",
    "\n",
    "criteria = ['Points', 'ATOI', '+/-']\n",
    "\n",
    "top_players = pd.DataFrame()\n",
    "\n",
    "for season in seasons:\n",
    "    season_data = all_data[all_data['Season'] == season]\n",
    "    for team in season_data['Tm'].unique():\n",
    "        team_data = season_data[season_data['Tm'] == team]\n",
    "        top_team_players = team_data.nlargest(5, criteria)\n",
    "        top_players = pd.concat([top_players, top_team_players])\n",
    "\n",
    "top_players.to_csv(\"nhl_top_players_last_5_seasons.csv\", index=False)\n",
    "print(\"Top players data saved to nhl_top_players_last_5_seasons.csv\")\n",
    "\n",
    "top_players = pd.read_csv(\"nhl_top_players_last_5_seasons.csv\")\n",
    "\n",
    "final_columns = ['Player', 'Season', 'Tm', 'Pos', 'GP', 'G', 'A', 'Points', 'ATOI', '+/-']\n",
    "final_data = top_players[final_columns]\n",
    "\n",
    "\n",
    "final_data.to_csv(\"nhl_team_star_players_last_5_seasons.csv\", index=False)\n",
    "print(\"Final dataset saved to nhl_team_star_players_last_5_seasons.csv\")\n"
   ]
  },
  {
   "cell_type": "code",
   "execution_count": 48,
   "id": "bcfd1cdf",
   "metadata": {},
   "outputs": [
    {
     "name": "stdout",
     "output_type": "stream",
     "text": [
      "             Player  Season   Tm Pos  GP     G     A  Points  ATOI   +/-\n",
      "0  William Nylander    2023  TOR   C  82  40.0  47.0  4047.0   0.0  10.0\n",
      "1   Auston Matthews    2023  TOR   C  74  40.0  45.0  4045.0   0.0  31.0\n",
      "2      John Tavares    2023  TOR   C  80  36.0  44.0  3644.0   0.0  -7.0\n",
      "3      Mitch Marner    2023  TOR  RW  80  30.0  69.0  3069.0   0.0  18.0\n",
      "4   Michael Bunting    2023  TOR  LW  82  23.0  26.0  2326.0   0.0  21.0\n"
     ]
    }
   ],
   "source": [
    "star_player_data = pd.read_csv(\"nhl_team_star_players_last_5_seasons.csv\")\n",
    "\n",
    "print(star_player_data.head())"
   ]
  },
  {
   "cell_type": "code",
   "execution_count": 49,
   "id": "b6243991",
   "metadata": {},
   "outputs": [
    {
     "data": {
      "text/html": [
       "<div>\n",
       "<style scoped>\n",
       "    .dataframe tbody tr th:only-of-type {\n",
       "        vertical-align: middle;\n",
       "    }\n",
       "\n",
       "    .dataframe tbody tr th {\n",
       "        vertical-align: top;\n",
       "    }\n",
       "\n",
       "    .dataframe thead th {\n",
       "        text-align: right;\n",
       "    }\n",
       "</style>\n",
       "<table border=\"1\" class=\"dataframe\">\n",
       "  <thead>\n",
       "    <tr style=\"text-align: right;\">\n",
       "      <th></th>\n",
       "      <th>Season</th>\n",
       "      <th>G</th>\n",
       "      <th>A</th>\n",
       "      <th>Points</th>\n",
       "      <th>ATOI</th>\n",
       "      <th>+/-</th>\n",
       "    </tr>\n",
       "  </thead>\n",
       "  <tbody>\n",
       "    <tr>\n",
       "      <th>count</th>\n",
       "      <td>1000.000000</td>\n",
       "      <td>1000.00000</td>\n",
       "      <td>1000.000000</td>\n",
       "      <td>1000.000000</td>\n",
       "      <td>1000.0</td>\n",
       "      <td>1000.000000</td>\n",
       "    </tr>\n",
       "    <tr>\n",
       "      <th>mean</th>\n",
       "      <td>2020.520000</td>\n",
       "      <td>22.85000</td>\n",
       "      <td>29.963000</td>\n",
       "      <td>2313.973000</td>\n",
       "      <td>0.0</td>\n",
       "      <td>1.527000</td>\n",
       "    </tr>\n",
       "    <tr>\n",
       "      <th>std</th>\n",
       "      <td>1.712464</td>\n",
       "      <td>9.54351</td>\n",
       "      <td>15.117015</td>\n",
       "      <td>965.373118</td>\n",
       "      <td>0.0</td>\n",
       "      <td>14.853144</td>\n",
       "    </tr>\n",
       "    <tr>\n",
       "      <th>min</th>\n",
       "      <td>2018.000000</td>\n",
       "      <td>0.00000</td>\n",
       "      <td>0.000000</td>\n",
       "      <td>0.000000</td>\n",
       "      <td>0.0</td>\n",
       "      <td>-45.000000</td>\n",
       "    </tr>\n",
       "    <tr>\n",
       "      <th>25%</th>\n",
       "      <td>2019.000000</td>\n",
       "      <td>17.00000</td>\n",
       "      <td>19.000000</td>\n",
       "      <td>1718.000000</td>\n",
       "      <td>0.0</td>\n",
       "      <td>-7.250000</td>\n",
       "    </tr>\n",
       "    <tr>\n",
       "      <th>50%</th>\n",
       "      <td>2021.000000</td>\n",
       "      <td>22.00000</td>\n",
       "      <td>27.000000</td>\n",
       "      <td>2218.500000</td>\n",
       "      <td>0.0</td>\n",
       "      <td>0.000000</td>\n",
       "    </tr>\n",
       "    <tr>\n",
       "      <th>75%</th>\n",
       "      <td>2022.000000</td>\n",
       "      <td>28.00000</td>\n",
       "      <td>39.000000</td>\n",
       "      <td>2827.500000</td>\n",
       "      <td>0.0</td>\n",
       "      <td>11.000000</td>\n",
       "    </tr>\n",
       "    <tr>\n",
       "      <th>max</th>\n",
       "      <td>2023.000000</td>\n",
       "      <td>64.00000</td>\n",
       "      <td>89.000000</td>\n",
       "      <td>6489.000000</td>\n",
       "      <td>0.0</td>\n",
       "      <td>64.000000</td>\n",
       "    </tr>\n",
       "  </tbody>\n",
       "</table>\n",
       "</div>"
      ],
      "text/plain": [
       "            Season           G            A       Points    ATOI          +/-\n",
       "count  1000.000000  1000.00000  1000.000000  1000.000000  1000.0  1000.000000\n",
       "mean   2020.520000    22.85000    29.963000  2313.973000     0.0     1.527000\n",
       "std       1.712464     9.54351    15.117015   965.373118     0.0    14.853144\n",
       "min    2018.000000     0.00000     0.000000     0.000000     0.0   -45.000000\n",
       "25%    2019.000000    17.00000    19.000000  1718.000000     0.0    -7.250000\n",
       "50%    2021.000000    22.00000    27.000000  2218.500000     0.0     0.000000\n",
       "75%    2022.000000    28.00000    39.000000  2827.500000     0.0    11.000000\n",
       "max    2023.000000    64.00000    89.000000  6489.000000     0.0    64.000000"
      ]
     },
     "execution_count": 49,
     "metadata": {},
     "output_type": "execute_result"
    }
   ],
   "source": [
    "star_player_data.describe()"
   ]
  },
  {
   "cell_type": "code",
   "execution_count": 50,
   "id": "bd136145",
   "metadata": {},
   "outputs": [
    {
     "data": {
      "application/vnd.plotly.v1+json": {
       "config": {
        "plotlyServerURL": "https://plot.ly"
       },
       "data": [
        {
         "alignmentgroup": "True",
         "hovertemplate": "Tm=%{x}<br>Points=%{y}<br>Season=%{marker.color}<extra></extra>",
         "legendgroup": "",
         "marker": {
          "color": [
           2023,
           2023,
           2023,
           2023,
           2023,
           2023,
           2023,
           2023,
           2023,
           2023,
           2023,
           2023,
           2023,
           2023,
           2023,
           2023,
           2023,
           2023,
           2023,
           2023,
           2023,
           2023,
           2023,
           2023,
           2023,
           2023,
           2023,
           2023,
           2023,
           2023,
           2023,
           2023,
           2023,
           2023,
           2023,
           2023,
           2023,
           2023,
           2023,
           2023,
           2023,
           2023,
           2023,
           2023,
           2023,
           2023,
           2023,
           2023,
           2023,
           2023,
           2023,
           2023,
           2023,
           2023,
           2023,
           2023,
           2023,
           2023,
           2023,
           2023,
           2023,
           2023,
           2023,
           2023,
           2023,
           2023,
           2023,
           2023,
           2023,
           2023,
           2023,
           2023,
           2023,
           2023,
           2023,
           2023,
           2023,
           2023,
           2023,
           2023,
           2023,
           2023,
           2023,
           2023,
           2023,
           2023,
           2023,
           2023,
           2023,
           2023,
           2023,
           2023,
           2023,
           2023,
           2023,
           2023,
           2023,
           2023,
           2023,
           2023,
           2023,
           2023,
           2023,
           2023,
           2023,
           2023,
           2023,
           2023,
           2023,
           2023,
           2023,
           2023,
           2023,
           2023,
           2023,
           2023,
           2023,
           2023,
           2023,
           2023,
           2023,
           2023,
           2023,
           2023,
           2023,
           2023,
           2023,
           2023,
           2023,
           2023,
           2023,
           2023,
           2023,
           2023,
           2023,
           2023,
           2023,
           2023,
           2023,
           2023,
           2023,
           2023,
           2023,
           2023,
           2023,
           2023,
           2023,
           2023,
           2023,
           2023,
           2023,
           2023,
           2023,
           2023,
           2023,
           2023,
           2023,
           2023,
           2023,
           2023,
           2023,
           2023,
           2023,
           2023,
           2023,
           2023,
           2023,
           2023,
           2023,
           2023,
           2022,
           2022,
           2022,
           2022,
           2022,
           2022,
           2022,
           2022,
           2022,
           2022,
           2022,
           2022,
           2022,
           2022,
           2022,
           2022,
           2022,
           2022,
           2022,
           2022,
           2022,
           2022,
           2022,
           2022,
           2022,
           2022,
           2022,
           2022,
           2022,
           2022,
           2022,
           2022,
           2022,
           2022,
           2022,
           2022,
           2022,
           2022,
           2022,
           2022,
           2022,
           2022,
           2022,
           2022,
           2022,
           2022,
           2022,
           2022,
           2022,
           2022,
           2022,
           2022,
           2022,
           2022,
           2022,
           2022,
           2022,
           2022,
           2022,
           2022,
           2022,
           2022,
           2022,
           2022,
           2022,
           2022,
           2022,
           2022,
           2022,
           2022,
           2022,
           2022,
           2022,
           2022,
           2022,
           2022,
           2022,
           2022,
           2022,
           2022,
           2022,
           2022,
           2022,
           2022,
           2022,
           2022,
           2022,
           2022,
           2022,
           2022,
           2022,
           2022,
           2022,
           2022,
           2022,
           2022,
           2022,
           2022,
           2022,
           2022,
           2022,
           2022,
           2022,
           2022,
           2022,
           2022,
           2022,
           2022,
           2022,
           2022,
           2022,
           2022,
           2022,
           2022,
           2022,
           2022,
           2022,
           2022,
           2022,
           2022,
           2022,
           2022,
           2022,
           2022,
           2022,
           2022,
           2022,
           2022,
           2022,
           2022,
           2022,
           2022,
           2022,
           2022,
           2022,
           2022,
           2022,
           2022,
           2022,
           2022,
           2022,
           2022,
           2022,
           2022,
           2022,
           2022,
           2022,
           2022,
           2022,
           2022,
           2022,
           2022,
           2022,
           2022,
           2022,
           2022,
           2022,
           2022,
           2022,
           2022,
           2022,
           2022,
           2022,
           2022,
           2022,
           2022,
           2022,
           2022,
           2022,
           2022,
           2021,
           2021,
           2021,
           2021,
           2021,
           2021,
           2021,
           2021,
           2021,
           2021,
           2021,
           2021,
           2021,
           2021,
           2021,
           2021,
           2021,
           2021,
           2021,
           2021,
           2021,
           2021,
           2021,
           2021,
           2021,
           2021,
           2021,
           2021,
           2021,
           2021,
           2021,
           2021,
           2021,
           2021,
           2021,
           2021,
           2021,
           2021,
           2021,
           2021,
           2021,
           2021,
           2021,
           2021,
           2021,
           2021,
           2021,
           2021,
           2021,
           2021,
           2021,
           2021,
           2021,
           2021,
           2021,
           2021,
           2021,
           2021,
           2021,
           2021,
           2021,
           2021,
           2021,
           2021,
           2021,
           2021,
           2021,
           2021,
           2021,
           2021,
           2021,
           2021,
           2021,
           2021,
           2021,
           2021,
           2021,
           2021,
           2021,
           2021,
           2021,
           2021,
           2021,
           2021,
           2021,
           2021,
           2021,
           2021,
           2021,
           2021,
           2021,
           2021,
           2021,
           2021,
           2021,
           2021,
           2021,
           2021,
           2021,
           2021,
           2021,
           2021,
           2021,
           2021,
           2021,
           2021,
           2021,
           2021,
           2021,
           2021,
           2021,
           2021,
           2021,
           2021,
           2021,
           2021,
           2021,
           2021,
           2021,
           2021,
           2021,
           2021,
           2021,
           2021,
           2021,
           2021,
           2021,
           2021,
           2021,
           2021,
           2021,
           2021,
           2021,
           2021,
           2021,
           2021,
           2021,
           2021,
           2021,
           2021,
           2021,
           2021,
           2021,
           2021,
           2021,
           2021,
           2021,
           2021,
           2021,
           2021,
           2021,
           2021,
           2021,
           2021,
           2021,
           2021,
           2021,
           2021,
           2021,
           2021,
           2021,
           2021,
           2021,
           2021,
           2021,
           2020,
           2020,
           2020,
           2020,
           2020,
           2020,
           2020,
           2020,
           2020,
           2020,
           2020,
           2020,
           2020,
           2020,
           2020,
           2020,
           2020,
           2020,
           2020,
           2020,
           2020,
           2020,
           2020,
           2020,
           2020,
           2020,
           2020,
           2020,
           2020,
           2020,
           2020,
           2020,
           2020,
           2020,
           2020,
           2020,
           2020,
           2020,
           2020,
           2020,
           2020,
           2020,
           2020,
           2020,
           2020,
           2020,
           2020,
           2020,
           2020,
           2020,
           2020,
           2020,
           2020,
           2020,
           2020,
           2020,
           2020,
           2020,
           2020,
           2020,
           2020,
           2020,
           2020,
           2020,
           2020,
           2020,
           2020,
           2020,
           2020,
           2020,
           2020,
           2020,
           2020,
           2020,
           2020,
           2020,
           2020,
           2020,
           2020,
           2020,
           2020,
           2020,
           2020,
           2020,
           2020,
           2020,
           2020,
           2020,
           2020,
           2020,
           2020,
           2020,
           2020,
           2020,
           2020,
           2020,
           2020,
           2020,
           2020,
           2020,
           2020,
           2020,
           2020,
           2020,
           2020,
           2020,
           2020,
           2020,
           2020,
           2020,
           2020,
           2020,
           2020,
           2020,
           2020,
           2020,
           2020,
           2020,
           2020,
           2020,
           2020,
           2020,
           2020,
           2020,
           2020,
           2020,
           2020,
           2020,
           2020,
           2020,
           2020,
           2020,
           2020,
           2020,
           2020,
           2020,
           2020,
           2020,
           2020,
           2020,
           2020,
           2020,
           2020,
           2020,
           2020,
           2020,
           2020,
           2020,
           2020,
           2020,
           2020,
           2020,
           2020,
           2020,
           2020,
           2020,
           2020,
           2020,
           2020,
           2020,
           2020,
           2020,
           2020,
           2020,
           2020,
           2019,
           2019,
           2019,
           2019,
           2019,
           2019,
           2019,
           2019,
           2019,
           2019,
           2019,
           2019,
           2019,
           2019,
           2019,
           2019,
           2019,
           2019,
           2019,
           2019,
           2019,
           2019,
           2019,
           2019,
           2019,
           2019,
           2019,
           2019,
           2019,
           2019,
           2019,
           2019,
           2019,
           2019,
           2019,
           2019,
           2019,
           2019,
           2019,
           2019,
           2019,
           2019,
           2019,
           2019,
           2019,
           2019,
           2019,
           2019,
           2019,
           2019,
           2019,
           2019,
           2019,
           2019,
           2019,
           2019,
           2019,
           2019,
           2019,
           2019,
           2019,
           2019,
           2019,
           2019,
           2019,
           2019,
           2019,
           2019,
           2019,
           2019,
           2019,
           2019,
           2019,
           2019,
           2019,
           2019,
           2019,
           2019,
           2019,
           2019,
           2019,
           2019,
           2019,
           2019,
           2019,
           2019,
           2019,
           2019,
           2019,
           2019,
           2019,
           2019,
           2019,
           2019,
           2019,
           2019,
           2019,
           2019,
           2019,
           2019,
           2019,
           2019,
           2019,
           2019,
           2019,
           2019,
           2019,
           2019,
           2019,
           2019,
           2019,
           2019,
           2019,
           2019,
           2019,
           2019,
           2019,
           2019,
           2019,
           2019,
           2019,
           2019,
           2019,
           2019,
           2019,
           2019,
           2019,
           2019,
           2019,
           2019,
           2019,
           2019,
           2019,
           2019,
           2019,
           2019,
           2019,
           2019,
           2019,
           2019,
           2019,
           2019,
           2019,
           2019,
           2019,
           2019,
           2019,
           2019,
           2019,
           2019,
           2019,
           2019,
           2019,
           2019,
           2019,
           2019,
           2019,
           2019,
           2019,
           2019,
           2019,
           2019,
           2019,
           2019,
           2019,
           2018,
           2018,
           2018,
           2018,
           2018,
           2018,
           2018,
           2018,
           2018,
           2018,
           2018,
           2018,
           2018,
           2018,
           2018,
           2018,
           2018,
           2018,
           2018,
           2018,
           2018,
           2018,
           2018,
           2018,
           2018,
           2018,
           2018,
           2018,
           2018,
           2018,
           2018,
           2018,
           2018,
           2018,
           2018,
           2018,
           2018,
           2018,
           2018,
           2018,
           2018,
           2018,
           2018,
           2018,
           2018,
           2018,
           2018,
           2018,
           2018,
           2018,
           2018,
           2018,
           2018,
           2018,
           2018,
           2018,
           2018,
           2018,
           2018,
           2018,
           2018,
           2018,
           2018,
           2018,
           2018,
           2018,
           2018,
           2018,
           2018,
           2018,
           2018,
           2018,
           2018,
           2018,
           2018,
           2018,
           2018,
           2018,
           2018,
           2018,
           2018,
           2018,
           2018,
           2018,
           2018,
           2018,
           2018,
           2018,
           2018,
           2018,
           2018,
           2018,
           2018,
           2018,
           2018,
           2018,
           2018,
           2018,
           2018,
           2018,
           2018,
           2018,
           2018,
           2018,
           2018,
           2018,
           2018,
           2018,
           2018,
           2018,
           2018,
           2018,
           2018,
           2018,
           2018,
           2018,
           2018,
           2018,
           2018,
           2018,
           2018,
           2018,
           2018,
           2018,
           2018,
           2018,
           2018,
           2018,
           2018,
           2018,
           2018,
           2018,
           2018,
           2018,
           2018,
           2018,
           2018,
           2018,
           2018,
           2018,
           2018,
           2018,
           2018,
           2018,
           2018,
           2018,
           2018,
           2018,
           2018,
           2018,
           2018,
           2018,
           2018,
           2018,
           2018,
           2018,
           2018,
           2018,
           2018,
           2018,
           2018,
           2018,
           2018,
           2018,
           2018
          ],
          "coloraxis": "coloraxis",
          "pattern": {
           "shape": ""
          }
         },
         "name": "",
         "offsetgroup": "",
         "orientation": "v",
         "showlegend": false,
         "textposition": "auto",
         "type": "bar",
         "x": [
          "TOR",
          "TOR",
          "TOR",
          "TOR",
          "TOR",
          "TOT",
          "TOT",
          "TOT",
          "TOT",
          "TOT",
          "STL",
          "STL",
          "STL",
          "STL",
          "STL",
          "MIN",
          "MIN",
          "MIN",
          "MIN",
          "MIN",
          "NSH",
          "NSH",
          "NSH",
          "NSH",
          "NSH",
          "SJS",
          "SJS",
          "SJS",
          "SJS",
          "SJS",
          "CAR",
          "CAR",
          "CAR",
          "CAR",
          "CAR",
          "NYI",
          "NYI",
          "NYI",
          "NYI",
          "NYI",
          "WSH",
          "WSH",
          "WSH",
          "WSH",
          "WSH",
          "MTL",
          "MTL",
          "MTL",
          "MTL",
          "MTL",
          "PHI",
          "PHI",
          "PHI",
          "PHI",
          "PHI",
          "VEG",
          "VEG",
          "VEG",
          "VEG",
          "VEG",
          "VAN",
          "VAN",
          "VAN",
          "VAN",
          "VAN",
          "CHI",
          "CHI",
          "CHI",
          "CHI",
          "CHI",
          "LAK",
          "LAK",
          "LAK",
          "LAK",
          "LAK",
          "CGY",
          "CGY",
          "CGY",
          "CGY",
          "CGY",
          "Tm",
          "Tm",
          "Tm",
          "Tm",
          "Tm",
          "CBJ",
          "CBJ",
          "CBJ",
          "CBJ",
          "CBJ",
          "WPG",
          "WPG",
          "WPG",
          "WPG",
          "WPG",
          "PIT",
          "PIT",
          "PIT",
          "PIT",
          "PIT",
          "BUF",
          "BUF",
          "BUF",
          "BUF",
          "BUF",
          "NJD",
          "NJD",
          "NJD",
          "NJD",
          "NJD",
          "FLA",
          "FLA",
          "FLA",
          "FLA",
          "FLA",
          "TBL",
          "TBL",
          "TBL",
          "TBL",
          "TBL",
          "EDM",
          "EDM",
          "EDM",
          "EDM",
          "EDM",
          "OTT",
          "OTT",
          "OTT",
          "OTT",
          "OTT",
          "ANA",
          "ANA",
          "ANA",
          "ANA",
          "ANA",
          "SEA",
          "SEA",
          "SEA",
          "SEA",
          "SEA",
          "DAL",
          "DAL",
          "DAL",
          "DAL",
          "DAL",
          "BOS",
          "BOS",
          "BOS",
          "BOS",
          "BOS",
          "DET",
          "DET",
          "DET",
          "DET",
          "DET",
          "ARI",
          "ARI",
          "ARI",
          "ARI",
          "ARI",
          "NYR",
          "NYR",
          "NYR",
          "NYR",
          "NYR",
          "COL",
          "COL",
          "COL",
          "COL",
          "COL",
          "TOR",
          "TOR",
          "TOR",
          "TOR",
          "TOR",
          "FLA",
          "FLA",
          "FLA",
          "FLA",
          "FLA",
          "MIN",
          "MIN",
          "MIN",
          "MIN",
          "MIN",
          "OTT",
          "OTT",
          "OTT",
          "OTT",
          "OTT",
          "BOS",
          "BOS",
          "BOS",
          "BOS",
          "BOS",
          "CAR",
          "CAR",
          "CAR",
          "CAR",
          "CAR",
          "NYI",
          "NYI",
          "NYI",
          "NYI",
          "NYI",
          "WSH",
          "WSH",
          "WSH",
          "WSH",
          "WSH",
          "PHI",
          "PHI",
          "PHI",
          "PHI",
          "PHI",
          "TOT",
          "TOT",
          "TOT",
          "TOT",
          "TOT",
          "VEG",
          "VEG",
          "VEG",
          "VEG",
          "VEG",
          "MTL",
          "MTL",
          "MTL",
          "MTL",
          "MTL",
          "LAK",
          "LAK",
          "LAK",
          "LAK",
          "LAK",
          "CGY",
          "CGY",
          "CGY",
          "CGY",
          "CGY",
          "PIT",
          "PIT",
          "PIT",
          "PIT",
          "PIT",
          "SEA",
          "SEA",
          "SEA",
          "SEA",
          "SEA",
          "WPG",
          "WPG",
          "WPG",
          "WPG",
          "WPG",
          "EDM",
          "EDM",
          "EDM",
          "EDM",
          "EDM",
          "Tm",
          "Tm",
          "Tm",
          "Tm",
          "Tm",
          "BUF",
          "BUF",
          "BUF",
          "BUF",
          "BUF",
          "ANA",
          "ANA",
          "ANA",
          "ANA",
          "ANA",
          "COL",
          "COL",
          "COL",
          "COL",
          "COL",
          "NJD",
          "NJD",
          "NJD",
          "NJD",
          "NJD",
          "VAN",
          "VAN",
          "VAN",
          "VAN",
          "VAN",
          "SJS",
          "SJS",
          "SJS",
          "SJS",
          "SJS",
          "STL",
          "STL",
          "STL",
          "STL",
          "STL",
          "DET",
          "DET",
          "DET",
          "DET",
          "DET",
          "TBL",
          "TBL",
          "TBL",
          "TBL",
          "TBL",
          "NYR",
          "NYR",
          "NYR",
          "NYR",
          "NYR",
          "CBJ",
          "CBJ",
          "CBJ",
          "CBJ",
          "CBJ",
          "ARI",
          "ARI",
          "ARI",
          "ARI",
          "ARI",
          "CHI",
          "CHI",
          "CHI",
          "CHI",
          "CHI",
          "DAL",
          "DAL",
          "DAL",
          "DAL",
          "DAL",
          "NSH",
          "NSH",
          "NSH",
          "NSH",
          "NSH",
          "OTT",
          "OTT",
          "OTT",
          "OTT",
          "OTT",
          "FLA",
          "FLA",
          "FLA",
          "FLA",
          "FLA",
          "MIN",
          "MIN",
          "MIN",
          "MIN",
          "MIN",
          "TOR",
          "TOR",
          "TOR",
          "TOR",
          "TOR",
          "ANA",
          "ANA",
          "ANA",
          "ANA",
          "ANA",
          "BOS",
          "BOS",
          "BOS",
          "BOS",
          "BOS",
          "CAR",
          "CAR",
          "CAR",
          "CAR",
          "CAR",
          "NYI",
          "NYI",
          "NYI",
          "NYI",
          "NYI",
          "NSH",
          "NSH",
          "NSH",
          "NSH",
          "NSH",
          "PHI",
          "PHI",
          "PHI",
          "PHI",
          "PHI",
          "LAK",
          "LAK",
          "LAK",
          "LAK",
          "LAK",
          "TOT",
          "TOT",
          "TOT",
          "TOT",
          "TOT",
          "MTL",
          "MTL",
          "MTL",
          "MTL",
          "MTL",
          "CGY",
          "CGY",
          "CGY",
          "CGY",
          "CGY",
          "Tm",
          "Tm",
          "Tm",
          "Tm",
          "Tm",
          "PIT",
          "PIT",
          "PIT",
          "PIT",
          "PIT",
          "WPG",
          "WPG",
          "WPG",
          "WPG",
          "WPG",
          "EDM",
          "EDM",
          "EDM",
          "EDM",
          "EDM",
          "BUF",
          "BUF",
          "BUF",
          "BUF",
          "BUF",
          "CBJ",
          "CBJ",
          "CBJ",
          "CBJ",
          "CBJ",
          "WSH",
          "WSH",
          "WSH",
          "WSH",
          "WSH",
          "NJD",
          "NJD",
          "NJD",
          "NJD",
          "NJD",
          "VAN",
          "VAN",
          "VAN",
          "VAN",
          "VAN",
          "SJS",
          "SJS",
          "SJS",
          "SJS",
          "SJS",
          "STL",
          "STL",
          "STL",
          "STL",
          "STL",
          "TBL",
          "TBL",
          "TBL",
          "TBL",
          "TBL",
          "NYR",
          "NYR",
          "NYR",
          "NYR",
          "NYR",
          "CHI",
          "CHI",
          "CHI",
          "CHI",
          "CHI",
          "COL",
          "COL",
          "COL",
          "COL",
          "COL",
          "DAL",
          "DAL",
          "DAL",
          "DAL",
          "DAL",
          "DET",
          "DET",
          "DET",
          "DET",
          "DET",
          "ARI",
          "ARI",
          "ARI",
          "ARI",
          "ARI",
          "VEG",
          "VEG",
          "VEG",
          "VEG",
          "VEG",
          "DET",
          "DET",
          "DET",
          "DET",
          "DET",
          "TOR",
          "TOR",
          "TOR",
          "TOR",
          "TOR",
          "OTT",
          "OTT",
          "OTT",
          "OTT",
          "OTT",
          "FLA",
          "FLA",
          "FLA",
          "FLA",
          "FLA",
          "TOT",
          "TOT",
          "TOT",
          "TOT",
          "TOT",
          "PIT",
          "PIT",
          "PIT",
          "PIT",
          "PIT",
          "ANA",
          "ANA",
          "ANA",
          "ANA",
          "ANA",
          "CAR",
          "CAR",
          "CAR",
          "CAR",
          "CAR",
          "MTL",
          "MTL",
          "MTL",
          "MTL",
          "MTL",
          "LAK",
          "LAK",
          "LAK",
          "LAK",
          "LAK",
          "NJD",
          "NJD",
          "NJD",
          "NJD",
          "NJD",
          "CBJ",
          "CBJ",
          "CBJ",
          "CBJ",
          "CBJ",
          "NYR",
          "NYR",
          "NYR",
          "NYR",
          "NYR",
          "CGY",
          "CGY",
          "CGY",
          "CGY",
          "CGY",
          "PHI",
          "PHI",
          "PHI",
          "PHI",
          "PHI",
          "WPG",
          "WPG",
          "WPG",
          "WPG",
          "WPG",
          "EDM",
          "EDM",
          "EDM",
          "EDM",
          "EDM",
          "Tm",
          "Tm",
          "Tm",
          "Tm",
          "Tm",
          "NSH",
          "NSH",
          "NSH",
          "NSH",
          "NSH",
          "BUF",
          "BUF",
          "BUF",
          "BUF",
          "BUF",
          "BOS",
          "BOS",
          "BOS",
          "BOS",
          "BOS",
          "WSH",
          "WSH",
          "WSH",
          "WSH",
          "WSH",
          "VAN",
          "VAN",
          "VAN",
          "VAN",
          "VAN",
          "NYI",
          "NYI",
          "NYI",
          "NYI",
          "NYI",
          "STL",
          "STL",
          "STL",
          "STL",
          "STL",
          "COL",
          "COL",
          "COL",
          "COL",
          "COL",
          "CHI",
          "CHI",
          "CHI",
          "CHI",
          "CHI",
          "DAL",
          "DAL",
          "DAL",
          "DAL",
          "DAL",
          "SJS",
          "SJS",
          "SJS",
          "SJS",
          "SJS",
          "VEG",
          "VEG",
          "VEG",
          "VEG",
          "VEG",
          "TBL",
          "TBL",
          "TBL",
          "TBL",
          "TBL",
          "MIN",
          "MIN",
          "MIN",
          "MIN",
          "MIN",
          "ARI",
          "ARI",
          "ARI",
          "ARI",
          "ARI",
          "DET",
          "DET",
          "DET",
          "DET",
          "DET",
          "TOT",
          "TOT",
          "TOT",
          "TOT",
          "TOT",
          "ANA",
          "ANA",
          "ANA",
          "ANA",
          "ANA",
          "MIN",
          "MIN",
          "MIN",
          "MIN",
          "MIN",
          "OTT",
          "OTT",
          "OTT",
          "OTT",
          "OTT",
          "BOS",
          "BOS",
          "BOS",
          "BOS",
          "BOS",
          "MTL",
          "MTL",
          "MTL",
          "MTL",
          "MTL",
          "NJD",
          "NJD",
          "NJD",
          "NJD",
          "NJD",
          "COL",
          "COL",
          "COL",
          "COL",
          "COL",
          "CAR",
          "CAR",
          "CAR",
          "CAR",
          "CAR",
          "LAK",
          "LAK",
          "LAK",
          "LAK",
          "LAK",
          "CBJ",
          "CBJ",
          "CBJ",
          "CBJ",
          "CBJ",
          "NYR",
          "NYR",
          "NYR",
          "NYR",
          "NYR",
          "CGY",
          "CGY",
          "CGY",
          "CGY",
          "CGY",
          "CHI",
          "CHI",
          "CHI",
          "CHI",
          "CHI",
          "WPG",
          "WPG",
          "WPG",
          "WPG",
          "WPG",
          "VAN",
          "VAN",
          "VAN",
          "VAN",
          "VAN",
          "ARI",
          "ARI",
          "ARI",
          "ARI",
          "ARI",
          "Tm",
          "Tm",
          "Tm",
          "Tm",
          "Tm",
          "NSH",
          "NSH",
          "NSH",
          "NSH",
          "NSH",
          "PIT",
          "PIT",
          "PIT",
          "PIT",
          "PIT",
          "PHI",
          "PHI",
          "PHI",
          "PHI",
          "PHI",
          "WSH",
          "WSH",
          "WSH",
          "WSH",
          "WSH",
          "NYI",
          "NYI",
          "NYI",
          "NYI",
          "NYI",
          "STL",
          "STL",
          "STL",
          "STL",
          "STL",
          "FLA",
          "FLA",
          "FLA",
          "FLA",
          "FLA",
          "DAL",
          "DAL",
          "DAL",
          "DAL",
          "DAL",
          "BUF",
          "BUF",
          "BUF",
          "BUF",
          "BUF",
          "VEG",
          "VEG",
          "VEG",
          "VEG",
          "VEG",
          "EDM",
          "EDM",
          "EDM",
          "EDM",
          "EDM",
          "SJS",
          "SJS",
          "SJS",
          "SJS",
          "SJS",
          "TOR",
          "TOR",
          "TOR",
          "TOR",
          "TOR",
          "TBL",
          "TBL",
          "TBL",
          "TBL",
          "TBL",
          "DET",
          "DET",
          "DET",
          "DET",
          "DET",
          "TOT",
          "TOT",
          "TOT",
          "TOT",
          "TOT",
          "NSH",
          "NSH",
          "NSH",
          "NSH",
          "NSH",
          "EDM",
          "EDM",
          "EDM",
          "EDM",
          "EDM",
          "BOS",
          "BOS",
          "BOS",
          "BOS",
          "BOS",
          "CAR",
          "CAR",
          "CAR",
          "CAR",
          "CAR",
          "NYI",
          "NYI",
          "NYI",
          "NYI",
          "NYI",
          "PHI",
          "PHI",
          "PHI",
          "PHI",
          "PHI",
          "COL",
          "COL",
          "COL",
          "COL",
          "COL",
          "MTL",
          "MTL",
          "MTL",
          "MTL",
          "MTL",
          "LAK",
          "LAK",
          "LAK",
          "LAK",
          "LAK",
          "CBJ",
          "CBJ",
          "CBJ",
          "CBJ",
          "CBJ",
          "NYR",
          "NYR",
          "NYR",
          "NYR",
          "NYR",
          "CGY",
          "CGY",
          "CGY",
          "CGY",
          "CGY",
          "CHI",
          "CHI",
          "CHI",
          "CHI",
          "CHI",
          "BUF",
          "BUF",
          "BUF",
          "BUF",
          "BUF",
          "VAN",
          "VAN",
          "VAN",
          "VAN",
          "VAN",
          "ARI",
          "ARI",
          "ARI",
          "ARI",
          "ARI",
          "PIT",
          "PIT",
          "PIT",
          "PIT",
          "PIT",
          "WPG",
          "WPG",
          "WPG",
          "WPG",
          "WPG",
          "Tm",
          "Tm",
          "Tm",
          "Tm",
          "Tm",
          "WSH",
          "WSH",
          "WSH",
          "WSH",
          "WSH",
          "FLA",
          "FLA",
          "FLA",
          "FLA",
          "FLA",
          "STL",
          "STL",
          "STL",
          "STL",
          "STL",
          "ANA",
          "ANA",
          "ANA",
          "ANA",
          "ANA",
          "VEG",
          "VEG",
          "VEG",
          "VEG",
          "VEG",
          "MIN",
          "MIN",
          "MIN",
          "MIN",
          "MIN",
          "DAL",
          "DAL",
          "DAL",
          "DAL",
          "DAL",
          "OTT",
          "OTT",
          "OTT",
          "OTT",
          "OTT",
          "TOR",
          "TOR",
          "TOR",
          "TOR",
          "TOR",
          "TBL",
          "TBL",
          "TBL",
          "TBL",
          "TBL",
          "NJD",
          "NJD",
          "NJD",
          "NJD",
          "NJD",
          "SJS",
          "SJS",
          "SJS",
          "SJS",
          "SJS"
         ],
         "xaxis": "x",
         "y": [
          4047,
          4045,
          3644,
          3069,
          2326,
          4026,
          3832,
          2417,
          2136,
          2036,
          3736,
          2641,
          2144,
          1918,
          1847,
          4035,
          3132,
          2338,
          2245,
          1919,
          2234,
          1923,
          1841,
          1810,
          1726,
          3121,
          2740,
          2576,
          2241,
          1532,
          3631,
          2843,
          2332,
          1843,
          1825,
          3639,
          2822,
          2113,
          1617,
          1437,
          4233,
          2342,
          1916,
          1522,
          1315,
          2640,
          2610,
          2111,
          1424,
          1420,
          3130,
          2722,
          1927,
          1836,
          1825,
          2829,
          2739,
          2630,
          1721,
          1649,
          3963,
          3935,
          3250,
          3123,
          1837,
          2020,
          2017,
          1831,
          1629,
          1516,
          4126,
          2846,
          2633,
          2349,
          2318,
          3439,
          2432,
          2242,
          1937,
          1827,
          0,
          0,
          0,
          0,
          0,
          2619,
          2230,
          2153,
          1624,
          1212,
          4226,
          3149,
          2736,
          1660,
          1639,
          3637,
          3360,
          2832,
          2756,
          2721,
          4747,
          3643,
          3547,
          3137,
          2812,
          4356,
          3241,
          3149,
          2729,
          2252,
          4231,
          4069,
          3136,
          2355,
          1726,
          5144,
          3450,
          3083,
          3034,
          2737,
          6489,
          5276,
          3767,
          3647,
          1612,
          3951,
          3548,
          3544,
          2739,
          2240,
          2342,
          2338,
          2219,
          2216,
          1726,
          4030,
          2433,
          2125,
          2119,
          2043,
          4663,
          3738,
          3345,
          2849,
          2417,
          6152,
          2731,
          2723,
          2146,
          2136,
          3247,
          2432,
          2025,
          1728,
          1513,
          3749,
          2421,
          2236,
          1924,
          1519,
          3952,
          3618,
          2963,
          2242,
          2223,
          5550,
          4269,
          2130,
          1749,
          1735,
          6046,
          3562,
          3446,
          2749,
          2340,
          3949,
          3349,
          3127,
          3085,
          2821,
          4761,
          3431,
          3352,
          2623,
          2455,
          3520,
          3037,
          2236,
          1814,
          1727,
          4037,
          3248,
          2540,
          2517,
          2041,
          3744,
          3039,
          2420,
          2243,
          2130,
          3722,
          2818,
          1821,
          1544,
          1520,
          5040,
          2454,
          2428,
          1924,
          1754,
          2414,
          2327,
          1824,
          1717,
          1636,
          2519,
          2144,
          2132,
          2029,
          2021,
          3036,
          2143,
          2023,
          1918,
          1622,
          2320,
          2140,
          1913,
          1520,
          1316,
          3519,
          2724,
          2029,
          1948,
          1731,
          4262,
          4240,
          4075,
          3520,
          1814,
          4044,
          3153,
          2434,
          2022,
          1926,
          2723,
          2127,
          2123,
          1615,
          1214,
          4746,
          2941,
          2832,
          2827,
          2124,
          5555,
          4479,
          2727,
          2217,
          2021,
          0,
          0,
          0,
          0,
          0,
          3830,
          3330,
          2124,
          2029,
          1340,
          3730,
          2338,
          1923,
          1613,
          1612,
          3656,
          3256,
          3029,
          2859,
          2858,
          2647,
          2630,
          2422,
          2139,
          1725,
          3267,
          3236,
          3121,
          2323,
          1933,
          3541,
          3034,
          2333,
          1610,
          1210,
          3448,
          3046,
          2748,
          2730,
          2634,
          3138,
          3032,
          2334,
          1713,
          1521,
          4264,
          2830,
          2544,
          2534,
          2217,
          5225,
          2952,
          2274,
          2133,
          1912,
          2829,
          2630,
          2321,
          2223,
          1835,
          2835,
          2336,
          2014,
          1718,
          1437,
          4137,
          2666,
          2226,
          2116,
          1517,
          4138,
          3735,
          2754,
          2425,
          1828,
          4343,
          4242,
          2637,
          2417,
          2373,
          2114,
          1719,
          1718,
          1717,
          1217,
          2632,
          2041,
          1818,
          1712,
          1418,
          2724,
          2020,
          1911,
          1124,
          1115,
          4125,
          2047,
          1931,
          1725,
          1518,
          1617,
          919,
          713,
          518,
          512,
          2940,
          2325,
          2028,
          1511,
          1319,
          2433,
          2014,
          1726,
          1622,
          1527,
          1815,
          1728,
          1617,
          1513,
          1414,
          1315,
          1314,
          1220,
          1111,
          1015,
          2018,
          1823,
          1726,
          1627,
          1219,
          1714,
          1415,
          1337,
          1317,
          1013,
          1917,
          1713,
          1514,
          1212,
          1113,
          2816,
          1526,
          1230,
          1020,
          912,
          1930,
          1928,
          1814,
          1627,
          1111,
          0,
          0,
          0,
          0,
          0,
          2438,
          2334,
          2220,
          1418,
          1119,
          2624,
          2142,
          2125,
          1531,
          1524,
          3372,
          3153,
          1620,
          1619,
          1510,
          2515,
          1319,
          1012,
          518,
          414,
          1826,
          1519,
          1222,
          1011,
          915,
          2418,
          2221,
          1538,
          1320,
          1114,
          1718,
          1614,
          1120,
          817,
          723,
          2326,
          1920,
          1531,
          1314,
          1011,
          2227,
          1924,
          1714,
          1219,
          1216,
          2430,
          1939,
          1719,
          1620,
          1421,
          2325,
          1719,
          1717,
          1531,
          1518,
          2426,
          2028,
          2010,
          1741,
          1435,
          3224,
          1721,
          1551,
          1413,
          915,
          3036,
          2045,
          2032,
          1925,
          1714,
          2526,
          1728,
          1528,
          1218,
          1124,
          1110,
          914,
          613,
          224,
          119,
          2023,
          1823,
          1714,
          1421,
          1227,
          2427,
          2140,
          1826,
          1815,
          1425,
          2127,
          1934,
          1622,
          1417,
          1014,
          4733,
          3128,
          2634,
          2116,
          1651,
          2416,
          2317,
          2123,
          1627,
          1419,
          2930,
          2522,
          2355,
          2042,
          1914,
          2616,
          2420,
          2111,
          2021,
          1714,
          2729,
          2549,
          2023,
          1715,
          1631,
          2617,
          2118,
          1527,
          1329,
          920,
          3828,
          2437,
          1620,
          1548,
          1426,
          2239,
          2221,
          1727,
          1614,
          1521,
          2141,
          1816,
          1726,
          1718,
          1710,
          2520,
          2110,
          1616,
          1422,
          1331,
          2115,
          2021,
          1831,
          1527,
          1214,
          4134,
          3263,
          2421,
          1841,
          1630,
          2925,
          2338,
          2226,
          1840,
          1715,
          2437,
          2318,
          2237,
          2132,
          1921,
          3835,
          2944,
          2835,
          2533,
          2243,
          4367,
          3463,
          2239,
          1912,
          1519,
          0,
          0,
          0,
          0,
          0,
          2127,
          1817,
          1813,
          1713,
          1649,
          3642,
          2228,
          2022,
          921,
          911,
          4847,
          3125,
          2859,
          1916,
          1621,
          4819,
          2623,
          2527,
          2123,
          1933,
          2745,
          2739,
          2231,
          2124,
          1818,
          2628,
          2023,
          1941,
          1821,
          1624,
          2535,
          2533,
          2235,
          1636,
          1614,
          3558,
          2123,
          2025,
          1922,
          1917,
          3351,
          3016,
          2112,
          1842,
          1827,
          1920,
          1914,
          1733,
          1519,
          1417,
          2621,
          2227,
          1623,
          1620,
          1419,
          3234,
          2727,
          2225,
          2142,
          1721,
          3352,
          2937,
          2623,
          2539,
          1724,
          2521,
          2331,
          1928,
          1522,
          1516,
          2217,
          1820,
          1727,
          1718,
          1510,
          3241,
          3024,
          2523,
          2126,
          1633,
          3340,
          3139,
          2630,
          2330,
          2238,
          2419,
          1825,
          1824,
          1434,
          922,
          2833,
          2230,
          2121,
          1534,
          1429,
          2834,
          2731,
          2223,
          2222,
          1527,
          3843,
          3664,
          3247,
          2715,
          2053,
          3319,
          2844,
          2533,
          1928,
          1835,
          2723,
          2214,
          1927,
          1730,
          1312,
          4158,
          3441,
          3156,
          2326,
          1616,
          3053,
          2330,
          2155,
          2017,
          1821,
          2238,
          2229,
          1618,
          1518,
          1321,
          4128,
          2859,
          2734,
          2720,
          2313,
          3044,
          2824,
          2117,
          1815,
          1718,
          3663,
          3448,
          3443,
          2751,
          2126,
          4466,
          4135,
          3546,
          2324,
          1743,
          3846,
          3432,
          3020,
          2116,
          2071,
          2838,
          2734,
          2630,
          1510,
          1210,
          1922,
          1623,
          1520,
          1433,
          1430,
          0,
          0,
          0,
          0,
          0,
          3414,
          2822,
          2117,
          1718,
          1541,
          4036,
          3565,
          2755,
          2151,
          1819,
          3343,
          2721,
          2425,
          2263,
          2046,
          5138,
          2529,
          2423,
          2252,
          2224,
          2823,
          2528,
          2013,
          1918,
          1844,
          3335,
          2849,
          2323,
          1737,
          1417,
          3634,
          3561,
          3062,
          2842,
          2415,
          3347,
          2943,
          2726,
          1515,
          1221,
          4023,
          2854,
          2243,
          1615,
          1420,
          2534,
          2432,
          2219,
          2218,
          2032,
          5055,
          4175,
          2841,
          2216,
          1511,
          3826,
          3539,
          3036,
          3026,
          2743,
          4741,
          3736,
          2668,
          2120,
          2052,
          4553,
          4187,
          4151,
          2918,
          2226,
          2424,
          2119,
          1647,
          1617,
          1617,
          2925,
          2732,
          2432,
          2426,
          2335,
          2932,
          2638,
          2526,
          2325,
          1643,
          4167,
          2545,
          2424,
          1416,
          1321,
          3545,
          3451,
          3033,
          1727,
          1631,
          2936,
          2425,
          2341,
          1927,
          1635,
          4022,
          3747,
          2534,
          2263,
          2115,
          3468,
          3145,
          2423,
          2422,
          2065,
          3958,
          2955,
          2537,
          1924,
          1621,
          3123,
          2015,
          1932,
          1720,
          1333,
          3557,
          2833,
          2423,
          1621,
          1525,
          2755,
          2422,
          2028,
          1911,
          1641,
          2720,
          2519,
          1810,
          1711,
          1637,
          3133,
          2460,
          2425,
          2120,
          1727,
          2824,
          2749,
          2131,
          2032,
          2011,
          2539,
          2525,
          2437,
          2020,
          1618,
          2926,
          2332,
          2222,
          1724,
          1415,
          2342,
          1713,
          1522,
          1518,
          1442,
          4256,
          3458,
          2960,
          2920,
          2226,
          4426,
          3126,
          2931,
          2368,
          2337,
          0,
          0,
          0,
          0,
          0,
          4938,
          2756,
          2150,
          1829,
          1820,
          3144,
          2837,
          2751,
          2742,
          1930,
          3333,
          2842,
          2435,
          1539,
          1531,
          3435,
          2018,
          2016,
          1732,
          1723,
          4335,
          2926,
          2748,
          2519,
          2238,
          4234,
          3331,
          2146,
          1814,
          1436,
          4038,
          3643,
          2745,
          1915,
          1716,
          2326,
          2318,
          2234,
          2042,
          1820,
          3618,
          3429,
          3223,
          2720,
          2247,
          3961,
          3234,
          2759,
          2539,
          2129,
          3954,
          2420,
          2032,
          1913,
          1322,
          3427,
          2244,
          2224,
          2115,
          1723
         ],
         "yaxis": "y"
        }
       ],
       "layout": {
        "barmode": "relative",
        "coloraxis": {
         "colorbar": {
          "title": {
           "text": "Season"
          }
         },
         "colorscale": [
          [
           0,
           "#0d0887"
          ],
          [
           0.1111111111111111,
           "#46039f"
          ],
          [
           0.2222222222222222,
           "#7201a8"
          ],
          [
           0.3333333333333333,
           "#9c179e"
          ],
          [
           0.4444444444444444,
           "#bd3786"
          ],
          [
           0.5555555555555556,
           "#d8576b"
          ],
          [
           0.6666666666666666,
           "#ed7953"
          ],
          [
           0.7777777777777778,
           "#fb9f3a"
          ],
          [
           0.8888888888888888,
           "#fdca26"
          ],
          [
           1,
           "#f0f921"
          ]
         ]
        },
        "legend": {
         "tracegroupgap": 0
        },
        "template": {
         "data": {
          "bar": [
           {
            "error_x": {
             "color": "#2a3f5f"
            },
            "error_y": {
             "color": "#2a3f5f"
            },
            "marker": {
             "line": {
              "color": "#E5ECF6",
              "width": 0.5
             },
             "pattern": {
              "fillmode": "overlay",
              "size": 10,
              "solidity": 0.2
             }
            },
            "type": "bar"
           }
          ],
          "barpolar": [
           {
            "marker": {
             "line": {
              "color": "#E5ECF6",
              "width": 0.5
             },
             "pattern": {
              "fillmode": "overlay",
              "size": 10,
              "solidity": 0.2
             }
            },
            "type": "barpolar"
           }
          ],
          "carpet": [
           {
            "aaxis": {
             "endlinecolor": "#2a3f5f",
             "gridcolor": "white",
             "linecolor": "white",
             "minorgridcolor": "white",
             "startlinecolor": "#2a3f5f"
            },
            "baxis": {
             "endlinecolor": "#2a3f5f",
             "gridcolor": "white",
             "linecolor": "white",
             "minorgridcolor": "white",
             "startlinecolor": "#2a3f5f"
            },
            "type": "carpet"
           }
          ],
          "choropleth": [
           {
            "colorbar": {
             "outlinewidth": 0,
             "ticks": ""
            },
            "type": "choropleth"
           }
          ],
          "contour": [
           {
            "colorbar": {
             "outlinewidth": 0,
             "ticks": ""
            },
            "colorscale": [
             [
              0,
              "#0d0887"
             ],
             [
              0.1111111111111111,
              "#46039f"
             ],
             [
              0.2222222222222222,
              "#7201a8"
             ],
             [
              0.3333333333333333,
              "#9c179e"
             ],
             [
              0.4444444444444444,
              "#bd3786"
             ],
             [
              0.5555555555555556,
              "#d8576b"
             ],
             [
              0.6666666666666666,
              "#ed7953"
             ],
             [
              0.7777777777777778,
              "#fb9f3a"
             ],
             [
              0.8888888888888888,
              "#fdca26"
             ],
             [
              1,
              "#f0f921"
             ]
            ],
            "type": "contour"
           }
          ],
          "contourcarpet": [
           {
            "colorbar": {
             "outlinewidth": 0,
             "ticks": ""
            },
            "type": "contourcarpet"
           }
          ],
          "heatmap": [
           {
            "colorbar": {
             "outlinewidth": 0,
             "ticks": ""
            },
            "colorscale": [
             [
              0,
              "#0d0887"
             ],
             [
              0.1111111111111111,
              "#46039f"
             ],
             [
              0.2222222222222222,
              "#7201a8"
             ],
             [
              0.3333333333333333,
              "#9c179e"
             ],
             [
              0.4444444444444444,
              "#bd3786"
             ],
             [
              0.5555555555555556,
              "#d8576b"
             ],
             [
              0.6666666666666666,
              "#ed7953"
             ],
             [
              0.7777777777777778,
              "#fb9f3a"
             ],
             [
              0.8888888888888888,
              "#fdca26"
             ],
             [
              1,
              "#f0f921"
             ]
            ],
            "type": "heatmap"
           }
          ],
          "heatmapgl": [
           {
            "colorbar": {
             "outlinewidth": 0,
             "ticks": ""
            },
            "colorscale": [
             [
              0,
              "#0d0887"
             ],
             [
              0.1111111111111111,
              "#46039f"
             ],
             [
              0.2222222222222222,
              "#7201a8"
             ],
             [
              0.3333333333333333,
              "#9c179e"
             ],
             [
              0.4444444444444444,
              "#bd3786"
             ],
             [
              0.5555555555555556,
              "#d8576b"
             ],
             [
              0.6666666666666666,
              "#ed7953"
             ],
             [
              0.7777777777777778,
              "#fb9f3a"
             ],
             [
              0.8888888888888888,
              "#fdca26"
             ],
             [
              1,
              "#f0f921"
             ]
            ],
            "type": "heatmapgl"
           }
          ],
          "histogram": [
           {
            "marker": {
             "pattern": {
              "fillmode": "overlay",
              "size": 10,
              "solidity": 0.2
             }
            },
            "type": "histogram"
           }
          ],
          "histogram2d": [
           {
            "colorbar": {
             "outlinewidth": 0,
             "ticks": ""
            },
            "colorscale": [
             [
              0,
              "#0d0887"
             ],
             [
              0.1111111111111111,
              "#46039f"
             ],
             [
              0.2222222222222222,
              "#7201a8"
             ],
             [
              0.3333333333333333,
              "#9c179e"
             ],
             [
              0.4444444444444444,
              "#bd3786"
             ],
             [
              0.5555555555555556,
              "#d8576b"
             ],
             [
              0.6666666666666666,
              "#ed7953"
             ],
             [
              0.7777777777777778,
              "#fb9f3a"
             ],
             [
              0.8888888888888888,
              "#fdca26"
             ],
             [
              1,
              "#f0f921"
             ]
            ],
            "type": "histogram2d"
           }
          ],
          "histogram2dcontour": [
           {
            "colorbar": {
             "outlinewidth": 0,
             "ticks": ""
            },
            "colorscale": [
             [
              0,
              "#0d0887"
             ],
             [
              0.1111111111111111,
              "#46039f"
             ],
             [
              0.2222222222222222,
              "#7201a8"
             ],
             [
              0.3333333333333333,
              "#9c179e"
             ],
             [
              0.4444444444444444,
              "#bd3786"
             ],
             [
              0.5555555555555556,
              "#d8576b"
             ],
             [
              0.6666666666666666,
              "#ed7953"
             ],
             [
              0.7777777777777778,
              "#fb9f3a"
             ],
             [
              0.8888888888888888,
              "#fdca26"
             ],
             [
              1,
              "#f0f921"
             ]
            ],
            "type": "histogram2dcontour"
           }
          ],
          "mesh3d": [
           {
            "colorbar": {
             "outlinewidth": 0,
             "ticks": ""
            },
            "type": "mesh3d"
           }
          ],
          "parcoords": [
           {
            "line": {
             "colorbar": {
              "outlinewidth": 0,
              "ticks": ""
             }
            },
            "type": "parcoords"
           }
          ],
          "pie": [
           {
            "automargin": true,
            "type": "pie"
           }
          ],
          "scatter": [
           {
            "fillpattern": {
             "fillmode": "overlay",
             "size": 10,
             "solidity": 0.2
            },
            "type": "scatter"
           }
          ],
          "scatter3d": [
           {
            "line": {
             "colorbar": {
              "outlinewidth": 0,
              "ticks": ""
             }
            },
            "marker": {
             "colorbar": {
              "outlinewidth": 0,
              "ticks": ""
             }
            },
            "type": "scatter3d"
           }
          ],
          "scattercarpet": [
           {
            "marker": {
             "colorbar": {
              "outlinewidth": 0,
              "ticks": ""
             }
            },
            "type": "scattercarpet"
           }
          ],
          "scattergeo": [
           {
            "marker": {
             "colorbar": {
              "outlinewidth": 0,
              "ticks": ""
             }
            },
            "type": "scattergeo"
           }
          ],
          "scattergl": [
           {
            "marker": {
             "colorbar": {
              "outlinewidth": 0,
              "ticks": ""
             }
            },
            "type": "scattergl"
           }
          ],
          "scattermapbox": [
           {
            "marker": {
             "colorbar": {
              "outlinewidth": 0,
              "ticks": ""
             }
            },
            "type": "scattermapbox"
           }
          ],
          "scatterpolar": [
           {
            "marker": {
             "colorbar": {
              "outlinewidth": 0,
              "ticks": ""
             }
            },
            "type": "scatterpolar"
           }
          ],
          "scatterpolargl": [
           {
            "marker": {
             "colorbar": {
              "outlinewidth": 0,
              "ticks": ""
             }
            },
            "type": "scatterpolargl"
           }
          ],
          "scatterternary": [
           {
            "marker": {
             "colorbar": {
              "outlinewidth": 0,
              "ticks": ""
             }
            },
            "type": "scatterternary"
           }
          ],
          "surface": [
           {
            "colorbar": {
             "outlinewidth": 0,
             "ticks": ""
            },
            "colorscale": [
             [
              0,
              "#0d0887"
             ],
             [
              0.1111111111111111,
              "#46039f"
             ],
             [
              0.2222222222222222,
              "#7201a8"
             ],
             [
              0.3333333333333333,
              "#9c179e"
             ],
             [
              0.4444444444444444,
              "#bd3786"
             ],
             [
              0.5555555555555556,
              "#d8576b"
             ],
             [
              0.6666666666666666,
              "#ed7953"
             ],
             [
              0.7777777777777778,
              "#fb9f3a"
             ],
             [
              0.8888888888888888,
              "#fdca26"
             ],
             [
              1,
              "#f0f921"
             ]
            ],
            "type": "surface"
           }
          ],
          "table": [
           {
            "cells": {
             "fill": {
              "color": "#EBF0F8"
             },
             "line": {
              "color": "white"
             }
            },
            "header": {
             "fill": {
              "color": "#C8D4E3"
             },
             "line": {
              "color": "white"
             }
            },
            "type": "table"
           }
          ]
         },
         "layout": {
          "annotationdefaults": {
           "arrowcolor": "#2a3f5f",
           "arrowhead": 0,
           "arrowwidth": 1
          },
          "autotypenumbers": "strict",
          "coloraxis": {
           "colorbar": {
            "outlinewidth": 0,
            "ticks": ""
           }
          },
          "colorscale": {
           "diverging": [
            [
             0,
             "#8e0152"
            ],
            [
             0.1,
             "#c51b7d"
            ],
            [
             0.2,
             "#de77ae"
            ],
            [
             0.3,
             "#f1b6da"
            ],
            [
             0.4,
             "#fde0ef"
            ],
            [
             0.5,
             "#f7f7f7"
            ],
            [
             0.6,
             "#e6f5d0"
            ],
            [
             0.7,
             "#b8e186"
            ],
            [
             0.8,
             "#7fbc41"
            ],
            [
             0.9,
             "#4d9221"
            ],
            [
             1,
             "#276419"
            ]
           ],
           "sequential": [
            [
             0,
             "#0d0887"
            ],
            [
             0.1111111111111111,
             "#46039f"
            ],
            [
             0.2222222222222222,
             "#7201a8"
            ],
            [
             0.3333333333333333,
             "#9c179e"
            ],
            [
             0.4444444444444444,
             "#bd3786"
            ],
            [
             0.5555555555555556,
             "#d8576b"
            ],
            [
             0.6666666666666666,
             "#ed7953"
            ],
            [
             0.7777777777777778,
             "#fb9f3a"
            ],
            [
             0.8888888888888888,
             "#fdca26"
            ],
            [
             1,
             "#f0f921"
            ]
           ],
           "sequentialminus": [
            [
             0,
             "#0d0887"
            ],
            [
             0.1111111111111111,
             "#46039f"
            ],
            [
             0.2222222222222222,
             "#7201a8"
            ],
            [
             0.3333333333333333,
             "#9c179e"
            ],
            [
             0.4444444444444444,
             "#bd3786"
            ],
            [
             0.5555555555555556,
             "#d8576b"
            ],
            [
             0.6666666666666666,
             "#ed7953"
            ],
            [
             0.7777777777777778,
             "#fb9f3a"
            ],
            [
             0.8888888888888888,
             "#fdca26"
            ],
            [
             1,
             "#f0f921"
            ]
           ]
          },
          "colorway": [
           "#636efa",
           "#EF553B",
           "#00cc96",
           "#ab63fa",
           "#FFA15A",
           "#19d3f3",
           "#FF6692",
           "#B6E880",
           "#FF97FF",
           "#FECB52"
          ],
          "font": {
           "color": "#2a3f5f"
          },
          "geo": {
           "bgcolor": "white",
           "lakecolor": "white",
           "landcolor": "#E5ECF6",
           "showlakes": true,
           "showland": true,
           "subunitcolor": "white"
          },
          "hoverlabel": {
           "align": "left"
          },
          "hovermode": "closest",
          "mapbox": {
           "style": "light"
          },
          "paper_bgcolor": "white",
          "plot_bgcolor": "#E5ECF6",
          "polar": {
           "angularaxis": {
            "gridcolor": "white",
            "linecolor": "white",
            "ticks": ""
           },
           "bgcolor": "#E5ECF6",
           "radialaxis": {
            "gridcolor": "white",
            "linecolor": "white",
            "ticks": ""
           }
          },
          "scene": {
           "xaxis": {
            "backgroundcolor": "#E5ECF6",
            "gridcolor": "white",
            "gridwidth": 2,
            "linecolor": "white",
            "showbackground": true,
            "ticks": "",
            "zerolinecolor": "white"
           },
           "yaxis": {
            "backgroundcolor": "#E5ECF6",
            "gridcolor": "white",
            "gridwidth": 2,
            "linecolor": "white",
            "showbackground": true,
            "ticks": "",
            "zerolinecolor": "white"
           },
           "zaxis": {
            "backgroundcolor": "#E5ECF6",
            "gridcolor": "white",
            "gridwidth": 2,
            "linecolor": "white",
            "showbackground": true,
            "ticks": "",
            "zerolinecolor": "white"
           }
          },
          "shapedefaults": {
           "line": {
            "color": "#2a3f5f"
           }
          },
          "ternary": {
           "aaxis": {
            "gridcolor": "white",
            "linecolor": "white",
            "ticks": ""
           },
           "baxis": {
            "gridcolor": "white",
            "linecolor": "white",
            "ticks": ""
           },
           "bgcolor": "#E5ECF6",
           "caxis": {
            "gridcolor": "white",
            "linecolor": "white",
            "ticks": ""
           }
          },
          "title": {
           "x": 0.05
          },
          "xaxis": {
           "automargin": true,
           "gridcolor": "white",
           "linecolor": "white",
           "ticks": "",
           "title": {
            "standoff": 15
           },
           "zerolinecolor": "white",
           "zerolinewidth": 2
          },
          "yaxis": {
           "automargin": true,
           "gridcolor": "white",
           "linecolor": "white",
           "ticks": "",
           "title": {
            "standoff": 15
           },
           "zerolinecolor": "white",
           "zerolinewidth": 2
          }
         }
        },
        "title": {
         "text": "Total Points by Team and Season"
        },
        "xaxis": {
         "anchor": "y",
         "domain": [
          0,
          1
         ],
         "title": {
          "text": "Tm"
         }
        },
        "yaxis": {
         "anchor": "x",
         "domain": [
          0,
          1
         ],
         "title": {
          "text": "Points"
         }
        }
       }
      },
      "text/html": [
       "<div>                            <div id=\"ee0faf5f-b90e-41e8-b77f-ae50893872be\" class=\"plotly-graph-div\" style=\"height:525px; width:100%;\"></div>            <script type=\"text/javascript\">                require([\"plotly\"], function(Plotly) {                    window.PLOTLYENV=window.PLOTLYENV || {};                                    if (document.getElementById(\"ee0faf5f-b90e-41e8-b77f-ae50893872be\")) {                    Plotly.newPlot(                        \"ee0faf5f-b90e-41e8-b77f-ae50893872be\",                        [{\"alignmentgroup\":\"True\",\"hovertemplate\":\"Tm=%{x}<br>Points=%{y}<br>Season=%{marker.color}<extra></extra>\",\"legendgroup\":\"\",\"marker\":{\"color\":[2023,2023,2023,2023,2023,2023,2023,2023,2023,2023,2023,2023,2023,2023,2023,2023,2023,2023,2023,2023,2023,2023,2023,2023,2023,2023,2023,2023,2023,2023,2023,2023,2023,2023,2023,2023,2023,2023,2023,2023,2023,2023,2023,2023,2023,2023,2023,2023,2023,2023,2023,2023,2023,2023,2023,2023,2023,2023,2023,2023,2023,2023,2023,2023,2023,2023,2023,2023,2023,2023,2023,2023,2023,2023,2023,2023,2023,2023,2023,2023,2023,2023,2023,2023,2023,2023,2023,2023,2023,2023,2023,2023,2023,2023,2023,2023,2023,2023,2023,2023,2023,2023,2023,2023,2023,2023,2023,2023,2023,2023,2023,2023,2023,2023,2023,2023,2023,2023,2023,2023,2023,2023,2023,2023,2023,2023,2023,2023,2023,2023,2023,2023,2023,2023,2023,2023,2023,2023,2023,2023,2023,2023,2023,2023,2023,2023,2023,2023,2023,2023,2023,2023,2023,2023,2023,2023,2023,2023,2023,2023,2023,2023,2023,2023,2023,2023,2023,2023,2023,2023,2022,2022,2022,2022,2022,2022,2022,2022,2022,2022,2022,2022,2022,2022,2022,2022,2022,2022,2022,2022,2022,2022,2022,2022,2022,2022,2022,2022,2022,2022,2022,2022,2022,2022,2022,2022,2022,2022,2022,2022,2022,2022,2022,2022,2022,2022,2022,2022,2022,2022,2022,2022,2022,2022,2022,2022,2022,2022,2022,2022,2022,2022,2022,2022,2022,2022,2022,2022,2022,2022,2022,2022,2022,2022,2022,2022,2022,2022,2022,2022,2022,2022,2022,2022,2022,2022,2022,2022,2022,2022,2022,2022,2022,2022,2022,2022,2022,2022,2022,2022,2022,2022,2022,2022,2022,2022,2022,2022,2022,2022,2022,2022,2022,2022,2022,2022,2022,2022,2022,2022,2022,2022,2022,2022,2022,2022,2022,2022,2022,2022,2022,2022,2022,2022,2022,2022,2022,2022,2022,2022,2022,2022,2022,2022,2022,2022,2022,2022,2022,2022,2022,2022,2022,2022,2022,2022,2022,2022,2022,2022,2022,2022,2022,2022,2022,2022,2022,2022,2022,2022,2021,2021,2021,2021,2021,2021,2021,2021,2021,2021,2021,2021,2021,2021,2021,2021,2021,2021,2021,2021,2021,2021,2021,2021,2021,2021,2021,2021,2021,2021,2021,2021,2021,2021,2021,2021,2021,2021,2021,2021,2021,2021,2021,2021,2021,2021,2021,2021,2021,2021,2021,2021,2021,2021,2021,2021,2021,2021,2021,2021,2021,2021,2021,2021,2021,2021,2021,2021,2021,2021,2021,2021,2021,2021,2021,2021,2021,2021,2021,2021,2021,2021,2021,2021,2021,2021,2021,2021,2021,2021,2021,2021,2021,2021,2021,2021,2021,2021,2021,2021,2021,2021,2021,2021,2021,2021,2021,2021,2021,2021,2021,2021,2021,2021,2021,2021,2021,2021,2021,2021,2021,2021,2021,2021,2021,2021,2021,2021,2021,2021,2021,2021,2021,2021,2021,2021,2021,2021,2021,2021,2021,2021,2021,2021,2021,2021,2021,2021,2021,2021,2021,2021,2021,2021,2021,2021,2021,2021,2021,2021,2021,2021,2021,2021,2021,2020,2020,2020,2020,2020,2020,2020,2020,2020,2020,2020,2020,2020,2020,2020,2020,2020,2020,2020,2020,2020,2020,2020,2020,2020,2020,2020,2020,2020,2020,2020,2020,2020,2020,2020,2020,2020,2020,2020,2020,2020,2020,2020,2020,2020,2020,2020,2020,2020,2020,2020,2020,2020,2020,2020,2020,2020,2020,2020,2020,2020,2020,2020,2020,2020,2020,2020,2020,2020,2020,2020,2020,2020,2020,2020,2020,2020,2020,2020,2020,2020,2020,2020,2020,2020,2020,2020,2020,2020,2020,2020,2020,2020,2020,2020,2020,2020,2020,2020,2020,2020,2020,2020,2020,2020,2020,2020,2020,2020,2020,2020,2020,2020,2020,2020,2020,2020,2020,2020,2020,2020,2020,2020,2020,2020,2020,2020,2020,2020,2020,2020,2020,2020,2020,2020,2020,2020,2020,2020,2020,2020,2020,2020,2020,2020,2020,2020,2020,2020,2020,2020,2020,2020,2020,2020,2020,2020,2020,2020,2020,2020,2020,2020,2020,2020,2019,2019,2019,2019,2019,2019,2019,2019,2019,2019,2019,2019,2019,2019,2019,2019,2019,2019,2019,2019,2019,2019,2019,2019,2019,2019,2019,2019,2019,2019,2019,2019,2019,2019,2019,2019,2019,2019,2019,2019,2019,2019,2019,2019,2019,2019,2019,2019,2019,2019,2019,2019,2019,2019,2019,2019,2019,2019,2019,2019,2019,2019,2019,2019,2019,2019,2019,2019,2019,2019,2019,2019,2019,2019,2019,2019,2019,2019,2019,2019,2019,2019,2019,2019,2019,2019,2019,2019,2019,2019,2019,2019,2019,2019,2019,2019,2019,2019,2019,2019,2019,2019,2019,2019,2019,2019,2019,2019,2019,2019,2019,2019,2019,2019,2019,2019,2019,2019,2019,2019,2019,2019,2019,2019,2019,2019,2019,2019,2019,2019,2019,2019,2019,2019,2019,2019,2019,2019,2019,2019,2019,2019,2019,2019,2019,2019,2019,2019,2019,2019,2019,2019,2019,2019,2019,2019,2019,2019,2019,2019,2019,2019,2019,2019,2019,2018,2018,2018,2018,2018,2018,2018,2018,2018,2018,2018,2018,2018,2018,2018,2018,2018,2018,2018,2018,2018,2018,2018,2018,2018,2018,2018,2018,2018,2018,2018,2018,2018,2018,2018,2018,2018,2018,2018,2018,2018,2018,2018,2018,2018,2018,2018,2018,2018,2018,2018,2018,2018,2018,2018,2018,2018,2018,2018,2018,2018,2018,2018,2018,2018,2018,2018,2018,2018,2018,2018,2018,2018,2018,2018,2018,2018,2018,2018,2018,2018,2018,2018,2018,2018,2018,2018,2018,2018,2018,2018,2018,2018,2018,2018,2018,2018,2018,2018,2018,2018,2018,2018,2018,2018,2018,2018,2018,2018,2018,2018,2018,2018,2018,2018,2018,2018,2018,2018,2018,2018,2018,2018,2018,2018,2018,2018,2018,2018,2018,2018,2018,2018,2018,2018,2018,2018,2018,2018,2018,2018,2018,2018,2018,2018,2018,2018,2018,2018,2018,2018,2018,2018,2018,2018,2018,2018,2018,2018,2018,2018,2018,2018,2018,2018],\"coloraxis\":\"coloraxis\",\"pattern\":{\"shape\":\"\"}},\"name\":\"\",\"offsetgroup\":\"\",\"orientation\":\"v\",\"showlegend\":false,\"textposition\":\"auto\",\"x\":[\"TOR\",\"TOR\",\"TOR\",\"TOR\",\"TOR\",\"TOT\",\"TOT\",\"TOT\",\"TOT\",\"TOT\",\"STL\",\"STL\",\"STL\",\"STL\",\"STL\",\"MIN\",\"MIN\",\"MIN\",\"MIN\",\"MIN\",\"NSH\",\"NSH\",\"NSH\",\"NSH\",\"NSH\",\"SJS\",\"SJS\",\"SJS\",\"SJS\",\"SJS\",\"CAR\",\"CAR\",\"CAR\",\"CAR\",\"CAR\",\"NYI\",\"NYI\",\"NYI\",\"NYI\",\"NYI\",\"WSH\",\"WSH\",\"WSH\",\"WSH\",\"WSH\",\"MTL\",\"MTL\",\"MTL\",\"MTL\",\"MTL\",\"PHI\",\"PHI\",\"PHI\",\"PHI\",\"PHI\",\"VEG\",\"VEG\",\"VEG\",\"VEG\",\"VEG\",\"VAN\",\"VAN\",\"VAN\",\"VAN\",\"VAN\",\"CHI\",\"CHI\",\"CHI\",\"CHI\",\"CHI\",\"LAK\",\"LAK\",\"LAK\",\"LAK\",\"LAK\",\"CGY\",\"CGY\",\"CGY\",\"CGY\",\"CGY\",\"Tm\",\"Tm\",\"Tm\",\"Tm\",\"Tm\",\"CBJ\",\"CBJ\",\"CBJ\",\"CBJ\",\"CBJ\",\"WPG\",\"WPG\",\"WPG\",\"WPG\",\"WPG\",\"PIT\",\"PIT\",\"PIT\",\"PIT\",\"PIT\",\"BUF\",\"BUF\",\"BUF\",\"BUF\",\"BUF\",\"NJD\",\"NJD\",\"NJD\",\"NJD\",\"NJD\",\"FLA\",\"FLA\",\"FLA\",\"FLA\",\"FLA\",\"TBL\",\"TBL\",\"TBL\",\"TBL\",\"TBL\",\"EDM\",\"EDM\",\"EDM\",\"EDM\",\"EDM\",\"OTT\",\"OTT\",\"OTT\",\"OTT\",\"OTT\",\"ANA\",\"ANA\",\"ANA\",\"ANA\",\"ANA\",\"SEA\",\"SEA\",\"SEA\",\"SEA\",\"SEA\",\"DAL\",\"DAL\",\"DAL\",\"DAL\",\"DAL\",\"BOS\",\"BOS\",\"BOS\",\"BOS\",\"BOS\",\"DET\",\"DET\",\"DET\",\"DET\",\"DET\",\"ARI\",\"ARI\",\"ARI\",\"ARI\",\"ARI\",\"NYR\",\"NYR\",\"NYR\",\"NYR\",\"NYR\",\"COL\",\"COL\",\"COL\",\"COL\",\"COL\",\"TOR\",\"TOR\",\"TOR\",\"TOR\",\"TOR\",\"FLA\",\"FLA\",\"FLA\",\"FLA\",\"FLA\",\"MIN\",\"MIN\",\"MIN\",\"MIN\",\"MIN\",\"OTT\",\"OTT\",\"OTT\",\"OTT\",\"OTT\",\"BOS\",\"BOS\",\"BOS\",\"BOS\",\"BOS\",\"CAR\",\"CAR\",\"CAR\",\"CAR\",\"CAR\",\"NYI\",\"NYI\",\"NYI\",\"NYI\",\"NYI\",\"WSH\",\"WSH\",\"WSH\",\"WSH\",\"WSH\",\"PHI\",\"PHI\",\"PHI\",\"PHI\",\"PHI\",\"TOT\",\"TOT\",\"TOT\",\"TOT\",\"TOT\",\"VEG\",\"VEG\",\"VEG\",\"VEG\",\"VEG\",\"MTL\",\"MTL\",\"MTL\",\"MTL\",\"MTL\",\"LAK\",\"LAK\",\"LAK\",\"LAK\",\"LAK\",\"CGY\",\"CGY\",\"CGY\",\"CGY\",\"CGY\",\"PIT\",\"PIT\",\"PIT\",\"PIT\",\"PIT\",\"SEA\",\"SEA\",\"SEA\",\"SEA\",\"SEA\",\"WPG\",\"WPG\",\"WPG\",\"WPG\",\"WPG\",\"EDM\",\"EDM\",\"EDM\",\"EDM\",\"EDM\",\"Tm\",\"Tm\",\"Tm\",\"Tm\",\"Tm\",\"BUF\",\"BUF\",\"BUF\",\"BUF\",\"BUF\",\"ANA\",\"ANA\",\"ANA\",\"ANA\",\"ANA\",\"COL\",\"COL\",\"COL\",\"COL\",\"COL\",\"NJD\",\"NJD\",\"NJD\",\"NJD\",\"NJD\",\"VAN\",\"VAN\",\"VAN\",\"VAN\",\"VAN\",\"SJS\",\"SJS\",\"SJS\",\"SJS\",\"SJS\",\"STL\",\"STL\",\"STL\",\"STL\",\"STL\",\"DET\",\"DET\",\"DET\",\"DET\",\"DET\",\"TBL\",\"TBL\",\"TBL\",\"TBL\",\"TBL\",\"NYR\",\"NYR\",\"NYR\",\"NYR\",\"NYR\",\"CBJ\",\"CBJ\",\"CBJ\",\"CBJ\",\"CBJ\",\"ARI\",\"ARI\",\"ARI\",\"ARI\",\"ARI\",\"CHI\",\"CHI\",\"CHI\",\"CHI\",\"CHI\",\"DAL\",\"DAL\",\"DAL\",\"DAL\",\"DAL\",\"NSH\",\"NSH\",\"NSH\",\"NSH\",\"NSH\",\"OTT\",\"OTT\",\"OTT\",\"OTT\",\"OTT\",\"FLA\",\"FLA\",\"FLA\",\"FLA\",\"FLA\",\"MIN\",\"MIN\",\"MIN\",\"MIN\",\"MIN\",\"TOR\",\"TOR\",\"TOR\",\"TOR\",\"TOR\",\"ANA\",\"ANA\",\"ANA\",\"ANA\",\"ANA\",\"BOS\",\"BOS\",\"BOS\",\"BOS\",\"BOS\",\"CAR\",\"CAR\",\"CAR\",\"CAR\",\"CAR\",\"NYI\",\"NYI\",\"NYI\",\"NYI\",\"NYI\",\"NSH\",\"NSH\",\"NSH\",\"NSH\",\"NSH\",\"PHI\",\"PHI\",\"PHI\",\"PHI\",\"PHI\",\"LAK\",\"LAK\",\"LAK\",\"LAK\",\"LAK\",\"TOT\",\"TOT\",\"TOT\",\"TOT\",\"TOT\",\"MTL\",\"MTL\",\"MTL\",\"MTL\",\"MTL\",\"CGY\",\"CGY\",\"CGY\",\"CGY\",\"CGY\",\"Tm\",\"Tm\",\"Tm\",\"Tm\",\"Tm\",\"PIT\",\"PIT\",\"PIT\",\"PIT\",\"PIT\",\"WPG\",\"WPG\",\"WPG\",\"WPG\",\"WPG\",\"EDM\",\"EDM\",\"EDM\",\"EDM\",\"EDM\",\"BUF\",\"BUF\",\"BUF\",\"BUF\",\"BUF\",\"CBJ\",\"CBJ\",\"CBJ\",\"CBJ\",\"CBJ\",\"WSH\",\"WSH\",\"WSH\",\"WSH\",\"WSH\",\"NJD\",\"NJD\",\"NJD\",\"NJD\",\"NJD\",\"VAN\",\"VAN\",\"VAN\",\"VAN\",\"VAN\",\"SJS\",\"SJS\",\"SJS\",\"SJS\",\"SJS\",\"STL\",\"STL\",\"STL\",\"STL\",\"STL\",\"TBL\",\"TBL\",\"TBL\",\"TBL\",\"TBL\",\"NYR\",\"NYR\",\"NYR\",\"NYR\",\"NYR\",\"CHI\",\"CHI\",\"CHI\",\"CHI\",\"CHI\",\"COL\",\"COL\",\"COL\",\"COL\",\"COL\",\"DAL\",\"DAL\",\"DAL\",\"DAL\",\"DAL\",\"DET\",\"DET\",\"DET\",\"DET\",\"DET\",\"ARI\",\"ARI\",\"ARI\",\"ARI\",\"ARI\",\"VEG\",\"VEG\",\"VEG\",\"VEG\",\"VEG\",\"DET\",\"DET\",\"DET\",\"DET\",\"DET\",\"TOR\",\"TOR\",\"TOR\",\"TOR\",\"TOR\",\"OTT\",\"OTT\",\"OTT\",\"OTT\",\"OTT\",\"FLA\",\"FLA\",\"FLA\",\"FLA\",\"FLA\",\"TOT\",\"TOT\",\"TOT\",\"TOT\",\"TOT\",\"PIT\",\"PIT\",\"PIT\",\"PIT\",\"PIT\",\"ANA\",\"ANA\",\"ANA\",\"ANA\",\"ANA\",\"CAR\",\"CAR\",\"CAR\",\"CAR\",\"CAR\",\"MTL\",\"MTL\",\"MTL\",\"MTL\",\"MTL\",\"LAK\",\"LAK\",\"LAK\",\"LAK\",\"LAK\",\"NJD\",\"NJD\",\"NJD\",\"NJD\",\"NJD\",\"CBJ\",\"CBJ\",\"CBJ\",\"CBJ\",\"CBJ\",\"NYR\",\"NYR\",\"NYR\",\"NYR\",\"NYR\",\"CGY\",\"CGY\",\"CGY\",\"CGY\",\"CGY\",\"PHI\",\"PHI\",\"PHI\",\"PHI\",\"PHI\",\"WPG\",\"WPG\",\"WPG\",\"WPG\",\"WPG\",\"EDM\",\"EDM\",\"EDM\",\"EDM\",\"EDM\",\"Tm\",\"Tm\",\"Tm\",\"Tm\",\"Tm\",\"NSH\",\"NSH\",\"NSH\",\"NSH\",\"NSH\",\"BUF\",\"BUF\",\"BUF\",\"BUF\",\"BUF\",\"BOS\",\"BOS\",\"BOS\",\"BOS\",\"BOS\",\"WSH\",\"WSH\",\"WSH\",\"WSH\",\"WSH\",\"VAN\",\"VAN\",\"VAN\",\"VAN\",\"VAN\",\"NYI\",\"NYI\",\"NYI\",\"NYI\",\"NYI\",\"STL\",\"STL\",\"STL\",\"STL\",\"STL\",\"COL\",\"COL\",\"COL\",\"COL\",\"COL\",\"CHI\",\"CHI\",\"CHI\",\"CHI\",\"CHI\",\"DAL\",\"DAL\",\"DAL\",\"DAL\",\"DAL\",\"SJS\",\"SJS\",\"SJS\",\"SJS\",\"SJS\",\"VEG\",\"VEG\",\"VEG\",\"VEG\",\"VEG\",\"TBL\",\"TBL\",\"TBL\",\"TBL\",\"TBL\",\"MIN\",\"MIN\",\"MIN\",\"MIN\",\"MIN\",\"ARI\",\"ARI\",\"ARI\",\"ARI\",\"ARI\",\"DET\",\"DET\",\"DET\",\"DET\",\"DET\",\"TOT\",\"TOT\",\"TOT\",\"TOT\",\"TOT\",\"ANA\",\"ANA\",\"ANA\",\"ANA\",\"ANA\",\"MIN\",\"MIN\",\"MIN\",\"MIN\",\"MIN\",\"OTT\",\"OTT\",\"OTT\",\"OTT\",\"OTT\",\"BOS\",\"BOS\",\"BOS\",\"BOS\",\"BOS\",\"MTL\",\"MTL\",\"MTL\",\"MTL\",\"MTL\",\"NJD\",\"NJD\",\"NJD\",\"NJD\",\"NJD\",\"COL\",\"COL\",\"COL\",\"COL\",\"COL\",\"CAR\",\"CAR\",\"CAR\",\"CAR\",\"CAR\",\"LAK\",\"LAK\",\"LAK\",\"LAK\",\"LAK\",\"CBJ\",\"CBJ\",\"CBJ\",\"CBJ\",\"CBJ\",\"NYR\",\"NYR\",\"NYR\",\"NYR\",\"NYR\",\"CGY\",\"CGY\",\"CGY\",\"CGY\",\"CGY\",\"CHI\",\"CHI\",\"CHI\",\"CHI\",\"CHI\",\"WPG\",\"WPG\",\"WPG\",\"WPG\",\"WPG\",\"VAN\",\"VAN\",\"VAN\",\"VAN\",\"VAN\",\"ARI\",\"ARI\",\"ARI\",\"ARI\",\"ARI\",\"Tm\",\"Tm\",\"Tm\",\"Tm\",\"Tm\",\"NSH\",\"NSH\",\"NSH\",\"NSH\",\"NSH\",\"PIT\",\"PIT\",\"PIT\",\"PIT\",\"PIT\",\"PHI\",\"PHI\",\"PHI\",\"PHI\",\"PHI\",\"WSH\",\"WSH\",\"WSH\",\"WSH\",\"WSH\",\"NYI\",\"NYI\",\"NYI\",\"NYI\",\"NYI\",\"STL\",\"STL\",\"STL\",\"STL\",\"STL\",\"FLA\",\"FLA\",\"FLA\",\"FLA\",\"FLA\",\"DAL\",\"DAL\",\"DAL\",\"DAL\",\"DAL\",\"BUF\",\"BUF\",\"BUF\",\"BUF\",\"BUF\",\"VEG\",\"VEG\",\"VEG\",\"VEG\",\"VEG\",\"EDM\",\"EDM\",\"EDM\",\"EDM\",\"EDM\",\"SJS\",\"SJS\",\"SJS\",\"SJS\",\"SJS\",\"TOR\",\"TOR\",\"TOR\",\"TOR\",\"TOR\",\"TBL\",\"TBL\",\"TBL\",\"TBL\",\"TBL\",\"DET\",\"DET\",\"DET\",\"DET\",\"DET\",\"TOT\",\"TOT\",\"TOT\",\"TOT\",\"TOT\",\"NSH\",\"NSH\",\"NSH\",\"NSH\",\"NSH\",\"EDM\",\"EDM\",\"EDM\",\"EDM\",\"EDM\",\"BOS\",\"BOS\",\"BOS\",\"BOS\",\"BOS\",\"CAR\",\"CAR\",\"CAR\",\"CAR\",\"CAR\",\"NYI\",\"NYI\",\"NYI\",\"NYI\",\"NYI\",\"PHI\",\"PHI\",\"PHI\",\"PHI\",\"PHI\",\"COL\",\"COL\",\"COL\",\"COL\",\"COL\",\"MTL\",\"MTL\",\"MTL\",\"MTL\",\"MTL\",\"LAK\",\"LAK\",\"LAK\",\"LAK\",\"LAK\",\"CBJ\",\"CBJ\",\"CBJ\",\"CBJ\",\"CBJ\",\"NYR\",\"NYR\",\"NYR\",\"NYR\",\"NYR\",\"CGY\",\"CGY\",\"CGY\",\"CGY\",\"CGY\",\"CHI\",\"CHI\",\"CHI\",\"CHI\",\"CHI\",\"BUF\",\"BUF\",\"BUF\",\"BUF\",\"BUF\",\"VAN\",\"VAN\",\"VAN\",\"VAN\",\"VAN\",\"ARI\",\"ARI\",\"ARI\",\"ARI\",\"ARI\",\"PIT\",\"PIT\",\"PIT\",\"PIT\",\"PIT\",\"WPG\",\"WPG\",\"WPG\",\"WPG\",\"WPG\",\"Tm\",\"Tm\",\"Tm\",\"Tm\",\"Tm\",\"WSH\",\"WSH\",\"WSH\",\"WSH\",\"WSH\",\"FLA\",\"FLA\",\"FLA\",\"FLA\",\"FLA\",\"STL\",\"STL\",\"STL\",\"STL\",\"STL\",\"ANA\",\"ANA\",\"ANA\",\"ANA\",\"ANA\",\"VEG\",\"VEG\",\"VEG\",\"VEG\",\"VEG\",\"MIN\",\"MIN\",\"MIN\",\"MIN\",\"MIN\",\"DAL\",\"DAL\",\"DAL\",\"DAL\",\"DAL\",\"OTT\",\"OTT\",\"OTT\",\"OTT\",\"OTT\",\"TOR\",\"TOR\",\"TOR\",\"TOR\",\"TOR\",\"TBL\",\"TBL\",\"TBL\",\"TBL\",\"TBL\",\"NJD\",\"NJD\",\"NJD\",\"NJD\",\"NJD\",\"SJS\",\"SJS\",\"SJS\",\"SJS\",\"SJS\"],\"xaxis\":\"x\",\"y\":[4047.0,4045.0,3644.0,3069.0,2326.0,4026.0,3832.0,2417.0,2136.0,2036.0,3736.0,2641.0,2144.0,1918.0,1847.0,4035.0,3132.0,2338.0,2245.0,1919.0,2234.0,1923.0,1841.0,1810.0,1726.0,3121.0,2740.0,2576.0,2241.0,1532.0,3631.0,2843.0,2332.0,1843.0,1825.0,3639.0,2822.0,2113.0,1617.0,1437.0,4233.0,2342.0,1916.0,1522.0,1315.0,2640.0,2610.0,2111.0,1424.0,1420.0,3130.0,2722.0,1927.0,1836.0,1825.0,2829.0,2739.0,2630.0,1721.0,1649.0,3963.0,3935.0,3250.0,3123.0,1837.0,2020.0,2017.0,1831.0,1629.0,1516.0,4126.0,2846.0,2633.0,2349.0,2318.0,3439.0,2432.0,2242.0,1937.0,1827.0,0.0,0.0,0.0,0.0,0.0,2619.0,2230.0,2153.0,1624.0,1212.0,4226.0,3149.0,2736.0,1660.0,1639.0,3637.0,3360.0,2832.0,2756.0,2721.0,4747.0,3643.0,3547.0,3137.0,2812.0,4356.0,3241.0,3149.0,2729.0,2252.0,4231.0,4069.0,3136.0,2355.0,1726.0,5144.0,3450.0,3083.0,3034.0,2737.0,6489.0,5276.0,3767.0,3647.0,1612.0,3951.0,3548.0,3544.0,2739.0,2240.0,2342.0,2338.0,2219.0,2216.0,1726.0,4030.0,2433.0,2125.0,2119.0,2043.0,4663.0,3738.0,3345.0,2849.0,2417.0,6152.0,2731.0,2723.0,2146.0,2136.0,3247.0,2432.0,2025.0,1728.0,1513.0,3749.0,2421.0,2236.0,1924.0,1519.0,3952.0,3618.0,2963.0,2242.0,2223.0,5550.0,4269.0,2130.0,1749.0,1735.0,6046.0,3562.0,3446.0,2749.0,2340.0,3949.0,3349.0,3127.0,3085.0,2821.0,4761.0,3431.0,3352.0,2623.0,2455.0,3520.0,3037.0,2236.0,1814.0,1727.0,4037.0,3248.0,2540.0,2517.0,2041.0,3744.0,3039.0,2420.0,2243.0,2130.0,3722.0,2818.0,1821.0,1544.0,1520.0,5040.0,2454.0,2428.0,1924.0,1754.0,2414.0,2327.0,1824.0,1717.0,1636.0,2519.0,2144.0,2132.0,2029.0,2021.0,3036.0,2143.0,2023.0,1918.0,1622.0,2320.0,2140.0,1913.0,1520.0,1316.0,3519.0,2724.0,2029.0,1948.0,1731.0,4262.0,4240.0,4075.0,3520.0,1814.0,4044.0,3153.0,2434.0,2022.0,1926.0,2723.0,2127.0,2123.0,1615.0,1214.0,4746.0,2941.0,2832.0,2827.0,2124.0,5555.0,4479.0,2727.0,2217.0,2021.0,0.0,0.0,0.0,0.0,0.0,3830.0,3330.0,2124.0,2029.0,1340.0,3730.0,2338.0,1923.0,1613.0,1612.0,3656.0,3256.0,3029.0,2859.0,2858.0,2647.0,2630.0,2422.0,2139.0,1725.0,3267.0,3236.0,3121.0,2323.0,1933.0,3541.0,3034.0,2333.0,1610.0,1210.0,3448.0,3046.0,2748.0,2730.0,2634.0,3138.0,3032.0,2334.0,1713.0,1521.0,4264.0,2830.0,2544.0,2534.0,2217.0,5225.0,2952.0,2274.0,2133.0,1912.0,2829.0,2630.0,2321.0,2223.0,1835.0,2835.0,2336.0,2014.0,1718.0,1437.0,4137.0,2666.0,2226.0,2116.0,1517.0,4138.0,3735.0,2754.0,2425.0,1828.0,4343.0,4242.0,2637.0,2417.0,2373.0,2114.0,1719.0,1718.0,1717.0,1217.0,2632.0,2041.0,1818.0,1712.0,1418.0,2724.0,2020.0,1911.0,1124.0,1115.0,4125.0,2047.0,1931.0,1725.0,1518.0,1617.0,919.0,713.0,518.0,512.0,2940.0,2325.0,2028.0,1511.0,1319.0,2433.0,2014.0,1726.0,1622.0,1527.0,1815.0,1728.0,1617.0,1513.0,1414.0,1315.0,1314.0,1220.0,1111.0,1015.0,2018.0,1823.0,1726.0,1627.0,1219.0,1714.0,1415.0,1337.0,1317.0,1013.0,1917.0,1713.0,1514.0,1212.0,1113.0,2816.0,1526.0,1230.0,1020.0,912.0,1930.0,1928.0,1814.0,1627.0,1111.0,0.0,0.0,0.0,0.0,0.0,2438.0,2334.0,2220.0,1418.0,1119.0,2624.0,2142.0,2125.0,1531.0,1524.0,3372.0,3153.0,1620.0,1619.0,1510.0,2515.0,1319.0,1012.0,518.0,414.0,1826.0,1519.0,1222.0,1011.0,915.0,2418.0,2221.0,1538.0,1320.0,1114.0,1718.0,1614.0,1120.0,817.0,723.0,2326.0,1920.0,1531.0,1314.0,1011.0,2227.0,1924.0,1714.0,1219.0,1216.0,2430.0,1939.0,1719.0,1620.0,1421.0,2325.0,1719.0,1717.0,1531.0,1518.0,2426.0,2028.0,2010.0,1741.0,1435.0,3224.0,1721.0,1551.0,1413.0,915.0,3036.0,2045.0,2032.0,1925.0,1714.0,2526.0,1728.0,1528.0,1218.0,1124.0,1110.0,914.0,613.0,224.0,119.0,2023.0,1823.0,1714.0,1421.0,1227.0,2427.0,2140.0,1826.0,1815.0,1425.0,2127.0,1934.0,1622.0,1417.0,1014.0,4733.0,3128.0,2634.0,2116.0,1651.0,2416.0,2317.0,2123.0,1627.0,1419.0,2930.0,2522.0,2355.0,2042.0,1914.0,2616.0,2420.0,2111.0,2021.0,1714.0,2729.0,2549.0,2023.0,1715.0,1631.0,2617.0,2118.0,1527.0,1329.0,920.0,3828.0,2437.0,1620.0,1548.0,1426.0,2239.0,2221.0,1727.0,1614.0,1521.0,2141.0,1816.0,1726.0,1718.0,1710.0,2520.0,2110.0,1616.0,1422.0,1331.0,2115.0,2021.0,1831.0,1527.0,1214.0,4134.0,3263.0,2421.0,1841.0,1630.0,2925.0,2338.0,2226.0,1840.0,1715.0,2437.0,2318.0,2237.0,2132.0,1921.0,3835.0,2944.0,2835.0,2533.0,2243.0,4367.0,3463.0,2239.0,1912.0,1519.0,0.0,0.0,0.0,0.0,0.0,2127.0,1817.0,1813.0,1713.0,1649.0,3642.0,2228.0,2022.0,921.0,911.0,4847.0,3125.0,2859.0,1916.0,1621.0,4819.0,2623.0,2527.0,2123.0,1933.0,2745.0,2739.0,2231.0,2124.0,1818.0,2628.0,2023.0,1941.0,1821.0,1624.0,2535.0,2533.0,2235.0,1636.0,1614.0,3558.0,2123.0,2025.0,1922.0,1917.0,3351.0,3016.0,2112.0,1842.0,1827.0,1920.0,1914.0,1733.0,1519.0,1417.0,2621.0,2227.0,1623.0,1620.0,1419.0,3234.0,2727.0,2225.0,2142.0,1721.0,3352.0,2937.0,2623.0,2539.0,1724.0,2521.0,2331.0,1928.0,1522.0,1516.0,2217.0,1820.0,1727.0,1718.0,1510.0,3241.0,3024.0,2523.0,2126.0,1633.0,3340.0,3139.0,2630.0,2330.0,2238.0,2419.0,1825.0,1824.0,1434.0,922.0,2833.0,2230.0,2121.0,1534.0,1429.0,2834.0,2731.0,2223.0,2222.0,1527.0,3843.0,3664.0,3247.0,2715.0,2053.0,3319.0,2844.0,2533.0,1928.0,1835.0,2723.0,2214.0,1927.0,1730.0,1312.0,4158.0,3441.0,3156.0,2326.0,1616.0,3053.0,2330.0,2155.0,2017.0,1821.0,2238.0,2229.0,1618.0,1518.0,1321.0,4128.0,2859.0,2734.0,2720.0,2313.0,3044.0,2824.0,2117.0,1815.0,1718.0,3663.0,3448.0,3443.0,2751.0,2126.0,4466.0,4135.0,3546.0,2324.0,1743.0,3846.0,3432.0,3020.0,2116.0,2071.0,2838.0,2734.0,2630.0,1510.0,1210.0,1922.0,1623.0,1520.0,1433.0,1430.0,0.0,0.0,0.0,0.0,0.0,3414.0,2822.0,2117.0,1718.0,1541.0,4036.0,3565.0,2755.0,2151.0,1819.0,3343.0,2721.0,2425.0,2263.0,2046.0,5138.0,2529.0,2423.0,2252.0,2224.0,2823.0,2528.0,2013.0,1918.0,1844.0,3335.0,2849.0,2323.0,1737.0,1417.0,3634.0,3561.0,3062.0,2842.0,2415.0,3347.0,2943.0,2726.0,1515.0,1221.0,4023.0,2854.0,2243.0,1615.0,1420.0,2534.0,2432.0,2219.0,2218.0,2032.0,5055.0,4175.0,2841.0,2216.0,1511.0,3826.0,3539.0,3036.0,3026.0,2743.0,4741.0,3736.0,2668.0,2120.0,2052.0,4553.0,4187.0,4151.0,2918.0,2226.0,2424.0,2119.0,1647.0,1617.0,1617.0,2925.0,2732.0,2432.0,2426.0,2335.0,2932.0,2638.0,2526.0,2325.0,1643.0,4167.0,2545.0,2424.0,1416.0,1321.0,3545.0,3451.0,3033.0,1727.0,1631.0,2936.0,2425.0,2341.0,1927.0,1635.0,4022.0,3747.0,2534.0,2263.0,2115.0,3468.0,3145.0,2423.0,2422.0,2065.0,3958.0,2955.0,2537.0,1924.0,1621.0,3123.0,2015.0,1932.0,1720.0,1333.0,3557.0,2833.0,2423.0,1621.0,1525.0,2755.0,2422.0,2028.0,1911.0,1641.0,2720.0,2519.0,1810.0,1711.0,1637.0,3133.0,2460.0,2425.0,2120.0,1727.0,2824.0,2749.0,2131.0,2032.0,2011.0,2539.0,2525.0,2437.0,2020.0,1618.0,2926.0,2332.0,2222.0,1724.0,1415.0,2342.0,1713.0,1522.0,1518.0,1442.0,4256.0,3458.0,2960.0,2920.0,2226.0,4426.0,3126.0,2931.0,2368.0,2337.0,0.0,0.0,0.0,0.0,0.0,4938.0,2756.0,2150.0,1829.0,1820.0,3144.0,2837.0,2751.0,2742.0,1930.0,3333.0,2842.0,2435.0,1539.0,1531.0,3435.0,2018.0,2016.0,1732.0,1723.0,4335.0,2926.0,2748.0,2519.0,2238.0,4234.0,3331.0,2146.0,1814.0,1436.0,4038.0,3643.0,2745.0,1915.0,1716.0,2326.0,2318.0,2234.0,2042.0,1820.0,3618.0,3429.0,3223.0,2720.0,2247.0,3961.0,3234.0,2759.0,2539.0,2129.0,3954.0,2420.0,2032.0,1913.0,1322.0,3427.0,2244.0,2224.0,2115.0,1723.0],\"yaxis\":\"y\",\"type\":\"bar\"}],                        {\"template\":{\"data\":{\"histogram2dcontour\":[{\"type\":\"histogram2dcontour\",\"colorbar\":{\"outlinewidth\":0,\"ticks\":\"\"},\"colorscale\":[[0.0,\"#0d0887\"],[0.1111111111111111,\"#46039f\"],[0.2222222222222222,\"#7201a8\"],[0.3333333333333333,\"#9c179e\"],[0.4444444444444444,\"#bd3786\"],[0.5555555555555556,\"#d8576b\"],[0.6666666666666666,\"#ed7953\"],[0.7777777777777778,\"#fb9f3a\"],[0.8888888888888888,\"#fdca26\"],[1.0,\"#f0f921\"]]}],\"choropleth\":[{\"type\":\"choropleth\",\"colorbar\":{\"outlinewidth\":0,\"ticks\":\"\"}}],\"histogram2d\":[{\"type\":\"histogram2d\",\"colorbar\":{\"outlinewidth\":0,\"ticks\":\"\"},\"colorscale\":[[0.0,\"#0d0887\"],[0.1111111111111111,\"#46039f\"],[0.2222222222222222,\"#7201a8\"],[0.3333333333333333,\"#9c179e\"],[0.4444444444444444,\"#bd3786\"],[0.5555555555555556,\"#d8576b\"],[0.6666666666666666,\"#ed7953\"],[0.7777777777777778,\"#fb9f3a\"],[0.8888888888888888,\"#fdca26\"],[1.0,\"#f0f921\"]]}],\"heatmap\":[{\"type\":\"heatmap\",\"colorbar\":{\"outlinewidth\":0,\"ticks\":\"\"},\"colorscale\":[[0.0,\"#0d0887\"],[0.1111111111111111,\"#46039f\"],[0.2222222222222222,\"#7201a8\"],[0.3333333333333333,\"#9c179e\"],[0.4444444444444444,\"#bd3786\"],[0.5555555555555556,\"#d8576b\"],[0.6666666666666666,\"#ed7953\"],[0.7777777777777778,\"#fb9f3a\"],[0.8888888888888888,\"#fdca26\"],[1.0,\"#f0f921\"]]}],\"heatmapgl\":[{\"type\":\"heatmapgl\",\"colorbar\":{\"outlinewidth\":0,\"ticks\":\"\"},\"colorscale\":[[0.0,\"#0d0887\"],[0.1111111111111111,\"#46039f\"],[0.2222222222222222,\"#7201a8\"],[0.3333333333333333,\"#9c179e\"],[0.4444444444444444,\"#bd3786\"],[0.5555555555555556,\"#d8576b\"],[0.6666666666666666,\"#ed7953\"],[0.7777777777777778,\"#fb9f3a\"],[0.8888888888888888,\"#fdca26\"],[1.0,\"#f0f921\"]]}],\"contourcarpet\":[{\"type\":\"contourcarpet\",\"colorbar\":{\"outlinewidth\":0,\"ticks\":\"\"}}],\"contour\":[{\"type\":\"contour\",\"colorbar\":{\"outlinewidth\":0,\"ticks\":\"\"},\"colorscale\":[[0.0,\"#0d0887\"],[0.1111111111111111,\"#46039f\"],[0.2222222222222222,\"#7201a8\"],[0.3333333333333333,\"#9c179e\"],[0.4444444444444444,\"#bd3786\"],[0.5555555555555556,\"#d8576b\"],[0.6666666666666666,\"#ed7953\"],[0.7777777777777778,\"#fb9f3a\"],[0.8888888888888888,\"#fdca26\"],[1.0,\"#f0f921\"]]}],\"surface\":[{\"type\":\"surface\",\"colorbar\":{\"outlinewidth\":0,\"ticks\":\"\"},\"colorscale\":[[0.0,\"#0d0887\"],[0.1111111111111111,\"#46039f\"],[0.2222222222222222,\"#7201a8\"],[0.3333333333333333,\"#9c179e\"],[0.4444444444444444,\"#bd3786\"],[0.5555555555555556,\"#d8576b\"],[0.6666666666666666,\"#ed7953\"],[0.7777777777777778,\"#fb9f3a\"],[0.8888888888888888,\"#fdca26\"],[1.0,\"#f0f921\"]]}],\"mesh3d\":[{\"type\":\"mesh3d\",\"colorbar\":{\"outlinewidth\":0,\"ticks\":\"\"}}],\"scatter\":[{\"fillpattern\":{\"fillmode\":\"overlay\",\"size\":10,\"solidity\":0.2},\"type\":\"scatter\"}],\"parcoords\":[{\"type\":\"parcoords\",\"line\":{\"colorbar\":{\"outlinewidth\":0,\"ticks\":\"\"}}}],\"scatterpolargl\":[{\"type\":\"scatterpolargl\",\"marker\":{\"colorbar\":{\"outlinewidth\":0,\"ticks\":\"\"}}}],\"bar\":[{\"error_x\":{\"color\":\"#2a3f5f\"},\"error_y\":{\"color\":\"#2a3f5f\"},\"marker\":{\"line\":{\"color\":\"#E5ECF6\",\"width\":0.5},\"pattern\":{\"fillmode\":\"overlay\",\"size\":10,\"solidity\":0.2}},\"type\":\"bar\"}],\"scattergeo\":[{\"type\":\"scattergeo\",\"marker\":{\"colorbar\":{\"outlinewidth\":0,\"ticks\":\"\"}}}],\"scatterpolar\":[{\"type\":\"scatterpolar\",\"marker\":{\"colorbar\":{\"outlinewidth\":0,\"ticks\":\"\"}}}],\"histogram\":[{\"marker\":{\"pattern\":{\"fillmode\":\"overlay\",\"size\":10,\"solidity\":0.2}},\"type\":\"histogram\"}],\"scattergl\":[{\"type\":\"scattergl\",\"marker\":{\"colorbar\":{\"outlinewidth\":0,\"ticks\":\"\"}}}],\"scatter3d\":[{\"type\":\"scatter3d\",\"line\":{\"colorbar\":{\"outlinewidth\":0,\"ticks\":\"\"}},\"marker\":{\"colorbar\":{\"outlinewidth\":0,\"ticks\":\"\"}}}],\"scattermapbox\":[{\"type\":\"scattermapbox\",\"marker\":{\"colorbar\":{\"outlinewidth\":0,\"ticks\":\"\"}}}],\"scatterternary\":[{\"type\":\"scatterternary\",\"marker\":{\"colorbar\":{\"outlinewidth\":0,\"ticks\":\"\"}}}],\"scattercarpet\":[{\"type\":\"scattercarpet\",\"marker\":{\"colorbar\":{\"outlinewidth\":0,\"ticks\":\"\"}}}],\"carpet\":[{\"aaxis\":{\"endlinecolor\":\"#2a3f5f\",\"gridcolor\":\"white\",\"linecolor\":\"white\",\"minorgridcolor\":\"white\",\"startlinecolor\":\"#2a3f5f\"},\"baxis\":{\"endlinecolor\":\"#2a3f5f\",\"gridcolor\":\"white\",\"linecolor\":\"white\",\"minorgridcolor\":\"white\",\"startlinecolor\":\"#2a3f5f\"},\"type\":\"carpet\"}],\"table\":[{\"cells\":{\"fill\":{\"color\":\"#EBF0F8\"},\"line\":{\"color\":\"white\"}},\"header\":{\"fill\":{\"color\":\"#C8D4E3\"},\"line\":{\"color\":\"white\"}},\"type\":\"table\"}],\"barpolar\":[{\"marker\":{\"line\":{\"color\":\"#E5ECF6\",\"width\":0.5},\"pattern\":{\"fillmode\":\"overlay\",\"size\":10,\"solidity\":0.2}},\"type\":\"barpolar\"}],\"pie\":[{\"automargin\":true,\"type\":\"pie\"}]},\"layout\":{\"autotypenumbers\":\"strict\",\"colorway\":[\"#636efa\",\"#EF553B\",\"#00cc96\",\"#ab63fa\",\"#FFA15A\",\"#19d3f3\",\"#FF6692\",\"#B6E880\",\"#FF97FF\",\"#FECB52\"],\"font\":{\"color\":\"#2a3f5f\"},\"hovermode\":\"closest\",\"hoverlabel\":{\"align\":\"left\"},\"paper_bgcolor\":\"white\",\"plot_bgcolor\":\"#E5ECF6\",\"polar\":{\"bgcolor\":\"#E5ECF6\",\"angularaxis\":{\"gridcolor\":\"white\",\"linecolor\":\"white\",\"ticks\":\"\"},\"radialaxis\":{\"gridcolor\":\"white\",\"linecolor\":\"white\",\"ticks\":\"\"}},\"ternary\":{\"bgcolor\":\"#E5ECF6\",\"aaxis\":{\"gridcolor\":\"white\",\"linecolor\":\"white\",\"ticks\":\"\"},\"baxis\":{\"gridcolor\":\"white\",\"linecolor\":\"white\",\"ticks\":\"\"},\"caxis\":{\"gridcolor\":\"white\",\"linecolor\":\"white\",\"ticks\":\"\"}},\"coloraxis\":{\"colorbar\":{\"outlinewidth\":0,\"ticks\":\"\"}},\"colorscale\":{\"sequential\":[[0.0,\"#0d0887\"],[0.1111111111111111,\"#46039f\"],[0.2222222222222222,\"#7201a8\"],[0.3333333333333333,\"#9c179e\"],[0.4444444444444444,\"#bd3786\"],[0.5555555555555556,\"#d8576b\"],[0.6666666666666666,\"#ed7953\"],[0.7777777777777778,\"#fb9f3a\"],[0.8888888888888888,\"#fdca26\"],[1.0,\"#f0f921\"]],\"sequentialminus\":[[0.0,\"#0d0887\"],[0.1111111111111111,\"#46039f\"],[0.2222222222222222,\"#7201a8\"],[0.3333333333333333,\"#9c179e\"],[0.4444444444444444,\"#bd3786\"],[0.5555555555555556,\"#d8576b\"],[0.6666666666666666,\"#ed7953\"],[0.7777777777777778,\"#fb9f3a\"],[0.8888888888888888,\"#fdca26\"],[1.0,\"#f0f921\"]],\"diverging\":[[0,\"#8e0152\"],[0.1,\"#c51b7d\"],[0.2,\"#de77ae\"],[0.3,\"#f1b6da\"],[0.4,\"#fde0ef\"],[0.5,\"#f7f7f7\"],[0.6,\"#e6f5d0\"],[0.7,\"#b8e186\"],[0.8,\"#7fbc41\"],[0.9,\"#4d9221\"],[1,\"#276419\"]]},\"xaxis\":{\"gridcolor\":\"white\",\"linecolor\":\"white\",\"ticks\":\"\",\"title\":{\"standoff\":15},\"zerolinecolor\":\"white\",\"automargin\":true,\"zerolinewidth\":2},\"yaxis\":{\"gridcolor\":\"white\",\"linecolor\":\"white\",\"ticks\":\"\",\"title\":{\"standoff\":15},\"zerolinecolor\":\"white\",\"automargin\":true,\"zerolinewidth\":2},\"scene\":{\"xaxis\":{\"backgroundcolor\":\"#E5ECF6\",\"gridcolor\":\"white\",\"linecolor\":\"white\",\"showbackground\":true,\"ticks\":\"\",\"zerolinecolor\":\"white\",\"gridwidth\":2},\"yaxis\":{\"backgroundcolor\":\"#E5ECF6\",\"gridcolor\":\"white\",\"linecolor\":\"white\",\"showbackground\":true,\"ticks\":\"\",\"zerolinecolor\":\"white\",\"gridwidth\":2},\"zaxis\":{\"backgroundcolor\":\"#E5ECF6\",\"gridcolor\":\"white\",\"linecolor\":\"white\",\"showbackground\":true,\"ticks\":\"\",\"zerolinecolor\":\"white\",\"gridwidth\":2}},\"shapedefaults\":{\"line\":{\"color\":\"#2a3f5f\"}},\"annotationdefaults\":{\"arrowcolor\":\"#2a3f5f\",\"arrowhead\":0,\"arrowwidth\":1},\"geo\":{\"bgcolor\":\"white\",\"landcolor\":\"#E5ECF6\",\"subunitcolor\":\"white\",\"showland\":true,\"showlakes\":true,\"lakecolor\":\"white\"},\"title\":{\"x\":0.05},\"mapbox\":{\"style\":\"light\"}}},\"xaxis\":{\"anchor\":\"y\",\"domain\":[0.0,1.0],\"title\":{\"text\":\"Tm\"}},\"yaxis\":{\"anchor\":\"x\",\"domain\":[0.0,1.0],\"title\":{\"text\":\"Points\"}},\"coloraxis\":{\"colorbar\":{\"title\":{\"text\":\"Season\"}},\"colorscale\":[[0.0,\"#0d0887\"],[0.1111111111111111,\"#46039f\"],[0.2222222222222222,\"#7201a8\"],[0.3333333333333333,\"#9c179e\"],[0.4444444444444444,\"#bd3786\"],[0.5555555555555556,\"#d8576b\"],[0.6666666666666666,\"#ed7953\"],[0.7777777777777778,\"#fb9f3a\"],[0.8888888888888888,\"#fdca26\"],[1.0,\"#f0f921\"]]},\"legend\":{\"tracegroupgap\":0},\"title\":{\"text\":\"Total Points by Team and Season\"},\"barmode\":\"relative\"},                        {\"responsive\": true}                    ).then(function(){\n",
       "                            \n",
       "var gd = document.getElementById('ee0faf5f-b90e-41e8-b77f-ae50893872be');\n",
       "var x = new MutationObserver(function (mutations, observer) {{\n",
       "        var display = window.getComputedStyle(gd).display;\n",
       "        if (!display || display === 'none') {{\n",
       "            console.log([gd, 'removed!']);\n",
       "            Plotly.purge(gd);\n",
       "            observer.disconnect();\n",
       "        }}\n",
       "}});\n",
       "\n",
       "// Listen for the removal of the full notebook cells\n",
       "var notebookContainer = gd.closest('#notebook-container');\n",
       "if (notebookContainer) {{\n",
       "    x.observe(notebookContainer, {childList: true});\n",
       "}}\n",
       "\n",
       "// Listen for the clearing of the current output cell\n",
       "var outputEl = gd.closest('.output');\n",
       "if (outputEl) {{\n",
       "    x.observe(outputEl, {childList: true});\n",
       "}}\n",
       "\n",
       "                        })                };                });            </script>        </div>"
      ]
     },
     "metadata": {},
     "output_type": "display_data"
    },
    {
     "data": {
      "application/vnd.plotly.v1+json": {
       "config": {
        "plotlyServerURL": "https://plot.ly"
       },
       "data": [
        {
         "customdata": [
          [
           "William Nylander"
          ],
          [
           "Auston Matthews"
          ],
          [
           "John Tavares"
          ],
          [
           "Mitch Marner"
          ],
          [
           "Michael Bunting"
          ],
          [
           "Auston Matthews"
          ],
          [
           "Mitch Marner"
          ],
          [
           "William Nylander"
          ],
          [
           "John Tavares"
          ],
          [
           "Michael Bunting"
          ],
          [
           "Auston Matthews"
          ],
          [
           "Mitch Marner"
          ],
          [
           "John Tavares"
          ],
          [
           "William Nylander"
          ],
          [
           "Zach Hyman"
          ],
          [
           "Auston Matthews"
          ],
          [
           "William Nylander"
          ],
          [
           "John Tavares"
          ],
          [
           "Zach Hyman"
          ],
          [
           "Mitch Marner"
          ],
          [
           "John Tavares"
          ],
          [
           "Auston Matthews"
          ],
          [
           "Mitch Marner"
          ],
          [
           "Zach Hyman"
          ],
          [
           "Morgan Rielly"
          ],
          [
           "James van Riemsdyk"
          ],
          [
           "Auston Matthews"
          ],
          [
           "Nazem Kadri"
          ],
          [
           "Patrick Marleau"
          ],
          [
           "Mitch Marner"
          ]
         ],
         "hovertemplate": "Tm=TOR<br>ATOI=%{x}<br>Points=%{y}<br>Player=%{customdata[0]}<extra></extra>",
         "legendgroup": "TOR",
         "marker": {
          "color": "#636efa",
          "symbol": "circle"
         },
         "mode": "markers",
         "name": "TOR",
         "orientation": "v",
         "showlegend": true,
         "type": "scatter",
         "x": [
          0,
          0,
          0,
          0,
          0,
          0,
          0,
          0,
          0,
          0,
          0,
          0,
          0,
          0,
          0,
          0,
          0,
          0,
          0,
          0,
          0,
          0,
          0,
          0,
          0,
          0,
          0,
          0,
          0,
          0
         ],
         "xaxis": "x",
         "y": [
          4047,
          4045,
          3644,
          3069,
          2326,
          6046,
          3562,
          3446,
          2749,
          2340,
          4125,
          2047,
          1931,
          1725,
          1518,
          4733,
          3128,
          2634,
          2116,
          1651,
          4741,
          3736,
          2668,
          2120,
          2052,
          3618,
          3429,
          3223,
          2720,
          2247
         ],
         "yaxis": "y"
        },
        {
         "customdata": [
          [
           "Timo Meier"
          ],
          [
           "Bo Horvat"
          ],
          [
           "Nino Niederreiter"
          ],
          [
           "Patrick Kane"
          ],
          [
           "Max Domi"
          ],
          [
           "Brandon Hagel"
          ],
          [
           "Claude Giroux"
          ],
          [
           "Andrew Copp"
          ],
          [
           "Tyler Toffoli"
          ],
          [
           "Rickard Rakell"
          ],
          [
           "Jakub Vrána"
          ],
          [
           "Jeff Carter"
          ],
          [
           "Anthony Mantha"
          ],
          [
           "Patrik Laine"
          ],
          [
           "Mattias Janmark"
          ],
          [
           "Jean-Gabriel Pageau"
          ],
          [
           "Tyler Toffoli"
          ],
          [
           "Blake Coleman"
          ],
          [
           "Jason Zucker"
          ],
          [
           "Vladislav Namestnikov"
          ],
          [
           "Mark Stone"
          ],
          [
           "Matt Duchene"
          ],
          [
           "Ryan Dzingel"
          ],
          [
           "Nino Niederreiter"
          ],
          [
           "Gustav Nyquist"
          ],
          [
           "Evander Kane"
          ],
          [
           "Matt Duchene"
          ],
          [
           "Thomas Vanek"
          ],
          [
           "Adam Henrique"
          ],
          [
           "J.T. Miller"
          ]
         ],
         "hovertemplate": "Tm=TOT<br>ATOI=%{x}<br>Points=%{y}<br>Player=%{customdata[0]}<extra></extra>",
         "legendgroup": "TOT",
         "marker": {
          "color": "#EF553B",
          "symbol": "circle"
         },
         "mode": "markers",
         "name": "TOT",
         "orientation": "v",
         "showlegend": true,
         "type": "scatter",
         "x": [
          0,
          0,
          0,
          0,
          0,
          0,
          0,
          0,
          0,
          0,
          0,
          0,
          0,
          0,
          0,
          0,
          0,
          0,
          0,
          0,
          0,
          0,
          0,
          0,
          0,
          0,
          0,
          0,
          0,
          0
         ],
         "xaxis": "x",
         "y": [
          4026,
          3832,
          2417,
          2136,
          2036,
          2519,
          2144,
          2132,
          2029,
          2021,
          1917,
          1713,
          1514,
          1212,
          1113,
          2616,
          2420,
          2111,
          2021,
          1714,
          3340,
          3139,
          2630,
          2330,
          2238,
          2925,
          2732,
          2432,
          2426,
          2335
         ],
         "yaxis": "y"
        },
        {
         "customdata": [
          [
           "Jordan Kyrou"
          ],
          [
           "Pavel Buchnevich"
          ],
          [
           "Brayden Schenn"
          ],
          [
           "Brandon Saad"
          ],
          [
           "Robert Thomas"
          ],
          [
           "Vladimir Tarasenko"
          ],
          [
           "Pavel Buchnevich"
          ],
          [
           "Jordan Kyrou"
          ],
          [
           "David Perron"
          ],
          [
           "Ivan Barbashev"
          ],
          [
           "Ryan O'Reilly"
          ],
          [
           "David Perron"
          ],
          [
           "Mike Hoffman"
          ],
          [
           "Brayden Schenn"
          ],
          [
           "Jordan Kyrou"
          ],
          [
           "David Perron"
          ],
          [
           "Brayden Schenn"
          ],
          [
           "Jaden Schwartz"
          ],
          [
           "Alex Pietrangelo"
          ],
          [
           "Zach Sanford"
          ],
          [
           "Vladimir Tarasenko"
          ],
          [
           "Ryan O'Reilly"
          ],
          [
           "David Perron"
          ],
          [
           "Brayden Schenn"
          ],
          [
           "Oskar Sundqvist"
          ],
          [
           "Vladimir Tarasenko"
          ],
          [
           "Brayden Schenn"
          ],
          [
           "Jaden Schwartz"
          ],
          [
           "Alex Pietrangelo"
          ],
          [
           "Alexander Steen"
          ]
         ],
         "hovertemplate": "Tm=STL<br>ATOI=%{x}<br>Points=%{y}<br>Player=%{customdata[0]}<extra></extra>",
         "legendgroup": "STL",
         "marker": {
          "color": "#00cc96",
          "symbol": "circle"
         },
         "mode": "markers",
         "name": "STL",
         "orientation": "v",
         "showlegend": true,
         "type": "scatter",
         "x": [
          0,
          0,
          0,
          0,
          0,
          0,
          0,
          0,
          0,
          0,
          0,
          0,
          0,
          0,
          0,
          0,
          0,
          0,
          0,
          0,
          0,
          0,
          0,
          0,
          0,
          0,
          0,
          0,
          0,
          0
         ],
         "xaxis": "x",
         "y": [
          3736,
          2641,
          2144,
          1918,
          1847,
          3448,
          3046,
          2748,
          2730,
          2634,
          2430,
          1939,
          1719,
          1620,
          1421,
          2535,
          2533,
          2235,
          1636,
          1614,
          3335,
          2849,
          2323,
          1737,
          1417,
          3333,
          2842,
          2435,
          1539,
          1531
         ],
         "yaxis": "y"
        },
        {
         "customdata": [
          [
           "Kirill Kaprizov"
          ],
          [
           "Matt Boldy"
          ],
          [
           "Joel Eriksson Ek"
          ],
          [
           "Mats Zuccarello"
          ],
          [
           "Frédérick Gaudreau"
          ],
          [
           "Kirill Kaprizov"
          ],
          [
           "Ryan Hartman"
          ],
          [
           "Kevin Fiala"
          ],
          [
           "Joel Eriksson Ek"
          ],
          [
           "Mats Zuccarello"
          ],
          [
           "Kirill Kaprizov"
          ],
          [
           "Kevin Fiala"
          ],
          [
           "Joel Eriksson Ek"
          ],
          [
           "Mats Zuccarello"
          ],
          [
           "Marcus Foligno"
          ],
          [
           "Zach Parise"
          ],
          [
           "Kevin Fiala"
          ],
          [
           "Eric Staal"
          ],
          [
           "Mats Zuccarello"
          ],
          [
           "Luke Kunin"
          ],
          [
           "Zach Parise"
          ],
          [
           "Eric Staal"
          ],
          [
           "Jason Zucker"
          ],
          [
           "Mikael Granlund"
          ],
          [
           "Jared Spurgeon"
          ],
          [
           "Eric Staal"
          ],
          [
           "Jason Zucker"
          ],
          [
           "Mikael Granlund"
          ],
          [
           "Nino Niederreiter"
          ],
          [
           "Mathew Dumba"
          ]
         ],
         "hovertemplate": "Tm=MIN<br>ATOI=%{x}<br>Points=%{y}<br>Player=%{customdata[0]}<extra></extra>",
         "legendgroup": "MIN",
         "marker": {
          "color": "#ab63fa",
          "symbol": "circle"
         },
         "mode": "markers",
         "name": "MIN",
         "orientation": "v",
         "showlegend": true,
         "type": "scatter",
         "x": [
          0,
          0,
          0,
          0,
          0,
          0,
          0,
          0,
          0,
          0,
          0,
          0,
          0,
          0,
          0,
          0,
          0,
          0,
          0,
          0,
          0,
          0,
          0,
          0,
          0,
          0,
          0,
          0,
          0,
          0
         ],
         "xaxis": "x",
         "y": [
          4035,
          3132,
          2338,
          2245,
          1919,
          4761,
          3431,
          3352,
          2623,
          2455,
          2724,
          2020,
          1911,
          1124,
          1115,
          2521,
          2331,
          1928,
          1522,
          1516,
          2833,
          2230,
          2121,
          1534,
          1429,
          4234,
          3331,
          2146,
          1814,
          1436
         ],
         "yaxis": "y"
        },
        {
         "customdata": [
          [
           "Matt Duchene"
          ],
          [
           "Filip Forsberg"
          ],
          [
           "Roman Josi"
          ],
          [
           "Nino Niederreiter"
          ],
          [
           "Thomas Novak"
          ],
          [
           "Matt Duchene"
          ],
          [
           "Filip Forsberg"
          ],
          [
           "Ryan Johansen"
          ],
          [
           "Tanner Jeannot"
          ],
          [
           "Roman Josi"
          ],
          [
           "Calle Järnkrok"
          ],
          [
           "Mikael Granlund"
          ],
          [
           "Filip Forsberg"
          ],
          [
           "Eeli Tolvanen"
          ],
          [
           "Viktor Arvidsson"
          ],
          [
           "Filip Forsberg"
          ],
          [
           "Nick Bonino"
          ],
          [
           "Craig Smith"
          ],
          [
           "Mikael Granlund"
          ],
          [
           "Roman Josi"
          ],
          [
           "Viktor Arvidsson"
          ],
          [
           "Filip Forsberg"
          ],
          [
           "Craig Smith"
          ],
          [
           "Nick Bonino"
          ],
          [
           "Roman Josi"
          ],
          [
           "Viktor Arvidsson"
          ],
          [
           "Filip Forsberg"
          ],
          [
           "Craig Smith"
          ],
          [
           "Kevin Fiala"
          ],
          [
           "P.K. Subban"
          ]
         ],
         "hovertemplate": "Tm=NSH<br>ATOI=%{x}<br>Points=%{y}<br>Player=%{customdata[0]}<extra></extra>",
         "legendgroup": "NSH",
         "marker": {
          "color": "#FFA15A",
          "symbol": "circle"
         },
         "mode": "markers",
         "name": "NSH",
         "orientation": "v",
         "showlegend": true,
         "type": "scatter",
         "x": [
          0,
          0,
          0,
          0,
          0,
          0,
          0,
          0,
          0,
          0,
          0,
          0,
          0,
          0,
          0,
          0,
          0,
          0,
          0,
          0,
          0,
          0,
          0,
          0,
          0,
          0,
          0,
          0,
          0,
          0
         ],
         "xaxis": "x",
         "y": [
          2234,
          1923,
          1841,
          1810,
          1726,
          4343,
          4242,
          2637,
          2417,
          2373,
          1315,
          1314,
          1220,
          1111,
          1015,
          2127,
          1817,
          1813,
          1713,
          1649,
          3414,
          2822,
          2117,
          1718,
          1541,
          2932,
          2638,
          2526,
          2325,
          1643
         ],
         "yaxis": "y"
        },
        {
         "customdata": [
          [
           "Timo Meier"
          ],
          [
           "Logan Couture"
          ],
          [
           "Erik Karlsson"
          ],
          [
           "Tomáš Hertl"
          ],
          [
           "Alexander Barabanov"
          ],
          [
           "Timo Meier"
          ],
          [
           "Tomáš Hertl"
          ],
          [
           "Logan Couture"
          ],
          [
           "Nick Bonino"
          ],
          [
           "Jonathan Dahlén"
          ],
          [
           "Evander Kane"
          ],
          [
           "Tomáš Hertl"
          ],
          [
           "Logan Couture"
          ],
          [
           "Timo Meier"
          ],
          [
           "Kevin Labanc"
          ],
          [
           "Evander Kane"
          ],
          [
           "Timo Meier"
          ],
          [
           "Logan Couture"
          ],
          [
           "Tomáš Hertl"
          ],
          [
           "Kevin Labanc"
          ],
          [
           "Joe Pavelski"
          ],
          [
           "Tomáš Hertl"
          ],
          [
           "Timo Meier"
          ],
          [
           "Evander Kane"
          ],
          [
           "Logan Couture"
          ],
          [
           "Logan Couture"
          ],
          [
           "Joe Pavelski"
          ],
          [
           "Tomáš Hertl"
          ],
          [
           "Timo Meier"
          ],
          [
           "Chris Tierney"
          ]
         ],
         "hovertemplate": "Tm=SJS<br>ATOI=%{x}<br>Points=%{y}<br>Player=%{customdata[0]}<extra></extra>",
         "legendgroup": "SJS",
         "marker": {
          "color": "#19d3f3",
          "symbol": "circle"
         },
         "mode": "markers",
         "name": "SJS",
         "orientation": "v",
         "showlegend": true,
         "type": "scatter",
         "x": [
          0,
          0,
          0,
          0,
          0,
          0,
          0,
          0,
          0,
          0,
          0,
          0,
          0,
          0,
          0,
          0,
          0,
          0,
          0,
          0,
          0,
          0,
          0,
          0,
          0,
          0,
          0,
          0,
          0,
          0
         ],
         "xaxis": "x",
         "y": [
          3121,
          2740,
          2576,
          2241,
          1532,
          3541,
          3034,
          2333,
          1610,
          1210,
          2227,
          1924,
          1714,
          1219,
          1216,
          2621,
          2227,
          1623,
          1620,
          1419,
          3826,
          3539,
          3036,
          3026,
          2743,
          3427,
          2244,
          2224,
          2115,
          1723
         ],
         "yaxis": "y"
        },
        {
         "customdata": [
          [
           "Sebastian Aho"
          ],
          [
           "Martin Nečas"
          ],
          [
           "Andrei Svechnikov"
          ],
          [
           "Brent Burns"
          ],
          [
           "Jesperi Kotkaniemi"
          ],
          [
           "Sebastian Aho"
          ],
          [
           "Andrei Svechnikov"
          ],
          [
           "Nino Niederreiter"
          ],
          [
           "Teuvo Teräväinen"
          ],
          [
           "Vincent Trocheck"
          ],
          [
           "Sebastian Aho"
          ],
          [
           "Nino Niederreiter"
          ],
          [
           "Vincent Trocheck"
          ],
          [
           "Jordan Staal"
          ],
          [
           "Andrei Svechnikov"
          ],
          [
           "Sebastian Aho"
          ],
          [
           "Andrei Svechnikov"
          ],
          [
           "Martin Nečas"
          ],
          [
           "Teuvo Teräväinen"
          ],
          [
           "Dougie Hamilton"
          ],
          [
           "Sebastian Aho"
          ],
          [
           "Justin Williams"
          ],
          [
           "Teuvo Teräväinen"
          ],
          [
           "Andrei Svechnikov"
          ],
          [
           "Dougie Hamilton"
          ],
          [
           "Sebastian Aho"
          ],
          [
           "Jeff Skinner"
          ],
          [
           "Teuvo Teräväinen"
          ],
          [
           "Jordan Staal"
          ],
          [
           "Justin Williams"
          ]
         ],
         "hovertemplate": "Tm=CAR<br>ATOI=%{x}<br>Points=%{y}<br>Player=%{customdata[0]}<extra></extra>",
         "legendgroup": "CAR",
         "marker": {
          "color": "#FF6692",
          "symbol": "circle"
         },
         "mode": "markers",
         "name": "CAR",
         "orientation": "v",
         "showlegend": true,
         "type": "scatter",
         "x": [
          0,
          0,
          0,
          0,
          0,
          0,
          0,
          0,
          0,
          0,
          0,
          0,
          0,
          0,
          0,
          0,
          0,
          0,
          0,
          0,
          0,
          0,
          0,
          0,
          0,
          0,
          0,
          0,
          0,
          0
         ],
         "xaxis": "x",
         "y": [
          3631,
          2843,
          2332,
          1843,
          1825,
          3744,
          3039,
          2420,
          2243,
          2130,
          2433,
          2014,
          1726,
          1622,
          1527,
          3828,
          2437,
          1620,
          1548,
          1426,
          3053,
          2330,
          2155,
          2017,
          1821,
          2936,
          2425,
          2341,
          1927,
          1635
         ],
         "yaxis": "y"
        },
        {
         "customdata": [
          [
           "Brock Nelson"
          ],
          [
           "Anders Lee"
          ],
          [
           "Zach Parise"
          ],
          [
           "Kyle Palmieri"
          ],
          [
           "Mathew Barzal"
          ],
          [
           "Brock Nelson"
          ],
          [
           "Anders Lee"
          ],
          [
           "Jean-Gabriel Pageau"
          ],
          [
           "Mathew Barzal"
          ],
          [
           "Zach Parise"
          ],
          [
           "Brock Nelson"
          ],
          [
           "Mathew Barzal"
          ],
          [
           "Jordan Eberle"
          ],
          [
           "Anthony Beauvillier"
          ],
          [
           "Jean-Gabriel Pageau"
          ],
          [
           "Brock Nelson"
          ],
          [
           "Anders Lee"
          ],
          [
           "Mathew Barzal"
          ],
          [
           "Anthony Beauvillier"
          ],
          [
           "Jordan Eberle"
          ],
          [
           "Anders Lee"
          ],
          [
           "Brock Nelson"
          ],
          [
           "Casey Cizikas"
          ],
          [
           "Jordan Eberle"
          ],
          [
           "Mathew Barzal"
          ],
          [
           "Anders Lee"
          ],
          [
           "John Tavares"
          ],
          [
           "Jordan Eberle"
          ],
          [
           "Mathew Barzal"
          ],
          [
           "Anthony Beauvillier"
          ]
         ],
         "hovertemplate": "Tm=NYI<br>ATOI=%{x}<br>Points=%{y}<br>Player=%{customdata[0]}<extra></extra>",
         "legendgroup": "NYI",
         "marker": {
          "color": "#B6E880",
          "symbol": "circle"
         },
         "mode": "markers",
         "name": "NYI",
         "orientation": "v",
         "showlegend": true,
         "type": "scatter",
         "x": [
          0,
          0,
          0,
          0,
          0,
          0,
          0,
          0,
          0,
          0,
          0,
          0,
          0,
          0,
          0,
          0,
          0,
          0,
          0,
          0,
          0,
          0,
          0,
          0,
          0,
          0,
          0,
          0,
          0,
          0
         ],
         "xaxis": "x",
         "y": [
          3639,
          2822,
          2113,
          1617,
          1437,
          3722,
          2818,
          1821,
          1544,
          1520,
          1815,
          1728,
          1617,
          1513,
          1414,
          2628,
          2023,
          1941,
          1821,
          1624,
          2823,
          2528,
          2013,
          1918,
          1844,
          4022,
          3747,
          2534,
          2263,
          2115
         ],
         "yaxis": "y"
        },
        {
         "customdata": [
          [
           "Alex Ovechkin"
          ],
          [
           "Dylan Strome"
          ],
          [
           "T.J. Oshie"
          ],
          [
           "Conor Sheary"
          ],
          [
           "Marcus Johansson"
          ],
          [
           "Alex Ovechkin"
          ],
          [
           "Evgeny Kuznetsov"
          ],
          [
           "Tom Wilson"
          ],
          [
           "Conor Sheary"
          ],
          [
           "John Carlson"
          ],
          [
           "Alex Ovechkin"
          ],
          [
           "T.J. Oshie"
          ],
          [
           "Nicklas Bäckström"
          ],
          [
           "Tom Wilson"
          ],
          [
           "Jakub Vrána"
          ],
          [
           "Alex Ovechkin"
          ],
          [
           "T.J. Oshie"
          ],
          [
           "Jakub Vrána"
          ],
          [
           "Tom Wilson"
          ],
          [
           "Evgeny Kuznetsov"
          ],
          [
           "Alex Ovechkin"
          ],
          [
           "T.J. Oshie"
          ],
          [
           "Jakub Vrána"
          ],
          [
           "Nicklas Bäckström"
          ],
          [
           "Brett Connolly"
          ],
          [
           "Alex Ovechkin"
          ],
          [
           "Evgeny Kuznetsov"
          ],
          [
           "Nicklas Bäckström"
          ],
          [
           "T.J. Oshie"
          ],
          [
           "Lars Eller"
          ]
         ],
         "hovertemplate": "Tm=WSH<br>ATOI=%{x}<br>Points=%{y}<br>Player=%{customdata[0]}<extra></extra>",
         "legendgroup": "WSH",
         "marker": {
          "color": "#FF97FF",
          "symbol": "circle"
         },
         "mode": "markers",
         "name": "WSH",
         "orientation": "v",
         "showlegend": true,
         "type": "scatter",
         "x": [
          0,
          0,
          0,
          0,
          0,
          0,
          0,
          0,
          0,
          0,
          0,
          0,
          0,
          0,
          0,
          0,
          0,
          0,
          0,
          0,
          0,
          0,
          0,
          0,
          0,
          0,
          0,
          0,
          0,
          0
         ],
         "xaxis": "x",
         "y": [
          4233,
          2342,
          1916,
          1522,
          1315,
          5040,
          2454,
          2428,
          1924,
          1754,
          2418,
          2221,
          1538,
          1320,
          1114,
          4819,
          2623,
          2527,
          2123,
          1933,
          5138,
          2529,
          2423,
          2252,
          2224,
          4938,
          2756,
          2150,
          1829,
          1820
         ],
         "yaxis": "y"
        },
        {
         "customdata": [
          [
           "Nick Suzuki"
          ],
          [
           "Cole Caufield"
          ],
          [
           "Josh Anderson"
          ],
          [
           "Kirby Dach"
          ],
          [
           "Mike Hoffman"
          ],
          [
           "Cole Caufield"
          ],
          [
           "Nick Suzuki"
          ],
          [
           "Josh Anderson"
          ],
          [
           "Mike Hoffman"
          ],
          [
           "Artturi Lehkonen"
          ],
          [
           "Tyler Toffoli"
          ],
          [
           "Nick Suzuki"
          ],
          [
           "Jeff Petry"
          ],
          [
           "Tomáš Tatar"
          ],
          [
           "Corey Perry"
          ],
          [
           "Tomáš Tatar"
          ],
          [
           "Brendan Gallagher"
          ],
          [
           "Max Domi"
          ],
          [
           "Joel Armia"
          ],
          [
           "Shea Weber*"
          ],
          [
           "Brendan Gallagher"
          ],
          [
           "Max Domi"
          ],
          [
           "Tomáš Tatar"
          ],
          [
           "Andrew Shaw"
          ],
          [
           "Jonathan Drouin"
          ],
          [
           "Brendan Gallagher"
          ],
          [
           "Paul Byron"
          ],
          [
           "Alex Galchenyuk"
          ],
          [
           "Max Pacioretty"
          ],
          [
           "Jonathan Drouin"
          ]
         ],
         "hovertemplate": "Tm=MTL<br>ATOI=%{x}<br>Points=%{y}<br>Player=%{customdata[0]}<extra></extra>",
         "legendgroup": "MTL",
         "marker": {
          "color": "#FECB52",
          "symbol": "circle"
         },
         "mode": "markers",
         "name": "MTL",
         "orientation": "v",
         "showlegend": true,
         "type": "scatter",
         "x": [
          0,
          0,
          0,
          0,
          0,
          0,
          0,
          0,
          0,
          0,
          0,
          0,
          0,
          0,
          0,
          0,
          0,
          0,
          0,
          0,
          0,
          0,
          0,
          0,
          0,
          0,
          0,
          0,
          0,
          0
         ],
         "xaxis": "x",
         "y": [
          2640,
          2610,
          2111,
          1424,
          1420,
          2320,
          2140,
          1913,
          1520,
          1316,
          2816,
          1526,
          1230,
          1020,
          912,
          2239,
          2221,
          1727,
          1614,
          1521,
          3319,
          2844,
          2533,
          1928,
          1835,
          3123,
          2015,
          1932,
          1720,
          1333
         ],
         "yaxis": "y"
        },
        {
         "customdata": [
          [
           "Travis Konecny"
          ],
          [
           "Owen Tippett"
          ],
          [
           "Morgan Frost"
          ],
          [
           "Kevin Hayes"
          ],
          [
           "Scott Laughton"
          ],
          [
           "James van Riemsdyk"
          ],
          [
           "Cam Atkinson"
          ],
          [
           "Claude Giroux"
          ],
          [
           "Joel Farabee"
          ],
          [
           "Travis Konecny"
          ],
          [
           "Joel Farabee"
          ],
          [
           "Sean Couturier"
          ],
          [
           "James van Riemsdyk"
          ],
          [
           "Claude Giroux"
          ],
          [
           "Kevin Hayes"
          ],
          [
           "Travis Konecny"
          ],
          [
           "Kevin Hayes"
          ],
          [
           "Sean Couturier"
          ],
          [
           "Claude Giroux"
          ],
          [
           "James van Riemsdyk"
          ],
          [
           "Sean Couturier"
          ],
          [
           "James van Riemsdyk"
          ],
          [
           "Travis Konecny"
          ],
          [
           "Claude Giroux"
          ],
          [
           "Jakub Voráček"
          ],
          [
           "Claude Giroux"
          ],
          [
           "Sean Couturier"
          ],
          [
           "Travis Konecny"
          ],
          [
           "Wayne Simmonds"
          ],
          [
           "Jakub Voráček"
          ]
         ],
         "hovertemplate": "Tm=PHI<br>ATOI=%{x}<br>Points=%{y}<br>Player=%{customdata[0]}<extra></extra>",
         "legendgroup": "PHI",
         "marker": {
          "color": "#636efa",
          "symbol": "circle"
         },
         "mode": "markers",
         "name": "PHI",
         "orientation": "v",
         "showlegend": true,
         "type": "scatter",
         "x": [
          0,
          0,
          0,
          0,
          0,
          0,
          0,
          0,
          0,
          0,
          0,
          0,
          0,
          0,
          0,
          0,
          0,
          0,
          0,
          0,
          0,
          0,
          0,
          0,
          0,
          0,
          0,
          0,
          0,
          0
         ],
         "xaxis": "x",
         "y": [
          3130,
          2722,
          1927,
          1836,
          1825,
          2414,
          2327,
          1824,
          1717,
          1636,
          2018,
          1823,
          1726,
          1627,
          1219,
          2437,
          2318,
          2237,
          2132,
          1921,
          3343,
          2721,
          2425,
          2263,
          2046,
          3468,
          3145,
          2423,
          2422,
          2065
         ],
         "yaxis": "y"
        },
        {
         "customdata": [
          [
           "Jonathan Marchessault"
          ],
          [
           "Jack Eichel"
          ],
          [
           "Reilly Smith"
          ],
          [
           "Mark Stone"
          ],
          [
           "Chandler Stephenson"
          ],
          [
           "Jonathan Marchessault"
          ],
          [
           "Chandler Stephenson"
          ],
          [
           "Evgenii Dadonov"
          ],
          [
           "Max Pacioretty"
          ],
          [
           "Reilly Smith"
          ],
          [
           "Max Pacioretty"
          ],
          [
           "Mark Stone"
          ],
          [
           "Jonathan Marchessault"
          ],
          [
           "Alex Tuch"
          ],
          [
           "William Karlsson"
          ],
          [
           "Max Pacioretty"
          ],
          [
           "Reilly Smith"
          ],
          [
           "Jonathan Marchessault"
          ],
          [
           "Mark Stone"
          ],
          [
           "Paul Stastny"
          ],
          [
           "Jonathan Marchessault"
          ],
          [
           "William Karlsson"
          ],
          [
           "Cody Eakin"
          ],
          [
           "Max Pacioretty"
          ],
          [
           "Alex Tuch"
          ],
          [
           "William Karlsson"
          ],
          [
           "Erik Haula"
          ],
          [
           "Jonathan Marchessault"
          ],
          [
           "James Neal"
          ],
          [
           "Reilly Smith"
          ]
         ],
         "hovertemplate": "Tm=VEG<br>ATOI=%{x}<br>Points=%{y}<br>Player=%{customdata[0]}<extra></extra>",
         "legendgroup": "VEG",
         "marker": {
          "color": "#EF553B",
          "symbol": "circle"
         },
         "mode": "markers",
         "name": "VEG",
         "orientation": "v",
         "showlegend": true,
         "type": "scatter",
         "x": [
          0,
          0,
          0,
          0,
          0,
          0,
          0,
          0,
          0,
          0,
          0,
          0,
          0,
          0,
          0,
          0,
          0,
          0,
          0,
          0,
          0,
          0,
          0,
          0,
          0,
          0,
          0,
          0,
          0,
          0
         ],
         "xaxis": "x",
         "y": [
          2829,
          2739,
          2630,
          1721,
          1649,
          3036,
          2143,
          2023,
          1918,
          1622,
          2427,
          2140,
          1826,
          1815,
          1425,
          3234,
          2727,
          2225,
          2142,
          1721,
          2534,
          2432,
          2219,
          2218,
          2032,
          4335,
          2926,
          2748,
          2519,
          2238
         ],
         "yaxis": "y"
        },
        {
         "customdata": [
          [
           "Elias Pettersson"
          ],
          [
           "Andrei Kuzmenko"
          ],
          [
           "J.T. Miller"
          ],
          [
           "Bo Horvat"
          ],
          [
           "Brock Boeser"
          ],
          [
           "J.T. Miller"
          ],
          [
           "Elias Pettersson"
          ],
          [
           "Bo Horvat"
          ],
          [
           "Brock Boeser"
          ],
          [
           "Conor Garland"
          ],
          [
           "Brock Boeser"
          ],
          [
           "Bo Horvat"
          ],
          [
           "J.T. Miller"
          ],
          [
           "Nils Höglander"
          ],
          [
           "Elias Pettersson"
          ],
          [
           "J.T. Miller"
          ],
          [
           "Elias Pettersson"
          ],
          [
           "Bo Horvat"
          ],
          [
           "Tanner Pearson"
          ],
          [
           "Jake Virtanen"
          ],
          [
           "Elias Pettersson"
          ],
          [
           "Bo Horvat"
          ],
          [
           "Brock Boeser"
          ],
          [
           "Jake Virtanen"
          ],
          [
           "Markus Granlund"
          ],
          [
           "Brock Boeser"
          ],
          [
           "Daniel Sedin*"
          ],
          [
           "Bo Horvat"
          ],
          [
           "Thomas Vanek"
          ],
          [
           "Sven Baertschi"
          ]
         ],
         "hovertemplate": "Tm=VAN<br>ATOI=%{x}<br>Points=%{y}<br>Player=%{customdata[0]}<extra></extra>",
         "legendgroup": "VAN",
         "marker": {
          "color": "#00cc96",
          "symbol": "circle"
         },
         "mode": "markers",
         "name": "VAN",
         "orientation": "v",
         "showlegend": true,
         "type": "scatter",
         "x": [
          0,
          0,
          0,
          0,
          0,
          0,
          0,
          0,
          0,
          0,
          0,
          0,
          0,
          0,
          0,
          0,
          0,
          0,
          0,
          0,
          0,
          0,
          0,
          0,
          0,
          0,
          0,
          0,
          0,
          0
         ],
         "xaxis": "x",
         "y": [
          3963,
          3935,
          3250,
          3123,
          1837,
          3267,
          3236,
          3121,
          2323,
          1933,
          2326,
          1920,
          1531,
          1314,
          1011,
          2745,
          2739,
          2231,
          2124,
          1818,
          2838,
          2734,
          2630,
          1510,
          1210,
          2926,
          2332,
          2222,
          1724,
          1415
         ],
         "yaxis": "y"
        },
        {
         "customdata": [
          [
           "Andreas Athanasiou"
          ],
          [
           "Taylor Raddysh"
          ],
          [
           "Max Domi"
          ],
          [
           "Patrick Kane"
          ],
          [
           "Jonathan Toews"
          ],
          [
           "Alex DeBrincat"
          ],
          [
           "Patrick Kane"
          ],
          [
           "Dylan Strome"
          ],
          [
           "Brandon Hagel"
          ],
          [
           "Dominik Kubalík"
          ],
          [
           "Alex DeBrincat"
          ],
          [
           "Dominik Kubalík"
          ],
          [
           "Patrick Kane"
          ],
          [
           "Pius Suter"
          ],
          [
           "Brandon Hagel"
          ],
          [
           "Patrick Kane"
          ],
          [
           "Dominik Kubalík"
          ],
          [
           "Brandon Saad"
          ],
          [
           "Jonathan Toews"
          ],
          [
           "Alex DeBrincat"
          ],
          [
           "Patrick Kane"
          ],
          [
           "Alex DeBrincat"
          ],
          [
           "Jonathan Toews"
          ],
          [
           "Brandon Saad"
          ],
          [
           "Erik Gustafsson"
          ],
          [
           "Alex DeBrincat"
          ],
          [
           "Patrick Kane"
          ],
          [
           "Nick Schmaltz"
          ],
          [
           "Jonathan Toews"
          ],
          [
           "Artem Anisimov"
          ]
         ],
         "hovertemplate": "Tm=CHI<br>ATOI=%{x}<br>Points=%{y}<br>Player=%{customdata[0]}<extra></extra>",
         "legendgroup": "CHI",
         "marker": {
          "color": "#ab63fa",
          "symbol": "circle"
         },
         "mode": "markers",
         "name": "CHI",
         "orientation": "v",
         "showlegend": true,
         "type": "scatter",
         "x": [
          0,
          0,
          0,
          0,
          0,
          0,
          0,
          0,
          0,
          0,
          0,
          0,
          0,
          0,
          0,
          0,
          0,
          0,
          0,
          0,
          0,
          0,
          0,
          0,
          0,
          0,
          0,
          0,
          0,
          0
         ],
         "xaxis": "x",
         "y": [
          2020,
          2017,
          1831,
          1629,
          1516,
          4137,
          2666,
          2226,
          2116,
          1517,
          3224,
          1721,
          1551,
          1413,
          915,
          3351,
          3016,
          2112,
          1842,
          1827,
          4466,
          4135,
          3546,
          2324,
          1743,
          2824,
          2749,
          2131,
          2032,
          2011
         ],
         "yaxis": "y"
        },
        {
         "customdata": [
          [
           "Adrian Kempe"
          ],
          [
           "Anže Kopitar"
          ],
          [
           "Viktor Arvidsson"
          ],
          [
           "Kevin Fiala"
          ],
          [
           "Gabriel Vilardi"
          ],
          [
           "Adrian Kempe"
          ],
          [
           "Phillip Danault"
          ],
          [
           "Viktor Arvidsson"
          ],
          [
           "Anže Kopitar"
          ],
          [
           "Trevor Moore"
          ],
          [
           "Dustin Brown"
          ],
          [
           "Adrian Kempe"
          ],
          [
           "Anže Kopitar"
          ],
          [
           "Alex Iafallo"
          ],
          [
           "Trevor Moore"
          ],
          [
           "Anže Kopitar"
          ],
          [
           "Tyler Toffoli"
          ],
          [
           "Alex Iafallo"
          ],
          [
           "Dustin Brown"
          ],
          [
           "Jeff Carter"
          ],
          [
           "Anže Kopitar"
          ],
          [
           "Dustin Brown"
          ],
          [
           "Ilya Kovalchuk"
          ],
          [
           "Alex Iafallo"
          ],
          [
           "Tyler Toffoli"
          ],
          [
           "Anže Kopitar"
          ],
          [
           "Dustin Brown"
          ],
          [
           "Tyler Toffoli"
          ],
          [
           "Adrian Kempe"
          ],
          [
           "Tanner Pearson"
          ]
         ],
         "hovertemplate": "Tm=LAK<br>ATOI=%{x}<br>Points=%{y}<br>Player=%{customdata[0]}<extra></extra>",
         "legendgroup": "LAK",
         "marker": {
          "color": "#FFA15A",
          "symbol": "circle"
         },
         "mode": "markers",
         "name": "LAK",
         "orientation": "v",
         "showlegend": true,
         "type": "scatter",
         "x": [
          0,
          0,
          0,
          0,
          0,
          0,
          0,
          0,
          0,
          0,
          0,
          0,
          0,
          0,
          0,
          0,
          0,
          0,
          0,
          0,
          0,
          0,
          0,
          0,
          0,
          0,
          0,
          0,
          0,
          0
         ],
         "xaxis": "x",
         "y": [
          4126,
          2846,
          2633,
          2349,
          2318,
          3519,
          2724,
          2029,
          1948,
          1731,
          1714,
          1415,
          1337,
          1317,
          1013,
          2141,
          1816,
          1726,
          1718,
          1710,
          2238,
          2229,
          1618,
          1518,
          1321,
          3557,
          2833,
          2423,
          1621,
          1525
         ],
         "yaxis": "y"
        },
        {
         "customdata": [
          [
           "Tyler Toffoli"
          ],
          [
           "Nazem Kadri"
          ],
          [
           "Elias Lindholm"
          ],
          [
           "Mikael Backlund"
          ],
          [
           "Dillon Dubé"
          ],
          [
           "Matthew Tkachuk"
          ],
          [
           "Elias Lindholm"
          ],
          [
           "Johnny Gaudreau"
          ],
          [
           "Andrew Mangiapane"
          ],
          [
           "Dillon Dubé"
          ],
          [
           "Johnny Gaudreau"
          ],
          [
           "Elias Lindholm"
          ],
          [
           "Andrew Mangiapane"
          ],
          [
           "Matthew Tkachuk"
          ],
          [
           "Dillon Dubé"
          ],
          [
           "Elias Lindholm"
          ],
          [
           "Matthew Tkachuk"
          ],
          [
           "Sean Monahan"
          ],
          [
           "Johnny Gaudreau"
          ],
          [
           "Andrew Mangiapane"
          ],
          [
           "Johnny Gaudreau"
          ],
          [
           "Sean Monahan"
          ],
          [
           "Matthew Tkachuk"
          ],
          [
           "Elias Lindholm"
          ],
          [
           "Mikael Backlund"
          ],
          [
           "Sean Monahan"
          ],
          [
           "Johnny Gaudreau"
          ],
          [
           "Matthew Tkachuk"
          ],
          [
           "Micheal Ferland"
          ],
          [
           "Dougie Hamilton"
          ]
         ],
         "hovertemplate": "Tm=CGY<br>ATOI=%{x}<br>Points=%{y}<br>Player=%{customdata[0]}<extra></extra>",
         "legendgroup": "CGY",
         "marker": {
          "color": "#19d3f3",
          "symbol": "circle"
         },
         "mode": "markers",
         "name": "CGY",
         "orientation": "v",
         "showlegend": true,
         "type": "scatter",
         "x": [
          0,
          0,
          0,
          0,
          0,
          0,
          0,
          0,
          0,
          0,
          0,
          0,
          0,
          0,
          0,
          0,
          0,
          0,
          0,
          0,
          0,
          0,
          0,
          0,
          0,
          0,
          0,
          0,
          0,
          0
         ],
         "xaxis": "x",
         "y": [
          3439,
          2432,
          2242,
          1937,
          1827,
          4262,
          4240,
          4075,
          3520,
          1814,
          1930,
          1928,
          1814,
          1627,
          1111,
          2925,
          2338,
          2226,
          1840,
          1715,
          3663,
          3448,
          3443,
          2751,
          2126,
          3133,
          2460,
          2425,
          2120,
          1727
         ],
         "yaxis": "y"
        },
        {
         "customdata": [
          [
           "Player"
          ],
          [
           "Player"
          ],
          [
           "Player"
          ],
          [
           "Player"
          ],
          [
           "Player"
          ],
          [
           "Player"
          ],
          [
           "Player"
          ],
          [
           "Player"
          ],
          [
           "Player"
          ],
          [
           "Player"
          ],
          [
           "Player"
          ],
          [
           "Player"
          ],
          [
           "Player"
          ],
          [
           "Player"
          ],
          [
           "Player"
          ],
          [
           "Player"
          ],
          [
           "Player"
          ],
          [
           "Player"
          ],
          [
           "Player"
          ],
          [
           "Player"
          ],
          [
           "Player"
          ],
          [
           "Player"
          ],
          [
           "Player"
          ],
          [
           "Player"
          ],
          [
           "Player"
          ],
          [
           "Player"
          ],
          [
           "Player"
          ],
          [
           "Player"
          ],
          [
           "Player"
          ],
          [
           "Player"
          ]
         ],
         "hovertemplate": "Tm=Tm<br>ATOI=%{x}<br>Points=%{y}<br>Player=%{customdata[0]}<extra></extra>",
         "legendgroup": "Tm",
         "marker": {
          "color": "#FF6692",
          "symbol": "circle"
         },
         "mode": "markers",
         "name": "Tm",
         "orientation": "v",
         "showlegend": true,
         "type": "scatter",
         "x": [
          0,
          0,
          0,
          0,
          0,
          0,
          0,
          0,
          0,
          0,
          0,
          0,
          0,
          0,
          0,
          0,
          0,
          0,
          0,
          0,
          0,
          0,
          0,
          0,
          0,
          0,
          0,
          0,
          0,
          0
         ],
         "xaxis": "x",
         "y": [
          0,
          0,
          0,
          0,
          0,
          0,
          0,
          0,
          0,
          0,
          0,
          0,
          0,
          0,
          0,
          0,
          0,
          0,
          0,
          0,
          0,
          0,
          0,
          0,
          0,
          0,
          0,
          0,
          0,
          0
         ],
         "yaxis": "y"
        },
        {
         "customdata": [
          [
           "Boone Jenner"
          ],
          [
           "Patrik Laine"
          ],
          [
           "Johnny Gaudreau"
          ],
          [
           "Kent Johnson"
          ],
          [
           "Eric Robinson"
          ],
          [
           "Oliver Bjorkstrand"
          ],
          [
           "Patrik Laine"
          ],
          [
           "Boone Jenner"
          ],
          [
           "Jack Roslovic"
          ],
          [
           "Gustav Nyquist"
          ],
          [
           "Oliver Bjorkstrand"
          ],
          [
           "Cam Atkinson"
          ],
          [
           "Jack Roslovic"
          ],
          [
           "Patrik Laine"
          ],
          [
           "Max Domi"
          ],
          [
           "Oliver Bjorkstrand"
          ],
          [
           "Zach Werenski"
          ],
          [
           "Pierre-Luc Dubois"
          ],
          [
           "Gustav Nyquist"
          ],
          [
           "Cam Atkinson"
          ],
          [
           "Cam Atkinson"
          ],
          [
           "Artemi Panarin"
          ],
          [
           "Pierre-Luc Dubois"
          ],
          [
           "Josh Anderson"
          ],
          [
           "Oliver Bjorkstrand"
          ],
          [
           "Artemi Panarin"
          ],
          [
           "Cam Atkinson"
          ],
          [
           "Pierre-Luc Dubois"
          ],
          [
           "Josh Anderson"
          ],
          [
           "Seth Jones"
          ]
         ],
         "hovertemplate": "Tm=CBJ<br>ATOI=%{x}<br>Points=%{y}<br>Player=%{customdata[0]}<extra></extra>",
         "legendgroup": "CBJ",
         "marker": {
          "color": "#B6E880",
          "symbol": "circle"
         },
         "mode": "markers",
         "name": "CBJ",
         "orientation": "v",
         "showlegend": true,
         "type": "scatter",
         "x": [
          0,
          0,
          0,
          0,
          0,
          0,
          0,
          0,
          0,
          0,
          0,
          0,
          0,
          0,
          0,
          0,
          0,
          0,
          0,
          0,
          0,
          0,
          0,
          0,
          0,
          0,
          0,
          0,
          0,
          0
         ],
         "xaxis": "x",
         "y": [
          2619,
          2230,
          2153,
          1624,
          1212,
          2829,
          2630,
          2321,
          2223,
          1835,
          1826,
          1519,
          1222,
          1011,
          915,
          2115,
          2021,
          1831,
          1527,
          1214,
          4128,
          2859,
          2734,
          2720,
          2313,
          2755,
          2422,
          2028,
          1911,
          1641
         ],
         "yaxis": "y"
        },
        {
         "customdata": [
          [
           "Mark Scheifele"
          ],
          [
           "Kyle Connor"
          ],
          [
           "Pierre-Luc Dubois"
          ],
          [
           "Josh Morrissey"
          ],
          [
           "Blake Wheeler"
          ],
          [
           "Kyle Connor"
          ],
          [
           "Mark Scheifele"
          ],
          [
           "Pierre-Luc Dubois"
          ],
          [
           "Nikolaj Ehlers"
          ],
          [
           "Paul Stastny"
          ],
          [
           "Kyle Connor"
          ],
          [
           "Mark Scheifele"
          ],
          [
           "Nikolaj Ehlers"
          ],
          [
           "Blake Wheeler"
          ],
          [
           "Andrew Copp"
          ],
          [
           "Kyle Connor"
          ],
          [
           "Mark Scheifele"
          ],
          [
           "Patrik Laine"
          ],
          [
           "Nikolaj Ehlers"
          ],
          [
           "Blake Wheeler"
          ],
          [
           "Mark Scheifele"
          ],
          [
           "Kyle Connor"
          ],
          [
           "Patrik Laine"
          ],
          [
           "Nikolaj Ehlers"
          ],
          [
           "Blake Wheeler"
          ],
          [
           "Patrik Laine"
          ],
          [
           "Kyle Connor"
          ],
          [
           "Nikolaj Ehlers"
          ],
          [
           "Blake Wheeler"
          ],
          [
           "Mark Scheifele"
          ]
         ],
         "hovertemplate": "Tm=WPG<br>ATOI=%{x}<br>Points=%{y}<br>Player=%{customdata[0]}<extra></extra>",
         "legendgroup": "WPG",
         "marker": {
          "color": "#FF97FF",
          "symbol": "circle"
         },
         "mode": "markers",
         "name": "WPG",
         "orientation": "v",
         "showlegend": true,
         "type": "scatter",
         "x": [
          0,
          0,
          0,
          0,
          0,
          0,
          0,
          0,
          0,
          0,
          0,
          0,
          0,
          0,
          0,
          0,
          0,
          0,
          0,
          0,
          0,
          0,
          0,
          0,
          0,
          0,
          0,
          0,
          0,
          0
         ],
         "xaxis": "x",
         "y": [
          4226,
          3149,
          2736,
          1660,
          1639,
          4746,
          2941,
          2832,
          2827,
          2124,
          2624,
          2142,
          2125,
          1531,
          1524,
          3835,
          2944,
          2835,
          2533,
          2243,
          3846,
          3432,
          3020,
          2116,
          2071,
          4426,
          3126,
          2931,
          2368,
          2337
         ],
         "yaxis": "y"
        },
        {
         "customdata": [
          [
           "Jake Guentzel"
          ],
          [
           "Sidney Crosby"
          ],
          [
           "Rickard Rakell"
          ],
          [
           "Evgeni Malkin"
          ],
          [
           "Jason Zucker"
          ],
          [
           "Jake Guentzel"
          ],
          [
           "Sidney Crosby"
          ],
          [
           "Bryan Rust"
          ],
          [
           "Evgeni Malkin"
          ],
          [
           "Jeff Carter"
          ],
          [
           "Sidney Crosby"
          ],
          [
           "Jake Guentzel"
          ],
          [
           "Bryan Rust"
          ],
          [
           "Jared McCann"
          ],
          [
           "Kasperi Kapanen"
          ],
          [
           "Bryan Rust"
          ],
          [
           "Evgeni Malkin"
          ],
          [
           "Jake Guentzel"
          ],
          [
           "Patric Hörnqvist"
          ],
          [
           "Sidney Crosby"
          ],
          [
           "Jake Guentzel"
          ],
          [
           "Sidney Crosby"
          ],
          [
           "Phil Kessel"
          ],
          [
           "Evgeni Malkin"
          ],
          [
           "Patric Hörnqvist"
          ],
          [
           "Evgeni Malkin"
          ],
          [
           "Phil Kessel"
          ],
          [
           "Sidney Crosby"
          ],
          [
           "Patric Hörnqvist"
          ],
          [
           "Jake Guentzel"
          ]
         ],
         "hovertemplate": "Tm=PIT<br>ATOI=%{x}<br>Points=%{y}<br>Player=%{customdata[0]}<extra></extra>",
         "legendgroup": "PIT",
         "marker": {
          "color": "#FECB52",
          "symbol": "circle"
         },
         "mode": "markers",
         "name": "PIT",
         "orientation": "v",
         "showlegend": true,
         "type": "scatter",
         "x": [
          0,
          0,
          0,
          0,
          0,
          0,
          0,
          0,
          0,
          0,
          0,
          0,
          0,
          0,
          0,
          0,
          0,
          0,
          0,
          0,
          0,
          0,
          0,
          0,
          0,
          0,
          0,
          0,
          0,
          0
         ],
         "xaxis": "x",
         "y": [
          3637,
          3360,
          2832,
          2756,
          2721,
          4044,
          3153,
          2434,
          2022,
          1926,
          2438,
          2334,
          2220,
          1418,
          1119,
          2729,
          2549,
          2023,
          1715,
          1631,
          4036,
          3565,
          2755,
          2151,
          1819,
          4256,
          3458,
          2960,
          2920,
          2226
         ],
         "yaxis": "y"
        },
        {
         "customdata": [
          [
           "Tage Thompson"
          ],
          [
           "Alex Tuch"
          ],
          [
           "Jeff Skinner"
          ],
          [
           "Dylan Cozens"
          ],
          [
           "Victor Olofsson"
          ],
          [
           "Tage Thompson"
          ],
          [
           "Jeff Skinner"
          ],
          [
           "Kyle Okposo"
          ],
          [
           "Victor Olofsson"
          ],
          [
           "Rasmus Dahlin"
          ],
          [
           "Sam Reinhart"
          ],
          [
           "Victor Olofsson"
          ],
          [
           "Casey Mittelstadt"
          ],
          [
           "Rasmus Dahlin"
          ],
          [
           "Rasmus Ristolainen"
          ],
          [
           "Jack Eichel"
          ],
          [
           "Sam Reinhart"
          ],
          [
           "Victor Olofsson"
          ],
          [
           "Marcus Johansson"
          ],
          [
           "Jimmy Vesey"
          ],
          [
           "Jeff Skinner"
          ],
          [
           "Jack Eichel"
          ],
          [
           "Sam Reinhart"
          ],
          [
           "Jason Pominville"
          ],
          [
           "Conor Sheary"
          ],
          [
           "Jack Eichel"
          ],
          [
           "Sam Reinhart"
          ],
          [
           "Ryan O'Reilly"
          ],
          [
           "Evander Kane"
          ],
          [
           "Jason Pominville"
          ]
         ],
         "hovertemplate": "Tm=BUF<br>ATOI=%{x}<br>Points=%{y}<br>Player=%{customdata[0]}<extra></extra>",
         "legendgroup": "BUF",
         "marker": {
          "color": "#636efa",
          "symbol": "circle"
         },
         "mode": "markers",
         "name": "BUF",
         "orientation": "v",
         "showlegend": true,
         "type": "scatter",
         "x": [
          0,
          0,
          0,
          0,
          0,
          0,
          0,
          0,
          0,
          0,
          0,
          0,
          0,
          0,
          0,
          0,
          0,
          0,
          0,
          0,
          0,
          0,
          0,
          0,
          0,
          0,
          0,
          0,
          0,
          0
         ],
         "xaxis": "x",
         "y": [
          4747,
          3643,
          3547,
          3137,
          2812,
          3830,
          3330,
          2124,
          2029,
          1340,
          2515,
          1319,
          1012,
          518,
          414,
          3642,
          2228,
          2022,
          921,
          911,
          4023,
          2854,
          2243,
          1615,
          1420,
          2539,
          2525,
          2437,
          2020,
          1618
         ],
         "yaxis": "y"
        },
        {
         "customdata": [
          [
           "Jack Hughes"
          ],
          [
           "Jesper Bratt"
          ],
          [
           "Nico Hischier"
          ],
          [
           "Dawson Mercer"
          ],
          [
           "Dougie Hamilton"
          ],
          [
           "Jesper Bratt"
          ],
          [
           "Jack Hughes"
          ],
          [
           "Yegor Sharangovich"
          ],
          [
           "Nico Hischier"
          ],
          [
           "Dawson Mercer"
          ],
          [
           "Pavel Zacha"
          ],
          [
           "Yegor Sharangovich"
          ],
          [
           "Jack Hughes"
          ],
          [
           "Janne Kuokkanen"
          ],
          [
           "Jesper Bratt"
          ],
          [
           "Kyle Palmieri"
          ],
          [
           "Blake Coleman"
          ],
          [
           "Jesper Bratt"
          ],
          [
           "Nico Hischier"
          ],
          [
           "Nikita Gusev"
          ],
          [
           "Kyle Palmieri"
          ],
          [
           "Blake Coleman"
          ],
          [
           "Travis Zajac"
          ],
          [
           "Nico Hischier"
          ],
          [
           "Pavel Zacha"
          ],
          [
           "Taylor Hall"
          ],
          [
           "Kyle Palmieri"
          ],
          [
           "Nico Hischier"
          ],
          [
           "Miles Wood"
          ],
          [
           "Jesper Bratt"
          ]
         ],
         "hovertemplate": "Tm=NJD<br>ATOI=%{x}<br>Points=%{y}<br>Player=%{customdata[0]}<extra></extra>",
         "legendgroup": "NJD",
         "marker": {
          "color": "#EF553B",
          "symbol": "circle"
         },
         "mode": "markers",
         "name": "NJD",
         "orientation": "v",
         "showlegend": true,
         "type": "scatter",
         "x": [
          0,
          0,
          0,
          0,
          0,
          0,
          0,
          0,
          0,
          0,
          0,
          0,
          0,
          0,
          0,
          0,
          0,
          0,
          0,
          0,
          0,
          0,
          0,
          0,
          0,
          0,
          0,
          0,
          0,
          0
         ],
         "xaxis": "x",
         "y": [
          4356,
          3241,
          3149,
          2729,
          2252,
          2647,
          2630,
          2422,
          2139,
          1725,
          1718,
          1614,
          1120,
          817,
          723,
          2520,
          2110,
          1616,
          1422,
          1331,
          2723,
          2214,
          1927,
          1730,
          1312,
          3954,
          2420,
          2032,
          1913,
          1322
         ],
         "yaxis": "y"
        },
        {
         "customdata": [
          [
           "Carter Verhaeghe"
          ],
          [
           "Matthew Tkachuk"
          ],
          [
           "Sam Reinhart"
          ],
          [
           "Aleksander Barkov"
          ],
          [
           "Eetu Luostarinen"
          ],
          [
           "Aleksander Barkov"
          ],
          [
           "Sam Reinhart"
          ],
          [
           "Anthony Duclair"
          ],
          [
           "Jonathan Huberdeau"
          ],
          [
           "Sam Bennett"
          ],
          [
           "Aleksander Barkov"
          ],
          [
           "Jonathan Huberdeau"
          ],
          [
           "Carter Verhaeghe"
          ],
          [
           "Alexander Wennberg"
          ],
          [
           "Patric Hörnqvist"
          ],
          [
           "Mike Hoffman"
          ],
          [
           "Evgenii Dadonov"
          ],
          [
           "Jonathan Huberdeau"
          ],
          [
           "Aleksander Barkov"
          ],
          [
           "Brett Connolly"
          ],
          [
           "Mike Hoffman"
          ],
          [
           "Aleksander Barkov"
          ],
          [
           "Jonathan Huberdeau"
          ],
          [
           "Evgenii Dadonov"
          ],
          [
           "Frank Vatrano"
          ],
          [
           "Vincent Trocheck"
          ],
          [
           "Evgenii Dadonov"
          ],
          [
           "Aleksander Barkov"
          ],
          [
           "Jonathan Huberdeau"
          ],
          [
           "Nick Bjugstad"
          ]
         ],
         "hovertemplate": "Tm=FLA<br>ATOI=%{x}<br>Points=%{y}<br>Player=%{customdata[0]}<extra></extra>",
         "legendgroup": "FLA",
         "marker": {
          "color": "#00cc96",
          "symbol": "circle"
         },
         "mode": "markers",
         "name": "FLA",
         "orientation": "v",
         "showlegend": true,
         "type": "scatter",
         "x": [
          0,
          0,
          0,
          0,
          0,
          0,
          0,
          0,
          0,
          0,
          0,
          0,
          0,
          0,
          0,
          0,
          0,
          0,
          0,
          0,
          0,
          0,
          0,
          0,
          0,
          0,
          0,
          0,
          0,
          0
         ],
         "xaxis": "x",
         "y": [
          4231,
          4069,
          3136,
          2355,
          1726,
          3949,
          3349,
          3127,
          3085,
          2821,
          2632,
          2041,
          1818,
          1712,
          1418,
          2930,
          2522,
          2355,
          2042,
          1914,
          3634,
          3561,
          3062,
          2842,
          2415,
          3144,
          2837,
          2751,
          2742,
          1930
         ],
         "yaxis": "y"
        },
        {
         "customdata": [
          [
           "Brayden Point"
          ],
          [
           "Steven Stamkos"
          ],
          [
           "Nikita Kucherov"
          ],
          [
           "Brandon Hagel"
          ],
          [
           "Alex Killorn"
          ],
          [
           "Steven Stamkos"
          ],
          [
           "Brayden Point"
          ],
          [
           "Nikita Kucherov"
          ],
          [
           "Alex Killorn"
          ],
          [
           "Ross Colton"
          ],
          [
           "Brayden Point"
          ],
          [
           "Yanni Gourde"
          ],
          [
           "Steven Stamkos"
          ],
          [
           "Ondřej Palát"
          ],
          [
           "Alex Killorn"
          ],
          [
           "Nikita Kucherov"
          ],
          [
           "Steven Stamkos"
          ],
          [
           "Alex Killorn"
          ],
          [
           "Brayden Point"
          ],
          [
           "Ondřej Palát"
          ],
          [
           "Steven Stamkos"
          ],
          [
           "Nikita Kucherov"
          ],
          [
           "Brayden Point"
          ],
          [
           "Tyler Johnson"
          ],
          [
           "Yanni Gourde"
          ],
          [
           "Nikita Kucherov"
          ],
          [
           "Brayden Point"
          ],
          [
           "Steven Stamkos"
          ],
          [
           "Yanni Gourde"
          ],
          [
           "Tyler Johnson"
          ]
         ],
         "hovertemplate": "Tm=TBL<br>ATOI=%{x}<br>Points=%{y}<br>Player=%{customdata[0]}<extra></extra>",
         "legendgroup": "TBL",
         "marker": {
          "color": "#ab63fa",
          "symbol": "circle"
         },
         "mode": "markers",
         "name": "TBL",
         "orientation": "v",
         "showlegend": true,
         "type": "scatter",
         "x": [
          0,
          0,
          0,
          0,
          0,
          0,
          0,
          0,
          0,
          0,
          0,
          0,
          0,
          0,
          0,
          0,
          0,
          0,
          0,
          0,
          0,
          0,
          0,
          0,
          0,
          0,
          0,
          0,
          0,
          0
         ],
         "xaxis": "x",
         "y": [
          5144,
          3450,
          3083,
          3034,
          2737,
          4264,
          2830,
          2544,
          2534,
          2217,
          2325,
          1719,
          1717,
          1531,
          1518,
          3352,
          2937,
          2623,
          2539,
          1724,
          4553,
          4187,
          4151,
          2918,
          2226,
          3961,
          3234,
          2759,
          2539,
          2129
         ],
         "yaxis": "y"
        },
        {
         "customdata": [
          [
           "Connor McDavid"
          ],
          [
           "Leon Draisaitl"
          ],
          [
           "Ryan Nugent-Hopkins"
          ],
          [
           "Zach Hyman"
          ],
          [
           "Evander Kane"
          ],
          [
           "Leon Draisaitl"
          ],
          [
           "Connor McDavid"
          ],
          [
           "Zach Hyman"
          ],
          [
           "Evander Kane"
          ],
          [
           "Kailer Yamamoto"
          ],
          [
           "Connor McDavid"
          ],
          [
           "Leon Draisaitl"
          ],
          [
           "Darnell Nurse"
          ],
          [
           "Ryan Nugent-Hopkins"
          ],
          [
           "Jesse Puljujärvi"
          ],
          [
           "Leon Draisaitl"
          ],
          [
           "Connor McDavid"
          ],
          [
           "Ryan Nugent-Hopkins"
          ],
          [
           "James Neal"
          ],
          [
           "Zack Kassian"
          ],
          [
           "Leon Draisaitl"
          ],
          [
           "Connor McDavid"
          ],
          [
           "Ryan Nugent-Hopkins"
          ],
          [
           "Alex Chiasson"
          ],
          [
           "Zack Kassian"
          ],
          [
           "Connor McDavid"
          ],
          [
           "Leon Draisaitl"
          ],
          [
           "Ryan Nugent-Hopkins"
          ],
          [
           "Pat Maroon"
          ],
          [
           "Ryan Strome"
          ]
         ],
         "hovertemplate": "Tm=EDM<br>ATOI=%{x}<br>Points=%{y}<br>Player=%{customdata[0]}<extra></extra>",
         "legendgroup": "EDM",
         "marker": {
          "color": "#FFA15A",
          "symbol": "circle"
         },
         "mode": "markers",
         "name": "EDM",
         "orientation": "v",
         "showlegend": true,
         "type": "scatter",
         "x": [
          0,
          0,
          0,
          0,
          0,
          0,
          0,
          0,
          0,
          0,
          0,
          0,
          0,
          0,
          0,
          0,
          0,
          0,
          0,
          0,
          0,
          0,
          0,
          0,
          0,
          0,
          0,
          0,
          0,
          0
         ],
         "xaxis": "x",
         "y": [
          6489,
          5276,
          3767,
          3647,
          1612,
          5555,
          4479,
          2727,
          2217,
          2021,
          3372,
          3153,
          1620,
          1619,
          1510,
          4367,
          3463,
          2239,
          1912,
          1519,
          5055,
          4175,
          2841,
          2216,
          1511,
          4167,
          2545,
          2424,
          1416,
          1321
         ],
         "yaxis": "y"
        },
        {
         "customdata": [
          [
           "Tim Stützle"
          ],
          [
           "Brady Tkachuk"
          ],
          [
           "Claude Giroux"
          ],
          [
           "Alex DeBrincat"
          ],
          [
           "Drake Batherson"
          ],
          [
           "Joshua Norris"
          ],
          [
           "Brady Tkachuk"
          ],
          [
           "Tim Stützle"
          ],
          [
           "Alex Formenton"
          ],
          [
           "Drake Batherson"
          ],
          [
           "Connor Brown"
          ],
          [
           "Brady Tkachuk"
          ],
          [
           "Joshua Norris"
          ],
          [
           "Drake Batherson"
          ],
          [
           "Tim Stützle"
          ],
          [
           "Jean-Gabriel Pageau"
          ],
          [
           "Anthony Duclair"
          ],
          [
           "Brady Tkachuk"
          ],
          [
           "Connor Brown"
          ],
          [
           "Tyler Ennis"
          ],
          [
           "Mark Stone"
          ],
          [
           "Matt Duchene"
          ],
          [
           "Brady Tkachuk"
          ],
          [
           "Ryan Dzingel"
          ],
          [
           "Bobby Ryan"
          ],
          [
           "Matt Duchene"
          ],
          [
           "Ryan Dzingel"
          ],
          [
           "Mike Hoffman"
          ],
          [
           "Mark Stone"
          ],
          [
           "Derick Brassard"
          ]
         ],
         "hovertemplate": "Tm=OTT<br>ATOI=%{x}<br>Points=%{y}<br>Player=%{customdata[0]}<extra></extra>",
         "legendgroup": "OTT",
         "marker": {
          "color": "#19d3f3",
          "symbol": "circle"
         },
         "mode": "markers",
         "name": "OTT",
         "orientation": "v",
         "showlegend": true,
         "type": "scatter",
         "x": [
          0,
          0,
          0,
          0,
          0,
          0,
          0,
          0,
          0,
          0,
          0,
          0,
          0,
          0,
          0,
          0,
          0,
          0,
          0,
          0,
          0,
          0,
          0,
          0,
          0,
          0,
          0,
          0,
          0,
          0
         ],
         "xaxis": "x",
         "y": [
          3951,
          3548,
          3544,
          2739,
          2240,
          3520,
          3037,
          2236,
          1814,
          1727,
          2114,
          1719,
          1718,
          1717,
          1217,
          2416,
          2317,
          2123,
          1627,
          1419,
          2834,
          2731,
          2223,
          2222,
          1527,
          2326,
          2318,
          2234,
          2042,
          1820
         ],
         "yaxis": "y"
        },
        {
         "customdata": [
          [
           "Trevor Zegras"
          ],
          [
           "Troy Terry"
          ],
          [
           "Frank Vatrano"
          ],
          [
           "Adam Henrique"
          ],
          [
           "Mason McTavish"
          ],
          [
           "Troy Terry"
          ],
          [
           "Trevor Zegras"
          ],
          [
           "Adam Henrique"
          ],
          [
           "Isac Lundeström"
          ],
          [
           "Rickard Rakell"
          ],
          [
           "Max Comtois"
          ],
          [
           "Rickard Rakell"
          ],
          [
           "Troy Terry"
          ],
          [
           "Cam Fowler"
          ],
          [
           "Ryan Getzlaf"
          ],
          [
           "Adam Henrique"
          ],
          [
           "Jakob Silfverberg"
          ],
          [
           "Rickard Rakell"
          ],
          [
           "Ryan Getzlaf"
          ],
          [
           "Cam Fowler"
          ],
          [
           "Jakob Silfverberg"
          ],
          [
           "Rickard Rakell"
          ],
          [
           "Adam Henrique"
          ],
          [
           "Ryan Getzlaf"
          ],
          [
           "Nick Ritchie"
          ],
          [
           "Rickard Rakell"
          ],
          [
           "Ondřej Kaše"
          ],
          [
           "Adam Henrique"
          ],
          [
           "Corey Perry"
          ],
          [
           "Jakob Silfverberg"
          ]
         ],
         "hovertemplate": "Tm=ANA<br>ATOI=%{x}<br>Points=%{y}<br>Player=%{customdata[0]}<extra></extra>",
         "legendgroup": "ANA",
         "marker": {
          "color": "#FF6692",
          "symbol": "circle"
         },
         "mode": "markers",
         "name": "ANA",
         "orientation": "v",
         "showlegend": true,
         "type": "scatter",
         "x": [
          0,
          0,
          0,
          0,
          0,
          0,
          0,
          0,
          0,
          0,
          0,
          0,
          0,
          0,
          0,
          0,
          0,
          0,
          0,
          0,
          0,
          0,
          0,
          0,
          0,
          0,
          0,
          0,
          0,
          0
         ],
         "xaxis": "x",
         "y": [
          2342,
          2338,
          2219,
          2216,
          1726,
          3730,
          2338,
          1923,
          1613,
          1612,
          1617,
          919,
          713,
          518,
          512,
          2617,
          2118,
          1527,
          1329,
          920,
          2419,
          1825,
          1824,
          1434,
          922,
          3435,
          2018,
          2016,
          1732,
          1723
         ],
         "yaxis": "y"
        },
        {
         "customdata": [
          [
           "Jared McCann"
          ],
          [
           "Matthew Beniers"
          ],
          [
           "Daniel Sprong"
          ],
          [
           "Jaden Schwartz"
          ],
          [
           "Jordan Eberle"
          ],
          [
           "Jared McCann"
          ],
          [
           "Yanni Gourde"
          ],
          [
           "Jordan Eberle"
          ],
          [
           "Ryan Donato"
          ],
          [
           "Calle Järnkrok"
          ]
         ],
         "hovertemplate": "Tm=SEA<br>ATOI=%{x}<br>Points=%{y}<br>Player=%{customdata[0]}<extra></extra>",
         "legendgroup": "SEA",
         "marker": {
          "color": "#B6E880",
          "symbol": "circle"
         },
         "mode": "markers",
         "name": "SEA",
         "orientation": "v",
         "showlegend": true,
         "type": "scatter",
         "x": [
          0,
          0,
          0,
          0,
          0,
          0,
          0,
          0,
          0,
          0
         ],
         "xaxis": "x",
         "y": [
          4030,
          2433,
          2125,
          2119,
          2043,
          2723,
          2127,
          2123,
          1615,
          1214
         ],
         "yaxis": "y"
        },
        {
         "customdata": [
          [
           "Jason Robertson"
          ],
          [
           "Roope Hintz"
          ],
          [
           "Jamie Benn"
          ],
          [
           "Joe Pavelski"
          ],
          [
           "Wyatt Johnston"
          ],
          [
           "Jason Robertson"
          ],
          [
           "Roope Hintz"
          ],
          [
           "Joe Pavelski"
          ],
          [
           "Tyler Seguin"
          ],
          [
           "Jamie Benn"
          ],
          [
           "Joe Pavelski"
          ],
          [
           "Jason Robertson"
          ],
          [
           "Roope Hintz"
          ],
          [
           "Denis Gurianov"
          ],
          [
           "Jamie Benn"
          ],
          [
           "Jamie Benn"
          ],
          [
           "Roope Hintz"
          ],
          [
           "Tyler Seguin"
          ],
          [
           "Alexander Radulov"
          ],
          [
           "Joe Pavelski"
          ],
          [
           "Tyler Seguin"
          ],
          [
           "Alexander Radulov"
          ],
          [
           "Jamie Benn"
          ],
          [
           "Radek Faksa"
          ],
          [
           "Miro Heiskanen"
          ],
          [
           "Tyler Seguin"
          ],
          [
           "Jamie Benn"
          ],
          [
           "Alexander Radulov"
          ],
          [
           "Mattias Janmark"
          ],
          [
           "Radek Faksa"
          ]
         ],
         "hovertemplate": "Tm=DAL<br>ATOI=%{x}<br>Points=%{y}<br>Player=%{customdata[0]}<extra></extra>",
         "legendgroup": "DAL",
         "marker": {
          "color": "#FF97FF",
          "symbol": "circle"
         },
         "mode": "markers",
         "name": "DAL",
         "orientation": "v",
         "showlegend": true,
         "type": "scatter",
         "x": [
          0,
          0,
          0,
          0,
          0,
          0,
          0,
          0,
          0,
          0,
          0,
          0,
          0,
          0,
          0,
          0,
          0,
          0,
          0,
          0,
          0,
          0,
          0,
          0,
          0,
          0,
          0,
          0,
          0,
          0
         ],
         "xaxis": "x",
         "y": [
          4663,
          3738,
          3345,
          2849,
          2417,
          4138,
          3735,
          2754,
          2425,
          1828,
          2526,
          1728,
          1528,
          1218,
          1124,
          1920,
          1914,
          1733,
          1519,
          1417,
          3347,
          2943,
          2726,
          1515,
          1221,
          4038,
          3643,
          2745,
          1915,
          1716
         ],
         "yaxis": "y"
        },
        {
         "customdata": [
          [
           "David Pastrňák"
          ],
          [
           "Patrice Bergeron"
          ],
          [
           "Jake DeBrusk"
          ],
          [
           "Brad Marchand"
          ],
          [
           "Pavel Zacha"
          ],
          [
           "David Pastrňák"
          ],
          [
           "Brad Marchand"
          ],
          [
           "Patrice Bergeron"
          ],
          [
           "Jake DeBrusk"
          ],
          [
           "Taylor Hall"
          ],
          [
           "Brad Marchand"
          ],
          [
           "Patrice Bergeron"
          ],
          [
           "David Pastrňák"
          ],
          [
           "Nick Ritchie"
          ],
          [
           "Craig Smith"
          ],
          [
           "David Pastrňák"
          ],
          [
           "Patrice Bergeron"
          ],
          [
           "Brad Marchand"
          ],
          [
           "Jake DeBrusk"
          ],
          [
           "Charlie Coyle"
          ],
          [
           "David Pastrňák"
          ],
          [
           "Brad Marchand"
          ],
          [
           "Patrice Bergeron"
          ],
          [
           "Jake DeBrusk"
          ],
          [
           "David Krejčí"
          ],
          [
           "David Pastrňák"
          ],
          [
           "Brad Marchand"
          ],
          [
           "Patrice Bergeron"
          ],
          [
           "David Krejčí"
          ],
          [
           "Danton Heinen"
          ]
         ],
         "hovertemplate": "Tm=BOS<br>ATOI=%{x}<br>Points=%{y}<br>Player=%{customdata[0]}<extra></extra>",
         "legendgroup": "BOS",
         "marker": {
          "color": "#FECB52",
          "symbol": "circle"
         },
         "mode": "markers",
         "name": "BOS",
         "orientation": "v",
         "showlegend": true,
         "type": "scatter",
         "x": [
          0,
          0,
          0,
          0,
          0,
          0,
          0,
          0,
          0,
          0,
          0,
          0,
          0,
          0,
          0,
          0,
          0,
          0,
          0,
          0,
          0,
          0,
          0,
          0,
          0,
          0,
          0,
          0,
          0,
          0
         ],
         "xaxis": "x",
         "y": [
          6152,
          2731,
          2723,
          2146,
          2136,
          4037,
          3248,
          2540,
          2517,
          2041,
          2940,
          2325,
          2028,
          1511,
          1319,
          4847,
          3125,
          2859,
          1916,
          1621,
          3843,
          3664,
          3247,
          2715,
          2053,
          3545,
          3451,
          3033,
          1727,
          1631
         ],
         "yaxis": "y"
        },
        {
         "customdata": [
          [
           "Dylan Larkin"
          ],
          [
           "David Perron"
          ],
          [
           "Dominik Kubalík"
          ],
          [
           "Lucas Raymond"
          ],
          [
           "Jonatan Berggren"
          ],
          [
           "Dylan Larkin"
          ],
          [
           "Tyler Bertuzzi"
          ],
          [
           "Lucas Raymond"
          ],
          [
           "Robby Fabbri"
          ],
          [
           "Pius Suter"
          ],
          [
           "Anthony Mantha"
          ],
          [
           "Dylan Larkin"
          ],
          [
           "Filip Zadina"
          ],
          [
           "Filip Hronek"
          ],
          [
           "Adam Erne"
          ],
          [
           "Tyler Bertuzzi"
          ],
          [
           "Dylan Larkin"
          ],
          [
           "Anthony Mantha"
          ],
          [
           "Robby Fabbri"
          ],
          [
           "Andreas Athanasiou"
          ],
          [
           "Dylan Larkin"
          ],
          [
           "Andreas Athanasiou"
          ],
          [
           "Anthony Mantha"
          ],
          [
           "Tyler Bertuzzi"
          ],
          [
           "Gustav Nyquist"
          ],
          [
           "Anthony Mantha"
          ],
          [
           "Gustav Nyquist"
          ],
          [
           "Dylan Larkin"
          ],
          [
           "Frans Nielsen"
          ],
          [
           "Andreas Athanasiou"
          ]
         ],
         "hovertemplate": "Tm=DET<br>ATOI=%{x}<br>Points=%{y}<br>Player=%{customdata[0]}<extra></extra>",
         "legendgroup": "DET",
         "marker": {
          "color": "#636efa",
          "symbol": "circle"
         },
         "mode": "markers",
         "name": "DET",
         "orientation": "v",
         "showlegend": true,
         "type": "scatter",
         "x": [
          0,
          0,
          0,
          0,
          0,
          0,
          0,
          0,
          0,
          0,
          0,
          0,
          0,
          0,
          0,
          0,
          0,
          0,
          0,
          0,
          0,
          0,
          0,
          0,
          0,
          0,
          0,
          0,
          0,
          0
         ],
         "xaxis": "x",
         "y": [
          3247,
          2432,
          2025,
          1728,
          1513,
          3138,
          3032,
          2334,
          1713,
          1521,
          1110,
          914,
          613,
          224,
          119,
          2127,
          1934,
          1622,
          1417,
          1014,
          3241,
          3024,
          2523,
          2126,
          1633,
          2424,
          2119,
          1647,
          1617,
          1617
         ],
         "yaxis": "y"
        },
        {
         "customdata": [
          [
           "Clayton Keller"
          ],
          [
           "Lawson Crouse"
          ],
          [
           "Nick Schmaltz"
          ],
          [
           "Barrett Hayton"
          ],
          [
           "Travis Boyd"
          ],
          [
           "Clayton Keller"
          ],
          [
           "Nick Schmaltz"
          ],
          [
           "Lawson Crouse"
          ],
          [
           "Travis Boyd"
          ],
          [
           "Shayne Gostisbehere"
          ],
          [
           "Phil Kessel"
          ],
          [
           "Jakob Chychrun"
          ],
          [
           "Christian Dvorak"
          ],
          [
           "Clayton Keller"
          ],
          [
           "Conor Garland"
          ],
          [
           "Conor Garland"
          ],
          [
           "Christian Dvorak"
          ],
          [
           "Clayton Keller"
          ],
          [
           "Carl Söderberg"
          ],
          [
           "Lawson Crouse"
          ],
          [
           "Alex Galchenyuk"
          ],
          [
           "Vinnie Hinostroza"
          ],
          [
           "Derek Stepan"
          ],
          [
           "Clayton Keller"
          ],
          [
           "Oliver Ekman-Larsson"
          ],
          [
           "Clayton Keller"
          ],
          [
           "Brendan Perlini"
          ],
          [
           "Christian Dvorak"
          ],
          [
           "Christian Fischer"
          ],
          [
           "Derek Stepan"
          ]
         ],
         "hovertemplate": "Tm=ARI<br>ATOI=%{x}<br>Points=%{y}<br>Player=%{customdata[0]}<extra></extra>",
         "legendgroup": "ARI",
         "marker": {
          "color": "#EF553B",
          "symbol": "circle"
         },
         "mode": "markers",
         "name": "ARI",
         "orientation": "v",
         "showlegend": true,
         "type": "scatter",
         "x": [
          0,
          0,
          0,
          0,
          0,
          0,
          0,
          0,
          0,
          0,
          0,
          0,
          0,
          0,
          0,
          0,
          0,
          0,
          0,
          0,
          0,
          0,
          0,
          0,
          0,
          0,
          0,
          0,
          0,
          0
         ],
         "xaxis": "x",
         "y": [
          3749,
          2421,
          2236,
          1924,
          1519,
          2835,
          2336,
          2014,
          1718,
          1437,
          2023,
          1823,
          1714,
          1421,
          1227,
          2217,
          1820,
          1727,
          1718,
          1510,
          1922,
          1623,
          1520,
          1433,
          1430,
          2342,
          1713,
          1522,
          1518,
          1442
         ],
         "yaxis": "y"
        },
        {
         "customdata": [
          [
           "Mika Zibanejad"
          ],
          [
           "Chris Kreider"
          ],
          [
           "Artemi Panarin"
          ],
          [
           "Vincent Trocheck"
          ],
          [
           "Filip Chytil"
          ],
          [
           "Chris Kreider"
          ],
          [
           "Mika Zibanejad"
          ],
          [
           "Artemi Panarin"
          ],
          [
           "Ryan Strome"
          ],
          [
           "Alexis Lafrenière"
          ],
          [
           "Mika Zibanejad"
          ],
          [
           "Pavel Buchnevich"
          ],
          [
           "Chris Kreider"
          ],
          [
           "Artemi Panarin"
          ],
          [
           "Ryan Strome"
          ],
          [
           "Mika Zibanejad"
          ],
          [
           "Artemi Panarin"
          ],
          [
           "Chris Kreider"
          ],
          [
           "Ryan Strome"
          ],
          [
           "Pavel Buchnevich"
          ],
          [
           "Mika Zibanejad"
          ],
          [
           "Chris Kreider"
          ],
          [
           "Pavel Buchnevich"
          ],
          [
           "Ryan Strome"
          ],
          [
           "Jimmy Vesey"
          ],
          [
           "Mika Zibanejad"
          ],
          [
           "Kevin Hayes"
          ],
          [
           "Rick Nash"
          ],
          [
           "Jimmy Vesey"
          ],
          [
           "Mats Zuccarello"
          ]
         ],
         "hovertemplate": "Tm=NYR<br>ATOI=%{x}<br>Points=%{y}<br>Player=%{customdata[0]}<extra></extra>",
         "legendgroup": "NYR",
         "marker": {
          "color": "#00cc96",
          "symbol": "circle"
         },
         "mode": "markers",
         "name": "NYR",
         "orientation": "v",
         "showlegend": true,
         "type": "scatter",
         "x": [
          0,
          0,
          0,
          0,
          0,
          0,
          0,
          0,
          0,
          0,
          0,
          0,
          0,
          0,
          0,
          0,
          0,
          0,
          0,
          0,
          0,
          0,
          0,
          0,
          0,
          0,
          0,
          0,
          0,
          0
         ],
         "xaxis": "x",
         "y": [
          3952,
          3618,
          2963,
          2242,
          2223,
          5225,
          2952,
          2274,
          2133,
          1912,
          2426,
          2028,
          2010,
          1741,
          1435,
          4134,
          3263,
          2421,
          1841,
          1630,
          3044,
          2824,
          2117,
          1815,
          1718,
          2720,
          2519,
          1810,
          1711,
          1637
         ],
         "yaxis": "y"
        },
        {
         "customdata": [
          [
           "Mikko Rantanen"
          ],
          [
           "Nathan MacKinnon"
          ],
          [
           "Artturi Lehkonen"
          ],
          [
           "Cale Makar"
          ],
          [
           "J.T. Compher"
          ],
          [
           "Mikko Rantanen"
          ],
          [
           "Nathan MacKinnon"
          ],
          [
           "Gabriel Landeskog"
          ],
          [
           "Nazem Kadri"
          ],
          [
           "Cale Makar"
          ],
          [
           "Mikko Rantanen"
          ],
          [
           "Nathan MacKinnon"
          ],
          [
           "Gabriel Landeskog"
          ],
          [
           "André Burakovsky"
          ],
          [
           "Joonas Donskoi"
          ],
          [
           "Nathan MacKinnon"
          ],
          [
           "Gabriel Landeskog"
          ],
          [
           "André Burakovsky"
          ],
          [
           "Mikko Rantanen"
          ],
          [
           "Nazem Kadri"
          ],
          [
           "Nathan MacKinnon"
          ],
          [
           "Gabriel Landeskog"
          ],
          [
           "Mikko Rantanen"
          ],
          [
           "Carl Söderberg"
          ],
          [
           "J.T. Compher"
          ],
          [
           "Nathan MacKinnon"
          ],
          [
           "Mikko Rantanen"
          ],
          [
           "Gabriel Landeskog"
          ],
          [
           "Alexander Kerfoot"
          ],
          [
           "Carl Söderberg"
          ]
         ],
         "hovertemplate": "Tm=COL<br>ATOI=%{x}<br>Points=%{y}<br>Player=%{customdata[0]}<extra></extra>",
         "legendgroup": "COL",
         "marker": {
          "color": "#ab63fa",
          "symbol": "circle"
         },
         "mode": "markers",
         "name": "COL",
         "orientation": "v",
         "showlegend": true,
         "type": "scatter",
         "x": [
          0,
          0,
          0,
          0,
          0,
          0,
          0,
          0,
          0,
          0,
          0,
          0,
          0,
          0,
          0,
          0,
          0,
          0,
          0,
          0,
          0,
          0,
          0,
          0,
          0,
          0,
          0,
          0,
          0,
          0
         ],
         "xaxis": "x",
         "y": [
          5550,
          4269,
          2130,
          1749,
          1735,
          3656,
          3256,
          3029,
          2859,
          2858,
          3036,
          2045,
          2032,
          1925,
          1714,
          3558,
          2123,
          2025,
          1922,
          1917,
          4158,
          3441,
          3156,
          2326,
          1616,
          3958,
          2955,
          2537,
          1924,
          1621
         ],
         "yaxis": "y"
        }
       ],
       "layout": {
        "legend": {
         "title": {
          "text": "Tm"
         },
         "tracegroupgap": 0
        },
        "template": {
         "data": {
          "bar": [
           {
            "error_x": {
             "color": "#2a3f5f"
            },
            "error_y": {
             "color": "#2a3f5f"
            },
            "marker": {
             "line": {
              "color": "#E5ECF6",
              "width": 0.5
             },
             "pattern": {
              "fillmode": "overlay",
              "size": 10,
              "solidity": 0.2
             }
            },
            "type": "bar"
           }
          ],
          "barpolar": [
           {
            "marker": {
             "line": {
              "color": "#E5ECF6",
              "width": 0.5
             },
             "pattern": {
              "fillmode": "overlay",
              "size": 10,
              "solidity": 0.2
             }
            },
            "type": "barpolar"
           }
          ],
          "carpet": [
           {
            "aaxis": {
             "endlinecolor": "#2a3f5f",
             "gridcolor": "white",
             "linecolor": "white",
             "minorgridcolor": "white",
             "startlinecolor": "#2a3f5f"
            },
            "baxis": {
             "endlinecolor": "#2a3f5f",
             "gridcolor": "white",
             "linecolor": "white",
             "minorgridcolor": "white",
             "startlinecolor": "#2a3f5f"
            },
            "type": "carpet"
           }
          ],
          "choropleth": [
           {
            "colorbar": {
             "outlinewidth": 0,
             "ticks": ""
            },
            "type": "choropleth"
           }
          ],
          "contour": [
           {
            "colorbar": {
             "outlinewidth": 0,
             "ticks": ""
            },
            "colorscale": [
             [
              0,
              "#0d0887"
             ],
             [
              0.1111111111111111,
              "#46039f"
             ],
             [
              0.2222222222222222,
              "#7201a8"
             ],
             [
              0.3333333333333333,
              "#9c179e"
             ],
             [
              0.4444444444444444,
              "#bd3786"
             ],
             [
              0.5555555555555556,
              "#d8576b"
             ],
             [
              0.6666666666666666,
              "#ed7953"
             ],
             [
              0.7777777777777778,
              "#fb9f3a"
             ],
             [
              0.8888888888888888,
              "#fdca26"
             ],
             [
              1,
              "#f0f921"
             ]
            ],
            "type": "contour"
           }
          ],
          "contourcarpet": [
           {
            "colorbar": {
             "outlinewidth": 0,
             "ticks": ""
            },
            "type": "contourcarpet"
           }
          ],
          "heatmap": [
           {
            "colorbar": {
             "outlinewidth": 0,
             "ticks": ""
            },
            "colorscale": [
             [
              0,
              "#0d0887"
             ],
             [
              0.1111111111111111,
              "#46039f"
             ],
             [
              0.2222222222222222,
              "#7201a8"
             ],
             [
              0.3333333333333333,
              "#9c179e"
             ],
             [
              0.4444444444444444,
              "#bd3786"
             ],
             [
              0.5555555555555556,
              "#d8576b"
             ],
             [
              0.6666666666666666,
              "#ed7953"
             ],
             [
              0.7777777777777778,
              "#fb9f3a"
             ],
             [
              0.8888888888888888,
              "#fdca26"
             ],
             [
              1,
              "#f0f921"
             ]
            ],
            "type": "heatmap"
           }
          ],
          "heatmapgl": [
           {
            "colorbar": {
             "outlinewidth": 0,
             "ticks": ""
            },
            "colorscale": [
             [
              0,
              "#0d0887"
             ],
             [
              0.1111111111111111,
              "#46039f"
             ],
             [
              0.2222222222222222,
              "#7201a8"
             ],
             [
              0.3333333333333333,
              "#9c179e"
             ],
             [
              0.4444444444444444,
              "#bd3786"
             ],
             [
              0.5555555555555556,
              "#d8576b"
             ],
             [
              0.6666666666666666,
              "#ed7953"
             ],
             [
              0.7777777777777778,
              "#fb9f3a"
             ],
             [
              0.8888888888888888,
              "#fdca26"
             ],
             [
              1,
              "#f0f921"
             ]
            ],
            "type": "heatmapgl"
           }
          ],
          "histogram": [
           {
            "marker": {
             "pattern": {
              "fillmode": "overlay",
              "size": 10,
              "solidity": 0.2
             }
            },
            "type": "histogram"
           }
          ],
          "histogram2d": [
           {
            "colorbar": {
             "outlinewidth": 0,
             "ticks": ""
            },
            "colorscale": [
             [
              0,
              "#0d0887"
             ],
             [
              0.1111111111111111,
              "#46039f"
             ],
             [
              0.2222222222222222,
              "#7201a8"
             ],
             [
              0.3333333333333333,
              "#9c179e"
             ],
             [
              0.4444444444444444,
              "#bd3786"
             ],
             [
              0.5555555555555556,
              "#d8576b"
             ],
             [
              0.6666666666666666,
              "#ed7953"
             ],
             [
              0.7777777777777778,
              "#fb9f3a"
             ],
             [
              0.8888888888888888,
              "#fdca26"
             ],
             [
              1,
              "#f0f921"
             ]
            ],
            "type": "histogram2d"
           }
          ],
          "histogram2dcontour": [
           {
            "colorbar": {
             "outlinewidth": 0,
             "ticks": ""
            },
            "colorscale": [
             [
              0,
              "#0d0887"
             ],
             [
              0.1111111111111111,
              "#46039f"
             ],
             [
              0.2222222222222222,
              "#7201a8"
             ],
             [
              0.3333333333333333,
              "#9c179e"
             ],
             [
              0.4444444444444444,
              "#bd3786"
             ],
             [
              0.5555555555555556,
              "#d8576b"
             ],
             [
              0.6666666666666666,
              "#ed7953"
             ],
             [
              0.7777777777777778,
              "#fb9f3a"
             ],
             [
              0.8888888888888888,
              "#fdca26"
             ],
             [
              1,
              "#f0f921"
             ]
            ],
            "type": "histogram2dcontour"
           }
          ],
          "mesh3d": [
           {
            "colorbar": {
             "outlinewidth": 0,
             "ticks": ""
            },
            "type": "mesh3d"
           }
          ],
          "parcoords": [
           {
            "line": {
             "colorbar": {
              "outlinewidth": 0,
              "ticks": ""
             }
            },
            "type": "parcoords"
           }
          ],
          "pie": [
           {
            "automargin": true,
            "type": "pie"
           }
          ],
          "scatter": [
           {
            "fillpattern": {
             "fillmode": "overlay",
             "size": 10,
             "solidity": 0.2
            },
            "type": "scatter"
           }
          ],
          "scatter3d": [
           {
            "line": {
             "colorbar": {
              "outlinewidth": 0,
              "ticks": ""
             }
            },
            "marker": {
             "colorbar": {
              "outlinewidth": 0,
              "ticks": ""
             }
            },
            "type": "scatter3d"
           }
          ],
          "scattercarpet": [
           {
            "marker": {
             "colorbar": {
              "outlinewidth": 0,
              "ticks": ""
             }
            },
            "type": "scattercarpet"
           }
          ],
          "scattergeo": [
           {
            "marker": {
             "colorbar": {
              "outlinewidth": 0,
              "ticks": ""
             }
            },
            "type": "scattergeo"
           }
          ],
          "scattergl": [
           {
            "marker": {
             "colorbar": {
              "outlinewidth": 0,
              "ticks": ""
             }
            },
            "type": "scattergl"
           }
          ],
          "scattermapbox": [
           {
            "marker": {
             "colorbar": {
              "outlinewidth": 0,
              "ticks": ""
             }
            },
            "type": "scattermapbox"
           }
          ],
          "scatterpolar": [
           {
            "marker": {
             "colorbar": {
              "outlinewidth": 0,
              "ticks": ""
             }
            },
            "type": "scatterpolar"
           }
          ],
          "scatterpolargl": [
           {
            "marker": {
             "colorbar": {
              "outlinewidth": 0,
              "ticks": ""
             }
            },
            "type": "scatterpolargl"
           }
          ],
          "scatterternary": [
           {
            "marker": {
             "colorbar": {
              "outlinewidth": 0,
              "ticks": ""
             }
            },
            "type": "scatterternary"
           }
          ],
          "surface": [
           {
            "colorbar": {
             "outlinewidth": 0,
             "ticks": ""
            },
            "colorscale": [
             [
              0,
              "#0d0887"
             ],
             [
              0.1111111111111111,
              "#46039f"
             ],
             [
              0.2222222222222222,
              "#7201a8"
             ],
             [
              0.3333333333333333,
              "#9c179e"
             ],
             [
              0.4444444444444444,
              "#bd3786"
             ],
             [
              0.5555555555555556,
              "#d8576b"
             ],
             [
              0.6666666666666666,
              "#ed7953"
             ],
             [
              0.7777777777777778,
              "#fb9f3a"
             ],
             [
              0.8888888888888888,
              "#fdca26"
             ],
             [
              1,
              "#f0f921"
             ]
            ],
            "type": "surface"
           }
          ],
          "table": [
           {
            "cells": {
             "fill": {
              "color": "#EBF0F8"
             },
             "line": {
              "color": "white"
             }
            },
            "header": {
             "fill": {
              "color": "#C8D4E3"
             },
             "line": {
              "color": "white"
             }
            },
            "type": "table"
           }
          ]
         },
         "layout": {
          "annotationdefaults": {
           "arrowcolor": "#2a3f5f",
           "arrowhead": 0,
           "arrowwidth": 1
          },
          "autotypenumbers": "strict",
          "coloraxis": {
           "colorbar": {
            "outlinewidth": 0,
            "ticks": ""
           }
          },
          "colorscale": {
           "diverging": [
            [
             0,
             "#8e0152"
            ],
            [
             0.1,
             "#c51b7d"
            ],
            [
             0.2,
             "#de77ae"
            ],
            [
             0.3,
             "#f1b6da"
            ],
            [
             0.4,
             "#fde0ef"
            ],
            [
             0.5,
             "#f7f7f7"
            ],
            [
             0.6,
             "#e6f5d0"
            ],
            [
             0.7,
             "#b8e186"
            ],
            [
             0.8,
             "#7fbc41"
            ],
            [
             0.9,
             "#4d9221"
            ],
            [
             1,
             "#276419"
            ]
           ],
           "sequential": [
            [
             0,
             "#0d0887"
            ],
            [
             0.1111111111111111,
             "#46039f"
            ],
            [
             0.2222222222222222,
             "#7201a8"
            ],
            [
             0.3333333333333333,
             "#9c179e"
            ],
            [
             0.4444444444444444,
             "#bd3786"
            ],
            [
             0.5555555555555556,
             "#d8576b"
            ],
            [
             0.6666666666666666,
             "#ed7953"
            ],
            [
             0.7777777777777778,
             "#fb9f3a"
            ],
            [
             0.8888888888888888,
             "#fdca26"
            ],
            [
             1,
             "#f0f921"
            ]
           ],
           "sequentialminus": [
            [
             0,
             "#0d0887"
            ],
            [
             0.1111111111111111,
             "#46039f"
            ],
            [
             0.2222222222222222,
             "#7201a8"
            ],
            [
             0.3333333333333333,
             "#9c179e"
            ],
            [
             0.4444444444444444,
             "#bd3786"
            ],
            [
             0.5555555555555556,
             "#d8576b"
            ],
            [
             0.6666666666666666,
             "#ed7953"
            ],
            [
             0.7777777777777778,
             "#fb9f3a"
            ],
            [
             0.8888888888888888,
             "#fdca26"
            ],
            [
             1,
             "#f0f921"
            ]
           ]
          },
          "colorway": [
           "#636efa",
           "#EF553B",
           "#00cc96",
           "#ab63fa",
           "#FFA15A",
           "#19d3f3",
           "#FF6692",
           "#B6E880",
           "#FF97FF",
           "#FECB52"
          ],
          "font": {
           "color": "#2a3f5f"
          },
          "geo": {
           "bgcolor": "white",
           "lakecolor": "white",
           "landcolor": "#E5ECF6",
           "showlakes": true,
           "showland": true,
           "subunitcolor": "white"
          },
          "hoverlabel": {
           "align": "left"
          },
          "hovermode": "closest",
          "mapbox": {
           "style": "light"
          },
          "paper_bgcolor": "white",
          "plot_bgcolor": "#E5ECF6",
          "polar": {
           "angularaxis": {
            "gridcolor": "white",
            "linecolor": "white",
            "ticks": ""
           },
           "bgcolor": "#E5ECF6",
           "radialaxis": {
            "gridcolor": "white",
            "linecolor": "white",
            "ticks": ""
           }
          },
          "scene": {
           "xaxis": {
            "backgroundcolor": "#E5ECF6",
            "gridcolor": "white",
            "gridwidth": 2,
            "linecolor": "white",
            "showbackground": true,
            "ticks": "",
            "zerolinecolor": "white"
           },
           "yaxis": {
            "backgroundcolor": "#E5ECF6",
            "gridcolor": "white",
            "gridwidth": 2,
            "linecolor": "white",
            "showbackground": true,
            "ticks": "",
            "zerolinecolor": "white"
           },
           "zaxis": {
            "backgroundcolor": "#E5ECF6",
            "gridcolor": "white",
            "gridwidth": 2,
            "linecolor": "white",
            "showbackground": true,
            "ticks": "",
            "zerolinecolor": "white"
           }
          },
          "shapedefaults": {
           "line": {
            "color": "#2a3f5f"
           }
          },
          "ternary": {
           "aaxis": {
            "gridcolor": "white",
            "linecolor": "white",
            "ticks": ""
           },
           "baxis": {
            "gridcolor": "white",
            "linecolor": "white",
            "ticks": ""
           },
           "bgcolor": "#E5ECF6",
           "caxis": {
            "gridcolor": "white",
            "linecolor": "white",
            "ticks": ""
           }
          },
          "title": {
           "x": 0.05
          },
          "xaxis": {
           "automargin": true,
           "gridcolor": "white",
           "linecolor": "white",
           "ticks": "",
           "title": {
            "standoff": 15
           },
           "zerolinecolor": "white",
           "zerolinewidth": 2
          },
          "yaxis": {
           "automargin": true,
           "gridcolor": "white",
           "linecolor": "white",
           "ticks": "",
           "title": {
            "standoff": 15
           },
           "zerolinecolor": "white",
           "zerolinewidth": 2
          }
         }
        },
        "title": {
         "text": "Points vs ATOI"
        },
        "xaxis": {
         "anchor": "y",
         "domain": [
          0,
          1
         ],
         "title": {
          "text": "ATOI"
         }
        },
        "yaxis": {
         "anchor": "x",
         "domain": [
          0,
          1
         ],
         "title": {
          "text": "Points"
         }
        }
       }
      },
      "text/html": [
       "<div>                            <div id=\"3133f1c7-5220-4f18-a5e8-6856f43d3984\" class=\"plotly-graph-div\" style=\"height:525px; width:100%;\"></div>            <script type=\"text/javascript\">                require([\"plotly\"], function(Plotly) {                    window.PLOTLYENV=window.PLOTLYENV || {};                                    if (document.getElementById(\"3133f1c7-5220-4f18-a5e8-6856f43d3984\")) {                    Plotly.newPlot(                        \"3133f1c7-5220-4f18-a5e8-6856f43d3984\",                        [{\"customdata\":[[\"William Nylander\"],[\"Auston Matthews\"],[\"John Tavares\"],[\"Mitch Marner\"],[\"Michael Bunting\"],[\"Auston Matthews\"],[\"Mitch Marner\"],[\"William Nylander\"],[\"John Tavares\"],[\"Michael Bunting\"],[\"Auston Matthews\"],[\"Mitch Marner\"],[\"John Tavares\"],[\"William Nylander\"],[\"Zach Hyman\"],[\"Auston Matthews\"],[\"William Nylander\"],[\"John Tavares\"],[\"Zach Hyman\"],[\"Mitch Marner\"],[\"John Tavares\"],[\"Auston Matthews\"],[\"Mitch Marner\"],[\"Zach Hyman\"],[\"Morgan Rielly\"],[\"James van Riemsdyk\"],[\"Auston Matthews\"],[\"Nazem Kadri\"],[\"Patrick Marleau\"],[\"Mitch Marner\"]],\"hovertemplate\":\"Tm=TOR<br>ATOI=%{x}<br>Points=%{y}<br>Player=%{customdata[0]}<extra></extra>\",\"legendgroup\":\"TOR\",\"marker\":{\"color\":\"#636efa\",\"symbol\":\"circle\"},\"mode\":\"markers\",\"name\":\"TOR\",\"orientation\":\"v\",\"showlegend\":true,\"x\":[0.0,0.0,0.0,0.0,0.0,0.0,0.0,0.0,0.0,0.0,0.0,0.0,0.0,0.0,0.0,0.0,0.0,0.0,0.0,0.0,0.0,0.0,0.0,0.0,0.0,0.0,0.0,0.0,0.0,0.0],\"xaxis\":\"x\",\"y\":[4047.0,4045.0,3644.0,3069.0,2326.0,6046.0,3562.0,3446.0,2749.0,2340.0,4125.0,2047.0,1931.0,1725.0,1518.0,4733.0,3128.0,2634.0,2116.0,1651.0,4741.0,3736.0,2668.0,2120.0,2052.0,3618.0,3429.0,3223.0,2720.0,2247.0],\"yaxis\":\"y\",\"type\":\"scatter\"},{\"customdata\":[[\"Timo Meier\"],[\"Bo Horvat\"],[\"Nino Niederreiter\"],[\"Patrick Kane\"],[\"Max Domi\"],[\"Brandon Hagel\"],[\"Claude Giroux\"],[\"Andrew Copp\"],[\"Tyler Toffoli\"],[\"Rickard Rakell\"],[\"Jakub Vr\\u00e1na\"],[\"Jeff Carter\"],[\"Anthony Mantha\"],[\"Patrik Laine\"],[\"Mattias Janmark\"],[\"Jean-Gabriel Pageau\"],[\"Tyler Toffoli\"],[\"Blake Coleman\"],[\"Jason Zucker\"],[\"Vladislav Namestnikov\"],[\"Mark Stone\"],[\"Matt Duchene\"],[\"Ryan Dzingel\"],[\"Nino Niederreiter\"],[\"Gustav Nyquist\"],[\"Evander Kane\"],[\"Matt Duchene\"],[\"Thomas Vanek\"],[\"Adam Henrique\"],[\"J.T. Miller\"]],\"hovertemplate\":\"Tm=TOT<br>ATOI=%{x}<br>Points=%{y}<br>Player=%{customdata[0]}<extra></extra>\",\"legendgroup\":\"TOT\",\"marker\":{\"color\":\"#EF553B\",\"symbol\":\"circle\"},\"mode\":\"markers\",\"name\":\"TOT\",\"orientation\":\"v\",\"showlegend\":true,\"x\":[0.0,0.0,0.0,0.0,0.0,0.0,0.0,0.0,0.0,0.0,0.0,0.0,0.0,0.0,0.0,0.0,0.0,0.0,0.0,0.0,0.0,0.0,0.0,0.0,0.0,0.0,0.0,0.0,0.0,0.0],\"xaxis\":\"x\",\"y\":[4026.0,3832.0,2417.0,2136.0,2036.0,2519.0,2144.0,2132.0,2029.0,2021.0,1917.0,1713.0,1514.0,1212.0,1113.0,2616.0,2420.0,2111.0,2021.0,1714.0,3340.0,3139.0,2630.0,2330.0,2238.0,2925.0,2732.0,2432.0,2426.0,2335.0],\"yaxis\":\"y\",\"type\":\"scatter\"},{\"customdata\":[[\"Jordan Kyrou\"],[\"Pavel Buchnevich\"],[\"Brayden Schenn\"],[\"Brandon Saad\"],[\"Robert Thomas\"],[\"Vladimir Tarasenko\"],[\"Pavel Buchnevich\"],[\"Jordan Kyrou\"],[\"David Perron\"],[\"Ivan Barbashev\"],[\"Ryan O'Reilly\"],[\"David Perron\"],[\"Mike Hoffman\"],[\"Brayden Schenn\"],[\"Jordan Kyrou\"],[\"David Perron\"],[\"Brayden Schenn\"],[\"Jaden Schwartz\"],[\"Alex Pietrangelo\"],[\"Zach Sanford\"],[\"Vladimir Tarasenko\"],[\"Ryan O'Reilly\"],[\"David Perron\"],[\"Brayden Schenn\"],[\"Oskar Sundqvist\"],[\"Vladimir Tarasenko\"],[\"Brayden Schenn\"],[\"Jaden Schwartz\"],[\"Alex Pietrangelo\"],[\"Alexander Steen\"]],\"hovertemplate\":\"Tm=STL<br>ATOI=%{x}<br>Points=%{y}<br>Player=%{customdata[0]}<extra></extra>\",\"legendgroup\":\"STL\",\"marker\":{\"color\":\"#00cc96\",\"symbol\":\"circle\"},\"mode\":\"markers\",\"name\":\"STL\",\"orientation\":\"v\",\"showlegend\":true,\"x\":[0.0,0.0,0.0,0.0,0.0,0.0,0.0,0.0,0.0,0.0,0.0,0.0,0.0,0.0,0.0,0.0,0.0,0.0,0.0,0.0,0.0,0.0,0.0,0.0,0.0,0.0,0.0,0.0,0.0,0.0],\"xaxis\":\"x\",\"y\":[3736.0,2641.0,2144.0,1918.0,1847.0,3448.0,3046.0,2748.0,2730.0,2634.0,2430.0,1939.0,1719.0,1620.0,1421.0,2535.0,2533.0,2235.0,1636.0,1614.0,3335.0,2849.0,2323.0,1737.0,1417.0,3333.0,2842.0,2435.0,1539.0,1531.0],\"yaxis\":\"y\",\"type\":\"scatter\"},{\"customdata\":[[\"Kirill Kaprizov\"],[\"Matt Boldy\"],[\"Joel Eriksson Ek\"],[\"Mats Zuccarello\"],[\"Fr\\u00e9d\\u00e9rick Gaudreau\"],[\"Kirill Kaprizov\"],[\"Ryan Hartman\"],[\"Kevin Fiala\"],[\"Joel Eriksson Ek\"],[\"Mats Zuccarello\"],[\"Kirill Kaprizov\"],[\"Kevin Fiala\"],[\"Joel Eriksson Ek\"],[\"Mats Zuccarello\"],[\"Marcus Foligno\"],[\"Zach Parise\"],[\"Kevin Fiala\"],[\"Eric Staal\"],[\"Mats Zuccarello\"],[\"Luke Kunin\"],[\"Zach Parise\"],[\"Eric Staal\"],[\"Jason Zucker\"],[\"Mikael Granlund\"],[\"Jared Spurgeon\"],[\"Eric Staal\"],[\"Jason Zucker\"],[\"Mikael Granlund\"],[\"Nino Niederreiter\"],[\"Mathew Dumba\"]],\"hovertemplate\":\"Tm=MIN<br>ATOI=%{x}<br>Points=%{y}<br>Player=%{customdata[0]}<extra></extra>\",\"legendgroup\":\"MIN\",\"marker\":{\"color\":\"#ab63fa\",\"symbol\":\"circle\"},\"mode\":\"markers\",\"name\":\"MIN\",\"orientation\":\"v\",\"showlegend\":true,\"x\":[0.0,0.0,0.0,0.0,0.0,0.0,0.0,0.0,0.0,0.0,0.0,0.0,0.0,0.0,0.0,0.0,0.0,0.0,0.0,0.0,0.0,0.0,0.0,0.0,0.0,0.0,0.0,0.0,0.0,0.0],\"xaxis\":\"x\",\"y\":[4035.0,3132.0,2338.0,2245.0,1919.0,4761.0,3431.0,3352.0,2623.0,2455.0,2724.0,2020.0,1911.0,1124.0,1115.0,2521.0,2331.0,1928.0,1522.0,1516.0,2833.0,2230.0,2121.0,1534.0,1429.0,4234.0,3331.0,2146.0,1814.0,1436.0],\"yaxis\":\"y\",\"type\":\"scatter\"},{\"customdata\":[[\"Matt Duchene\"],[\"Filip Forsberg\"],[\"Roman Josi\"],[\"Nino Niederreiter\"],[\"Thomas Novak\"],[\"Matt Duchene\"],[\"Filip Forsberg\"],[\"Ryan Johansen\"],[\"Tanner Jeannot\"],[\"Roman Josi\"],[\"Calle J\\u00e4rnkrok\"],[\"Mikael Granlund\"],[\"Filip Forsberg\"],[\"Eeli Tolvanen\"],[\"Viktor Arvidsson\"],[\"Filip Forsberg\"],[\"Nick Bonino\"],[\"Craig Smith\"],[\"Mikael Granlund\"],[\"Roman Josi\"],[\"Viktor Arvidsson\"],[\"Filip Forsberg\"],[\"Craig Smith\"],[\"Nick Bonino\"],[\"Roman Josi\"],[\"Viktor Arvidsson\"],[\"Filip Forsberg\"],[\"Craig Smith\"],[\"Kevin Fiala\"],[\"P.K. Subban\"]],\"hovertemplate\":\"Tm=NSH<br>ATOI=%{x}<br>Points=%{y}<br>Player=%{customdata[0]}<extra></extra>\",\"legendgroup\":\"NSH\",\"marker\":{\"color\":\"#FFA15A\",\"symbol\":\"circle\"},\"mode\":\"markers\",\"name\":\"NSH\",\"orientation\":\"v\",\"showlegend\":true,\"x\":[0.0,0.0,0.0,0.0,0.0,0.0,0.0,0.0,0.0,0.0,0.0,0.0,0.0,0.0,0.0,0.0,0.0,0.0,0.0,0.0,0.0,0.0,0.0,0.0,0.0,0.0,0.0,0.0,0.0,0.0],\"xaxis\":\"x\",\"y\":[2234.0,1923.0,1841.0,1810.0,1726.0,4343.0,4242.0,2637.0,2417.0,2373.0,1315.0,1314.0,1220.0,1111.0,1015.0,2127.0,1817.0,1813.0,1713.0,1649.0,3414.0,2822.0,2117.0,1718.0,1541.0,2932.0,2638.0,2526.0,2325.0,1643.0],\"yaxis\":\"y\",\"type\":\"scatter\"},{\"customdata\":[[\"Timo Meier\"],[\"Logan Couture\"],[\"Erik Karlsson\"],[\"Tom\\u00e1\\u0161 Hertl\"],[\"Alexander Barabanov\"],[\"Timo Meier\"],[\"Tom\\u00e1\\u0161 Hertl\"],[\"Logan Couture\"],[\"Nick Bonino\"],[\"Jonathan Dahl\\u00e9n\"],[\"Evander Kane\"],[\"Tom\\u00e1\\u0161 Hertl\"],[\"Logan Couture\"],[\"Timo Meier\"],[\"Kevin Labanc\"],[\"Evander Kane\"],[\"Timo Meier\"],[\"Logan Couture\"],[\"Tom\\u00e1\\u0161 Hertl\"],[\"Kevin Labanc\"],[\"Joe Pavelski\"],[\"Tom\\u00e1\\u0161 Hertl\"],[\"Timo Meier\"],[\"Evander Kane\"],[\"Logan Couture\"],[\"Logan Couture\"],[\"Joe Pavelski\"],[\"Tom\\u00e1\\u0161 Hertl\"],[\"Timo Meier\"],[\"Chris Tierney\"]],\"hovertemplate\":\"Tm=SJS<br>ATOI=%{x}<br>Points=%{y}<br>Player=%{customdata[0]}<extra></extra>\",\"legendgroup\":\"SJS\",\"marker\":{\"color\":\"#19d3f3\",\"symbol\":\"circle\"},\"mode\":\"markers\",\"name\":\"SJS\",\"orientation\":\"v\",\"showlegend\":true,\"x\":[0.0,0.0,0.0,0.0,0.0,0.0,0.0,0.0,0.0,0.0,0.0,0.0,0.0,0.0,0.0,0.0,0.0,0.0,0.0,0.0,0.0,0.0,0.0,0.0,0.0,0.0,0.0,0.0,0.0,0.0],\"xaxis\":\"x\",\"y\":[3121.0,2740.0,2576.0,2241.0,1532.0,3541.0,3034.0,2333.0,1610.0,1210.0,2227.0,1924.0,1714.0,1219.0,1216.0,2621.0,2227.0,1623.0,1620.0,1419.0,3826.0,3539.0,3036.0,3026.0,2743.0,3427.0,2244.0,2224.0,2115.0,1723.0],\"yaxis\":\"y\",\"type\":\"scatter\"},{\"customdata\":[[\"Sebastian Aho\"],[\"Martin Ne\\u010das\"],[\"Andrei Svechnikov\"],[\"Brent Burns\"],[\"Jesperi Kotkaniemi\"],[\"Sebastian Aho\"],[\"Andrei Svechnikov\"],[\"Nino Niederreiter\"],[\"Teuvo Ter\\u00e4v\\u00e4inen\"],[\"Vincent Trocheck\"],[\"Sebastian Aho\"],[\"Nino Niederreiter\"],[\"Vincent Trocheck\"],[\"Jordan Staal\"],[\"Andrei Svechnikov\"],[\"Sebastian Aho\"],[\"Andrei Svechnikov\"],[\"Martin Ne\\u010das\"],[\"Teuvo Ter\\u00e4v\\u00e4inen\"],[\"Dougie Hamilton\"],[\"Sebastian Aho\"],[\"Justin Williams\"],[\"Teuvo Ter\\u00e4v\\u00e4inen\"],[\"Andrei Svechnikov\"],[\"Dougie Hamilton\"],[\"Sebastian Aho\"],[\"Jeff Skinner\"],[\"Teuvo Ter\\u00e4v\\u00e4inen\"],[\"Jordan Staal\"],[\"Justin Williams\"]],\"hovertemplate\":\"Tm=CAR<br>ATOI=%{x}<br>Points=%{y}<br>Player=%{customdata[0]}<extra></extra>\",\"legendgroup\":\"CAR\",\"marker\":{\"color\":\"#FF6692\",\"symbol\":\"circle\"},\"mode\":\"markers\",\"name\":\"CAR\",\"orientation\":\"v\",\"showlegend\":true,\"x\":[0.0,0.0,0.0,0.0,0.0,0.0,0.0,0.0,0.0,0.0,0.0,0.0,0.0,0.0,0.0,0.0,0.0,0.0,0.0,0.0,0.0,0.0,0.0,0.0,0.0,0.0,0.0,0.0,0.0,0.0],\"xaxis\":\"x\",\"y\":[3631.0,2843.0,2332.0,1843.0,1825.0,3744.0,3039.0,2420.0,2243.0,2130.0,2433.0,2014.0,1726.0,1622.0,1527.0,3828.0,2437.0,1620.0,1548.0,1426.0,3053.0,2330.0,2155.0,2017.0,1821.0,2936.0,2425.0,2341.0,1927.0,1635.0],\"yaxis\":\"y\",\"type\":\"scatter\"},{\"customdata\":[[\"Brock Nelson\"],[\"Anders Lee\"],[\"Zach Parise\"],[\"Kyle Palmieri\"],[\"Mathew Barzal\"],[\"Brock Nelson\"],[\"Anders Lee\"],[\"Jean-Gabriel Pageau\"],[\"Mathew Barzal\"],[\"Zach Parise\"],[\"Brock Nelson\"],[\"Mathew Barzal\"],[\"Jordan Eberle\"],[\"Anthony Beauvillier\"],[\"Jean-Gabriel Pageau\"],[\"Brock Nelson\"],[\"Anders Lee\"],[\"Mathew Barzal\"],[\"Anthony Beauvillier\"],[\"Jordan Eberle\"],[\"Anders Lee\"],[\"Brock Nelson\"],[\"Casey Cizikas\"],[\"Jordan Eberle\"],[\"Mathew Barzal\"],[\"Anders Lee\"],[\"John Tavares\"],[\"Jordan Eberle\"],[\"Mathew Barzal\"],[\"Anthony Beauvillier\"]],\"hovertemplate\":\"Tm=NYI<br>ATOI=%{x}<br>Points=%{y}<br>Player=%{customdata[0]}<extra></extra>\",\"legendgroup\":\"NYI\",\"marker\":{\"color\":\"#B6E880\",\"symbol\":\"circle\"},\"mode\":\"markers\",\"name\":\"NYI\",\"orientation\":\"v\",\"showlegend\":true,\"x\":[0.0,0.0,0.0,0.0,0.0,0.0,0.0,0.0,0.0,0.0,0.0,0.0,0.0,0.0,0.0,0.0,0.0,0.0,0.0,0.0,0.0,0.0,0.0,0.0,0.0,0.0,0.0,0.0,0.0,0.0],\"xaxis\":\"x\",\"y\":[3639.0,2822.0,2113.0,1617.0,1437.0,3722.0,2818.0,1821.0,1544.0,1520.0,1815.0,1728.0,1617.0,1513.0,1414.0,2628.0,2023.0,1941.0,1821.0,1624.0,2823.0,2528.0,2013.0,1918.0,1844.0,4022.0,3747.0,2534.0,2263.0,2115.0],\"yaxis\":\"y\",\"type\":\"scatter\"},{\"customdata\":[[\"Alex Ovechkin\"],[\"Dylan Strome\"],[\"T.J. Oshie\"],[\"Conor Sheary\"],[\"Marcus Johansson\"],[\"Alex Ovechkin\"],[\"Evgeny Kuznetsov\"],[\"Tom Wilson\"],[\"Conor Sheary\"],[\"John Carlson\"],[\"Alex Ovechkin\"],[\"T.J. Oshie\"],[\"Nicklas B\\u00e4ckstr\\u00f6m\"],[\"Tom Wilson\"],[\"Jakub Vr\\u00e1na\"],[\"Alex Ovechkin\"],[\"T.J. Oshie\"],[\"Jakub Vr\\u00e1na\"],[\"Tom Wilson\"],[\"Evgeny Kuznetsov\"],[\"Alex Ovechkin\"],[\"T.J. Oshie\"],[\"Jakub Vr\\u00e1na\"],[\"Nicklas B\\u00e4ckstr\\u00f6m\"],[\"Brett Connolly\"],[\"Alex Ovechkin\"],[\"Evgeny Kuznetsov\"],[\"Nicklas B\\u00e4ckstr\\u00f6m\"],[\"T.J. Oshie\"],[\"Lars Eller\"]],\"hovertemplate\":\"Tm=WSH<br>ATOI=%{x}<br>Points=%{y}<br>Player=%{customdata[0]}<extra></extra>\",\"legendgroup\":\"WSH\",\"marker\":{\"color\":\"#FF97FF\",\"symbol\":\"circle\"},\"mode\":\"markers\",\"name\":\"WSH\",\"orientation\":\"v\",\"showlegend\":true,\"x\":[0.0,0.0,0.0,0.0,0.0,0.0,0.0,0.0,0.0,0.0,0.0,0.0,0.0,0.0,0.0,0.0,0.0,0.0,0.0,0.0,0.0,0.0,0.0,0.0,0.0,0.0,0.0,0.0,0.0,0.0],\"xaxis\":\"x\",\"y\":[4233.0,2342.0,1916.0,1522.0,1315.0,5040.0,2454.0,2428.0,1924.0,1754.0,2418.0,2221.0,1538.0,1320.0,1114.0,4819.0,2623.0,2527.0,2123.0,1933.0,5138.0,2529.0,2423.0,2252.0,2224.0,4938.0,2756.0,2150.0,1829.0,1820.0],\"yaxis\":\"y\",\"type\":\"scatter\"},{\"customdata\":[[\"Nick Suzuki\"],[\"Cole Caufield\"],[\"Josh Anderson\"],[\"Kirby Dach\"],[\"Mike Hoffman\"],[\"Cole Caufield\"],[\"Nick Suzuki\"],[\"Josh Anderson\"],[\"Mike Hoffman\"],[\"Artturi Lehkonen\"],[\"Tyler Toffoli\"],[\"Nick Suzuki\"],[\"Jeff Petry\"],[\"Tom\\u00e1\\u0161 Tatar\"],[\"Corey Perry\"],[\"Tom\\u00e1\\u0161 Tatar\"],[\"Brendan Gallagher\"],[\"Max Domi\"],[\"Joel Armia\"],[\"Shea Weber*\"],[\"Brendan Gallagher\"],[\"Max Domi\"],[\"Tom\\u00e1\\u0161 Tatar\"],[\"Andrew Shaw\"],[\"Jonathan Drouin\"],[\"Brendan Gallagher\"],[\"Paul Byron\"],[\"Alex Galchenyuk\"],[\"Max Pacioretty\"],[\"Jonathan Drouin\"]],\"hovertemplate\":\"Tm=MTL<br>ATOI=%{x}<br>Points=%{y}<br>Player=%{customdata[0]}<extra></extra>\",\"legendgroup\":\"MTL\",\"marker\":{\"color\":\"#FECB52\",\"symbol\":\"circle\"},\"mode\":\"markers\",\"name\":\"MTL\",\"orientation\":\"v\",\"showlegend\":true,\"x\":[0.0,0.0,0.0,0.0,0.0,0.0,0.0,0.0,0.0,0.0,0.0,0.0,0.0,0.0,0.0,0.0,0.0,0.0,0.0,0.0,0.0,0.0,0.0,0.0,0.0,0.0,0.0,0.0,0.0,0.0],\"xaxis\":\"x\",\"y\":[2640.0,2610.0,2111.0,1424.0,1420.0,2320.0,2140.0,1913.0,1520.0,1316.0,2816.0,1526.0,1230.0,1020.0,912.0,2239.0,2221.0,1727.0,1614.0,1521.0,3319.0,2844.0,2533.0,1928.0,1835.0,3123.0,2015.0,1932.0,1720.0,1333.0],\"yaxis\":\"y\",\"type\":\"scatter\"},{\"customdata\":[[\"Travis Konecny\"],[\"Owen Tippett\"],[\"Morgan Frost\"],[\"Kevin Hayes\"],[\"Scott Laughton\"],[\"James van Riemsdyk\"],[\"Cam Atkinson\"],[\"Claude Giroux\"],[\"Joel Farabee\"],[\"Travis Konecny\"],[\"Joel Farabee\"],[\"Sean Couturier\"],[\"James van Riemsdyk\"],[\"Claude Giroux\"],[\"Kevin Hayes\"],[\"Travis Konecny\"],[\"Kevin Hayes\"],[\"Sean Couturier\"],[\"Claude Giroux\"],[\"James van Riemsdyk\"],[\"Sean Couturier\"],[\"James van Riemsdyk\"],[\"Travis Konecny\"],[\"Claude Giroux\"],[\"Jakub Vor\\u00e1\\u010dek\"],[\"Claude Giroux\"],[\"Sean Couturier\"],[\"Travis Konecny\"],[\"Wayne Simmonds\"],[\"Jakub Vor\\u00e1\\u010dek\"]],\"hovertemplate\":\"Tm=PHI<br>ATOI=%{x}<br>Points=%{y}<br>Player=%{customdata[0]}<extra></extra>\",\"legendgroup\":\"PHI\",\"marker\":{\"color\":\"#636efa\",\"symbol\":\"circle\"},\"mode\":\"markers\",\"name\":\"PHI\",\"orientation\":\"v\",\"showlegend\":true,\"x\":[0.0,0.0,0.0,0.0,0.0,0.0,0.0,0.0,0.0,0.0,0.0,0.0,0.0,0.0,0.0,0.0,0.0,0.0,0.0,0.0,0.0,0.0,0.0,0.0,0.0,0.0,0.0,0.0,0.0,0.0],\"xaxis\":\"x\",\"y\":[3130.0,2722.0,1927.0,1836.0,1825.0,2414.0,2327.0,1824.0,1717.0,1636.0,2018.0,1823.0,1726.0,1627.0,1219.0,2437.0,2318.0,2237.0,2132.0,1921.0,3343.0,2721.0,2425.0,2263.0,2046.0,3468.0,3145.0,2423.0,2422.0,2065.0],\"yaxis\":\"y\",\"type\":\"scatter\"},{\"customdata\":[[\"Jonathan Marchessault\"],[\"Jack Eichel\"],[\"Reilly Smith\"],[\"Mark Stone\"],[\"Chandler Stephenson\"],[\"Jonathan Marchessault\"],[\"Chandler Stephenson\"],[\"Evgenii Dadonov\"],[\"Max Pacioretty\"],[\"Reilly Smith\"],[\"Max Pacioretty\"],[\"Mark Stone\"],[\"Jonathan Marchessault\"],[\"Alex Tuch\"],[\"William Karlsson\"],[\"Max Pacioretty\"],[\"Reilly Smith\"],[\"Jonathan Marchessault\"],[\"Mark Stone\"],[\"Paul Stastny\"],[\"Jonathan Marchessault\"],[\"William Karlsson\"],[\"Cody Eakin\"],[\"Max Pacioretty\"],[\"Alex Tuch\"],[\"William Karlsson\"],[\"Erik Haula\"],[\"Jonathan Marchessault\"],[\"James Neal\"],[\"Reilly Smith\"]],\"hovertemplate\":\"Tm=VEG<br>ATOI=%{x}<br>Points=%{y}<br>Player=%{customdata[0]}<extra></extra>\",\"legendgroup\":\"VEG\",\"marker\":{\"color\":\"#EF553B\",\"symbol\":\"circle\"},\"mode\":\"markers\",\"name\":\"VEG\",\"orientation\":\"v\",\"showlegend\":true,\"x\":[0.0,0.0,0.0,0.0,0.0,0.0,0.0,0.0,0.0,0.0,0.0,0.0,0.0,0.0,0.0,0.0,0.0,0.0,0.0,0.0,0.0,0.0,0.0,0.0,0.0,0.0,0.0,0.0,0.0,0.0],\"xaxis\":\"x\",\"y\":[2829.0,2739.0,2630.0,1721.0,1649.0,3036.0,2143.0,2023.0,1918.0,1622.0,2427.0,2140.0,1826.0,1815.0,1425.0,3234.0,2727.0,2225.0,2142.0,1721.0,2534.0,2432.0,2219.0,2218.0,2032.0,4335.0,2926.0,2748.0,2519.0,2238.0],\"yaxis\":\"y\",\"type\":\"scatter\"},{\"customdata\":[[\"Elias Pettersson\"],[\"Andrei Kuzmenko\"],[\"J.T. Miller\"],[\"Bo Horvat\"],[\"Brock Boeser\"],[\"J.T. Miller\"],[\"Elias Pettersson\"],[\"Bo Horvat\"],[\"Brock Boeser\"],[\"Conor Garland\"],[\"Brock Boeser\"],[\"Bo Horvat\"],[\"J.T. Miller\"],[\"Nils H\\u00f6glander\"],[\"Elias Pettersson\"],[\"J.T. Miller\"],[\"Elias Pettersson\"],[\"Bo Horvat\"],[\"Tanner Pearson\"],[\"Jake Virtanen\"],[\"Elias Pettersson\"],[\"Bo Horvat\"],[\"Brock Boeser\"],[\"Jake Virtanen\"],[\"Markus Granlund\"],[\"Brock Boeser\"],[\"Daniel Sedin*\"],[\"Bo Horvat\"],[\"Thomas Vanek\"],[\"Sven Baertschi\"]],\"hovertemplate\":\"Tm=VAN<br>ATOI=%{x}<br>Points=%{y}<br>Player=%{customdata[0]}<extra></extra>\",\"legendgroup\":\"VAN\",\"marker\":{\"color\":\"#00cc96\",\"symbol\":\"circle\"},\"mode\":\"markers\",\"name\":\"VAN\",\"orientation\":\"v\",\"showlegend\":true,\"x\":[0.0,0.0,0.0,0.0,0.0,0.0,0.0,0.0,0.0,0.0,0.0,0.0,0.0,0.0,0.0,0.0,0.0,0.0,0.0,0.0,0.0,0.0,0.0,0.0,0.0,0.0,0.0,0.0,0.0,0.0],\"xaxis\":\"x\",\"y\":[3963.0,3935.0,3250.0,3123.0,1837.0,3267.0,3236.0,3121.0,2323.0,1933.0,2326.0,1920.0,1531.0,1314.0,1011.0,2745.0,2739.0,2231.0,2124.0,1818.0,2838.0,2734.0,2630.0,1510.0,1210.0,2926.0,2332.0,2222.0,1724.0,1415.0],\"yaxis\":\"y\",\"type\":\"scatter\"},{\"customdata\":[[\"Andreas Athanasiou\"],[\"Taylor Raddysh\"],[\"Max Domi\"],[\"Patrick Kane\"],[\"Jonathan Toews\"],[\"Alex DeBrincat\"],[\"Patrick Kane\"],[\"Dylan Strome\"],[\"Brandon Hagel\"],[\"Dominik Kubal\\u00edk\"],[\"Alex DeBrincat\"],[\"Dominik Kubal\\u00edk\"],[\"Patrick Kane\"],[\"Pius Suter\"],[\"Brandon Hagel\"],[\"Patrick Kane\"],[\"Dominik Kubal\\u00edk\"],[\"Brandon Saad\"],[\"Jonathan Toews\"],[\"Alex DeBrincat\"],[\"Patrick Kane\"],[\"Alex DeBrincat\"],[\"Jonathan Toews\"],[\"Brandon Saad\"],[\"Erik Gustafsson\"],[\"Alex DeBrincat\"],[\"Patrick Kane\"],[\"Nick Schmaltz\"],[\"Jonathan Toews\"],[\"Artem Anisimov\"]],\"hovertemplate\":\"Tm=CHI<br>ATOI=%{x}<br>Points=%{y}<br>Player=%{customdata[0]}<extra></extra>\",\"legendgroup\":\"CHI\",\"marker\":{\"color\":\"#ab63fa\",\"symbol\":\"circle\"},\"mode\":\"markers\",\"name\":\"CHI\",\"orientation\":\"v\",\"showlegend\":true,\"x\":[0.0,0.0,0.0,0.0,0.0,0.0,0.0,0.0,0.0,0.0,0.0,0.0,0.0,0.0,0.0,0.0,0.0,0.0,0.0,0.0,0.0,0.0,0.0,0.0,0.0,0.0,0.0,0.0,0.0,0.0],\"xaxis\":\"x\",\"y\":[2020.0,2017.0,1831.0,1629.0,1516.0,4137.0,2666.0,2226.0,2116.0,1517.0,3224.0,1721.0,1551.0,1413.0,915.0,3351.0,3016.0,2112.0,1842.0,1827.0,4466.0,4135.0,3546.0,2324.0,1743.0,2824.0,2749.0,2131.0,2032.0,2011.0],\"yaxis\":\"y\",\"type\":\"scatter\"},{\"customdata\":[[\"Adrian Kempe\"],[\"An\\u017ee Kopitar\"],[\"Viktor Arvidsson\"],[\"Kevin Fiala\"],[\"Gabriel Vilardi\"],[\"Adrian Kempe\"],[\"Phillip Danault\"],[\"Viktor Arvidsson\"],[\"An\\u017ee Kopitar\"],[\"Trevor Moore\"],[\"Dustin Brown\"],[\"Adrian Kempe\"],[\"An\\u017ee Kopitar\"],[\"Alex Iafallo\"],[\"Trevor Moore\"],[\"An\\u017ee Kopitar\"],[\"Tyler Toffoli\"],[\"Alex Iafallo\"],[\"Dustin Brown\"],[\"Jeff Carter\"],[\"An\\u017ee Kopitar\"],[\"Dustin Brown\"],[\"Ilya Kovalchuk\"],[\"Alex Iafallo\"],[\"Tyler Toffoli\"],[\"An\\u017ee Kopitar\"],[\"Dustin Brown\"],[\"Tyler Toffoli\"],[\"Adrian Kempe\"],[\"Tanner Pearson\"]],\"hovertemplate\":\"Tm=LAK<br>ATOI=%{x}<br>Points=%{y}<br>Player=%{customdata[0]}<extra></extra>\",\"legendgroup\":\"LAK\",\"marker\":{\"color\":\"#FFA15A\",\"symbol\":\"circle\"},\"mode\":\"markers\",\"name\":\"LAK\",\"orientation\":\"v\",\"showlegend\":true,\"x\":[0.0,0.0,0.0,0.0,0.0,0.0,0.0,0.0,0.0,0.0,0.0,0.0,0.0,0.0,0.0,0.0,0.0,0.0,0.0,0.0,0.0,0.0,0.0,0.0,0.0,0.0,0.0,0.0,0.0,0.0],\"xaxis\":\"x\",\"y\":[4126.0,2846.0,2633.0,2349.0,2318.0,3519.0,2724.0,2029.0,1948.0,1731.0,1714.0,1415.0,1337.0,1317.0,1013.0,2141.0,1816.0,1726.0,1718.0,1710.0,2238.0,2229.0,1618.0,1518.0,1321.0,3557.0,2833.0,2423.0,1621.0,1525.0],\"yaxis\":\"y\",\"type\":\"scatter\"},{\"customdata\":[[\"Tyler Toffoli\"],[\"Nazem Kadri\"],[\"Elias Lindholm\"],[\"Mikael Backlund\"],[\"Dillon Dub\\u00e9\"],[\"Matthew Tkachuk\"],[\"Elias Lindholm\"],[\"Johnny Gaudreau\"],[\"Andrew Mangiapane\"],[\"Dillon Dub\\u00e9\"],[\"Johnny Gaudreau\"],[\"Elias Lindholm\"],[\"Andrew Mangiapane\"],[\"Matthew Tkachuk\"],[\"Dillon Dub\\u00e9\"],[\"Elias Lindholm\"],[\"Matthew Tkachuk\"],[\"Sean Monahan\"],[\"Johnny Gaudreau\"],[\"Andrew Mangiapane\"],[\"Johnny Gaudreau\"],[\"Sean Monahan\"],[\"Matthew Tkachuk\"],[\"Elias Lindholm\"],[\"Mikael Backlund\"],[\"Sean Monahan\"],[\"Johnny Gaudreau\"],[\"Matthew Tkachuk\"],[\"Micheal Ferland\"],[\"Dougie Hamilton\"]],\"hovertemplate\":\"Tm=CGY<br>ATOI=%{x}<br>Points=%{y}<br>Player=%{customdata[0]}<extra></extra>\",\"legendgroup\":\"CGY\",\"marker\":{\"color\":\"#19d3f3\",\"symbol\":\"circle\"},\"mode\":\"markers\",\"name\":\"CGY\",\"orientation\":\"v\",\"showlegend\":true,\"x\":[0.0,0.0,0.0,0.0,0.0,0.0,0.0,0.0,0.0,0.0,0.0,0.0,0.0,0.0,0.0,0.0,0.0,0.0,0.0,0.0,0.0,0.0,0.0,0.0,0.0,0.0,0.0,0.0,0.0,0.0],\"xaxis\":\"x\",\"y\":[3439.0,2432.0,2242.0,1937.0,1827.0,4262.0,4240.0,4075.0,3520.0,1814.0,1930.0,1928.0,1814.0,1627.0,1111.0,2925.0,2338.0,2226.0,1840.0,1715.0,3663.0,3448.0,3443.0,2751.0,2126.0,3133.0,2460.0,2425.0,2120.0,1727.0],\"yaxis\":\"y\",\"type\":\"scatter\"},{\"customdata\":[[\"Player\"],[\"Player\"],[\"Player\"],[\"Player\"],[\"Player\"],[\"Player\"],[\"Player\"],[\"Player\"],[\"Player\"],[\"Player\"],[\"Player\"],[\"Player\"],[\"Player\"],[\"Player\"],[\"Player\"],[\"Player\"],[\"Player\"],[\"Player\"],[\"Player\"],[\"Player\"],[\"Player\"],[\"Player\"],[\"Player\"],[\"Player\"],[\"Player\"],[\"Player\"],[\"Player\"],[\"Player\"],[\"Player\"],[\"Player\"]],\"hovertemplate\":\"Tm=Tm<br>ATOI=%{x}<br>Points=%{y}<br>Player=%{customdata[0]}<extra></extra>\",\"legendgroup\":\"Tm\",\"marker\":{\"color\":\"#FF6692\",\"symbol\":\"circle\"},\"mode\":\"markers\",\"name\":\"Tm\",\"orientation\":\"v\",\"showlegend\":true,\"x\":[0.0,0.0,0.0,0.0,0.0,0.0,0.0,0.0,0.0,0.0,0.0,0.0,0.0,0.0,0.0,0.0,0.0,0.0,0.0,0.0,0.0,0.0,0.0,0.0,0.0,0.0,0.0,0.0,0.0,0.0],\"xaxis\":\"x\",\"y\":[0.0,0.0,0.0,0.0,0.0,0.0,0.0,0.0,0.0,0.0,0.0,0.0,0.0,0.0,0.0,0.0,0.0,0.0,0.0,0.0,0.0,0.0,0.0,0.0,0.0,0.0,0.0,0.0,0.0,0.0],\"yaxis\":\"y\",\"type\":\"scatter\"},{\"customdata\":[[\"Boone Jenner\"],[\"Patrik Laine\"],[\"Johnny Gaudreau\"],[\"Kent Johnson\"],[\"Eric Robinson\"],[\"Oliver Bjorkstrand\"],[\"Patrik Laine\"],[\"Boone Jenner\"],[\"Jack Roslovic\"],[\"Gustav Nyquist\"],[\"Oliver Bjorkstrand\"],[\"Cam Atkinson\"],[\"Jack Roslovic\"],[\"Patrik Laine\"],[\"Max Domi\"],[\"Oliver Bjorkstrand\"],[\"Zach Werenski\"],[\"Pierre-Luc Dubois\"],[\"Gustav Nyquist\"],[\"Cam Atkinson\"],[\"Cam Atkinson\"],[\"Artemi Panarin\"],[\"Pierre-Luc Dubois\"],[\"Josh Anderson\"],[\"Oliver Bjorkstrand\"],[\"Artemi Panarin\"],[\"Cam Atkinson\"],[\"Pierre-Luc Dubois\"],[\"Josh Anderson\"],[\"Seth Jones\"]],\"hovertemplate\":\"Tm=CBJ<br>ATOI=%{x}<br>Points=%{y}<br>Player=%{customdata[0]}<extra></extra>\",\"legendgroup\":\"CBJ\",\"marker\":{\"color\":\"#B6E880\",\"symbol\":\"circle\"},\"mode\":\"markers\",\"name\":\"CBJ\",\"orientation\":\"v\",\"showlegend\":true,\"x\":[0.0,0.0,0.0,0.0,0.0,0.0,0.0,0.0,0.0,0.0,0.0,0.0,0.0,0.0,0.0,0.0,0.0,0.0,0.0,0.0,0.0,0.0,0.0,0.0,0.0,0.0,0.0,0.0,0.0,0.0],\"xaxis\":\"x\",\"y\":[2619.0,2230.0,2153.0,1624.0,1212.0,2829.0,2630.0,2321.0,2223.0,1835.0,1826.0,1519.0,1222.0,1011.0,915.0,2115.0,2021.0,1831.0,1527.0,1214.0,4128.0,2859.0,2734.0,2720.0,2313.0,2755.0,2422.0,2028.0,1911.0,1641.0],\"yaxis\":\"y\",\"type\":\"scatter\"},{\"customdata\":[[\"Mark Scheifele\"],[\"Kyle Connor\"],[\"Pierre-Luc Dubois\"],[\"Josh Morrissey\"],[\"Blake Wheeler\"],[\"Kyle Connor\"],[\"Mark Scheifele\"],[\"Pierre-Luc Dubois\"],[\"Nikolaj Ehlers\"],[\"Paul Stastny\"],[\"Kyle Connor\"],[\"Mark Scheifele\"],[\"Nikolaj Ehlers\"],[\"Blake Wheeler\"],[\"Andrew Copp\"],[\"Kyle Connor\"],[\"Mark Scheifele\"],[\"Patrik Laine\"],[\"Nikolaj Ehlers\"],[\"Blake Wheeler\"],[\"Mark Scheifele\"],[\"Kyle Connor\"],[\"Patrik Laine\"],[\"Nikolaj Ehlers\"],[\"Blake Wheeler\"],[\"Patrik Laine\"],[\"Kyle Connor\"],[\"Nikolaj Ehlers\"],[\"Blake Wheeler\"],[\"Mark Scheifele\"]],\"hovertemplate\":\"Tm=WPG<br>ATOI=%{x}<br>Points=%{y}<br>Player=%{customdata[0]}<extra></extra>\",\"legendgroup\":\"WPG\",\"marker\":{\"color\":\"#FF97FF\",\"symbol\":\"circle\"},\"mode\":\"markers\",\"name\":\"WPG\",\"orientation\":\"v\",\"showlegend\":true,\"x\":[0.0,0.0,0.0,0.0,0.0,0.0,0.0,0.0,0.0,0.0,0.0,0.0,0.0,0.0,0.0,0.0,0.0,0.0,0.0,0.0,0.0,0.0,0.0,0.0,0.0,0.0,0.0,0.0,0.0,0.0],\"xaxis\":\"x\",\"y\":[4226.0,3149.0,2736.0,1660.0,1639.0,4746.0,2941.0,2832.0,2827.0,2124.0,2624.0,2142.0,2125.0,1531.0,1524.0,3835.0,2944.0,2835.0,2533.0,2243.0,3846.0,3432.0,3020.0,2116.0,2071.0,4426.0,3126.0,2931.0,2368.0,2337.0],\"yaxis\":\"y\",\"type\":\"scatter\"},{\"customdata\":[[\"Jake Guentzel\"],[\"Sidney Crosby\"],[\"Rickard Rakell\"],[\"Evgeni Malkin\"],[\"Jason Zucker\"],[\"Jake Guentzel\"],[\"Sidney Crosby\"],[\"Bryan Rust\"],[\"Evgeni Malkin\"],[\"Jeff Carter\"],[\"Sidney Crosby\"],[\"Jake Guentzel\"],[\"Bryan Rust\"],[\"Jared McCann\"],[\"Kasperi Kapanen\"],[\"Bryan Rust\"],[\"Evgeni Malkin\"],[\"Jake Guentzel\"],[\"Patric H\\u00f6rnqvist\"],[\"Sidney Crosby\"],[\"Jake Guentzel\"],[\"Sidney Crosby\"],[\"Phil Kessel\"],[\"Evgeni Malkin\"],[\"Patric H\\u00f6rnqvist\"],[\"Evgeni Malkin\"],[\"Phil Kessel\"],[\"Sidney Crosby\"],[\"Patric H\\u00f6rnqvist\"],[\"Jake Guentzel\"]],\"hovertemplate\":\"Tm=PIT<br>ATOI=%{x}<br>Points=%{y}<br>Player=%{customdata[0]}<extra></extra>\",\"legendgroup\":\"PIT\",\"marker\":{\"color\":\"#FECB52\",\"symbol\":\"circle\"},\"mode\":\"markers\",\"name\":\"PIT\",\"orientation\":\"v\",\"showlegend\":true,\"x\":[0.0,0.0,0.0,0.0,0.0,0.0,0.0,0.0,0.0,0.0,0.0,0.0,0.0,0.0,0.0,0.0,0.0,0.0,0.0,0.0,0.0,0.0,0.0,0.0,0.0,0.0,0.0,0.0,0.0,0.0],\"xaxis\":\"x\",\"y\":[3637.0,3360.0,2832.0,2756.0,2721.0,4044.0,3153.0,2434.0,2022.0,1926.0,2438.0,2334.0,2220.0,1418.0,1119.0,2729.0,2549.0,2023.0,1715.0,1631.0,4036.0,3565.0,2755.0,2151.0,1819.0,4256.0,3458.0,2960.0,2920.0,2226.0],\"yaxis\":\"y\",\"type\":\"scatter\"},{\"customdata\":[[\"Tage Thompson\"],[\"Alex Tuch\"],[\"Jeff Skinner\"],[\"Dylan Cozens\"],[\"Victor Olofsson\"],[\"Tage Thompson\"],[\"Jeff Skinner\"],[\"Kyle Okposo\"],[\"Victor Olofsson\"],[\"Rasmus Dahlin\"],[\"Sam Reinhart\"],[\"Victor Olofsson\"],[\"Casey Mittelstadt\"],[\"Rasmus Dahlin\"],[\"Rasmus Ristolainen\"],[\"Jack Eichel\"],[\"Sam Reinhart\"],[\"Victor Olofsson\"],[\"Marcus Johansson\"],[\"Jimmy Vesey\"],[\"Jeff Skinner\"],[\"Jack Eichel\"],[\"Sam Reinhart\"],[\"Jason Pominville\"],[\"Conor Sheary\"],[\"Jack Eichel\"],[\"Sam Reinhart\"],[\"Ryan O'Reilly\"],[\"Evander Kane\"],[\"Jason Pominville\"]],\"hovertemplate\":\"Tm=BUF<br>ATOI=%{x}<br>Points=%{y}<br>Player=%{customdata[0]}<extra></extra>\",\"legendgroup\":\"BUF\",\"marker\":{\"color\":\"#636efa\",\"symbol\":\"circle\"},\"mode\":\"markers\",\"name\":\"BUF\",\"orientation\":\"v\",\"showlegend\":true,\"x\":[0.0,0.0,0.0,0.0,0.0,0.0,0.0,0.0,0.0,0.0,0.0,0.0,0.0,0.0,0.0,0.0,0.0,0.0,0.0,0.0,0.0,0.0,0.0,0.0,0.0,0.0,0.0,0.0,0.0,0.0],\"xaxis\":\"x\",\"y\":[4747.0,3643.0,3547.0,3137.0,2812.0,3830.0,3330.0,2124.0,2029.0,1340.0,2515.0,1319.0,1012.0,518.0,414.0,3642.0,2228.0,2022.0,921.0,911.0,4023.0,2854.0,2243.0,1615.0,1420.0,2539.0,2525.0,2437.0,2020.0,1618.0],\"yaxis\":\"y\",\"type\":\"scatter\"},{\"customdata\":[[\"Jack Hughes\"],[\"Jesper Bratt\"],[\"Nico Hischier\"],[\"Dawson Mercer\"],[\"Dougie Hamilton\"],[\"Jesper Bratt\"],[\"Jack Hughes\"],[\"Yegor Sharangovich\"],[\"Nico Hischier\"],[\"Dawson Mercer\"],[\"Pavel Zacha\"],[\"Yegor Sharangovich\"],[\"Jack Hughes\"],[\"Janne Kuokkanen\"],[\"Jesper Bratt\"],[\"Kyle Palmieri\"],[\"Blake Coleman\"],[\"Jesper Bratt\"],[\"Nico Hischier\"],[\"Nikita Gusev\"],[\"Kyle Palmieri\"],[\"Blake Coleman\"],[\"Travis Zajac\"],[\"Nico Hischier\"],[\"Pavel Zacha\"],[\"Taylor Hall\"],[\"Kyle Palmieri\"],[\"Nico Hischier\"],[\"Miles Wood\"],[\"Jesper Bratt\"]],\"hovertemplate\":\"Tm=NJD<br>ATOI=%{x}<br>Points=%{y}<br>Player=%{customdata[0]}<extra></extra>\",\"legendgroup\":\"NJD\",\"marker\":{\"color\":\"#EF553B\",\"symbol\":\"circle\"},\"mode\":\"markers\",\"name\":\"NJD\",\"orientation\":\"v\",\"showlegend\":true,\"x\":[0.0,0.0,0.0,0.0,0.0,0.0,0.0,0.0,0.0,0.0,0.0,0.0,0.0,0.0,0.0,0.0,0.0,0.0,0.0,0.0,0.0,0.0,0.0,0.0,0.0,0.0,0.0,0.0,0.0,0.0],\"xaxis\":\"x\",\"y\":[4356.0,3241.0,3149.0,2729.0,2252.0,2647.0,2630.0,2422.0,2139.0,1725.0,1718.0,1614.0,1120.0,817.0,723.0,2520.0,2110.0,1616.0,1422.0,1331.0,2723.0,2214.0,1927.0,1730.0,1312.0,3954.0,2420.0,2032.0,1913.0,1322.0],\"yaxis\":\"y\",\"type\":\"scatter\"},{\"customdata\":[[\"Carter Verhaeghe\"],[\"Matthew Tkachuk\"],[\"Sam Reinhart\"],[\"Aleksander Barkov\"],[\"Eetu Luostarinen\"],[\"Aleksander Barkov\"],[\"Sam Reinhart\"],[\"Anthony Duclair\"],[\"Jonathan Huberdeau\"],[\"Sam Bennett\"],[\"Aleksander Barkov\"],[\"Jonathan Huberdeau\"],[\"Carter Verhaeghe\"],[\"Alexander Wennberg\"],[\"Patric H\\u00f6rnqvist\"],[\"Mike Hoffman\"],[\"Evgenii Dadonov\"],[\"Jonathan Huberdeau\"],[\"Aleksander Barkov\"],[\"Brett Connolly\"],[\"Mike Hoffman\"],[\"Aleksander Barkov\"],[\"Jonathan Huberdeau\"],[\"Evgenii Dadonov\"],[\"Frank Vatrano\"],[\"Vincent Trocheck\"],[\"Evgenii Dadonov\"],[\"Aleksander Barkov\"],[\"Jonathan Huberdeau\"],[\"Nick Bjugstad\"]],\"hovertemplate\":\"Tm=FLA<br>ATOI=%{x}<br>Points=%{y}<br>Player=%{customdata[0]}<extra></extra>\",\"legendgroup\":\"FLA\",\"marker\":{\"color\":\"#00cc96\",\"symbol\":\"circle\"},\"mode\":\"markers\",\"name\":\"FLA\",\"orientation\":\"v\",\"showlegend\":true,\"x\":[0.0,0.0,0.0,0.0,0.0,0.0,0.0,0.0,0.0,0.0,0.0,0.0,0.0,0.0,0.0,0.0,0.0,0.0,0.0,0.0,0.0,0.0,0.0,0.0,0.0,0.0,0.0,0.0,0.0,0.0],\"xaxis\":\"x\",\"y\":[4231.0,4069.0,3136.0,2355.0,1726.0,3949.0,3349.0,3127.0,3085.0,2821.0,2632.0,2041.0,1818.0,1712.0,1418.0,2930.0,2522.0,2355.0,2042.0,1914.0,3634.0,3561.0,3062.0,2842.0,2415.0,3144.0,2837.0,2751.0,2742.0,1930.0],\"yaxis\":\"y\",\"type\":\"scatter\"},{\"customdata\":[[\"Brayden Point\"],[\"Steven Stamkos\"],[\"Nikita Kucherov\"],[\"Brandon Hagel\"],[\"Alex Killorn\"],[\"Steven Stamkos\"],[\"Brayden Point\"],[\"Nikita Kucherov\"],[\"Alex Killorn\"],[\"Ross Colton\"],[\"Brayden Point\"],[\"Yanni Gourde\"],[\"Steven Stamkos\"],[\"Ond\\u0159ej Pal\\u00e1t\"],[\"Alex Killorn\"],[\"Nikita Kucherov\"],[\"Steven Stamkos\"],[\"Alex Killorn\"],[\"Brayden Point\"],[\"Ond\\u0159ej Pal\\u00e1t\"],[\"Steven Stamkos\"],[\"Nikita Kucherov\"],[\"Brayden Point\"],[\"Tyler Johnson\"],[\"Yanni Gourde\"],[\"Nikita Kucherov\"],[\"Brayden Point\"],[\"Steven Stamkos\"],[\"Yanni Gourde\"],[\"Tyler Johnson\"]],\"hovertemplate\":\"Tm=TBL<br>ATOI=%{x}<br>Points=%{y}<br>Player=%{customdata[0]}<extra></extra>\",\"legendgroup\":\"TBL\",\"marker\":{\"color\":\"#ab63fa\",\"symbol\":\"circle\"},\"mode\":\"markers\",\"name\":\"TBL\",\"orientation\":\"v\",\"showlegend\":true,\"x\":[0.0,0.0,0.0,0.0,0.0,0.0,0.0,0.0,0.0,0.0,0.0,0.0,0.0,0.0,0.0,0.0,0.0,0.0,0.0,0.0,0.0,0.0,0.0,0.0,0.0,0.0,0.0,0.0,0.0,0.0],\"xaxis\":\"x\",\"y\":[5144.0,3450.0,3083.0,3034.0,2737.0,4264.0,2830.0,2544.0,2534.0,2217.0,2325.0,1719.0,1717.0,1531.0,1518.0,3352.0,2937.0,2623.0,2539.0,1724.0,4553.0,4187.0,4151.0,2918.0,2226.0,3961.0,3234.0,2759.0,2539.0,2129.0],\"yaxis\":\"y\",\"type\":\"scatter\"},{\"customdata\":[[\"Connor McDavid\"],[\"Leon Draisaitl\"],[\"Ryan Nugent-Hopkins\"],[\"Zach Hyman\"],[\"Evander Kane\"],[\"Leon Draisaitl\"],[\"Connor McDavid\"],[\"Zach Hyman\"],[\"Evander Kane\"],[\"Kailer Yamamoto\"],[\"Connor McDavid\"],[\"Leon Draisaitl\"],[\"Darnell Nurse\"],[\"Ryan Nugent-Hopkins\"],[\"Jesse Puljuj\\u00e4rvi\"],[\"Leon Draisaitl\"],[\"Connor McDavid\"],[\"Ryan Nugent-Hopkins\"],[\"James Neal\"],[\"Zack Kassian\"],[\"Leon Draisaitl\"],[\"Connor McDavid\"],[\"Ryan Nugent-Hopkins\"],[\"Alex Chiasson\"],[\"Zack Kassian\"],[\"Connor McDavid\"],[\"Leon Draisaitl\"],[\"Ryan Nugent-Hopkins\"],[\"Pat Maroon\"],[\"Ryan Strome\"]],\"hovertemplate\":\"Tm=EDM<br>ATOI=%{x}<br>Points=%{y}<br>Player=%{customdata[0]}<extra></extra>\",\"legendgroup\":\"EDM\",\"marker\":{\"color\":\"#FFA15A\",\"symbol\":\"circle\"},\"mode\":\"markers\",\"name\":\"EDM\",\"orientation\":\"v\",\"showlegend\":true,\"x\":[0.0,0.0,0.0,0.0,0.0,0.0,0.0,0.0,0.0,0.0,0.0,0.0,0.0,0.0,0.0,0.0,0.0,0.0,0.0,0.0,0.0,0.0,0.0,0.0,0.0,0.0,0.0,0.0,0.0,0.0],\"xaxis\":\"x\",\"y\":[6489.0,5276.0,3767.0,3647.0,1612.0,5555.0,4479.0,2727.0,2217.0,2021.0,3372.0,3153.0,1620.0,1619.0,1510.0,4367.0,3463.0,2239.0,1912.0,1519.0,5055.0,4175.0,2841.0,2216.0,1511.0,4167.0,2545.0,2424.0,1416.0,1321.0],\"yaxis\":\"y\",\"type\":\"scatter\"},{\"customdata\":[[\"Tim St\\u00fctzle\"],[\"Brady Tkachuk\"],[\"Claude Giroux\"],[\"Alex DeBrincat\"],[\"Drake Batherson\"],[\"Joshua Norris\"],[\"Brady Tkachuk\"],[\"Tim St\\u00fctzle\"],[\"Alex Formenton\"],[\"Drake Batherson\"],[\"Connor Brown\"],[\"Brady Tkachuk\"],[\"Joshua Norris\"],[\"Drake Batherson\"],[\"Tim St\\u00fctzle\"],[\"Jean-Gabriel Pageau\"],[\"Anthony Duclair\"],[\"Brady Tkachuk\"],[\"Connor Brown\"],[\"Tyler Ennis\"],[\"Mark Stone\"],[\"Matt Duchene\"],[\"Brady Tkachuk\"],[\"Ryan Dzingel\"],[\"Bobby Ryan\"],[\"Matt Duchene\"],[\"Ryan Dzingel\"],[\"Mike Hoffman\"],[\"Mark Stone\"],[\"Derick Brassard\"]],\"hovertemplate\":\"Tm=OTT<br>ATOI=%{x}<br>Points=%{y}<br>Player=%{customdata[0]}<extra></extra>\",\"legendgroup\":\"OTT\",\"marker\":{\"color\":\"#19d3f3\",\"symbol\":\"circle\"},\"mode\":\"markers\",\"name\":\"OTT\",\"orientation\":\"v\",\"showlegend\":true,\"x\":[0.0,0.0,0.0,0.0,0.0,0.0,0.0,0.0,0.0,0.0,0.0,0.0,0.0,0.0,0.0,0.0,0.0,0.0,0.0,0.0,0.0,0.0,0.0,0.0,0.0,0.0,0.0,0.0,0.0,0.0],\"xaxis\":\"x\",\"y\":[3951.0,3548.0,3544.0,2739.0,2240.0,3520.0,3037.0,2236.0,1814.0,1727.0,2114.0,1719.0,1718.0,1717.0,1217.0,2416.0,2317.0,2123.0,1627.0,1419.0,2834.0,2731.0,2223.0,2222.0,1527.0,2326.0,2318.0,2234.0,2042.0,1820.0],\"yaxis\":\"y\",\"type\":\"scatter\"},{\"customdata\":[[\"Trevor Zegras\"],[\"Troy Terry\"],[\"Frank Vatrano\"],[\"Adam Henrique\"],[\"Mason McTavish\"],[\"Troy Terry\"],[\"Trevor Zegras\"],[\"Adam Henrique\"],[\"Isac Lundestr\\u00f6m\"],[\"Rickard Rakell\"],[\"Max Comtois\"],[\"Rickard Rakell\"],[\"Troy Terry\"],[\"Cam Fowler\"],[\"Ryan Getzlaf\"],[\"Adam Henrique\"],[\"Jakob Silfverberg\"],[\"Rickard Rakell\"],[\"Ryan Getzlaf\"],[\"Cam Fowler\"],[\"Jakob Silfverberg\"],[\"Rickard Rakell\"],[\"Adam Henrique\"],[\"Ryan Getzlaf\"],[\"Nick Ritchie\"],[\"Rickard Rakell\"],[\"Ond\\u0159ej Ka\\u0161e\"],[\"Adam Henrique\"],[\"Corey Perry\"],[\"Jakob Silfverberg\"]],\"hovertemplate\":\"Tm=ANA<br>ATOI=%{x}<br>Points=%{y}<br>Player=%{customdata[0]}<extra></extra>\",\"legendgroup\":\"ANA\",\"marker\":{\"color\":\"#FF6692\",\"symbol\":\"circle\"},\"mode\":\"markers\",\"name\":\"ANA\",\"orientation\":\"v\",\"showlegend\":true,\"x\":[0.0,0.0,0.0,0.0,0.0,0.0,0.0,0.0,0.0,0.0,0.0,0.0,0.0,0.0,0.0,0.0,0.0,0.0,0.0,0.0,0.0,0.0,0.0,0.0,0.0,0.0,0.0,0.0,0.0,0.0],\"xaxis\":\"x\",\"y\":[2342.0,2338.0,2219.0,2216.0,1726.0,3730.0,2338.0,1923.0,1613.0,1612.0,1617.0,919.0,713.0,518.0,512.0,2617.0,2118.0,1527.0,1329.0,920.0,2419.0,1825.0,1824.0,1434.0,922.0,3435.0,2018.0,2016.0,1732.0,1723.0],\"yaxis\":\"y\",\"type\":\"scatter\"},{\"customdata\":[[\"Jared McCann\"],[\"Matthew Beniers\"],[\"Daniel Sprong\"],[\"Jaden Schwartz\"],[\"Jordan Eberle\"],[\"Jared McCann\"],[\"Yanni Gourde\"],[\"Jordan Eberle\"],[\"Ryan Donato\"],[\"Calle J\\u00e4rnkrok\"]],\"hovertemplate\":\"Tm=SEA<br>ATOI=%{x}<br>Points=%{y}<br>Player=%{customdata[0]}<extra></extra>\",\"legendgroup\":\"SEA\",\"marker\":{\"color\":\"#B6E880\",\"symbol\":\"circle\"},\"mode\":\"markers\",\"name\":\"SEA\",\"orientation\":\"v\",\"showlegend\":true,\"x\":[0.0,0.0,0.0,0.0,0.0,0.0,0.0,0.0,0.0,0.0],\"xaxis\":\"x\",\"y\":[4030.0,2433.0,2125.0,2119.0,2043.0,2723.0,2127.0,2123.0,1615.0,1214.0],\"yaxis\":\"y\",\"type\":\"scatter\"},{\"customdata\":[[\"Jason Robertson\"],[\"Roope Hintz\"],[\"Jamie Benn\"],[\"Joe Pavelski\"],[\"Wyatt Johnston\"],[\"Jason Robertson\"],[\"Roope Hintz\"],[\"Joe Pavelski\"],[\"Tyler Seguin\"],[\"Jamie Benn\"],[\"Joe Pavelski\"],[\"Jason Robertson\"],[\"Roope Hintz\"],[\"Denis Gurianov\"],[\"Jamie Benn\"],[\"Jamie Benn\"],[\"Roope Hintz\"],[\"Tyler Seguin\"],[\"Alexander Radulov\"],[\"Joe Pavelski\"],[\"Tyler Seguin\"],[\"Alexander Radulov\"],[\"Jamie Benn\"],[\"Radek Faksa\"],[\"Miro Heiskanen\"],[\"Tyler Seguin\"],[\"Jamie Benn\"],[\"Alexander Radulov\"],[\"Mattias Janmark\"],[\"Radek Faksa\"]],\"hovertemplate\":\"Tm=DAL<br>ATOI=%{x}<br>Points=%{y}<br>Player=%{customdata[0]}<extra></extra>\",\"legendgroup\":\"DAL\",\"marker\":{\"color\":\"#FF97FF\",\"symbol\":\"circle\"},\"mode\":\"markers\",\"name\":\"DAL\",\"orientation\":\"v\",\"showlegend\":true,\"x\":[0.0,0.0,0.0,0.0,0.0,0.0,0.0,0.0,0.0,0.0,0.0,0.0,0.0,0.0,0.0,0.0,0.0,0.0,0.0,0.0,0.0,0.0,0.0,0.0,0.0,0.0,0.0,0.0,0.0,0.0],\"xaxis\":\"x\",\"y\":[4663.0,3738.0,3345.0,2849.0,2417.0,4138.0,3735.0,2754.0,2425.0,1828.0,2526.0,1728.0,1528.0,1218.0,1124.0,1920.0,1914.0,1733.0,1519.0,1417.0,3347.0,2943.0,2726.0,1515.0,1221.0,4038.0,3643.0,2745.0,1915.0,1716.0],\"yaxis\":\"y\",\"type\":\"scatter\"},{\"customdata\":[[\"David Pastr\\u0148\\u00e1k\"],[\"Patrice Bergeron\"],[\"Jake DeBrusk\"],[\"Brad Marchand\"],[\"Pavel Zacha\"],[\"David Pastr\\u0148\\u00e1k\"],[\"Brad Marchand\"],[\"Patrice Bergeron\"],[\"Jake DeBrusk\"],[\"Taylor Hall\"],[\"Brad Marchand\"],[\"Patrice Bergeron\"],[\"David Pastr\\u0148\\u00e1k\"],[\"Nick Ritchie\"],[\"Craig Smith\"],[\"David Pastr\\u0148\\u00e1k\"],[\"Patrice Bergeron\"],[\"Brad Marchand\"],[\"Jake DeBrusk\"],[\"Charlie Coyle\"],[\"David Pastr\\u0148\\u00e1k\"],[\"Brad Marchand\"],[\"Patrice Bergeron\"],[\"Jake DeBrusk\"],[\"David Krej\\u010d\\u00ed\"],[\"David Pastr\\u0148\\u00e1k\"],[\"Brad Marchand\"],[\"Patrice Bergeron\"],[\"David Krej\\u010d\\u00ed\"],[\"Danton Heinen\"]],\"hovertemplate\":\"Tm=BOS<br>ATOI=%{x}<br>Points=%{y}<br>Player=%{customdata[0]}<extra></extra>\",\"legendgroup\":\"BOS\",\"marker\":{\"color\":\"#FECB52\",\"symbol\":\"circle\"},\"mode\":\"markers\",\"name\":\"BOS\",\"orientation\":\"v\",\"showlegend\":true,\"x\":[0.0,0.0,0.0,0.0,0.0,0.0,0.0,0.0,0.0,0.0,0.0,0.0,0.0,0.0,0.0,0.0,0.0,0.0,0.0,0.0,0.0,0.0,0.0,0.0,0.0,0.0,0.0,0.0,0.0,0.0],\"xaxis\":\"x\",\"y\":[6152.0,2731.0,2723.0,2146.0,2136.0,4037.0,3248.0,2540.0,2517.0,2041.0,2940.0,2325.0,2028.0,1511.0,1319.0,4847.0,3125.0,2859.0,1916.0,1621.0,3843.0,3664.0,3247.0,2715.0,2053.0,3545.0,3451.0,3033.0,1727.0,1631.0],\"yaxis\":\"y\",\"type\":\"scatter\"},{\"customdata\":[[\"Dylan Larkin\"],[\"David Perron\"],[\"Dominik Kubal\\u00edk\"],[\"Lucas Raymond\"],[\"Jonatan Berggren\"],[\"Dylan Larkin\"],[\"Tyler Bertuzzi\"],[\"Lucas Raymond\"],[\"Robby Fabbri\"],[\"Pius Suter\"],[\"Anthony Mantha\"],[\"Dylan Larkin\"],[\"Filip Zadina\"],[\"Filip Hronek\"],[\"Adam Erne\"],[\"Tyler Bertuzzi\"],[\"Dylan Larkin\"],[\"Anthony Mantha\"],[\"Robby Fabbri\"],[\"Andreas Athanasiou\"],[\"Dylan Larkin\"],[\"Andreas Athanasiou\"],[\"Anthony Mantha\"],[\"Tyler Bertuzzi\"],[\"Gustav Nyquist\"],[\"Anthony Mantha\"],[\"Gustav Nyquist\"],[\"Dylan Larkin\"],[\"Frans Nielsen\"],[\"Andreas Athanasiou\"]],\"hovertemplate\":\"Tm=DET<br>ATOI=%{x}<br>Points=%{y}<br>Player=%{customdata[0]}<extra></extra>\",\"legendgroup\":\"DET\",\"marker\":{\"color\":\"#636efa\",\"symbol\":\"circle\"},\"mode\":\"markers\",\"name\":\"DET\",\"orientation\":\"v\",\"showlegend\":true,\"x\":[0.0,0.0,0.0,0.0,0.0,0.0,0.0,0.0,0.0,0.0,0.0,0.0,0.0,0.0,0.0,0.0,0.0,0.0,0.0,0.0,0.0,0.0,0.0,0.0,0.0,0.0,0.0,0.0,0.0,0.0],\"xaxis\":\"x\",\"y\":[3247.0,2432.0,2025.0,1728.0,1513.0,3138.0,3032.0,2334.0,1713.0,1521.0,1110.0,914.0,613.0,224.0,119.0,2127.0,1934.0,1622.0,1417.0,1014.0,3241.0,3024.0,2523.0,2126.0,1633.0,2424.0,2119.0,1647.0,1617.0,1617.0],\"yaxis\":\"y\",\"type\":\"scatter\"},{\"customdata\":[[\"Clayton Keller\"],[\"Lawson Crouse\"],[\"Nick Schmaltz\"],[\"Barrett Hayton\"],[\"Travis Boyd\"],[\"Clayton Keller\"],[\"Nick Schmaltz\"],[\"Lawson Crouse\"],[\"Travis Boyd\"],[\"Shayne Gostisbehere\"],[\"Phil Kessel\"],[\"Jakob Chychrun\"],[\"Christian Dvorak\"],[\"Clayton Keller\"],[\"Conor Garland\"],[\"Conor Garland\"],[\"Christian Dvorak\"],[\"Clayton Keller\"],[\"Carl S\\u00f6derberg\"],[\"Lawson Crouse\"],[\"Alex Galchenyuk\"],[\"Vinnie Hinostroza\"],[\"Derek Stepan\"],[\"Clayton Keller\"],[\"Oliver Ekman-Larsson\"],[\"Clayton Keller\"],[\"Brendan Perlini\"],[\"Christian Dvorak\"],[\"Christian Fischer\"],[\"Derek Stepan\"]],\"hovertemplate\":\"Tm=ARI<br>ATOI=%{x}<br>Points=%{y}<br>Player=%{customdata[0]}<extra></extra>\",\"legendgroup\":\"ARI\",\"marker\":{\"color\":\"#EF553B\",\"symbol\":\"circle\"},\"mode\":\"markers\",\"name\":\"ARI\",\"orientation\":\"v\",\"showlegend\":true,\"x\":[0.0,0.0,0.0,0.0,0.0,0.0,0.0,0.0,0.0,0.0,0.0,0.0,0.0,0.0,0.0,0.0,0.0,0.0,0.0,0.0,0.0,0.0,0.0,0.0,0.0,0.0,0.0,0.0,0.0,0.0],\"xaxis\":\"x\",\"y\":[3749.0,2421.0,2236.0,1924.0,1519.0,2835.0,2336.0,2014.0,1718.0,1437.0,2023.0,1823.0,1714.0,1421.0,1227.0,2217.0,1820.0,1727.0,1718.0,1510.0,1922.0,1623.0,1520.0,1433.0,1430.0,2342.0,1713.0,1522.0,1518.0,1442.0],\"yaxis\":\"y\",\"type\":\"scatter\"},{\"customdata\":[[\"Mika Zibanejad\"],[\"Chris Kreider\"],[\"Artemi Panarin\"],[\"Vincent Trocheck\"],[\"Filip Chytil\"],[\"Chris Kreider\"],[\"Mika Zibanejad\"],[\"Artemi Panarin\"],[\"Ryan Strome\"],[\"Alexis Lafreni\\u00e8re\"],[\"Mika Zibanejad\"],[\"Pavel Buchnevich\"],[\"Chris Kreider\"],[\"Artemi Panarin\"],[\"Ryan Strome\"],[\"Mika Zibanejad\"],[\"Artemi Panarin\"],[\"Chris Kreider\"],[\"Ryan Strome\"],[\"Pavel Buchnevich\"],[\"Mika Zibanejad\"],[\"Chris Kreider\"],[\"Pavel Buchnevich\"],[\"Ryan Strome\"],[\"Jimmy Vesey\"],[\"Mika Zibanejad\"],[\"Kevin Hayes\"],[\"Rick Nash\"],[\"Jimmy Vesey\"],[\"Mats Zuccarello\"]],\"hovertemplate\":\"Tm=NYR<br>ATOI=%{x}<br>Points=%{y}<br>Player=%{customdata[0]}<extra></extra>\",\"legendgroup\":\"NYR\",\"marker\":{\"color\":\"#00cc96\",\"symbol\":\"circle\"},\"mode\":\"markers\",\"name\":\"NYR\",\"orientation\":\"v\",\"showlegend\":true,\"x\":[0.0,0.0,0.0,0.0,0.0,0.0,0.0,0.0,0.0,0.0,0.0,0.0,0.0,0.0,0.0,0.0,0.0,0.0,0.0,0.0,0.0,0.0,0.0,0.0,0.0,0.0,0.0,0.0,0.0,0.0],\"xaxis\":\"x\",\"y\":[3952.0,3618.0,2963.0,2242.0,2223.0,5225.0,2952.0,2274.0,2133.0,1912.0,2426.0,2028.0,2010.0,1741.0,1435.0,4134.0,3263.0,2421.0,1841.0,1630.0,3044.0,2824.0,2117.0,1815.0,1718.0,2720.0,2519.0,1810.0,1711.0,1637.0],\"yaxis\":\"y\",\"type\":\"scatter\"},{\"customdata\":[[\"Mikko Rantanen\"],[\"Nathan MacKinnon\"],[\"Artturi Lehkonen\"],[\"Cale Makar\"],[\"J.T. Compher\"],[\"Mikko Rantanen\"],[\"Nathan MacKinnon\"],[\"Gabriel Landeskog\"],[\"Nazem Kadri\"],[\"Cale Makar\"],[\"Mikko Rantanen\"],[\"Nathan MacKinnon\"],[\"Gabriel Landeskog\"],[\"Andr\\u00e9 Burakovsky\"],[\"Joonas Donskoi\"],[\"Nathan MacKinnon\"],[\"Gabriel Landeskog\"],[\"Andr\\u00e9 Burakovsky\"],[\"Mikko Rantanen\"],[\"Nazem Kadri\"],[\"Nathan MacKinnon\"],[\"Gabriel Landeskog\"],[\"Mikko Rantanen\"],[\"Carl S\\u00f6derberg\"],[\"J.T. Compher\"],[\"Nathan MacKinnon\"],[\"Mikko Rantanen\"],[\"Gabriel Landeskog\"],[\"Alexander Kerfoot\"],[\"Carl S\\u00f6derberg\"]],\"hovertemplate\":\"Tm=COL<br>ATOI=%{x}<br>Points=%{y}<br>Player=%{customdata[0]}<extra></extra>\",\"legendgroup\":\"COL\",\"marker\":{\"color\":\"#ab63fa\",\"symbol\":\"circle\"},\"mode\":\"markers\",\"name\":\"COL\",\"orientation\":\"v\",\"showlegend\":true,\"x\":[0.0,0.0,0.0,0.0,0.0,0.0,0.0,0.0,0.0,0.0,0.0,0.0,0.0,0.0,0.0,0.0,0.0,0.0,0.0,0.0,0.0,0.0,0.0,0.0,0.0,0.0,0.0,0.0,0.0,0.0],\"xaxis\":\"x\",\"y\":[5550.0,4269.0,2130.0,1749.0,1735.0,3656.0,3256.0,3029.0,2859.0,2858.0,3036.0,2045.0,2032.0,1925.0,1714.0,3558.0,2123.0,2025.0,1922.0,1917.0,4158.0,3441.0,3156.0,2326.0,1616.0,3958.0,2955.0,2537.0,1924.0,1621.0],\"yaxis\":\"y\",\"type\":\"scatter\"}],                        {\"template\":{\"data\":{\"histogram2dcontour\":[{\"type\":\"histogram2dcontour\",\"colorbar\":{\"outlinewidth\":0,\"ticks\":\"\"},\"colorscale\":[[0.0,\"#0d0887\"],[0.1111111111111111,\"#46039f\"],[0.2222222222222222,\"#7201a8\"],[0.3333333333333333,\"#9c179e\"],[0.4444444444444444,\"#bd3786\"],[0.5555555555555556,\"#d8576b\"],[0.6666666666666666,\"#ed7953\"],[0.7777777777777778,\"#fb9f3a\"],[0.8888888888888888,\"#fdca26\"],[1.0,\"#f0f921\"]]}],\"choropleth\":[{\"type\":\"choropleth\",\"colorbar\":{\"outlinewidth\":0,\"ticks\":\"\"}}],\"histogram2d\":[{\"type\":\"histogram2d\",\"colorbar\":{\"outlinewidth\":0,\"ticks\":\"\"},\"colorscale\":[[0.0,\"#0d0887\"],[0.1111111111111111,\"#46039f\"],[0.2222222222222222,\"#7201a8\"],[0.3333333333333333,\"#9c179e\"],[0.4444444444444444,\"#bd3786\"],[0.5555555555555556,\"#d8576b\"],[0.6666666666666666,\"#ed7953\"],[0.7777777777777778,\"#fb9f3a\"],[0.8888888888888888,\"#fdca26\"],[1.0,\"#f0f921\"]]}],\"heatmap\":[{\"type\":\"heatmap\",\"colorbar\":{\"outlinewidth\":0,\"ticks\":\"\"},\"colorscale\":[[0.0,\"#0d0887\"],[0.1111111111111111,\"#46039f\"],[0.2222222222222222,\"#7201a8\"],[0.3333333333333333,\"#9c179e\"],[0.4444444444444444,\"#bd3786\"],[0.5555555555555556,\"#d8576b\"],[0.6666666666666666,\"#ed7953\"],[0.7777777777777778,\"#fb9f3a\"],[0.8888888888888888,\"#fdca26\"],[1.0,\"#f0f921\"]]}],\"heatmapgl\":[{\"type\":\"heatmapgl\",\"colorbar\":{\"outlinewidth\":0,\"ticks\":\"\"},\"colorscale\":[[0.0,\"#0d0887\"],[0.1111111111111111,\"#46039f\"],[0.2222222222222222,\"#7201a8\"],[0.3333333333333333,\"#9c179e\"],[0.4444444444444444,\"#bd3786\"],[0.5555555555555556,\"#d8576b\"],[0.6666666666666666,\"#ed7953\"],[0.7777777777777778,\"#fb9f3a\"],[0.8888888888888888,\"#fdca26\"],[1.0,\"#f0f921\"]]}],\"contourcarpet\":[{\"type\":\"contourcarpet\",\"colorbar\":{\"outlinewidth\":0,\"ticks\":\"\"}}],\"contour\":[{\"type\":\"contour\",\"colorbar\":{\"outlinewidth\":0,\"ticks\":\"\"},\"colorscale\":[[0.0,\"#0d0887\"],[0.1111111111111111,\"#46039f\"],[0.2222222222222222,\"#7201a8\"],[0.3333333333333333,\"#9c179e\"],[0.4444444444444444,\"#bd3786\"],[0.5555555555555556,\"#d8576b\"],[0.6666666666666666,\"#ed7953\"],[0.7777777777777778,\"#fb9f3a\"],[0.8888888888888888,\"#fdca26\"],[1.0,\"#f0f921\"]]}],\"surface\":[{\"type\":\"surface\",\"colorbar\":{\"outlinewidth\":0,\"ticks\":\"\"},\"colorscale\":[[0.0,\"#0d0887\"],[0.1111111111111111,\"#46039f\"],[0.2222222222222222,\"#7201a8\"],[0.3333333333333333,\"#9c179e\"],[0.4444444444444444,\"#bd3786\"],[0.5555555555555556,\"#d8576b\"],[0.6666666666666666,\"#ed7953\"],[0.7777777777777778,\"#fb9f3a\"],[0.8888888888888888,\"#fdca26\"],[1.0,\"#f0f921\"]]}],\"mesh3d\":[{\"type\":\"mesh3d\",\"colorbar\":{\"outlinewidth\":0,\"ticks\":\"\"}}],\"scatter\":[{\"fillpattern\":{\"fillmode\":\"overlay\",\"size\":10,\"solidity\":0.2},\"type\":\"scatter\"}],\"parcoords\":[{\"type\":\"parcoords\",\"line\":{\"colorbar\":{\"outlinewidth\":0,\"ticks\":\"\"}}}],\"scatterpolargl\":[{\"type\":\"scatterpolargl\",\"marker\":{\"colorbar\":{\"outlinewidth\":0,\"ticks\":\"\"}}}],\"bar\":[{\"error_x\":{\"color\":\"#2a3f5f\"},\"error_y\":{\"color\":\"#2a3f5f\"},\"marker\":{\"line\":{\"color\":\"#E5ECF6\",\"width\":0.5},\"pattern\":{\"fillmode\":\"overlay\",\"size\":10,\"solidity\":0.2}},\"type\":\"bar\"}],\"scattergeo\":[{\"type\":\"scattergeo\",\"marker\":{\"colorbar\":{\"outlinewidth\":0,\"ticks\":\"\"}}}],\"scatterpolar\":[{\"type\":\"scatterpolar\",\"marker\":{\"colorbar\":{\"outlinewidth\":0,\"ticks\":\"\"}}}],\"histogram\":[{\"marker\":{\"pattern\":{\"fillmode\":\"overlay\",\"size\":10,\"solidity\":0.2}},\"type\":\"histogram\"}],\"scattergl\":[{\"type\":\"scattergl\",\"marker\":{\"colorbar\":{\"outlinewidth\":0,\"ticks\":\"\"}}}],\"scatter3d\":[{\"type\":\"scatter3d\",\"line\":{\"colorbar\":{\"outlinewidth\":0,\"ticks\":\"\"}},\"marker\":{\"colorbar\":{\"outlinewidth\":0,\"ticks\":\"\"}}}],\"scattermapbox\":[{\"type\":\"scattermapbox\",\"marker\":{\"colorbar\":{\"outlinewidth\":0,\"ticks\":\"\"}}}],\"scatterternary\":[{\"type\":\"scatterternary\",\"marker\":{\"colorbar\":{\"outlinewidth\":0,\"ticks\":\"\"}}}],\"scattercarpet\":[{\"type\":\"scattercarpet\",\"marker\":{\"colorbar\":{\"outlinewidth\":0,\"ticks\":\"\"}}}],\"carpet\":[{\"aaxis\":{\"endlinecolor\":\"#2a3f5f\",\"gridcolor\":\"white\",\"linecolor\":\"white\",\"minorgridcolor\":\"white\",\"startlinecolor\":\"#2a3f5f\"},\"baxis\":{\"endlinecolor\":\"#2a3f5f\",\"gridcolor\":\"white\",\"linecolor\":\"white\",\"minorgridcolor\":\"white\",\"startlinecolor\":\"#2a3f5f\"},\"type\":\"carpet\"}],\"table\":[{\"cells\":{\"fill\":{\"color\":\"#EBF0F8\"},\"line\":{\"color\":\"white\"}},\"header\":{\"fill\":{\"color\":\"#C8D4E3\"},\"line\":{\"color\":\"white\"}},\"type\":\"table\"}],\"barpolar\":[{\"marker\":{\"line\":{\"color\":\"#E5ECF6\",\"width\":0.5},\"pattern\":{\"fillmode\":\"overlay\",\"size\":10,\"solidity\":0.2}},\"type\":\"barpolar\"}],\"pie\":[{\"automargin\":true,\"type\":\"pie\"}]},\"layout\":{\"autotypenumbers\":\"strict\",\"colorway\":[\"#636efa\",\"#EF553B\",\"#00cc96\",\"#ab63fa\",\"#FFA15A\",\"#19d3f3\",\"#FF6692\",\"#B6E880\",\"#FF97FF\",\"#FECB52\"],\"font\":{\"color\":\"#2a3f5f\"},\"hovermode\":\"closest\",\"hoverlabel\":{\"align\":\"left\"},\"paper_bgcolor\":\"white\",\"plot_bgcolor\":\"#E5ECF6\",\"polar\":{\"bgcolor\":\"#E5ECF6\",\"angularaxis\":{\"gridcolor\":\"white\",\"linecolor\":\"white\",\"ticks\":\"\"},\"radialaxis\":{\"gridcolor\":\"white\",\"linecolor\":\"white\",\"ticks\":\"\"}},\"ternary\":{\"bgcolor\":\"#E5ECF6\",\"aaxis\":{\"gridcolor\":\"white\",\"linecolor\":\"white\",\"ticks\":\"\"},\"baxis\":{\"gridcolor\":\"white\",\"linecolor\":\"white\",\"ticks\":\"\"},\"caxis\":{\"gridcolor\":\"white\",\"linecolor\":\"white\",\"ticks\":\"\"}},\"coloraxis\":{\"colorbar\":{\"outlinewidth\":0,\"ticks\":\"\"}},\"colorscale\":{\"sequential\":[[0.0,\"#0d0887\"],[0.1111111111111111,\"#46039f\"],[0.2222222222222222,\"#7201a8\"],[0.3333333333333333,\"#9c179e\"],[0.4444444444444444,\"#bd3786\"],[0.5555555555555556,\"#d8576b\"],[0.6666666666666666,\"#ed7953\"],[0.7777777777777778,\"#fb9f3a\"],[0.8888888888888888,\"#fdca26\"],[1.0,\"#f0f921\"]],\"sequentialminus\":[[0.0,\"#0d0887\"],[0.1111111111111111,\"#46039f\"],[0.2222222222222222,\"#7201a8\"],[0.3333333333333333,\"#9c179e\"],[0.4444444444444444,\"#bd3786\"],[0.5555555555555556,\"#d8576b\"],[0.6666666666666666,\"#ed7953\"],[0.7777777777777778,\"#fb9f3a\"],[0.8888888888888888,\"#fdca26\"],[1.0,\"#f0f921\"]],\"diverging\":[[0,\"#8e0152\"],[0.1,\"#c51b7d\"],[0.2,\"#de77ae\"],[0.3,\"#f1b6da\"],[0.4,\"#fde0ef\"],[0.5,\"#f7f7f7\"],[0.6,\"#e6f5d0\"],[0.7,\"#b8e186\"],[0.8,\"#7fbc41\"],[0.9,\"#4d9221\"],[1,\"#276419\"]]},\"xaxis\":{\"gridcolor\":\"white\",\"linecolor\":\"white\",\"ticks\":\"\",\"title\":{\"standoff\":15},\"zerolinecolor\":\"white\",\"automargin\":true,\"zerolinewidth\":2},\"yaxis\":{\"gridcolor\":\"white\",\"linecolor\":\"white\",\"ticks\":\"\",\"title\":{\"standoff\":15},\"zerolinecolor\":\"white\",\"automargin\":true,\"zerolinewidth\":2},\"scene\":{\"xaxis\":{\"backgroundcolor\":\"#E5ECF6\",\"gridcolor\":\"white\",\"linecolor\":\"white\",\"showbackground\":true,\"ticks\":\"\",\"zerolinecolor\":\"white\",\"gridwidth\":2},\"yaxis\":{\"backgroundcolor\":\"#E5ECF6\",\"gridcolor\":\"white\",\"linecolor\":\"white\",\"showbackground\":true,\"ticks\":\"\",\"zerolinecolor\":\"white\",\"gridwidth\":2},\"zaxis\":{\"backgroundcolor\":\"#E5ECF6\",\"gridcolor\":\"white\",\"linecolor\":\"white\",\"showbackground\":true,\"ticks\":\"\",\"zerolinecolor\":\"white\",\"gridwidth\":2}},\"shapedefaults\":{\"line\":{\"color\":\"#2a3f5f\"}},\"annotationdefaults\":{\"arrowcolor\":\"#2a3f5f\",\"arrowhead\":0,\"arrowwidth\":1},\"geo\":{\"bgcolor\":\"white\",\"landcolor\":\"#E5ECF6\",\"subunitcolor\":\"white\",\"showland\":true,\"showlakes\":true,\"lakecolor\":\"white\"},\"title\":{\"x\":0.05},\"mapbox\":{\"style\":\"light\"}}},\"xaxis\":{\"anchor\":\"y\",\"domain\":[0.0,1.0],\"title\":{\"text\":\"ATOI\"}},\"yaxis\":{\"anchor\":\"x\",\"domain\":[0.0,1.0],\"title\":{\"text\":\"Points\"}},\"legend\":{\"title\":{\"text\":\"Tm\"},\"tracegroupgap\":0},\"title\":{\"text\":\"Points vs ATOI\"}},                        {\"responsive\": true}                    ).then(function(){\n",
       "                            \n",
       "var gd = document.getElementById('3133f1c7-5220-4f18-a5e8-6856f43d3984');\n",
       "var x = new MutationObserver(function (mutations, observer) {{\n",
       "        var display = window.getComputedStyle(gd).display;\n",
       "        if (!display || display === 'none') {{\n",
       "            console.log([gd, 'removed!']);\n",
       "            Plotly.purge(gd);\n",
       "            observer.disconnect();\n",
       "        }}\n",
       "}});\n",
       "\n",
       "// Listen for the removal of the full notebook cells\n",
       "var notebookContainer = gd.closest('#notebook-container');\n",
       "if (notebookContainer) {{\n",
       "    x.observe(notebookContainer, {childList: true});\n",
       "}}\n",
       "\n",
       "// Listen for the clearing of the current output cell\n",
       "var outputEl = gd.closest('.output');\n",
       "if (outputEl) {{\n",
       "    x.observe(outputEl, {childList: true});\n",
       "}}\n",
       "\n",
       "                        })                };                });            </script>        </div>"
      ]
     },
     "metadata": {},
     "output_type": "display_data"
    }
   ],
   "source": [
    "import plotly.express as px\n",
    "\n",
    "fig = px.bar(star_player_data, x='Tm', y='Points', color='Season', title='Total Points by Team and Season')\n",
    "fig.show()\n",
    "\n",
    "fig = px.scatter(star_player_data, x='ATOI', y='Points', color='Tm', title='Points vs ATOI', hover_data=['Player'])\n",
    "fig.show()"
   ]
  },
  {
   "cell_type": "markdown",
   "id": "70a8dc4a",
   "metadata": {},
   "source": [
    "### Top 5% Players for Various Metrics"
   ]
  },
  {
   "cell_type": "code",
   "execution_count": 51,
   "id": "ed50b07f",
   "metadata": {},
   "outputs": [
    {
     "name": "stdout",
     "output_type": "stream",
     "text": [
      "   Season  Points  ATOI    +/-\n",
      "0    2018  3960.4   0.0  25.00\n",
      "1    2019  4147.8   0.0  23.80\n",
      "2    2020  3539.0   0.0  21.00\n",
      "3    2021  2630.4   0.0  22.00\n",
      "4    2022  4263.1   0.0  29.55\n",
      "5    2023  4252.8   0.0  28.10\n"
     ]
    }
   ],
   "source": [
    "thresholds = star_player_data.groupby('Season')[['Points', 'ATOI', '+/-']].quantile(0.95).reset_index()\n",
    "print(thresholds)\n"
   ]
  },
  {
   "cell_type": "code",
   "execution_count": 52,
   "id": "966ab914",
   "metadata": {},
   "outputs": [
    {
     "name": "stdout",
     "output_type": "stream",
     "text": [
      "             Player  Season   Tm Pos  GP     G     A  Points  ATOI   +/-  \\\n",
      "0  William Nylander    2023  TOR   C  82  40.0  47.0  4047.0   0.0  10.0   \n",
      "1   Auston Matthews    2023  TOR   C  74  40.0  45.0  4045.0   0.0  31.0   \n",
      "2      John Tavares    2023  TOR   C  80  36.0  44.0  3644.0   0.0  -7.0   \n",
      "3      Mitch Marner    2023  TOR  RW  80  30.0  69.0  3069.0   0.0  18.0   \n",
      "4   Michael Bunting    2023  TOR  LW  82  23.0  26.0  2326.0   0.0  21.0   \n",
      "\n",
      "   Points_95th  ATOI_95th  +/-_95th  \n",
      "0       4252.8        0.0      28.1  \n",
      "1       4252.8        0.0      28.1  \n",
      "2       4252.8        0.0      28.1  \n",
      "3       4252.8        0.0      28.1  \n",
      "4       4252.8        0.0      28.1  \n"
     ]
    }
   ],
   "source": [
    "data_with_thresholds = star_player_data.merge(thresholds, on='Season', suffixes=('', '_95th'))\n",
    "\n",
    "top_players = data_with_thresholds[\n",
    "    (data_with_thresholds['Points'] >= data_with_thresholds['Points_95th']) |\n",
    "    (data_with_thresholds['ATOI'] >= data_with_thresholds['ATOI_95th']) |\n",
    "    (data_with_thresholds['+/-'] >= data_with_thresholds['+/-_95th'])\n",
    "]\n",
    "\n",
    "print(top_players.head())\n"
   ]
  },
  {
   "cell_type": "code",
   "execution_count": 53,
   "id": "d344deb7",
   "metadata": {},
   "outputs": [
    {
     "name": "stdout",
     "output_type": "stream",
     "text": [
      "      Tm  Season                 Player  Points  ATOI   +/-\n",
      "955  ANA    2018         Rickard Rakell  3435.0   0.0   6.0\n",
      "956  ANA    2018            Ondřej Kaše  2018.0   0.0  18.0\n",
      "957  ANA    2018          Adam Henrique  2016.0   0.0  17.0\n",
      "958  ANA    2018            Corey Perry  1732.0   0.0  -4.0\n",
      "959  ANA    2018      Jakob Silfverberg  1723.0   0.0   6.0\n",
      "680  ANA    2019      Jakob Silfverberg  2419.0   0.0  -9.0\n",
      "681  ANA    2019         Rickard Rakell  1825.0   0.0 -13.0\n",
      "682  ANA    2019          Adam Henrique  1824.0   0.0  -5.0\n",
      "683  ANA    2019           Ryan Getzlaf  1434.0   0.0 -19.0\n",
      "684  ANA    2019           Nick Ritchie   922.0   0.0   6.0\n",
      "535  ANA    2020          Adam Henrique  2617.0   0.0  -3.0\n",
      "536  ANA    2020      Jakob Silfverberg  2118.0   0.0   0.0\n",
      "537  ANA    2020         Rickard Rakell  1527.0   0.0  -5.0\n",
      "538  ANA    2020           Ryan Getzlaf  1329.0   0.0 -16.0\n",
      "539  ANA    2020             Cam Fowler   920.0   0.0   0.0\n",
      "360  ANA    2021            Max Comtois  1617.0   0.0   3.0\n",
      "361  ANA    2021         Rickard Rakell   919.0   0.0 -14.0\n",
      "362  ANA    2021             Troy Terry   713.0   0.0  -1.0\n",
      "363  ANA    2021             Cam Fowler   518.0   0.0  -4.0\n",
      "364  ANA    2021           Ryan Getzlaf   512.0   0.0 -14.0\n",
      "270  ANA    2022             Troy Terry  3730.0   0.0 -11.0\n",
      "271  ANA    2022          Trevor Zegras  2338.0   0.0 -21.0\n",
      "272  ANA    2022          Adam Henrique  1923.0   0.0  -2.0\n",
      "273  ANA    2022        Isac Lundeström  1613.0   0.0  -3.0\n",
      "274  ANA    2022         Rickard Rakell  1612.0   0.0  -7.0\n",
      "130  ANA    2023          Trevor Zegras  2342.0   0.0 -24.0\n",
      "131  ANA    2023             Troy Terry  2338.0   0.0  -8.0\n",
      "132  ANA    2023          Frank Vatrano  2219.0   0.0 -29.0\n",
      "133  ANA    2023          Adam Henrique  2216.0   0.0  -8.0\n",
      "134  ANA    2023         Mason McTavish  1726.0   0.0 -19.0\n",
      "920  ARI    2018         Clayton Keller  2342.0   0.0  -7.0\n",
      "921  ARI    2018        Brendan Perlini  1713.0   0.0  -2.0\n",
      "922  ARI    2018       Christian Dvorak  1522.0   0.0 -19.0\n",
      "923  ARI    2018      Christian Fischer  1518.0   0.0 -17.0\n",
      "924  ARI    2018           Derek Stepan  1442.0   0.0  -7.0\n",
      "755  ARI    2019        Alex Galchenyuk  1922.0   0.0 -19.0\n",
      "756  ARI    2019      Vinnie Hinostroza  1623.0   0.0  -4.0\n",
      "757  ARI    2019           Derek Stepan  1520.0   0.0  -2.0\n",
      "758  ARI    2019         Clayton Keller  1433.0   0.0 -21.0\n",
      "759  ARI    2019   Oliver Ekman-Larsson  1430.0   0.0 -16.0\n",
      "665  ARI    2020          Conor Garland  2217.0   0.0   1.0\n",
      "666  ARI    2020       Christian Dvorak  1820.0   0.0   6.0\n",
      "667  ARI    2020         Clayton Keller  1727.0   0.0  -6.0\n",
      "668  ARI    2020         Carl Söderberg  1718.0   0.0   6.0\n",
      "669  ARI    2020          Lawson Crouse  1510.0   0.0   0.0\n",
      "495  ARI    2021            Phil Kessel  2023.0   0.0 -17.0\n",
      "496  ARI    2021         Jakob Chychrun  1823.0   0.0  -6.0\n",
      "497  ARI    2021       Christian Dvorak  1714.0   0.0 -11.0\n",
      "498  ARI    2021         Clayton Keller  1421.0   0.0  -5.0\n",
      "499  ARI    2021          Conor Garland  1227.0   0.0  -3.0\n",
      "320  ARI    2022         Clayton Keller  2835.0   0.0   3.0\n",
      "321  ARI    2022          Nick Schmaltz  2336.0   0.0   1.0\n",
      "322  ARI    2022          Lawson Crouse  2014.0   0.0  -9.0\n",
      "323  ARI    2022            Travis Boyd  1718.0   0.0 -10.0\n",
      "324  ARI    2022    Shayne Gostisbehere  1437.0   0.0 -23.0\n",
      "155  ARI    2023         Clayton Keller  3749.0   0.0  -2.0\n",
      "156  ARI    2023          Lawson Crouse  2421.0   0.0  -3.0\n",
      "157  ARI    2023          Nick Schmaltz  2236.0   0.0   4.0\n",
      "158  ARI    2023         Barrett Hayton  1924.0   0.0  -5.0\n",
      "159  ARI    2023            Travis Boyd  1519.0   0.0 -32.0\n",
      "855  BOS    2018         David Pastrňák  3545.0   0.0  10.0\n",
      "856  BOS    2018          Brad Marchand  3451.0   0.0  25.0\n",
      "857  BOS    2018       Patrice Bergeron  3033.0   0.0  21.0\n",
      "858  BOS    2018           David Krejčí  1727.0   0.0  10.0\n",
      "859  BOS    2018          Danton Heinen  1631.0   0.0  10.0\n",
      "695  BOS    2019         David Pastrňák  3843.0   0.0   6.0\n",
      "696  BOS    2019          Brad Marchand  3664.0   0.0  15.0\n",
      "697  BOS    2019       Patrice Bergeron  3247.0   0.0  23.0\n",
      "698  BOS    2019           Jake DeBrusk  2715.0   0.0   2.0\n",
      "699  BOS    2019           David Krejčí  2053.0   0.0   7.0\n",
      "605  BOS    2020         David Pastrňák  4847.0   0.0  21.0\n",
      "606  BOS    2020       Patrice Bergeron  3125.0   0.0  23.0\n",
      "607  BOS    2020          Brad Marchand  2859.0   0.0  25.0\n",
      "608  BOS    2020           Jake DeBrusk  1916.0   0.0  -1.0\n",
      "609  BOS    2020          Charlie Coyle  1621.0   0.0   9.0\n",
      "365  BOS    2021          Brad Marchand  2940.0   0.0  26.0\n",
      "366  BOS    2021       Patrice Bergeron  2325.0   0.0  27.0\n",
      "367  BOS    2021         David Pastrňák  2028.0   0.0  10.0\n",
      "368  BOS    2021           Nick Ritchie  1511.0   0.0  -7.0\n",
      "369  BOS    2021            Craig Smith  1319.0   0.0  21.0\n",
      "190  BOS    2022         David Pastrňák  4037.0   0.0  13.0\n",
      "191  BOS    2022          Brad Marchand  3248.0   0.0  16.0\n",
      "192  BOS    2022       Patrice Bergeron  2540.0   0.0  26.0\n",
      "193  BOS    2022           Jake DeBrusk  2517.0   0.0   6.0\n",
      "194  BOS    2022            Taylor Hall  2041.0   0.0  11.0\n",
      "145  BOS    2023         David Pastrňák  6152.0   0.0  34.0\n",
      "146  BOS    2023       Patrice Bergeron  2731.0   0.0  35.0\n",
      "147  BOS    2023           Jake DeBrusk  2723.0   0.0  26.0\n",
      "148  BOS    2023          Brad Marchand  2146.0   0.0  27.0\n",
      "149  BOS    2023            Pavel Zacha  2136.0   0.0  26.0\n",
      "910  BUF    2018            Jack Eichel  2539.0   0.0 -25.0\n",
      "911  BUF    2018           Sam Reinhart  2525.0   0.0 -24.0\n",
      "912  BUF    2018          Ryan O'Reilly  2437.0   0.0 -23.0\n",
      "913  BUF    2018           Evander Kane  2020.0   0.0 -14.0\n",
      "914  BUF    2018       Jason Pominville  1618.0   0.0 -17.0\n",
      "805  BUF    2019           Jeff Skinner  4023.0   0.0   0.0\n",
      "806  BUF    2019            Jack Eichel  2854.0   0.0 -11.0\n",
      "807  BUF    2019           Sam Reinhart  2243.0   0.0 -10.0\n",
      "808  BUF    2019       Jason Pominville  1615.0   0.0  -4.0\n",
      "809  BUF    2019           Conor Sheary  1420.0   0.0 -18.0\n",
      "600  BUF    2020            Jack Eichel  3642.0   0.0   5.0\n",
      "601  BUF    2020           Sam Reinhart  2228.0   0.0 -15.0\n",
      "602  BUF    2020        Victor Olofsson  2022.0   0.0  -1.0\n",
      "603  BUF    2020       Marcus Johansson   921.0   0.0 -12.0\n",
      "604  BUF    2020            Jimmy Vesey   911.0   0.0  12.0\n",
      "430  BUF    2021           Sam Reinhart  2515.0   0.0 -28.0\n",
      "431  BUF    2021        Victor Olofsson  1319.0   0.0 -23.0\n",
      "432  BUF    2021      Casey Mittelstadt  1012.0   0.0 -10.0\n",
      "433  BUF    2021          Rasmus Dahlin   518.0   0.0 -36.0\n",
      "434  BUF    2021     Rasmus Ristolainen   414.0   0.0 -18.0\n",
      "265  BUF    2022          Tage Thompson  3830.0   0.0 -17.0\n",
      "266  BUF    2022           Jeff Skinner  3330.0   0.0 -14.0\n",
      "267  BUF    2022            Kyle Okposo  2124.0   0.0 -15.0\n",
      "268  BUF    2022        Victor Olofsson  2029.0   0.0 -16.0\n",
      "269  BUF    2022          Rasmus Dahlin  1340.0   0.0 -22.0\n",
      "100  BUF    2023          Tage Thompson  4747.0   0.0   4.0\n",
      "101  BUF    2023              Alex Tuch  3643.0   0.0  14.0\n",
      "102  BUF    2023           Jeff Skinner  3547.0   0.0  15.0\n",
      "103  BUF    2023           Dylan Cozens  3137.0   0.0  -3.0\n",
      "104  BUF    2023        Victor Olofsson  2812.0   0.0 -23.0\n",
      "860  CAR    2018          Sebastian Aho  2936.0   0.0   4.0\n",
      "861  CAR    2018           Jeff Skinner  2425.0   0.0 -27.0\n",
      "862  CAR    2018       Teuvo Teräväinen  2341.0   0.0   8.0\n",
      "863  CAR    2018           Jordan Staal  1927.0   0.0  -4.0\n",
      "864  CAR    2018        Justin Williams  1635.0   0.0  -9.0\n",
      "715  CAR    2019          Sebastian Aho  3053.0   0.0  25.0\n",
      "716  CAR    2019        Justin Williams  2330.0   0.0  -4.0\n",
      "717  CAR    2019       Teuvo Teräväinen  2155.0   0.0  30.0\n",
      "718  CAR    2019      Andrei Svechnikov  2017.0   0.0   0.0\n",
      "719  CAR    2019        Dougie Hamilton  1821.0   0.0   0.0\n",
      "540  CAR    2020          Sebastian Aho  3828.0   0.0  10.0\n",
      "541  CAR    2020      Andrei Svechnikov  2437.0   0.0   9.0\n",
      "542  CAR    2020           Martin Nečas  1620.0   0.0  -6.0\n",
      "543  CAR    2020       Teuvo Teräväinen  1548.0   0.0  20.0\n",
      "544  CAR    2020        Dougie Hamilton  1426.0   0.0  30.0\n",
      "370  CAR    2021          Sebastian Aho  2433.0   0.0  16.0\n",
      "371  CAR    2021      Nino Niederreiter  2014.0   0.0  20.0\n",
      "372  CAR    2021       Vincent Trocheck  1726.0   0.0  -3.0\n",
      "373  CAR    2021           Jordan Staal  1622.0   0.0   2.0\n",
      "374  CAR    2021      Andrei Svechnikov  1527.0   0.0   1.0\n",
      "195  CAR    2022          Sebastian Aho  3744.0   0.0  18.0\n",
      "196  CAR    2022      Andrei Svechnikov  3039.0   0.0  19.0\n",
      "197  CAR    2022      Nino Niederreiter  2420.0   0.0  29.0\n",
      "198  CAR    2022       Teuvo Teräväinen  2243.0   0.0  22.0\n",
      "199  CAR    2022       Vincent Trocheck  2130.0   0.0  21.0\n",
      "30   CAR    2023          Sebastian Aho  3631.0   0.0   8.0\n",
      "31   CAR    2023           Martin Nečas  2843.0   0.0   5.0\n",
      "32   CAR    2023      Andrei Svechnikov  2332.0   0.0   6.0\n",
      "33   CAR    2023            Brent Burns  1843.0   0.0  19.0\n",
      "34   CAR    2023     Jesperi Kotkaniemi  1825.0   0.0  10.0\n",
      "890  CBJ    2018         Artemi Panarin  2755.0   0.0  23.0\n",
      "891  CBJ    2018           Cam Atkinson  2422.0   0.0  19.0\n",
      "892  CBJ    2018      Pierre-Luc Dubois  2028.0   0.0   8.0\n",
      "893  CBJ    2018          Josh Anderson  1911.0   0.0  -1.0\n",
      "894  CBJ    2018             Seth Jones  1641.0   0.0  10.0\n",
      "725  CBJ    2019           Cam Atkinson  4128.0   0.0   3.0\n",
      "726  CBJ    2019         Artemi Panarin  2859.0   0.0  14.0\n",
      "727  CBJ    2019      Pierre-Luc Dubois  2734.0   0.0  16.0\n",
      "728  CBJ    2019          Josh Anderson  2720.0   0.0  25.0\n",
      "729  CBJ    2019     Oliver Bjorkstrand  2313.0   0.0   8.0\n",
      "560  CBJ    2020     Oliver Bjorkstrand  2115.0   0.0   8.0\n",
      "561  CBJ    2020          Zach Werenski  2021.0   0.0   9.0\n",
      "562  CBJ    2020      Pierre-Luc Dubois  1831.0   0.0  -2.0\n",
      "563  CBJ    2020         Gustav Nyquist  1527.0   0.0   4.0\n",
      "564  CBJ    2020           Cam Atkinson  1214.0   0.0   2.0\n",
      "435  CBJ    2021     Oliver Bjorkstrand  1826.0   0.0 -15.0\n",
      "436  CBJ    2021           Cam Atkinson  1519.0   0.0 -16.0\n",
      "437  CBJ    2021          Jack Roslovic  1222.0   0.0 -11.0\n",
      "438  CBJ    2021           Patrik Laine  1011.0   0.0 -29.0\n",
      "439  CBJ    2021               Max Domi   915.0   0.0 -18.0\n",
      "315  CBJ    2022     Oliver Bjorkstrand  2829.0   0.0 -35.0\n",
      "316  CBJ    2022           Patrik Laine  2630.0   0.0  -7.0\n",
      "317  CBJ    2022           Boone Jenner  2321.0   0.0 -11.0\n",
      "318  CBJ    2022          Jack Roslovic  2223.0   0.0   2.0\n",
      "319  CBJ    2022         Gustav Nyquist  1835.0   0.0 -12.0\n",
      "85   CBJ    2023           Boone Jenner  2619.0   0.0 -32.0\n",
      "86   CBJ    2023           Patrik Laine  2230.0   0.0 -12.0\n",
      "87   CBJ    2023        Johnny Gaudreau  2153.0   0.0 -33.0\n",
      "88   CBJ    2023           Kent Johnson  1624.0   0.0 -19.0\n",
      "89   CBJ    2023          Eric Robinson  1212.0   0.0 -21.0\n",
      "900  CGY    2018           Sean Monahan  3133.0   0.0   3.0\n",
      "901  CGY    2018        Johnny Gaudreau  2460.0   0.0   2.0\n",
      "902  CGY    2018        Matthew Tkachuk  2425.0   0.0  -1.0\n",
      "903  CGY    2018        Micheal Ferland  2120.0   0.0   5.0\n",
      "904  CGY    2018        Dougie Hamilton  1727.0   0.0   1.0\n",
      "735  CGY    2019        Johnny Gaudreau  3663.0   0.0  18.0\n",
      "736  CGY    2019           Sean Monahan  3448.0   0.0   7.0\n",
      "737  CGY    2019        Matthew Tkachuk  3443.0   0.0  14.0\n",
      "738  CGY    2019         Elias Lindholm  2751.0   0.0  30.0\n",
      "739  CGY    2019        Mikael Backlund  2126.0   0.0  34.0\n",
      "570  CGY    2020         Elias Lindholm  2925.0   0.0  -8.0\n",
      "571  CGY    2020        Matthew Tkachuk  2338.0   0.0  -5.0\n",
      "572  CGY    2020           Sean Monahan  2226.0   0.0 -16.0\n",
      "573  CGY    2020        Johnny Gaudreau  1840.0   0.0 -10.0\n",
      "574  CGY    2020      Andrew Mangiapane  1715.0   0.0   4.0\n",
      "405  CGY    2021        Johnny Gaudreau  1930.0   0.0   2.0\n",
      "406  CGY    2021         Elias Lindholm  1928.0   0.0  10.0\n",
      "407  CGY    2021      Andrew Mangiapane  1814.0   0.0   1.0\n",
      "408  CGY    2021        Matthew Tkachuk  1627.0   0.0   6.0\n",
      "409  CGY    2021            Dillon Dubé  1111.0   0.0  -1.0\n",
      "235  CGY    2022        Matthew Tkachuk  4262.0   0.0  57.0\n",
      "236  CGY    2022         Elias Lindholm  4240.0   0.0  61.0\n",
      "237  CGY    2022        Johnny Gaudreau  4075.0   0.0  64.0\n",
      "238  CGY    2022      Andrew Mangiapane  3520.0   0.0  20.0\n",
      "239  CGY    2022            Dillon Dubé  1814.0   0.0   1.0\n",
      "75   CGY    2023          Tyler Toffoli  3439.0   0.0  16.0\n",
      "76   CGY    2023            Nazem Kadri  2432.0   0.0 -19.0\n",
      "77   CGY    2023         Elias Lindholm  2242.0   0.0   6.0\n",
      "78   CGY    2023        Mikael Backlund  1937.0   0.0  24.0\n",
      "79   CGY    2023            Dillon Dubé  1827.0   0.0  -6.0\n",
      "905  CHI    2018         Alex DeBrincat  2824.0   0.0   6.0\n",
      "906  CHI    2018           Patrick Kane  2749.0   0.0 -20.0\n",
      "907  CHI    2018          Nick Schmaltz  2131.0   0.0   1.0\n",
      "908  CHI    2018         Jonathan Toews  2032.0   0.0  -1.0\n",
      "909  CHI    2018         Artem Anisimov  2011.0   0.0 -17.0\n",
      "740  CHI    2019           Patrick Kane  4466.0   0.0   2.0\n",
      "741  CHI    2019         Alex DeBrincat  4135.0   0.0   0.0\n",
      "742  CHI    2019         Jonathan Toews  3546.0   0.0   2.0\n",
      "743  CHI    2019           Brandon Saad  2324.0   0.0  -9.0\n",
      "744  CHI    2019        Erik Gustafsson  1743.0   0.0  -6.0\n",
      "635  CHI    2020           Patrick Kane  3351.0   0.0   8.0\n",
      "636  CHI    2020        Dominik Kubalík  3016.0   0.0   2.0\n",
      "637  CHI    2020           Brandon Saad  2112.0   0.0   2.0\n",
      "638  CHI    2020         Jonathan Toews  1842.0   0.0  -2.0\n",
      "639  CHI    2020         Alex DeBrincat  1827.0   0.0 -10.0\n",
      "475  CHI    2021         Alex DeBrincat  3224.0   0.0   3.0\n",
      "476  CHI    2021        Dominik Kubalík  1721.0   0.0  -3.0\n",
      "477  CHI    2021           Patrick Kane  1551.0   0.0  -7.0\n",
      "478  CHI    2021             Pius Suter  1413.0   0.0  -5.0\n",
      "479  CHI    2021          Brandon Hagel   915.0   0.0  -7.0\n",
      "325  CHI    2022         Alex DeBrincat  4137.0   0.0 -13.0\n",
      "326  CHI    2022           Patrick Kane  2666.0   0.0 -19.0\n",
      "327  CHI    2022           Dylan Strome  2226.0   0.0  -6.0\n",
      "328  CHI    2022          Brandon Hagel  2116.0   0.0 -14.0\n",
      "329  CHI    2022        Dominik Kubalík  1517.0   0.0 -16.0\n",
      "65   CHI    2023     Andreas Athanasiou  2020.0   0.0 -29.0\n",
      "66   CHI    2023         Taylor Raddysh  2017.0   0.0 -28.0\n",
      "67   CHI    2023               Max Domi  1831.0   0.0  -9.0\n",
      "68   CHI    2023           Patrick Kane  1629.0   0.0 -23.0\n",
      "69   CHI    2023         Jonathan Toews  1516.0   0.0 -31.0\n",
      "875  COL    2018       Nathan MacKinnon  3958.0   0.0  11.0\n",
      "876  COL    2018         Mikko Rantanen  2955.0   0.0   0.0\n",
      "877  COL    2018      Gabriel Landeskog  2537.0   0.0  16.0\n",
      "878  COL    2018      Alexander Kerfoot  1924.0   0.0  -7.0\n",
      "879  COL    2018         Carl Söderberg  1621.0   0.0   0.0\n",
      "710  COL    2019       Nathan MacKinnon  4158.0   0.0  20.0\n",
      "711  COL    2019      Gabriel Landeskog  3441.0   0.0  17.0\n",
      "712  COL    2019         Mikko Rantanen  3156.0   0.0  13.0\n",
      "713  COL    2019         Carl Söderberg  2326.0   0.0  -5.0\n",
      "714  COL    2019           J.T. Compher  1616.0   0.0  -8.0\n",
      "630  COL    2020       Nathan MacKinnon  3558.0   0.0  13.0\n",
      "631  COL    2020      Gabriel Landeskog  2123.0   0.0  -2.0\n",
      "632  COL    2020       André Burakovsky  2025.0   0.0  11.0\n",
      "633  COL    2020         Mikko Rantanen  1922.0   0.0  -2.0\n",
      "634  COL    2020            Nazem Kadri  1917.0   0.0   7.0\n",
      "480  COL    2021         Mikko Rantanen  3036.0   0.0  30.0\n",
      "481  COL    2021       Nathan MacKinnon  2045.0   0.0  22.0\n",
      "482  COL    2021      Gabriel Landeskog  2032.0   0.0  14.0\n",
      "483  COL    2021       André Burakovsky  1925.0   0.0   4.0\n",
      "484  COL    2021         Joonas Donskoi  1714.0   0.0  14.0\n",
      "275  COL    2022         Mikko Rantanen  3656.0   0.0  35.0\n",
      "276  COL    2022       Nathan MacKinnon  3256.0   0.0  22.0\n",
      "277  COL    2022      Gabriel Landeskog  3029.0   0.0  27.0\n",
      "278  COL    2022            Nazem Kadri  2859.0   0.0  13.0\n",
      "279  COL    2022             Cale Makar  2858.0   0.0  48.0\n",
      "165  COL    2023         Mikko Rantanen  5550.0   0.0  15.0\n",
      "166  COL    2023       Nathan MacKinnon  4269.0   0.0  29.0\n",
      "167  COL    2023       Artturi Lehkonen  2130.0   0.0   8.0\n",
      "168  COL    2023             Cale Makar  1749.0   0.0  16.0\n",
      "169  COL    2023           J.T. Compher  1735.0   0.0   8.0\n",
      "970  DAL    2018           Tyler Seguin  4038.0   0.0  12.0\n",
      "971  DAL    2018             Jamie Benn  3643.0   0.0  20.0\n",
      "972  DAL    2018      Alexander Radulov  2745.0   0.0   4.0\n",
      "973  DAL    2018        Mattias Janmark  1915.0   0.0 -13.0\n",
      "974  DAL    2018            Radek Faksa  1716.0   0.0  21.0\n",
      "800  DAL    2019           Tyler Seguin  3347.0   0.0  17.0\n",
      "801  DAL    2019      Alexander Radulov  2943.0   0.0  22.0\n",
      "802  DAL    2019             Jamie Benn  2726.0   0.0  14.0\n",
      "803  DAL    2019            Radek Faksa  1515.0   0.0  -3.0\n",
      "804  DAL    2019         Miro Heiskanen  1221.0   0.0 -14.0\n",
      "640  DAL    2020             Jamie Benn  1920.0   0.0  -4.0\n",
      "641  DAL    2020            Roope Hintz  1914.0   0.0   3.0\n",
      "642  DAL    2020           Tyler Seguin  1733.0   0.0  -2.0\n",
      "643  DAL    2020      Alexander Radulov  1519.0   0.0   8.0\n",
      "644  DAL    2020           Joe Pavelski  1417.0   0.0   6.0\n",
      "485  DAL    2021           Joe Pavelski  2526.0   0.0  22.0\n",
      "486  DAL    2021        Jason Robertson  1728.0   0.0  13.0\n",
      "487  DAL    2021            Roope Hintz  1528.0   0.0  13.0\n",
      "488  DAL    2021         Denis Gurianov  1218.0   0.0   0.0\n",
      "489  DAL    2021             Jamie Benn  1124.0   0.0  13.0\n",
      "330  DAL    2022        Jason Robertson  4138.0   0.0  16.0\n",
      "331  DAL    2022            Roope Hintz  3735.0   0.0  15.0\n",
      "332  DAL    2022           Joe Pavelski  2754.0   0.0  11.0\n",
      "333  DAL    2022           Tyler Seguin  2425.0   0.0 -21.0\n",
      "334  DAL    2022             Jamie Benn  1828.0   0.0 -13.0\n",
      "140  DAL    2023        Jason Robertson  4663.0   0.0  37.0\n",
      "141  DAL    2023            Roope Hintz  3738.0   0.0  31.0\n",
      "142  DAL    2023             Jamie Benn  3345.0   0.0  23.0\n",
      "143  DAL    2023           Joe Pavelski  2849.0   0.0  42.0\n",
      "144  DAL    2023         Wyatt Johnston  2417.0   0.0   6.0\n",
      "835  DET    2018         Anthony Mantha  2424.0   0.0  -1.0\n",
      "836  DET    2018         Gustav Nyquist  2119.0   0.0  -2.0\n",
      "837  DET    2018           Dylan Larkin  1647.0   0.0  -9.0\n",
      "838  DET    2018          Frans Nielsen  1617.0   0.0   1.0\n",
      "839  DET    2018     Andreas Athanasiou  1617.0   0.0 -15.0\n",
      "670  DET    2019           Dylan Larkin  3241.0   0.0  -6.0\n",
      "671  DET    2019     Andreas Athanasiou  3024.0   0.0  -9.0\n",
      "672  DET    2019         Anthony Mantha  2523.0   0.0  -8.0\n",
      "673  DET    2019         Tyler Bertuzzi  2126.0   0.0  11.0\n",
      "674  DET    2019         Gustav Nyquist  1633.0   0.0   0.0\n",
      "505  DET    2020         Tyler Bertuzzi  2127.0   0.0 -23.0\n",
      "506  DET    2020           Dylan Larkin  1934.0   0.0 -21.0\n",
      "507  DET    2020         Anthony Mantha  1622.0   0.0  -7.0\n",
      "508  DET    2020           Robby Fabbri  1417.0   0.0 -29.0\n",
      "509  DET    2020     Andreas Athanasiou  1014.0   0.0 -45.0\n",
      "490  DET    2021         Anthony Mantha  1110.0   0.0 -14.0\n",
      "491  DET    2021           Dylan Larkin   914.0   0.0 -14.0\n",
      "492  DET    2021           Filip Zadina   613.0   0.0  -4.0\n",
      "493  DET    2021           Filip Hronek   224.0   0.0 -18.0\n",
      "494  DET    2021              Adam Erne   119.0   0.0  -1.0\n",
      "300  DET    2022           Dylan Larkin  3138.0   0.0 -18.0\n",
      "301  DET    2022         Tyler Bertuzzi  3032.0   0.0 -11.0\n",
      "302  DET    2022          Lucas Raymond  2334.0   0.0 -32.0\n",
      "303  DET    2022           Robby Fabbri  1713.0   0.0 -23.0\n",
      "304  DET    2022             Pius Suter  1521.0   0.0 -11.0\n",
      "150  DET    2023           Dylan Larkin  3247.0   0.0  -7.0\n",
      "151  DET    2023           David Perron  2432.0   0.0  -7.0\n",
      "152  DET    2023        Dominik Kubalík  2025.0   0.0 -15.0\n",
      "153  DET    2023          Lucas Raymond  1728.0   0.0 -17.0\n",
      "154  DET    2023       Jonatan Berggren  1513.0   0.0 -14.0\n",
      "850  EDM    2018         Connor McDavid  4167.0   0.0  20.0\n",
      "851  EDM    2018         Leon Draisaitl  2545.0   0.0  -7.0\n",
      "852  EDM    2018    Ryan Nugent-Hopkins  2424.0   0.0  10.0\n",
      "853  EDM    2018             Pat Maroon  1416.0   0.0   5.0\n",
      "854  EDM    2018            Ryan Strome  1321.0   0.0  -4.0\n",
      "815  EDM    2019         Leon Draisaitl  5055.0   0.0   2.0\n",
      "816  EDM    2019         Connor McDavid  4175.0   0.0   3.0\n",
      "817  EDM    2019    Ryan Nugent-Hopkins  2841.0   0.0 -13.0\n",
      "818  EDM    2019          Alex Chiasson  2216.0   0.0  -1.0\n",
      "819  EDM    2019           Zack Kassian  1511.0   0.0  -6.0\n",
      "585  EDM    2020         Leon Draisaitl  4367.0   0.0  -7.0\n",
      "586  EDM    2020         Connor McDavid  3463.0   0.0  -6.0\n",
      "587  EDM    2020    Ryan Nugent-Hopkins  2239.0   0.0   1.0\n",
      "588  EDM    2020             James Neal  1912.0   0.0 -20.0\n",
      "589  EDM    2020           Zack Kassian  1519.0   0.0   0.0\n",
      "425  EDM    2021         Connor McDavid  3372.0   0.0  21.0\n",
      "426  EDM    2021         Leon Draisaitl  3153.0   0.0  29.0\n",
      "427  EDM    2021          Darnell Nurse  1620.0   0.0  27.0\n",
      "428  EDM    2021    Ryan Nugent-Hopkins  1619.0   0.0  -4.0\n",
      "429  EDM    2021       Jesse Puljujärvi  1510.0   0.0   6.0\n",
      "255  EDM    2022         Leon Draisaitl  5555.0   0.0  17.0\n",
      "256  EDM    2022         Connor McDavid  4479.0   0.0  28.0\n",
      "257  EDM    2022             Zach Hyman  2727.0   0.0  -9.0\n",
      "258  EDM    2022           Evander Kane  2217.0   0.0  25.0\n",
      "259  EDM    2022        Kailer Yamamoto  2021.0   0.0  -1.0\n",
      "120  EDM    2023         Connor McDavid  6489.0   0.0  22.0\n",
      "121  EDM    2023         Leon Draisaitl  5276.0   0.0   7.0\n",
      "122  EDM    2023    Ryan Nugent-Hopkins  3767.0   0.0  12.0\n",
      "123  EDM    2023             Zach Hyman  3647.0   0.0  13.0\n",
      "124  EDM    2023           Evander Kane  1612.0   0.0  -4.0\n",
      "945  FLA    2018       Vincent Trocheck  3144.0   0.0  -9.0\n",
      "946  FLA    2018        Evgenii Dadonov  2837.0   0.0  10.0\n",
      "947  FLA    2018      Aleksander Barkov  2751.0   0.0   9.0\n",
      "948  FLA    2018     Jonathan Huberdeau  2742.0   0.0  -2.0\n",
      "949  FLA    2018          Nick Bjugstad  1930.0   0.0   5.0\n",
      "795  FLA    2019           Mike Hoffman  3634.0   0.0 -24.0\n",
      "796  FLA    2019      Aleksander Barkov  3561.0   0.0  -3.0\n",
      "797  FLA    2019     Jonathan Huberdeau  3062.0   0.0 -14.0\n",
      "798  FLA    2019        Evgenii Dadonov  2842.0   0.0  -6.0\n",
      "799  FLA    2019          Frank Vatrano  2415.0   0.0 -10.0\n",
      "520  FLA    2020           Mike Hoffman  2930.0   0.0  -5.0\n",
      "521  FLA    2020        Evgenii Dadonov  2522.0   0.0  -7.0\n",
      "522  FLA    2020     Jonathan Huberdeau  2355.0   0.0   5.0\n",
      "523  FLA    2020      Aleksander Barkov  2042.0   0.0   2.0\n",
      "524  FLA    2020         Brett Connolly  1914.0   0.0  -3.0\n",
      "345  FLA    2021      Aleksander Barkov  2632.0   0.0  12.0\n",
      "346  FLA    2021     Jonathan Huberdeau  2041.0   0.0  12.0\n",
      "347  FLA    2021       Carter Verhaeghe  1818.0   0.0  24.0\n",
      "348  FLA    2021     Alexander Wennberg  1712.0   0.0   6.0\n",
      "349  FLA    2021       Patric Hörnqvist  1418.0   0.0  -3.0\n",
      "175  FLA    2022      Aleksander Barkov  3949.0   0.0  36.0\n",
      "176  FLA    2022           Sam Reinhart  3349.0   0.0  25.0\n",
      "177  FLA    2022        Anthony Duclair  3127.0   0.0  19.0\n",
      "178  FLA    2022     Jonathan Huberdeau  3085.0   0.0  35.0\n",
      "179  FLA    2022            Sam Bennett  2821.0   0.0  27.0\n",
      "110  FLA    2023       Carter Verhaeghe  4231.0   0.0  10.0\n",
      "111  FLA    2023        Matthew Tkachuk  4069.0   0.0  29.0\n",
      "112  FLA    2023           Sam Reinhart  3136.0   0.0 -12.0\n",
      "113  FLA    2023      Aleksander Barkov  2355.0   0.0  10.0\n",
      "114  FLA    2023       Eetu Luostarinen  1726.0   0.0  19.0\n",
      "885  LAK    2018           Anže Kopitar  3557.0   0.0  21.0\n",
      "886  LAK    2018           Dustin Brown  2833.0   0.0  31.0\n",
      "887  LAK    2018          Tyler Toffoli  2423.0   0.0   9.0\n",
      "888  LAK    2018           Adrian Kempe  1621.0   0.0  11.0\n",
      "889  LAK    2018         Tanner Pearson  1525.0   0.0  11.0\n",
      "720  LAK    2019           Anže Kopitar  2238.0   0.0 -20.0\n",
      "721  LAK    2019           Dustin Brown  2229.0   0.0 -17.0\n",
      "722  LAK    2019         Ilya Kovalchuk  1618.0   0.0 -26.0\n",
      "723  LAK    2019           Alex Iafallo  1518.0   0.0 -17.0\n",
      "724  LAK    2019          Tyler Toffoli  1321.0   0.0 -16.0\n",
      "550  LAK    2020           Anže Kopitar  2141.0   0.0   6.0\n",
      "551  LAK    2020          Tyler Toffoli  1816.0   0.0  -4.0\n",
      "552  LAK    2020           Alex Iafallo  1726.0   0.0   1.0\n",
      "553  LAK    2020           Dustin Brown  1718.0   0.0  -1.0\n",
      "554  LAK    2020            Jeff Carter  1710.0   0.0 -21.0\n",
      "390  LAK    2021           Dustin Brown  1714.0   0.0  -3.0\n",
      "391  LAK    2021           Adrian Kempe  1415.0   0.0 -18.0\n",
      "392  LAK    2021           Anže Kopitar  1337.0   0.0  -7.0\n",
      "393  LAK    2021           Alex Iafallo  1317.0   0.0  -8.0\n",
      "394  LAK    2021           Trevor Moore  1013.0   0.0  -5.0\n",
      "230  LAK    2022           Adrian Kempe  3519.0   0.0  -2.0\n",
      "231  LAK    2022        Phillip Danault  2724.0   0.0  14.0\n",
      "232  LAK    2022       Viktor Arvidsson  2029.0   0.0   1.0\n",
      "233  LAK    2022           Anže Kopitar  1948.0   0.0  -6.0\n",
      "234  LAK    2022           Trevor Moore  1731.0   0.0  20.0\n",
      "70   LAK    2023           Adrian Kempe  4126.0   0.0  22.0\n",
      "71   LAK    2023           Anže Kopitar  2846.0   0.0  20.0\n",
      "72   LAK    2023       Viktor Arvidsson  2633.0   0.0  -4.0\n",
      "73   LAK    2023            Kevin Fiala  2349.0   0.0   2.0\n",
      "74   LAK    2023        Gabriel Vilardi  2318.0   0.0  10.0\n",
      "965  MIN    2018             Eric Staal  4234.0   0.0   8.0\n",
      "966  MIN    2018           Jason Zucker  3331.0   0.0   8.0\n",
      "967  MIN    2018        Mikael Granlund  2146.0   0.0  13.0\n",
      "968  MIN    2018      Nino Niederreiter  1814.0   0.0  14.0\n",
      "969  MIN    2018           Mathew Dumba  1436.0   0.0  15.0\n",
      "685  MIN    2019            Zach Parise  2833.0   0.0  -2.0\n",
      "686  MIN    2019             Eric Staal  2230.0   0.0  -7.0\n",
      "687  MIN    2019           Jason Zucker  2121.0   0.0  -9.0\n",
      "688  MIN    2019        Mikael Granlund  1534.0   0.0  -2.0\n",
      "689  MIN    2019         Jared Spurgeon  1429.0   0.0  -1.0\n",
      "660  MIN    2020            Zach Parise  2521.0   0.0 -11.0\n",
      "661  MIN    2020            Kevin Fiala  2331.0   0.0  -1.0\n",
      "662  MIN    2020             Eric Staal  1928.0   0.0  -9.0\n",
      "663  MIN    2020        Mats Zuccarello  1522.0   0.0  -9.0\n",
      "664  MIN    2020             Luke Kunin  1516.0   0.0 -10.0\n",
      "350  MIN    2021        Kirill Kaprizov  2724.0   0.0  10.0\n",
      "351  MIN    2021            Kevin Fiala  2020.0   0.0  -2.0\n",
      "352  MIN    2021       Joel Eriksson Ek  1911.0   0.0  16.0\n",
      "353  MIN    2021        Mats Zuccarello  1124.0   0.0   9.0\n",
      "354  MIN    2021         Marcus Foligno  1115.0   0.0  19.0\n",
      "180  MIN    2022        Kirill Kaprizov  4761.0   0.0  27.0\n",
      "181  MIN    2022           Ryan Hartman  3431.0   0.0  31.0\n",
      "182  MIN    2022            Kevin Fiala  3352.0   0.0  23.0\n",
      "183  MIN    2022       Joel Eriksson Ek  2623.0   0.0  16.0\n",
      "184  MIN    2022        Mats Zuccarello  2455.0   0.0  21.0\n",
      "15   MIN    2023        Kirill Kaprizov  4035.0   0.0   4.0\n",
      "16   MIN    2023             Matt Boldy  3132.0   0.0   1.0\n",
      "17   MIN    2023       Joel Eriksson Ek  2338.0   0.0   4.0\n",
      "18   MIN    2023        Mats Zuccarello  2245.0   0.0  -3.0\n",
      "19   MIN    2023     Frédérick Gaudreau  1919.0   0.0  10.0\n",
      "880  MTL    2018      Brendan Gallagher  3123.0   0.0 -13.0\n",
      "881  MTL    2018             Paul Byron  2015.0   0.0  -4.0\n",
      "882  MTL    2018        Alex Galchenyuk  1932.0   0.0 -31.0\n",
      "883  MTL    2018         Max Pacioretty  1720.0   0.0 -16.0\n",
      "884  MTL    2018        Jonathan Drouin  1333.0   0.0 -28.0\n",
      "700  MTL    2019      Brendan Gallagher  3319.0   0.0  10.0\n",
      "701  MTL    2019               Max Domi  2844.0   0.0  20.0\n",
      "702  MTL    2019            Tomáš Tatar  2533.0   0.0  21.0\n",
      "703  MTL    2019            Andrew Shaw  1928.0   0.0  17.0\n",
      "704  MTL    2019        Jonathan Drouin  1835.0   0.0  -8.0\n",
      "545  MTL    2020            Tomáš Tatar  2239.0   0.0   5.0\n",
      "546  MTL    2020      Brendan Gallagher  2221.0   0.0   9.0\n",
      "547  MTL    2020               Max Domi  1727.0   0.0  -3.0\n",
      "548  MTL    2020             Joel Armia  1614.0   0.0   2.0\n",
      "549  MTL    2020            Shea Weber*  1521.0   0.0   8.0\n",
      "400  MTL    2021          Tyler Toffoli  2816.0   0.0   0.0\n",
      "401  MTL    2021            Nick Suzuki  1526.0   0.0  -5.0\n",
      "402  MTL    2021             Jeff Petry  1230.0   0.0   6.0\n",
      "403  MTL    2021            Tomáš Tatar  1020.0   0.0   0.0\n",
      "404  MTL    2021            Corey Perry   912.0   0.0  -4.0\n",
      "225  MTL    2022          Cole Caufield  2320.0   0.0 -24.0\n",
      "226  MTL    2022            Nick Suzuki  2140.0   0.0 -29.0\n",
      "227  MTL    2022          Josh Anderson  1913.0   0.0 -25.0\n",
      "228  MTL    2022           Mike Hoffman  1520.0   0.0 -24.0\n",
      "229  MTL    2022       Artturi Lehkonen  1316.0   0.0   0.0\n",
      "45   MTL    2023            Nick Suzuki  2640.0   0.0 -13.0\n",
      "46   MTL    2023          Cole Caufield  2610.0   0.0 -10.0\n",
      "47   MTL    2023          Josh Anderson  2111.0   0.0  -8.0\n",
      "48   MTL    2023             Kirby Dach  1424.0   0.0  -2.0\n",
      "49   MTL    2023           Mike Hoffman  1420.0   0.0 -10.0\n",
      "990  NJD    2018            Taylor Hall  3954.0   0.0  14.0\n",
      "991  NJD    2018          Kyle Palmieri  2420.0   0.0  -1.0\n",
      "992  NJD    2018          Nico Hischier  2032.0   0.0  10.0\n",
      "993  NJD    2018             Miles Wood  1913.0   0.0  -6.0\n",
      "994  NJD    2018           Jesper Bratt  1322.0   0.0 -16.0\n",
      "705  NJD    2019          Kyle Palmieri  2723.0   0.0  -9.0\n",
      "706  NJD    2019          Blake Coleman  2214.0   0.0 -19.0\n",
      "707  NJD    2019           Travis Zajac  1927.0   0.0 -25.0\n",
      "708  NJD    2019          Nico Hischier  1730.0   0.0   0.0\n",
      "709  NJD    2019            Pavel Zacha  1312.0   0.0  -6.0\n",
      "555  NJD    2020          Kyle Palmieri  2520.0   0.0  -4.0\n",
      "556  NJD    2020          Blake Coleman  2110.0   0.0  -2.0\n",
      "557  NJD    2020           Jesper Bratt  1616.0   0.0  -6.0\n",
      "558  NJD    2020          Nico Hischier  1422.0   0.0 -16.0\n",
      "559  NJD    2020           Nikita Gusev  1331.0   0.0 -15.0\n",
      "445  NJD    2021            Pavel Zacha  1718.0   0.0 -11.0\n",
      "446  NJD    2021     Yegor Sharangovich  1614.0   0.0  -4.0\n",
      "447  NJD    2021            Jack Hughes  1120.0   0.0  -3.0\n",
      "448  NJD    2021        Janne Kuokkanen   817.0   0.0 -11.0\n",
      "449  NJD    2021           Jesper Bratt   723.0   0.0   4.0\n",
      "280  NJD    2022           Jesper Bratt  2647.0   0.0   0.0\n",
      "281  NJD    2022            Jack Hughes  2630.0   0.0 -16.0\n",
      "282  NJD    2022     Yegor Sharangovich  2422.0   0.0 -14.0\n",
      "283  NJD    2022          Nico Hischier  2139.0   0.0  -1.0\n",
      "284  NJD    2022          Dawson Mercer  1725.0   0.0 -25.0\n",
      "105  NJD    2023            Jack Hughes  4356.0   0.0  10.0\n",
      "106  NJD    2023           Jesper Bratt  3241.0   0.0  14.0\n",
      "107  NJD    2023          Nico Hischier  3149.0   0.0  33.0\n",
      "108  NJD    2023          Dawson Mercer  2729.0   0.0  22.0\n",
      "109  NJD    2023        Dougie Hamilton  2252.0   0.0  23.0\n",
      "845  NSH    2018       Viktor Arvidsson  2932.0   0.0  20.0\n",
      "846  NSH    2018         Filip Forsberg  2638.0   0.0  27.0\n",
      "847  NSH    2018            Craig Smith  2526.0   0.0  20.0\n",
      "848  NSH    2018            Kevin Fiala  2325.0   0.0  20.0\n",
      "849  NSH    2018            P.K. Subban  1643.0   0.0  18.0\n",
      "765  NSH    2019       Viktor Arvidsson  3414.0   0.0  12.0\n",
      "766  NSH    2019         Filip Forsberg  2822.0   0.0   8.0\n",
      "767  NSH    2019            Craig Smith  2117.0   0.0  11.0\n",
      "768  NSH    2019            Nick Bonino  1718.0   0.0  27.0\n",
      "769  NSH    2019             Roman Josi  1541.0   0.0   9.0\n",
      "595  NSH    2020         Filip Forsberg  2127.0   0.0  -7.0\n",
      "596  NSH    2020            Nick Bonino  1817.0   0.0  17.0\n",
      "597  NSH    2020            Craig Smith  1813.0   0.0  18.0\n",
      "598  NSH    2020        Mikael Granlund  1713.0   0.0  -4.0\n",
      "599  NSH    2020             Roman Josi  1649.0   0.0  22.0\n",
      "380  NSH    2021         Calle Järnkrok  1315.0   0.0  13.0\n",
      "381  NSH    2021        Mikael Granlund  1314.0   0.0  -1.0\n",
      "382  NSH    2021         Filip Forsberg  1220.0   0.0  -9.0\n",
      "383  NSH    2021          Eeli Tolvanen  1111.0   0.0 -10.0\n",
      "384  NSH    2021       Viktor Arvidsson  1015.0   0.0   9.0\n",
      "335  NSH    2022           Matt Duchene  4343.0   0.0   6.0\n",
      "336  NSH    2022         Filip Forsberg  4242.0   0.0  12.0\n",
      "337  NSH    2022          Ryan Johansen  2637.0   0.0  -2.0\n",
      "338  NSH    2022         Tanner Jeannot  2417.0   0.0   2.0\n",
      "339  NSH    2022             Roman Josi  2373.0   0.0  13.0\n",
      "20   NSH    2023           Matt Duchene  2234.0   0.0   4.0\n",
      "21   NSH    2023         Filip Forsberg  1923.0   0.0  -4.0\n",
      "22   NSH    2023             Roman Josi  1841.0   0.0   5.0\n",
      "23   NSH    2023      Nino Niederreiter  1810.0   0.0  -9.0\n",
      "24   NSH    2023           Thomas Novak  1726.0   0.0   5.0\n",
      "865  NYI    2018             Anders Lee  4022.0   0.0 -25.0\n",
      "866  NYI    2018           John Tavares  3747.0   0.0 -12.0\n",
      "867  NYI    2018          Jordan Eberle  2534.0   0.0   5.0\n",
      "868  NYI    2018          Mathew Barzal  2263.0   0.0   1.0\n",
      "869  NYI    2018    Anthony Beauvillier  2115.0   0.0   2.0\n",
      "785  NYI    2019             Anders Lee  2823.0   0.0  20.0\n",
      "786  NYI    2019           Brock Nelson  2528.0   0.0  20.0\n",
      "787  NYI    2019          Casey Cizikas  2013.0   0.0  22.0\n",
      "788  NYI    2019          Jordan Eberle  1918.0   0.0  -6.0\n",
      "789  NYI    2019          Mathew Barzal  1844.0   0.0  -5.0\n",
      "620  NYI    2020           Brock Nelson  2628.0   0.0   6.0\n",
      "621  NYI    2020             Anders Lee  2023.0   0.0   8.0\n",
      "622  NYI    2020          Mathew Barzal  1941.0   0.0   5.0\n",
      "623  NYI    2020    Anthony Beauvillier  1821.0   0.0 -11.0\n",
      "624  NYI    2020          Jordan Eberle  1624.0   0.0   1.0\n",
      "375  NYI    2021           Brock Nelson  1815.0   0.0  -5.0\n",
      "376  NYI    2021          Mathew Barzal  1728.0   0.0  15.0\n",
      "377  NYI    2021          Jordan Eberle  1617.0   0.0   9.0\n",
      "378  NYI    2021    Anthony Beauvillier  1513.0   0.0  15.0\n",
      "379  NYI    2021    Jean-Gabriel Pageau  1414.0   0.0  10.0\n",
      "200  NYI    2022           Brock Nelson  3722.0   0.0  -5.0\n",
      "201  NYI    2022             Anders Lee  2818.0   0.0 -11.0\n",
      "202  NYI    2022    Jean-Gabriel Pageau  1821.0   0.0   0.0\n",
      "203  NYI    2022          Mathew Barzal  1544.0   0.0 -15.0\n",
      "204  NYI    2022            Zach Parise  1520.0   0.0  -2.0\n",
      "35   NYI    2023           Brock Nelson  3639.0   0.0  13.0\n",
      "36   NYI    2023             Anders Lee  2822.0   0.0  -3.0\n",
      "37   NYI    2023            Zach Parise  2113.0   0.0   7.0\n",
      "38   NYI    2023          Kyle Palmieri  1617.0   0.0  13.0\n",
      "39   NYI    2023          Mathew Barzal  1437.0   0.0   5.0\n",
      "895  NYR    2018         Mika Zibanejad  2720.0   0.0 -23.0\n",
      "896  NYR    2018            Kevin Hayes  2519.0   0.0   1.0\n",
      "897  NYR    2018              Rick Nash  1810.0   0.0  -8.0\n",
      "898  NYR    2018            Jimmy Vesey  1711.0   0.0 -18.0\n",
      "899  NYR    2018        Mats Zuccarello  1637.0   0.0 -10.0\n",
      "730  NYR    2019         Mika Zibanejad  3044.0   0.0 -12.0\n",
      "731  NYR    2019          Chris Kreider  2824.0   0.0   4.0\n",
      "732  NYR    2019       Pavel Buchnevich  2117.0   0.0 -10.0\n",
      "733  NYR    2019            Ryan Strome  1815.0   0.0  -2.0\n",
      "734  NYR    2019            Jimmy Vesey  1718.0   0.0  -6.0\n",
      "565  NYR    2020         Mika Zibanejad  4134.0   0.0   9.0\n",
      "566  NYR    2020         Artemi Panarin  3263.0   0.0  36.0\n",
      "567  NYR    2020          Chris Kreider  2421.0   0.0  13.0\n",
      "568  NYR    2020            Ryan Strome  1841.0   0.0  21.0\n",
      "569  NYR    2020       Pavel Buchnevich  1630.0   0.0   2.0\n",
      "470  NYR    2021         Mika Zibanejad  2426.0   0.0   2.0\n",
      "471  NYR    2021       Pavel Buchnevich  2028.0   0.0  12.0\n",
      "472  NYR    2021          Chris Kreider  2010.0   0.0  -1.0\n",
      "473  NYR    2021         Artemi Panarin  1741.0   0.0  14.0\n",
      "474  NYR    2021            Ryan Strome  1435.0   0.0   6.0\n",
      "310  NYR    2022          Chris Kreider  5225.0   0.0  19.0\n",
      "311  NYR    2022         Mika Zibanejad  2952.0   0.0  30.0\n",
      "312  NYR    2022         Artemi Panarin  2274.0   0.0  21.0\n",
      "313  NYR    2022            Ryan Strome  2133.0   0.0  15.0\n",
      "314  NYR    2022      Alexis Lafrenière  1912.0   0.0   2.0\n",
      "160  NYR    2023         Mika Zibanejad  3952.0   0.0  25.0\n",
      "161  NYR    2023          Chris Kreider  3618.0   0.0  21.0\n",
      "162  NYR    2023         Artemi Panarin  2963.0   0.0   4.0\n",
      "163  NYR    2023       Vincent Trocheck  2242.0   0.0   3.0\n",
      "164  NYR    2023           Filip Chytil  2223.0   0.0  15.0\n",
      "975  OTT    2018           Matt Duchene  2326.0   0.0 -23.0\n",
      "976  OTT    2018           Ryan Dzingel  2318.0   0.0 -17.0\n",
      "977  OTT    2018           Mike Hoffman  2234.0   0.0 -20.0\n",
      "978  OTT    2018             Mark Stone  2042.0   0.0   9.0\n",
      "979  OTT    2018        Derick Brassard  1820.0   0.0  -1.0\n",
      "690  OTT    2019             Mark Stone  2834.0   0.0  13.0\n",
      "691  OTT    2019           Matt Duchene  2731.0   0.0  -2.0\n",
      "692  OTT    2019          Brady Tkachuk  2223.0   0.0 -10.0\n",
      "693  OTT    2019           Ryan Dzingel  2222.0   0.0 -13.0\n",
      "694  OTT    2019             Bobby Ryan  1527.0   0.0 -29.0\n",
      "515  OTT    2020    Jean-Gabriel Pageau  2416.0   0.0  10.0\n",
      "516  OTT    2020        Anthony Duclair  2317.0   0.0  -5.0\n",
      "517  OTT    2020          Brady Tkachuk  2123.0   0.0 -14.0\n",
      "518  OTT    2020           Connor Brown  1627.0   0.0  -6.0\n",
      "519  OTT    2020            Tyler Ennis  1419.0   0.0  -5.0\n",
      "340  OTT    2021           Connor Brown  2114.0   0.0   1.0\n",
      "341  OTT    2021          Brady Tkachuk  1719.0   0.0 -17.0\n",
      "342  OTT    2021          Joshua Norris  1718.0   0.0 -12.0\n",
      "343  OTT    2021        Drake Batherson  1717.0   0.0 -17.0\n",
      "344  OTT    2021            Tim Stützle  1217.0   0.0 -18.0\n",
      "185  OTT    2022          Joshua Norris  3520.0   0.0  -7.0\n",
      "186  OTT    2022          Brady Tkachuk  3037.0   0.0  -7.0\n",
      "187  OTT    2022            Tim Stützle  2236.0   0.0 -27.0\n",
      "188  OTT    2022         Alex Formenton  1814.0   0.0 -13.0\n",
      "189  OTT    2022        Drake Batherson  1727.0   0.0   4.0\n",
      "125  OTT    2023            Tim Stützle  3951.0   0.0  -3.0\n",
      "126  OTT    2023          Brady Tkachuk  3548.0   0.0 -10.0\n",
      "127  OTT    2023          Claude Giroux  3544.0   0.0   4.0\n",
      "128  OTT    2023         Alex DeBrincat  2739.0   0.0 -31.0\n",
      "129  OTT    2023        Drake Batherson  2240.0   0.0 -35.0\n",
      "870  PHI    2018          Claude Giroux  3468.0   0.0  28.0\n",
      "871  PHI    2018         Sean Couturier  3145.0   0.0  34.0\n",
      "872  PHI    2018         Travis Konecny  2423.0   0.0  17.0\n",
      "873  PHI    2018         Wayne Simmonds  2422.0   0.0 -16.0\n",
      "874  PHI    2018          Jakub Voráček  2065.0   0.0  10.0\n",
      "775  PHI    2019         Sean Couturier  3343.0   0.0   2.0\n",
      "776  PHI    2019     James van Riemsdyk  2721.0   0.0 -10.0\n",
      "777  PHI    2019         Travis Konecny  2425.0   0.0  -4.0\n",
      "778  PHI    2019          Claude Giroux  2263.0   0.0   9.0\n",
      "779  PHI    2019          Jakub Voráček  2046.0   0.0 -16.0\n",
      "575  PHI    2020         Travis Konecny  2437.0   0.0  -1.0\n",
      "576  PHI    2020            Kevin Hayes  2318.0   0.0  -6.0\n",
      "577  PHI    2020         Sean Couturier  2237.0   0.0  21.0\n",
      "578  PHI    2020          Claude Giroux  2132.0   0.0   7.0\n",
      "579  PHI    2020     James van Riemsdyk  1921.0   0.0   5.0\n",
      "385  PHI    2021           Joel Farabee  2018.0   0.0   0.0\n",
      "386  PHI    2021         Sean Couturier  1823.0   0.0  -4.0\n",
      "387  PHI    2021     James van Riemsdyk  1726.0   0.0   2.0\n",
      "388  PHI    2021          Claude Giroux  1627.0   0.0  -4.0\n",
      "389  PHI    2021            Kevin Hayes  1219.0   0.0  -2.0\n",
      "210  PHI    2022     James van Riemsdyk  2414.0   0.0 -33.0\n",
      "211  PHI    2022           Cam Atkinson  2327.0   0.0  -2.0\n",
      "212  PHI    2022          Claude Giroux  1824.0   0.0 -12.0\n",
      "213  PHI    2022           Joel Farabee  1717.0   0.0 -11.0\n",
      "214  PHI    2022         Travis Konecny  1636.0   0.0 -23.0\n",
      "50   PHI    2023         Travis Konecny  3130.0   0.0 -12.0\n",
      "51   PHI    2023           Owen Tippett  2722.0   0.0 -17.0\n",
      "52   PHI    2023           Morgan Frost  1927.0   0.0 -12.0\n",
      "53   PHI    2023            Kevin Hayes  1836.0   0.0 -22.0\n",
      "54   PHI    2023         Scott Laughton  1825.0   0.0  -9.0\n",
      "925  PIT    2018          Evgeni Malkin  4256.0   0.0  16.0\n",
      "926  PIT    2018            Phil Kessel  3458.0   0.0  -4.0\n",
      "927  PIT    2018          Sidney Crosby  2960.0   0.0   0.0\n",
      "928  PIT    2018       Patric Hörnqvist  2920.0   0.0   2.0\n",
      "929  PIT    2018          Jake Guentzel  2226.0   0.0  -9.0\n",
      "770  PIT    2019          Jake Guentzel  4036.0   0.0  13.0\n",
      "771  PIT    2019          Sidney Crosby  3565.0   0.0  18.0\n",
      "772  PIT    2019            Phil Kessel  2755.0   0.0 -19.0\n",
      "773  PIT    2019          Evgeni Malkin  2151.0   0.0 -25.0\n",
      "774  PIT    2019       Patric Hörnqvist  1819.0   0.0  -3.0\n",
      "530  PIT    2020             Bryan Rust  2729.0   0.0  14.0\n",
      "531  PIT    2020          Evgeni Malkin  2549.0   0.0   7.0\n",
      "532  PIT    2020          Jake Guentzel  2023.0   0.0  11.0\n",
      "533  PIT    2020       Patric Hörnqvist  1715.0   0.0   9.0\n",
      "534  PIT    2020          Sidney Crosby  1631.0   0.0  -8.0\n",
      "415  PIT    2021          Sidney Crosby  2438.0   0.0   8.0\n",
      "416  PIT    2021          Jake Guentzel  2334.0   0.0   7.0\n",
      "417  PIT    2021             Bryan Rust  2220.0   0.0   9.0\n",
      "418  PIT    2021           Jared McCann  1418.0   0.0  17.0\n",
      "419  PIT    2021        Kasperi Kapanen  1119.0   0.0  15.0\n",
      "240  PIT    2022          Jake Guentzel  4044.0   0.0  13.0\n",
      "241  PIT    2022          Sidney Crosby  3153.0   0.0  19.0\n",
      "242  PIT    2022             Bryan Rust  2434.0   0.0   7.0\n",
      "243  PIT    2022          Evgeni Malkin  2022.0   0.0 -10.0\n",
      "244  PIT    2022            Jeff Carter  1926.0   0.0  -8.0\n",
      "95   PIT    2023          Jake Guentzel  3637.0   0.0   2.0\n",
      "96   PIT    2023          Sidney Crosby  3360.0   0.0   8.0\n",
      "97   PIT    2023         Rickard Rakell  2832.0   0.0  -5.0\n",
      "98   PIT    2023          Evgeni Malkin  2756.0   0.0 -12.0\n",
      "99   PIT    2023           Jason Zucker  2721.0   0.0  -4.0\n",
      "245  SEA    2022           Jared McCann  2723.0   0.0 -26.0\n",
      "246  SEA    2022           Yanni Gourde  2127.0   0.0 -13.0\n",
      "247  SEA    2022          Jordan Eberle  2123.0   0.0 -28.0\n",
      "248  SEA    2022            Ryan Donato  1615.0   0.0 -13.0\n",
      "249  SEA    2022         Calle Järnkrok  1214.0   0.0 -15.0\n",
      "135  SEA    2023           Jared McCann  4030.0   0.0  18.0\n",
      "136  SEA    2023        Matthew Beniers  2433.0   0.0  14.0\n",
      "137  SEA    2023          Daniel Sprong  2125.0   0.0  13.0\n",
      "138  SEA    2023         Jaden Schwartz  2119.0   0.0 -17.0\n",
      "139  SEA    2023          Jordan Eberle  2043.0   0.0   6.0\n",
      "995  SJS    2018          Logan Couture  3427.0   0.0  -2.0\n",
      "996  SJS    2018           Joe Pavelski  2244.0   0.0   0.0\n",
      "997  SJS    2018            Tomáš Hertl  2224.0   0.0  -2.0\n",
      "998  SJS    2018             Timo Meier  2115.0   0.0   2.0\n",
      "999  SJS    2018          Chris Tierney  1723.0   0.0   0.0\n",
      "820  SJS    2019           Joe Pavelski  3826.0   0.0  -4.0\n",
      "821  SJS    2019            Tomáš Hertl  3539.0   0.0   5.0\n",
      "822  SJS    2019             Timo Meier  3036.0   0.0   9.0\n",
      "823  SJS    2019           Evander Kane  3026.0   0.0  -4.0\n",
      "824  SJS    2019          Logan Couture  2743.0   0.0  -6.0\n",
      "645  SJS    2020           Evander Kane  2621.0   0.0 -12.0\n",
      "646  SJS    2020             Timo Meier  2227.0   0.0 -22.0\n",
      "647  SJS    2020          Logan Couture  1623.0   0.0   0.0\n",
      "648  SJS    2020            Tomáš Hertl  1620.0   0.0 -18.0\n",
      "649  SJS    2020           Kevin Labanc  1419.0   0.0 -33.0\n",
      "455  SJS    2021           Evander Kane  2227.0   0.0  -1.0\n",
      "456  SJS    2021            Tomáš Hertl  1924.0   0.0   1.0\n",
      "457  SJS    2021          Logan Couture  1714.0   0.0 -10.0\n",
      "458  SJS    2021             Timo Meier  1219.0   0.0  -7.0\n",
      "459  SJS    2021           Kevin Labanc  1216.0   0.0  -9.0\n",
      "290  SJS    2022             Timo Meier  3541.0   0.0  -3.0\n",
      "291  SJS    2022            Tomáš Hertl  3034.0   0.0  -9.0\n",
      "292  SJS    2022          Logan Couture  2333.0   0.0 -11.0\n",
      "293  SJS    2022            Nick Bonino  1610.0   0.0 -25.0\n",
      "294  SJS    2022        Jonathan Dahlén  1210.0   0.0 -25.0\n",
      "25   SJS    2023             Timo Meier  3121.0   0.0 -19.0\n",
      "26   SJS    2023          Logan Couture  2740.0   0.0 -30.0\n",
      "27   SJS    2023          Erik Karlsson  2576.0   0.0 -26.0\n",
      "28   SJS    2023            Tomáš Hertl  2241.0   0.0 -36.0\n",
      "29   SJS    2023    Alexander Barabanov  1532.0   0.0 -30.0\n",
      "950  STL    2018     Vladimir Tarasenko  3333.0   0.0  15.0\n",
      "951  STL    2018         Brayden Schenn  2842.0   0.0  10.0\n",
      "952  STL    2018         Jaden Schwartz  2435.0   0.0  15.0\n",
      "953  STL    2018       Alex Pietrangelo  1539.0   0.0   8.0\n",
      "954  STL    2018        Alexander Steen  1531.0   0.0 -11.0\n",
      "790  STL    2019     Vladimir Tarasenko  3335.0   0.0   8.0\n",
      "791  STL    2019          Ryan O'Reilly  2849.0   0.0  22.0\n",
      "792  STL    2019           David Perron  2323.0   0.0   3.0\n",
      "793  STL    2019         Brayden Schenn  1737.0   0.0   3.0\n",
      "794  STL    2019        Oskar Sundqvist  1417.0   0.0  -1.0\n",
      "625  STL    2020           David Perron  2535.0   0.0   2.0\n",
      "626  STL    2020         Brayden Schenn  2533.0   0.0   3.0\n",
      "627  STL    2020         Jaden Schwartz  2235.0   0.0   3.0\n",
      "628  STL    2020       Alex Pietrangelo  1636.0   0.0  11.0\n",
      "629  STL    2020           Zach Sanford  1614.0   0.0  13.0\n",
      "460  STL    2021          Ryan O'Reilly  2430.0   0.0  26.0\n",
      "461  STL    2021           David Perron  1939.0   0.0   6.0\n",
      "462  STL    2021           Mike Hoffman  1719.0   0.0   2.0\n",
      "463  STL    2021         Brayden Schenn  1620.0   0.0  -2.0\n",
      "464  STL    2021           Jordan Kyrou  1421.0   0.0   1.0\n",
      "295  STL    2022     Vladimir Tarasenko  3448.0   0.0   7.0\n",
      "296  STL    2022       Pavel Buchnevich  3046.0   0.0  29.0\n",
      "297  STL    2022           Jordan Kyrou  2748.0   0.0  10.0\n",
      "298  STL    2022           David Perron  2730.0   0.0   8.0\n",
      "299  STL    2022         Ivan Barbashev  2634.0   0.0   4.0\n",
      "10   STL    2023           Jordan Kyrou  3736.0   0.0 -38.0\n",
      "11   STL    2023       Pavel Buchnevich  2641.0   0.0  14.0\n",
      "12   STL    2023         Brayden Schenn  2144.0   0.0 -27.0\n",
      "13   STL    2023           Brandon Saad  1918.0   0.0  -8.0\n",
      "14   STL    2023          Robert Thomas  1847.0   0.0  -8.0\n",
      "985  TBL    2018        Nikita Kucherov  3961.0   0.0  15.0\n",
      "986  TBL    2018          Brayden Point  3234.0   0.0  18.0\n",
      "987  TBL    2018         Steven Stamkos  2759.0   0.0  18.0\n",
      "988  TBL    2018           Yanni Gourde  2539.0   0.0  34.0\n",
      "989  TBL    2018          Tyler Johnson  2129.0   0.0   3.0\n",
      "830  TBL    2019         Steven Stamkos  4553.0   0.0   4.0\n",
      "831  TBL    2019        Nikita Kucherov  4187.0   0.0  24.0\n",
      "832  TBL    2019          Brayden Point  4151.0   0.0  27.0\n",
      "833  TBL    2019          Tyler Johnson  2918.0   0.0  15.0\n",
      "834  TBL    2019           Yanni Gourde  2226.0   0.0   9.0\n",
      "655  TBL    2020        Nikita Kucherov  3352.0   0.0  26.0\n",
      "656  TBL    2020         Steven Stamkos  2937.0   0.0  14.0\n",
      "657  TBL    2020           Alex Killorn  2623.0   0.0  19.0\n",
      "658  TBL    2020          Brayden Point  2539.0   0.0  28.0\n",
      "659  TBL    2020           Ondřej Palát  1724.0   0.0  25.0\n",
      "465  TBL    2021          Brayden Point  2325.0   0.0   2.0\n",
      "466  TBL    2021           Yanni Gourde  1719.0   0.0  10.0\n",
      "467  TBL    2021         Steven Stamkos  1717.0   0.0   4.0\n",
      "468  TBL    2021           Ondřej Palát  1531.0   0.0   1.0\n",
      "469  TBL    2021           Alex Killorn  1518.0   0.0  -1.0\n",
      "305  TBL    2022         Steven Stamkos  4264.0   0.0  24.0\n",
      "306  TBL    2022          Brayden Point  2830.0   0.0  -5.0\n",
      "307  TBL    2022        Nikita Kucherov  2544.0   0.0   1.0\n",
      "308  TBL    2022           Alex Killorn  2534.0   0.0   1.0\n",
      "309  TBL    2022            Ross Colton  2217.0   0.0   4.0\n",
      "115  TBL    2023          Brayden Point  5144.0   0.0   2.0\n",
      "116  TBL    2023         Steven Stamkos  3450.0   0.0  -5.0\n",
      "117  TBL    2023        Nikita Kucherov  3083.0   0.0  -2.0\n",
      "118  TBL    2023          Brandon Hagel  3034.0   0.0  23.0\n",
      "119  TBL    2023           Alex Killorn  2737.0   0.0  18.0\n",
      "980  TOR    2018     James van Riemsdyk  3618.0   0.0   1.0\n",
      "981  TOR    2018        Auston Matthews  3429.0   0.0  25.0\n",
      "982  TOR    2018            Nazem Kadri  3223.0   0.0   2.0\n",
      "983  TOR    2018        Patrick Marleau  2720.0   0.0   1.0\n",
      "984  TOR    2018           Mitch Marner  2247.0   0.0  -1.0\n",
      "825  TOR    2019           John Tavares  4741.0   0.0  19.0\n",
      "826  TOR    2019        Auston Matthews  3736.0   0.0  -9.0\n",
      "827  TOR    2019           Mitch Marner  2668.0   0.0  22.0\n",
      "828  TOR    2019             Zach Hyman  2120.0   0.0  16.0\n",
      "829  TOR    2019          Morgan Rielly  2052.0   0.0  24.0\n",
      "510  TOR    2020        Auston Matthews  4733.0   0.0  19.0\n",
      "511  TOR    2020       William Nylander  3128.0   0.0  -2.0\n",
      "512  TOR    2020           John Tavares  2634.0   0.0  -7.0\n",
      "513  TOR    2020             Zach Hyman  2116.0   0.0  13.0\n",
      "514  TOR    2020           Mitch Marner  1651.0   0.0   6.0\n",
      "355  TOR    2021        Auston Matthews  4125.0   0.0  21.0\n",
      "356  TOR    2021           Mitch Marner  2047.0   0.0  21.0\n",
      "357  TOR    2021           John Tavares  1931.0   0.0  12.0\n",
      "358  TOR    2021       William Nylander  1725.0   0.0  10.0\n",
      "359  TOR    2021             Zach Hyman  1518.0   0.0  19.0\n",
      "170  TOR    2022        Auston Matthews  6046.0   0.0  20.0\n",
      "171  TOR    2022           Mitch Marner  3562.0   0.0  23.0\n",
      "172  TOR    2022       William Nylander  3446.0   0.0  -9.0\n",
      "173  TOR    2022           John Tavares  2749.0   0.0  -8.0\n",
      "174  TOR    2022        Michael Bunting  2340.0   0.0  27.0\n",
      "0    TOR    2023       William Nylander  4047.0   0.0  10.0\n",
      "1    TOR    2023        Auston Matthews  4045.0   0.0  31.0\n",
      "2    TOR    2023           John Tavares  3644.0   0.0  -7.0\n",
      "3    TOR    2023           Mitch Marner  3069.0   0.0  18.0\n",
      "4    TOR    2023        Michael Bunting  2326.0   0.0  21.0\n",
      "840  TOT    2018           Evander Kane  2925.0   0.0  -9.0\n",
      "841  TOT    2018           Matt Duchene  2732.0   0.0 -22.0\n",
      "842  TOT    2018           Thomas Vanek  2432.0   0.0  -3.0\n",
      "843  TOT    2018          Adam Henrique  2426.0   0.0  11.0\n",
      "844  TOT    2018            J.T. Miller  2335.0   0.0  -4.0\n",
      "675  TOT    2019             Mark Stone  3340.0   0.0  17.0\n",
      "676  TOT    2019           Matt Duchene  3139.0   0.0  -3.0\n",
      "677  TOT    2019           Ryan Dzingel  2630.0   0.0  -9.0\n",
      "678  TOT    2019      Nino Niederreiter  2330.0   0.0  -4.0\n",
      "679  TOT    2019         Gustav Nyquist  2238.0   0.0   1.0\n",
      "525  TOT    2020    Jean-Gabriel Pageau  2616.0   0.0   4.0\n",
      "526  TOT    2020          Tyler Toffoli  2420.0   0.0  -1.0\n",
      "527  TOT    2020          Blake Coleman  2111.0   0.0   0.0\n",
      "528  TOT    2020           Jason Zucker  2021.0   0.0  -4.0\n",
      "529  TOT    2020  Vladislav Namestnikov  1714.0   0.0  -5.0\n",
      "395  TOT    2021            Jakub Vrána  1917.0   0.0  10.0\n",
      "396  TOT    2021            Jeff Carter  1713.0   0.0   3.0\n",
      "397  TOT    2021         Anthony Mantha  1514.0   0.0 -14.0\n",
      "398  TOT    2021           Patrik Laine  1212.0   0.0 -28.0\n",
      "399  TOT    2021        Mattias Janmark  1113.0   0.0 -12.0\n",
      "215  TOT    2022          Brandon Hagel  2519.0   0.0 -18.0\n",
      "216  TOT    2022          Claude Giroux  2144.0   0.0  -5.0\n",
      "217  TOT    2022            Andrew Copp  2132.0   0.0  15.0\n",
      "218  TOT    2022          Tyler Toffoli  2029.0   0.0  -5.0\n",
      "219  TOT    2022         Rickard Rakell  2021.0   0.0   0.0\n",
      "5    TOT    2023             Timo Meier  4026.0   0.0 -19.0\n",
      "6    TOT    2023              Bo Horvat  3832.0   0.0  -1.0\n",
      "7    TOT    2023      Nino Niederreiter  2417.0   0.0 -13.0\n",
      "8    TOT    2023           Patrick Kane  2136.0   0.0 -22.0\n",
      "9    TOT    2023               Max Domi  2036.0   0.0 -15.0\n",
      "935   Tm    2018                 Player     0.0   0.0   0.0\n",
      "936   Tm    2018                 Player     0.0   0.0   0.0\n",
      "937   Tm    2018                 Player     0.0   0.0   0.0\n",
      "938   Tm    2018                 Player     0.0   0.0   0.0\n",
      "939   Tm    2018                 Player     0.0   0.0   0.0\n",
      "760   Tm    2019                 Player     0.0   0.0   0.0\n",
      "761   Tm    2019                 Player     0.0   0.0   0.0\n",
      "762   Tm    2019                 Player     0.0   0.0   0.0\n",
      "763   Tm    2019                 Player     0.0   0.0   0.0\n",
      "764   Tm    2019                 Player     0.0   0.0   0.0\n",
      "590   Tm    2020                 Player     0.0   0.0   0.0\n",
      "591   Tm    2020                 Player     0.0   0.0   0.0\n",
      "592   Tm    2020                 Player     0.0   0.0   0.0\n",
      "593   Tm    2020                 Player     0.0   0.0   0.0\n",
      "594   Tm    2020                 Player     0.0   0.0   0.0\n",
      "410   Tm    2021                 Player     0.0   0.0   0.0\n",
      "411   Tm    2021                 Player     0.0   0.0   0.0\n",
      "412   Tm    2021                 Player     0.0   0.0   0.0\n",
      "413   Tm    2021                 Player     0.0   0.0   0.0\n",
      "414   Tm    2021                 Player     0.0   0.0   0.0\n",
      "260   Tm    2022                 Player     0.0   0.0   0.0\n",
      "261   Tm    2022                 Player     0.0   0.0   0.0\n",
      "262   Tm    2022                 Player     0.0   0.0   0.0\n",
      "263   Tm    2022                 Player     0.0   0.0   0.0\n",
      "264   Tm    2022                 Player     0.0   0.0   0.0\n",
      "80    Tm    2023                 Player     0.0   0.0   0.0\n",
      "81    Tm    2023                 Player     0.0   0.0   0.0\n",
      "82    Tm    2023                 Player     0.0   0.0   0.0\n",
      "83    Tm    2023                 Player     0.0   0.0   0.0\n",
      "84    Tm    2023                 Player     0.0   0.0   0.0\n",
      "915  VAN    2018           Brock Boeser  2926.0   0.0  -5.0\n",
      "916  VAN    2018          Daniel Sedin*  2332.0   0.0 -21.0\n",
      "917  VAN    2018              Bo Horvat  2222.0   0.0  -1.0\n",
      "918  VAN    2018           Thomas Vanek  1724.0   0.0 -12.0\n",
      "919  VAN    2018         Sven Baertschi  1415.0   0.0   3.0\n",
      "750  VAN    2019       Elias Pettersson  2838.0   0.0   3.0\n",
      "751  VAN    2019              Bo Horvat  2734.0   0.0  -4.0\n",
      "752  VAN    2019           Brock Boeser  2630.0   0.0  -2.0\n",
      "753  VAN    2019          Jake Virtanen  1510.0   0.0  -4.0\n",
      "754  VAN    2019        Markus Granlund  1210.0   0.0  -4.0\n",
      "615  VAN    2020            J.T. Miller  2745.0   0.0  11.0\n",
      "616  VAN    2020       Elias Pettersson  2739.0   0.0  16.0\n",
      "617  VAN    2020              Bo Horvat  2231.0   0.0 -15.0\n",
      "618  VAN    2020         Tanner Pearson  2124.0   0.0  -4.0\n",
      "619  VAN    2020          Jake Virtanen  1818.0   0.0  -4.0\n",
      "450  VAN    2021           Brock Boeser  2326.0   0.0  -3.0\n",
      "451  VAN    2021              Bo Horvat  1920.0   0.0  -6.0\n",
      "452  VAN    2021            J.T. Miller  1531.0   0.0  -7.0\n",
      "453  VAN    2021         Nils Höglander  1314.0   0.0  -4.0\n",
      "454  VAN    2021       Elias Pettersson  1011.0   0.0   0.0\n",
      "285  VAN    2022            J.T. Miller  3267.0   0.0  15.0\n",
      "286  VAN    2022       Elias Pettersson  3236.0   0.0   1.0\n",
      "287  VAN    2022              Bo Horvat  3121.0   0.0   3.0\n",
      "288  VAN    2022           Brock Boeser  2323.0   0.0  -5.0\n",
      "289  VAN    2022          Conor Garland  1933.0   0.0  18.0\n",
      "60   VAN    2023       Elias Pettersson  3963.0   0.0  16.0\n",
      "61   VAN    2023        Andrei Kuzmenko  3935.0   0.0   9.0\n",
      "62   VAN    2023            J.T. Miller  3250.0   0.0  -7.0\n",
      "63   VAN    2023              Bo Horvat  3123.0   0.0   3.0\n",
      "64   VAN    2023           Brock Boeser  1837.0   0.0 -20.0\n",
      "960  VEG    2018       William Karlsson  4335.0   0.0  49.0\n",
      "961  VEG    2018             Erik Haula  2926.0   0.0 -16.0\n",
      "962  VEG    2018  Jonathan Marchessault  2748.0   0.0  36.0\n",
      "963  VEG    2018             James Neal  2519.0   0.0 -11.0\n",
      "964  VEG    2018           Reilly Smith  2238.0   0.0  31.0\n",
      "810  VEG    2019  Jonathan Marchessault  2534.0   0.0   2.0\n",
      "811  VEG    2019       William Karlsson  2432.0   0.0   1.0\n",
      "812  VEG    2019             Cody Eakin  2219.0   0.0  19.0\n",
      "813  VEG    2019         Max Pacioretty  2218.0   0.0 -13.0\n",
      "814  VEG    2019              Alex Tuch  2032.0   0.0  13.0\n",
      "650  VEG    2020         Max Pacioretty  3234.0   0.0  18.0\n",
      "651  VEG    2020           Reilly Smith  2727.0   0.0  17.0\n",
      "652  VEG    2020  Jonathan Marchessault  2225.0   0.0   6.0\n",
      "653  VEG    2020             Mark Stone  2142.0   0.0  15.0\n",
      "654  VEG    2020           Paul Stastny  1721.0   0.0   6.0\n",
      "500  VEG    2021         Max Pacioretty  2427.0   0.0  20.0\n",
      "501  VEG    2021             Mark Stone  2140.0   0.0  26.0\n",
      "502  VEG    2021  Jonathan Marchessault  1826.0   0.0  19.0\n",
      "503  VEG    2021              Alex Tuch  1815.0   0.0  16.0\n",
      "504  VEG    2021       William Karlsson  1425.0   0.0  19.0\n",
      "220  VEG    2022  Jonathan Marchessault  3036.0   0.0   3.0\n",
      "221  VEG    2022    Chandler Stephenson  2143.0   0.0   5.0\n",
      "222  VEG    2022        Evgenii Dadonov  2023.0   0.0   4.0\n",
      "223  VEG    2022         Max Pacioretty  1918.0   0.0   8.0\n",
      "224  VEG    2022           Reilly Smith  1622.0   0.0   4.0\n",
      "55   VEG    2023  Jonathan Marchessault  2829.0   0.0   2.0\n",
      "56   VEG    2023            Jack Eichel  2739.0   0.0  26.0\n",
      "57   VEG    2023           Reilly Smith  2630.0   0.0  11.0\n",
      "58   VEG    2023             Mark Stone  1721.0   0.0  11.0\n",
      "59   VEG    2023    Chandler Stephenson  1649.0   0.0  12.0\n",
      "930  WPG    2018           Patrik Laine  4426.0   0.0   8.0\n",
      "931  WPG    2018            Kyle Connor  3126.0   0.0   8.0\n",
      "932  WPG    2018         Nikolaj Ehlers  2931.0   0.0  14.0\n",
      "933  WPG    2018          Blake Wheeler  2368.0   0.0  13.0\n",
      "934  WPG    2018         Mark Scheifele  2337.0   0.0  19.0\n",
      "745  WPG    2019         Mark Scheifele  3846.0   0.0   8.0\n",
      "746  WPG    2019            Kyle Connor  3432.0   0.0  -7.0\n",
      "747  WPG    2019           Patrik Laine  3020.0   0.0 -24.0\n",
      "748  WPG    2019         Nikolaj Ehlers  2116.0   0.0   2.0\n",
      "749  WPG    2019          Blake Wheeler  2071.0   0.0   0.0\n",
      "580  WPG    2020            Kyle Connor  3835.0   0.0   4.0\n",
      "581  WPG    2020         Mark Scheifele  2944.0   0.0   2.0\n",
      "582  WPG    2020           Patrik Laine  2835.0   0.0   8.0\n",
      "583  WPG    2020         Nikolaj Ehlers  2533.0   0.0  14.0\n",
      "584  WPG    2020          Blake Wheeler  2243.0   0.0   1.0\n",
      "420  WPG    2021            Kyle Connor  2624.0   0.0  -4.0\n",
      "421  WPG    2021         Mark Scheifele  2142.0   0.0  -4.0\n",
      "422  WPG    2021         Nikolaj Ehlers  2125.0   0.0  15.0\n",
      "423  WPG    2021          Blake Wheeler  1531.0   0.0 -17.0\n",
      "424  WPG    2021            Andrew Copp  1524.0   0.0   2.0\n",
      "250  WPG    2022            Kyle Connor  4746.0   0.0  -3.0\n",
      "251  WPG    2022         Mark Scheifele  2941.0   0.0 -17.0\n",
      "252  WPG    2022      Pierre-Luc Dubois  2832.0   0.0  -6.0\n",
      "253  WPG    2022         Nikolaj Ehlers  2827.0   0.0  18.0\n",
      "254  WPG    2022           Paul Stastny  2124.0   0.0  14.0\n",
      "90   WPG    2023         Mark Scheifele  4226.0   0.0 -16.0\n",
      "91   WPG    2023            Kyle Connor  3149.0   0.0 -11.0\n",
      "92   WPG    2023      Pierre-Luc Dubois  2736.0   0.0   5.0\n",
      "93   WPG    2023         Josh Morrissey  1660.0   0.0   2.0\n",
      "94   WPG    2023          Blake Wheeler  1639.0   0.0  -3.0\n",
      "940  WSH    2018          Alex Ovechkin  4938.0   0.0   3.0\n",
      "941  WSH    2018       Evgeny Kuznetsov  2756.0   0.0   3.0\n",
      "942  WSH    2018      Nicklas Bäckström  2150.0   0.0   5.0\n",
      "943  WSH    2018             T.J. Oshie  1829.0   0.0   2.0\n",
      "944  WSH    2018             Lars Eller  1820.0   0.0  -6.0\n",
      "780  WSH    2019          Alex Ovechkin  5138.0   0.0   7.0\n",
      "781  WSH    2019             T.J. Oshie  2529.0   0.0   5.0\n",
      "782  WSH    2019            Jakub Vrána  2423.0   0.0  20.0\n",
      "783  WSH    2019      Nicklas Bäckström  2252.0   0.0   2.0\n",
      "784  WSH    2019         Brett Connolly  2224.0   0.0  13.0\n",
      "610  WSH    2020          Alex Ovechkin  4819.0   0.0 -12.0\n",
      "611  WSH    2020             T.J. Oshie  2623.0   0.0   4.0\n",
      "612  WSH    2020            Jakub Vrána  2527.0   0.0   3.0\n",
      "613  WSH    2020             Tom Wilson  2123.0   0.0  -3.0\n",
      "614  WSH    2020       Evgeny Kuznetsov  1933.0   0.0  -2.0\n",
      "440  WSH    2021          Alex Ovechkin  2418.0   0.0  -7.0\n",
      "441  WSH    2021             T.J. Oshie  2221.0   0.0  -3.0\n",
      "442  WSH    2021      Nicklas Bäckström  1538.0   0.0   0.0\n",
      "443  WSH    2021             Tom Wilson  1320.0   0.0   1.0\n",
      "444  WSH    2021            Jakub Vrána  1114.0   0.0   9.0\n",
      "205  WSH    2022          Alex Ovechkin  5040.0   0.0   8.0\n",
      "206  WSH    2022       Evgeny Kuznetsov  2454.0   0.0   7.0\n",
      "207  WSH    2022             Tom Wilson  2428.0   0.0  13.0\n",
      "208  WSH    2022           Conor Sheary  1924.0   0.0  -2.0\n",
      "209  WSH    2022           John Carlson  1754.0   0.0  13.0\n",
      "40   WSH    2023          Alex Ovechkin  4233.0   0.0 -16.0\n",
      "41   WSH    2023           Dylan Strome  2342.0   0.0  -4.0\n",
      "42   WSH    2023             T.J. Oshie  1916.0   0.0 -18.0\n",
      "43   WSH    2023           Conor Sheary  1522.0   0.0   9.0\n",
      "44   WSH    2023       Marcus Johansson  1315.0   0.0  -3.0\n"
     ]
    }
   ],
   "source": [
    "pd.set_option('display.max_rows', 1000)\n",
    "top_players_sorted = top_players.sort_values(by=['Tm', 'Season'])\n",
    "\n",
    "top_players_sorted = top_players_sorted[['Tm', 'Season', 'Player', 'Points', 'ATOI', '+/-']]\n",
    "\n",
    "print(top_players_sorted)\n",
    "\n",
    "top_players_sorted.to_csv(\"nhl_top_5_percent_players_sorted.csv\", index=False)\n"
   ]
  },
  {
   "cell_type": "markdown",
   "id": "c4fcc5b8",
   "metadata": {},
   "source": [
    "#### Number of Unique Players in Top 5% by Team and by Season"
   ]
  },
  {
   "cell_type": "code",
   "execution_count": 54,
   "id": "6bb2aeeb",
   "metadata": {},
   "outputs": [
    {
     "name": "stdout",
     "output_type": "stream",
     "text": [
      "     Season   Tm  UniquePlayerCount\n",
      "0      2018  ANA                  5\n",
      "1      2018  ARI                  5\n",
      "2      2018  BOS                  5\n",
      "3      2018  BUF                  5\n",
      "4      2018  CAR                  5\n",
      "5      2018  CBJ                  5\n",
      "6      2018  CGY                  5\n",
      "7      2018  CHI                  5\n",
      "8      2018  COL                  5\n",
      "9      2018  DAL                  5\n",
      "10     2018  DET                  5\n",
      "11     2018  EDM                  5\n",
      "12     2018  FLA                  5\n",
      "13     2018  LAK                  5\n",
      "14     2018  MIN                  5\n",
      "15     2018  MTL                  5\n",
      "16     2018  NJD                  5\n",
      "17     2018  NSH                  5\n",
      "18     2018  NYI                  5\n",
      "19     2018  NYR                  5\n",
      "20     2018  OTT                  5\n",
      "21     2018  PHI                  5\n",
      "22     2018  PIT                  5\n",
      "23     2018  SJS                  5\n",
      "24     2018  STL                  5\n",
      "25     2018  TBL                  5\n",
      "26     2018  TOR                  5\n",
      "27     2018  TOT                  5\n",
      "28     2018   Tm                  1\n",
      "29     2018  VAN                  5\n",
      "30     2018  VEG                  5\n",
      "31     2018  WPG                  5\n",
      "32     2018  WSH                  5\n",
      "33     2019  ANA                  2\n",
      "34     2019  ARI                  3\n",
      "35     2019  BOS                  1\n",
      "36     2019  BUF                  2\n",
      "37     2019  CAR                  2\n",
      "38     2019  CBJ                  1\n",
      "39     2019  CGY                  2\n",
      "40     2019  CHI                  2\n",
      "41     2019  COL                  1\n",
      "42     2019  DAL                  1\n",
      "43     2019  DET                  1\n",
      "44     2019  EDM                  2\n",
      "45     2019  FLA                  2\n",
      "46     2019  LAK                  2\n",
      "47     2019  MIN                  2\n",
      "48     2019  MTL                  3\n",
      "49     2019  NJD                  3\n",
      "50     2019  NSH                  2\n",
      "51     2019  NYI                  2\n",
      "52     2019  NYR                  3\n",
      "53     2019  OTT                  2\n",
      "54     2019  PHI                  1\n",
      "55     2019  SJS                  1\n",
      "56     2019  STL                  3\n",
      "57     2019  TOR                  3\n",
      "58     2019  TOT                  4\n",
      "59     2019  VAN                  3\n",
      "60     2019  VEG                  3\n",
      "61     2019  WSH                  2\n",
      "62     2020  ANA                  1\n",
      "63     2020  ARI                  3\n",
      "64     2020  BOS                  1\n",
      "65     2020  BUF                  3\n",
      "66     2020  CAR                  1\n",
      "67     2020  CBJ                  2\n",
      "68     2020  CGY                  1\n",
      "69     2020  CHI                  1\n",
      "70     2020  COL                  2\n",
      "71     2020  DAL                  2\n",
      "72     2020  DET                  1\n",
      "73     2020  EDM                  1\n",
      "74     2020  FLA                  1\n",
      "75     2020  LAK                  1\n",
      "76     2020  MIN                  3\n",
      "77     2020  MTL                  2\n",
      "78     2020  NJD                  1\n",
      "79     2020  NSH                  1\n",
      "80     2020  NYR                  1\n",
      "81     2020  OTT                  4\n",
      "82     2020  PHI                  1\n",
      "83     2020  PIT                  1\n",
      "84     2020  SJS                  1\n",
      "85     2020  STL                  1\n",
      "86     2020  TBL                  2\n",
      "87     2020  TOR                  1\n",
      "88     2020  TOT                  5\n",
      "89     2020  VAN                  2\n",
      "90     2020  VEG                  2\n",
      "91     2020  WSH                  1\n",
      "92     2021  ANA                  2\n",
      "93     2021  ARI                  2\n",
      "94     2021  BOS                  2\n",
      "95     2021  BUF                  3\n",
      "96     2021  CAR                  2\n",
      "97     2021  CBJ                  3\n",
      "98     2021  CGY                  1\n",
      "99     2021  CHI                  2\n",
      "100    2021  COL                  1\n",
      "101    2021  DAL                  2\n",
      "102    2021  DET                  3\n",
      "103    2021  EDM                  2\n",
      "104    2021  FLA                  3\n",
      "105    2021  LAK                  1\n",
      "106    2021  MIN                  3\n",
      "107    2021  MTL                  4\n",
      "108    2021  NJD                  3\n",
      "109    2021  NSH                  2\n",
      "110    2021  NYI                  1\n",
      "111    2021  OTT                  3\n",
      "112    2021  PHI                  1\n",
      "113    2021  PIT                  2\n",
      "114    2021  STL                  2\n",
      "115    2021  TOT                  5\n",
      "116    2021  VAN                  1\n",
      "117    2021  WPG                  1\n",
      "118    2022  ANA                  2\n",
      "119    2022  ARI                  3\n",
      "120    2022  BOS                  1\n",
      "121    2022  BUF                  2\n",
      "122    2022  CBJ                  1\n",
      "123    2022  CHI                  1\n",
      "124    2022  COL                  1\n",
      "125    2022  DET                  2\n",
      "126    2022  EDM                  3\n",
      "127    2022  FLA                  3\n",
      "128    2022  LAK                  2\n",
      "129    2022  MIN                  1\n",
      "130    2022  MTL                  4\n",
      "131    2022  NJD                  1\n",
      "132    2022  NSH                  3\n",
      "133    2022  NYI                  1\n",
      "134    2022  NYR                  1\n",
      "135    2022  OTT                  1\n",
      "136    2022  PHI                  1\n",
      "137    2022  PIT                  1\n",
      "138    2022  SEA                  5\n",
      "139    2022  SJS                  2\n",
      "140    2022  STL                  2\n",
      "141    2022  TBL                  1\n",
      "142    2022  TOR                  1\n",
      "143    2022  TOT                  4\n",
      "144    2022  VAN                  1\n",
      "145    2022  VEG                  2\n",
      "146    2022  WPG                  2\n",
      "147    2022  WSH                  2\n",
      "148    2023  ANA                  2\n",
      "149    2023  ARI                  1\n",
      "150    2023  BOS                  1\n",
      "151    2023  BUF                  2\n",
      "152    2023  CAR                  2\n",
      "153    2023  CBJ                  3\n",
      "154    2023  CGY                  2\n",
      "155    2023  CHI                  3\n",
      "156    2023  COL                  1\n",
      "157    2023  DAL                  1\n",
      "158    2023  DET                  3\n",
      "159    2023  FLA                  2\n",
      "160    2023  LAK                  2\n",
      "161    2023  MIN                  2\n",
      "162    2023  MTL                  1\n",
      "163    2023  NJD                  1\n",
      "164    2023  NSH                  2\n",
      "165    2023  NYI                  1\n",
      "166    2023  NYR                  2\n",
      "167    2023  OTT                  2\n",
      "168    2023  PHI                  3\n",
      "169    2023  PIT                  2\n",
      "170    2023  SEA                  3\n",
      "171    2023  SJS                  2\n",
      "172    2023  STL                  2\n",
      "173    2023  TBL                  1\n",
      "174    2023  TOT                  4\n",
      "175    2023  VAN                  1\n",
      "176    2023  VEG                  1\n",
      "177    2023  WPG                  1\n",
      "178    2023  WSH                  2\n"
     ]
    }
   ],
   "source": [
    "unique_top_players = top_players_sorted.drop_duplicates(subset=['Tm', 'Player'])\n",
    "unique_player_counts = unique_top_players.groupby(['Season', 'Tm']).size().reset_index(name='UniquePlayerCount')\n",
    "unique_player_counts_sorted = unique_player_counts.sort_values(by=['Season', 'Tm'])\n",
    "\n",
    "print(unique_player_counts_sorted)\n",
    "\n",
    "unique_player_counts_sorted.to_csv(\"number_of_top_players_by_team_and_season.csv\", index=False)"
   ]
  },
  {
   "cell_type": "markdown",
   "id": "c2c2f751",
   "metadata": {},
   "source": [
    "### Number of top 100 players based on AAV% of Salary Cap"
   ]
  },
  {
   "cell_type": "code",
   "execution_count": 55,
   "id": "2516fb3d",
   "metadata": {},
   "outputs": [
    {
     "data": {
      "text/html": [
       "<div>\n",
       "<style scoped>\n",
       "    .dataframe tbody tr th:only-of-type {\n",
       "        vertical-align: middle;\n",
       "    }\n",
       "\n",
       "    .dataframe tbody tr th {\n",
       "        vertical-align: top;\n",
       "    }\n",
       "\n",
       "    .dataframe thead th {\n",
       "        text-align: right;\n",
       "    }\n",
       "</style>\n",
       "<table border=\"1\" class=\"dataframe\">\n",
       "  <thead>\n",
       "    <tr style=\"text-align: right;\">\n",
       "      <th></th>\n",
       "      <th>Season</th>\n",
       "      <th>Team</th>\n",
       "      <th>Top100SalaryPlayers</th>\n",
       "    </tr>\n",
       "  </thead>\n",
       "  <tbody>\n",
       "    <tr>\n",
       "      <th>0</th>\n",
       "      <td>2018</td>\n",
       "      <td>BOS</td>\n",
       "      <td>6</td>\n",
       "    </tr>\n",
       "    <tr>\n",
       "      <th>1</th>\n",
       "      <td>2018</td>\n",
       "      <td>SJS</td>\n",
       "      <td>6</td>\n",
       "    </tr>\n",
       "    <tr>\n",
       "      <th>2</th>\n",
       "      <td>2018</td>\n",
       "      <td>WPG</td>\n",
       "      <td>6</td>\n",
       "    </tr>\n",
       "    <tr>\n",
       "      <th>3</th>\n",
       "      <td>2018</td>\n",
       "      <td>CHI</td>\n",
       "      <td>5</td>\n",
       "    </tr>\n",
       "    <tr>\n",
       "      <th>4</th>\n",
       "      <td>2018</td>\n",
       "      <td>EDM</td>\n",
       "      <td>5</td>\n",
       "    </tr>\n",
       "  </tbody>\n",
       "</table>\n",
       "</div>"
      ],
      "text/plain": [
       "   Season Team  Top100SalaryPlayers\n",
       "0    2018  BOS                    6\n",
       "1    2018  SJS                    6\n",
       "2    2018  WPG                    6\n",
       "3    2018  CHI                    5\n",
       "4    2018  EDM                    5"
      ]
     },
     "execution_count": 55,
     "metadata": {},
     "output_type": "execute_result"
    }
   ],
   "source": [
    "aav_percent_cap = pd.read_csv(\"nhl_top100_aav_salary_cap_2018_2024.csv\")\n",
    "aav_percent_cap.head()"
   ]
  },
  {
   "cell_type": "code",
   "execution_count": 56,
   "id": "6d0f6958",
   "metadata": {},
   "outputs": [
    {
     "data": {
      "text/html": [
       "<div>\n",
       "<style scoped>\n",
       "    .dataframe tbody tr th:only-of-type {\n",
       "        vertical-align: middle;\n",
       "    }\n",
       "\n",
       "    .dataframe tbody tr th {\n",
       "        vertical-align: top;\n",
       "    }\n",
       "\n",
       "    .dataframe thead th {\n",
       "        text-align: right;\n",
       "    }\n",
       "</style>\n",
       "<table border=\"1\" class=\"dataframe\">\n",
       "  <thead>\n",
       "    <tr style=\"text-align: right;\">\n",
       "      <th></th>\n",
       "      <th>Season</th>\n",
       "      <th>Team</th>\n",
       "      <th>Top100SalaryPlayers</th>\n",
       "    </tr>\n",
       "  </thead>\n",
       "  <tbody>\n",
       "    <tr>\n",
       "      <th>176</th>\n",
       "      <td>2023</td>\n",
       "      <td>SJS</td>\n",
       "      <td>2</td>\n",
       "    </tr>\n",
       "    <tr>\n",
       "      <th>177</th>\n",
       "      <td>2023</td>\n",
       "      <td>ANA</td>\n",
       "      <td>1</td>\n",
       "    </tr>\n",
       "    <tr>\n",
       "      <th>178</th>\n",
       "      <td>2023</td>\n",
       "      <td>CHI</td>\n",
       "      <td>1</td>\n",
       "    </tr>\n",
       "    <tr>\n",
       "      <th>179</th>\n",
       "      <td>2023</td>\n",
       "      <td>SEA</td>\n",
       "      <td>1</td>\n",
       "    </tr>\n",
       "    <tr>\n",
       "      <th>180</th>\n",
       "      <td>2023</td>\n",
       "      <td>WPG</td>\n",
       "      <td>1</td>\n",
       "    </tr>\n",
       "  </tbody>\n",
       "</table>\n",
       "</div>"
      ],
      "text/plain": [
       "     Season Team  Top100SalaryPlayers\n",
       "176    2023  SJS                    2\n",
       "177    2023  ANA                    1\n",
       "178    2023  CHI                    1\n",
       "179    2023  SEA                    1\n",
       "180    2023  WPG                    1"
      ]
     },
     "execution_count": 56,
     "metadata": {},
     "output_type": "execute_result"
    }
   ],
   "source": [
    "aav_percent_cap.tail()"
   ]
  },
  {
   "cell_type": "markdown",
   "id": "c900bfa3",
   "metadata": {},
   "source": [
    "## Adding in Rivalry Teams"
   ]
  },
  {
   "cell_type": "markdown",
   "id": "2e181f4a",
   "metadata": {},
   "source": [
    "#### Insert main dataset"
   ]
  },
  {
   "cell_type": "code",
   "execution_count": 57,
   "id": "72789511",
   "metadata": {},
   "outputs": [],
   "source": [
    "nhldata = pd.read_excel(\"2018-2024 for MODEL.xlsx\")"
   ]
  },
  {
   "cell_type": "markdown",
   "id": "edd4699b",
   "metadata": {},
   "source": [
    "#### Insert known rivalries"
   ]
  },
  {
   "cell_type": "code",
   "execution_count": 58,
   "id": "95dae7ce",
   "metadata": {},
   "outputs": [],
   "source": [
    "rivalries = [\n",
    "    ('Florida Panthers', 'Tampa Bay Lightning'),\n",
    "    ('Calgary Flames', 'Edmonton Oilers'),\n",
    "    ('New Jersey Devils', 'New York Rangers'),\n",
    "    ('Toronto Maple Leafs', 'Boston Bruins'),\n",
    "    ('Philadelphia Flyers', 'Pittsburgh Penguins'),\n",
    "    ('Winnipeg Jets', 'Minnesota Wild'),\n",
    "    ('New York Islanders', 'New York Rangers'),\n",
    "    ('Ottawa Senators', 'Toronto Maple Leafs'),\n",
    "    ('Boston Bruins', 'Montreal Canadiens'),\n",
    "    ('Boston Bruins', 'Toronto Maple Leafs'),\n",
    "    ('Detroit Red Wings', 'Toronto Maple Leafs'),\n",
    "    ('Florida Panthers', 'Tampa Bay Lightning'),\n",
    "    ('Montreal Canadiens', 'Toronto Maple Leafs'),\n",
    "    ('Chicago Blackhawks', 'Detroit Red Wings')\n",
    "]\n"
   ]
  },
  {
   "cell_type": "markdown",
   "id": "326b30b9",
   "metadata": {},
   "source": [
    "#### Check for rivalries"
   ]
  },
  {
   "cell_type": "code",
   "execution_count": 59,
   "id": "6761413f",
   "metadata": {},
   "outputs": [],
   "source": [
    "def is_rivalry(home_team, away_team, rivalries):\n",
    "    return any([(home_team, away_team) == rivalry or (away_team, home_team) == rivalry for rivalry in rivalries])\n"
   ]
  },
  {
   "cell_type": "code",
   "execution_count": 60,
   "id": "38cc4692",
   "metadata": {},
   "outputs": [],
   "source": [
    "nhldata['Rivalry'] = nhldata.apply(\n",
    "    lambda row: is_rivalry(row['Home Team'], row['Opponent'], rivalries), axis=1)\n",
    "\n",
    "nhldata['Rivalry'] = nhldata['Rivalry'].astype(bool)"
   ]
  },
  {
   "cell_type": "code",
   "execution_count": 61,
   "id": "8a4d1dcd",
   "metadata": {},
   "outputs": [],
   "source": [
    "nhldata = pd.DataFrame(nhldata)\n",
    "\n",
    "file_path = \"/Users/aylaspitz/Desktop/MSDS Capstone/nhldata_rivalries.csv\"\n",
    "\n",
    "nhldata.to_csv(file_path, index=False)\n"
   ]
  },
  {
   "cell_type": "code",
   "execution_count": 62,
   "id": "f291800f",
   "metadata": {},
   "outputs": [
    {
     "name": "stdout",
     "output_type": "stream",
     "text": [
      "265\n"
     ]
    }
   ],
   "source": [
    "true_count = nhldata['Rivalry'].sum()\n",
    "print(true_count)"
   ]
  },
  {
   "cell_type": "markdown",
   "id": "a786fcf0",
   "metadata": {},
   "source": [
    "## Adding in Home Game Streak"
   ]
  },
  {
   "cell_type": "code",
   "execution_count": 63,
   "id": "e7432f9c",
   "metadata": {},
   "outputs": [
    {
     "name": "stdout",
     "output_type": "stream",
     "text": [
      "<class 'pandas.core.frame.DataFrame'>\n",
      "RangeIndex: 15202 entries, 0 to 15201\n",
      "Data columns (total 29 columns):\n",
      " #   Column          Non-Null Count  Dtype         \n",
      "---  ------          --------------  -----         \n",
      " 0   ID              15202 non-null  object        \n",
      " 1   Team            15202 non-null  object        \n",
      " 2   GP              15202 non-null  int64         \n",
      " 3   Date            15202 non-null  datetime64[ns]\n",
      " 4   Year            480 non-null    float64       \n",
      " 5   Month           15202 non-null  int64         \n",
      " 6   Day             15202 non-null  object        \n",
      " 7   Order of Day    15202 non-null  int64         \n",
      " 8   Order of Month  15202 non-null  int64         \n",
      " 9   Full Time       15202 non-null  object        \n",
      " 10  Opponent        15202 non-null  object        \n",
      " 11  Home Team       15202 non-null  object        \n",
      " 12  Capacity        15202 non-null  int64         \n",
      " 13  GF              15202 non-null  int64         \n",
      " 14  GF Average      480 non-null    float64       \n",
      " 15  GA              15202 non-null  int64         \n",
      " 16  GA Average      480 non-null    float64       \n",
      " 17  Differential    480 non-null    float64       \n",
      " 18  Result          15202 non-null  object        \n",
      " 19  W               15202 non-null  int64         \n",
      " 20  L               15202 non-null  int64         \n",
      " 21  OL              15202 non-null  int64         \n",
      " 22  Streak          15202 non-null  object        \n",
      " 23  Win %           15202 non-null  float64       \n",
      " 24  Att.            15182 non-null  object        \n",
      " 25  Att. %          15202 non-null  float64       \n",
      " 26  Unsold Seats    15202 non-null  float64       \n",
      " 27  Notes           207 non-null    object        \n",
      " 28  Rivalry         15202 non-null  bool          \n",
      "dtypes: bool(1), datetime64[ns](1), float64(7), int64(10), object(10)\n",
      "memory usage: 3.3+ MB\n"
     ]
    }
   ],
   "source": [
    "nhldata.info()"
   ]
  },
  {
   "cell_type": "code",
   "execution_count": 64,
   "id": "3ad33ada",
   "metadata": {},
   "outputs": [],
   "source": [
    "nhldata = nhldata.sort_values(by=['Team', 'Date'])\n"
   ]
  },
  {
   "cell_type": "code",
   "execution_count": 65,
   "id": "91220701",
   "metadata": {},
   "outputs": [],
   "source": [
    "nhldata['Is Home Game'] = nhldata['Team'] == nhldata['Home Team']\n",
    "nhldata['Home Game Streak'] = nhldata.groupby('Team')['Is Home Game'].cumsum() - nhldata.groupby('Team')['Is Home Game'].cumsum().where(~nhldata['Is Home Game']).ffill().fillna(0).astype(int)"
   ]
  },
  {
   "cell_type": "code",
   "execution_count": 66,
   "id": "deecaec7",
   "metadata": {},
   "outputs": [
    {
     "name": "stdout",
     "output_type": "stream",
     "text": [
      "               Team       Date        Home Team  Is Home Game  \\\n",
      "9556  Anaheim Ducks 2018-10-03  San Jose Sharks         False   \n",
      "9557  Anaheim Ducks 2018-10-06  Arizona Coyotes         False   \n",
      "9558  Anaheim Ducks 2018-10-08    Anaheim Ducks          True   \n",
      "9559  Anaheim Ducks 2018-10-10    Anaheim Ducks          True   \n",
      "9560  Anaheim Ducks 2018-10-13     Dallas Stars         False   \n",
      "\n",
      "      Home Game Streak  \n",
      "9556                 0  \n",
      "9557                 0  \n",
      "9558                 1  \n",
      "9559                 2  \n",
      "9560                 0  \n"
     ]
    }
   ],
   "source": [
    "print(nhldata[['Team', 'Date', 'Home Team', 'Is Home Game', 'Home Game Streak']].head())"
   ]
  },
  {
   "cell_type": "code",
   "execution_count": 67,
   "id": "33f94ddd",
   "metadata": {},
   "outputs": [],
   "source": [
    "file_path = \"/Users/aylaspitz/Desktop/MSDS Capstone/nhldata_rivalries_home_game_streak.csv\"\n",
    "nhldata.to_csv(file_path, index=False)"
   ]
  },
  {
   "cell_type": "code",
   "execution_count": null,
   "id": "159a4afd",
   "metadata": {},
   "outputs": [],
   "source": []
  }
 ],
 "metadata": {
  "kernelspec": {
   "display_name": "Python 3 (ipykernel)",
   "language": "python",
   "name": "python3"
  },
  "language_info": {
   "codemirror_mode": {
    "name": "ipython",
    "version": 3
   },
   "file_extension": ".py",
   "mimetype": "text/x-python",
   "name": "python",
   "nbconvert_exporter": "python",
   "pygments_lexer": "ipython3",
   "version": "3.11.5"
  }
 },
 "nbformat": 4,
 "nbformat_minor": 5
}
